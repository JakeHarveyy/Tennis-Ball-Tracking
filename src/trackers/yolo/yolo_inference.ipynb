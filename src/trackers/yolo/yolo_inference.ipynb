{
 "cells": [
  {
   "cell_type": "markdown",
   "id": "fa1a6309",
   "metadata": {},
   "source": [
    "# YOLO Tennis Ball Tracking Inference\n",
    "\n",
    "This notebook demonstrates the inference process using a trained YOLOv8 model for tennis ball detection and tracking. The notebook includes two main approaches:\n",
    "\n",
    "1. **Simple Tracking**: Basic YOLO tracking with built-in visualization\n",
    "2. **Custom Trajectory Visualization**: Advanced tracking with custom trajectory drawing and confidence filtering\n",
    "\n",
    "## Overview\n",
    "- **Model**: YOLOv8m trained on tennis ball dataset for 150 epochs\n",
    "- **Input**: Video frames from test clips\n",
    "- **Output**: Annotated videos with tennis ball detection and trajectory visualization\n",
    "- **Features**: Confidence thresholding, trajectory trails, and persistent tracking"
   ]
  },
  {
   "cell_type": "markdown",
   "id": "c7203078",
   "metadata": {},
   "source": [
    "## Import Required Libraries\n",
    "\n",
    "Import essential libraries for YOLO model inference and video processing:\n",
    "- `tqdm`: Progress bar for visual feedback during processing\n",
    "- `ultralytics.YOLO`: YOLOv8 model class for object detection and tracking\n",
    "- `cv2`: OpenCV for computer vision operations and video handling"
   ]
  },
  {
   "cell_type": "code",
   "execution_count": null,
   "id": "403e9c41",
   "metadata": {},
   "outputs": [],
   "source": [
    "from tqdm import tqdm\n",
    "from ultralytics import YOLO\n",
    "import cv2"
   ]
  },
  {
   "cell_type": "markdown",
   "id": "45e85c6c",
   "metadata": {},
   "source": [
    "## Method 1: Basic YOLO Tracking\n",
    "\n",
    "This section demonstrates the simplest approach to tennis ball tracking using YOLO's built-in tracking capabilities.\n",
    "\n",
    "**Features:**\n",
    "- Loads the trained YOLOv8m model (150 epochs)\n",
    "- Performs object tracking with persistence across frames\n",
    "- Displays real-time tracking results\n",
    "- Automatically saves annotated output video\n",
    "\n",
    "**Parameters:**\n",
    "- `persist=True`: Maintains object IDs across frames\n",
    "- `show=True`: Displays tracking in real-time window\n",
    "- `save=True`: Saves annotated video output"
   ]
  },
  {
   "cell_type": "code",
   "execution_count": null,
   "id": "f48d4ed9",
   "metadata": {},
   "outputs": [
    {
     "name": "stdout",
     "output_type": "stream",
     "text": [
      "\n",
      "WARNING \n",
      "inference results will accumulate in RAM unless `stream=True` is passed, causing potential out-of-memory\n",
      "errors for large sources or long-running streams and videos. See https://docs.ultralytics.com/modes/predict/ for help.\n",
      "\n",
      "Example:\n",
      "    results = model(source=..., stream=True)  # generator of Results objects\n",
      "    for r in results:\n",
      "        boxes = r.boxes  # Boxes object for bbox outputs\n",
      "        masks = r.masks  # Masks object for segment masks outputs\n",
      "        probs = r.probs  # Class probabilities for classification outputs\n",
      "\n",
      "video 1/1 (frame 1/207) c:\\Users\\jake\\dev\\IP_A2\\TracknetImplementation\\Tennis-Ball-Tracking\\src\\trackers\\yolo\\videos\\Clip1_temp.mp4: 384x640 (no detections), 52.5ms\n",
      "video 1/1 (frame 2/207) c:\\Users\\jake\\dev\\IP_A2\\TracknetImplementation\\Tennis-Ball-Tracking\\src\\trackers\\yolo\\videos\\Clip1_temp.mp4: 384x640 1 tennis_ball, 7.5ms\n",
      "video 1/1 (frame 3/207) c:\\Users\\jake\\dev\\IP_A2\\TracknetImplementation\\Tennis-Ball-Tracking\\src\\trackers\\yolo\\videos\\Clip1_temp.mp4: 384x640 (no detections), 7.4ms\n",
      "video 1/1 (frame 4/207) c:\\Users\\jake\\dev\\IP_A2\\TracknetImplementation\\Tennis-Ball-Tracking\\src\\trackers\\yolo\\videos\\Clip1_temp.mp4: 384x640 (no detections), 6.6ms\n",
      "video 1/1 (frame 5/207) c:\\Users\\jake\\dev\\IP_A2\\TracknetImplementation\\Tennis-Ball-Tracking\\src\\trackers\\yolo\\videos\\Clip1_temp.mp4: 384x640 1 tennis_ball, 6.3ms\n",
      "video 1/1 (frame 6/207) c:\\Users\\jake\\dev\\IP_A2\\TracknetImplementation\\Tennis-Ball-Tracking\\src\\trackers\\yolo\\videos\\Clip1_temp.mp4: 384x640 1 tennis_ball, 6.3ms\n",
      "video 1/1 (frame 7/207) c:\\Users\\jake\\dev\\IP_A2\\TracknetImplementation\\Tennis-Ball-Tracking\\src\\trackers\\yolo\\videos\\Clip1_temp.mp4: 384x640 1 tennis_ball, 6.5ms\n",
      "video 1/1 (frame 8/207) c:\\Users\\jake\\dev\\IP_A2\\TracknetImplementation\\Tennis-Ball-Tracking\\src\\trackers\\yolo\\videos\\Clip1_temp.mp4: 384x640 1 tennis_ball, 7.1ms\n",
      "video 1/1 (frame 9/207) c:\\Users\\jake\\dev\\IP_A2\\TracknetImplementation\\Tennis-Ball-Tracking\\src\\trackers\\yolo\\videos\\Clip1_temp.mp4: 384x640 1 tennis_ball, 6.3ms\n",
      "video 1/1 (frame 10/207) c:\\Users\\jake\\dev\\IP_A2\\TracknetImplementation\\Tennis-Ball-Tracking\\src\\trackers\\yolo\\videos\\Clip1_temp.mp4: 384x640 (no detections), 6.6ms\n",
      "video 1/1 (frame 11/207) c:\\Users\\jake\\dev\\IP_A2\\TracknetImplementation\\Tennis-Ball-Tracking\\src\\trackers\\yolo\\videos\\Clip1_temp.mp4: 384x640 (no detections), 6.5ms\n",
      "video 1/1 (frame 12/207) c:\\Users\\jake\\dev\\IP_A2\\TracknetImplementation\\Tennis-Ball-Tracking\\src\\trackers\\yolo\\videos\\Clip1_temp.mp4: 384x640 1 tennis_ball, 6.3ms\n",
      "video 1/1 (frame 13/207) c:\\Users\\jake\\dev\\IP_A2\\TracknetImplementation\\Tennis-Ball-Tracking\\src\\trackers\\yolo\\videos\\Clip1_temp.mp4: 384x640 1 tennis_ball, 6.3ms\n",
      "video 1/1 (frame 14/207) c:\\Users\\jake\\dev\\IP_A2\\TracknetImplementation\\Tennis-Ball-Tracking\\src\\trackers\\yolo\\videos\\Clip1_temp.mp4: 384x640 1 tennis_ball, 7.0ms\n",
      "video 1/1 (frame 15/207) c:\\Users\\jake\\dev\\IP_A2\\TracknetImplementation\\Tennis-Ball-Tracking\\src\\trackers\\yolo\\videos\\Clip1_temp.mp4: 384x640 1 tennis_ball, 6.5ms\n",
      "video 1/1 (frame 16/207) c:\\Users\\jake\\dev\\IP_A2\\TracknetImplementation\\Tennis-Ball-Tracking\\src\\trackers\\yolo\\videos\\Clip1_temp.mp4: 384x640 1 tennis_ball, 6.4ms\n",
      "video 1/1 (frame 17/207) c:\\Users\\jake\\dev\\IP_A2\\TracknetImplementation\\Tennis-Ball-Tracking\\src\\trackers\\yolo\\videos\\Clip1_temp.mp4: 384x640 1 tennis_ball, 6.4ms\n",
      "video 1/1 (frame 18/207) c:\\Users\\jake\\dev\\IP_A2\\TracknetImplementation\\Tennis-Ball-Tracking\\src\\trackers\\yolo\\videos\\Clip1_temp.mp4: 384x640 1 tennis_ball, 6.4ms\n",
      "video 1/1 (frame 19/207) c:\\Users\\jake\\dev\\IP_A2\\TracknetImplementation\\Tennis-Ball-Tracking\\src\\trackers\\yolo\\videos\\Clip1_temp.mp4: 384x640 1 tennis_ball, 6.4ms\n",
      "video 1/1 (frame 20/207) c:\\Users\\jake\\dev\\IP_A2\\TracknetImplementation\\Tennis-Ball-Tracking\\src\\trackers\\yolo\\videos\\Clip1_temp.mp4: 384x640 1 tennis_ball, 6.5ms\n",
      "video 1/1 (frame 21/207) c:\\Users\\jake\\dev\\IP_A2\\TracknetImplementation\\Tennis-Ball-Tracking\\src\\trackers\\yolo\\videos\\Clip1_temp.mp4: 384x640 1 tennis_ball, 6.7ms\n",
      "video 1/1 (frame 22/207) c:\\Users\\jake\\dev\\IP_A2\\TracknetImplementation\\Tennis-Ball-Tracking\\src\\trackers\\yolo\\videos\\Clip1_temp.mp4: 384x640 1 tennis_ball, 10.5ms\n",
      "video 1/1 (frame 23/207) c:\\Users\\jake\\dev\\IP_A2\\TracknetImplementation\\Tennis-Ball-Tracking\\src\\trackers\\yolo\\videos\\Clip1_temp.mp4: 384x640 1 tennis_ball, 6.5ms\n",
      "video 1/1 (frame 24/207) c:\\Users\\jake\\dev\\IP_A2\\TracknetImplementation\\Tennis-Ball-Tracking\\src\\trackers\\yolo\\videos\\Clip1_temp.mp4: 384x640 1 tennis_ball, 6.6ms\n",
      "video 1/1 (frame 25/207) c:\\Users\\jake\\dev\\IP_A2\\TracknetImplementation\\Tennis-Ball-Tracking\\src\\trackers\\yolo\\videos\\Clip1_temp.mp4: 384x640 1 tennis_ball, 7.0ms\n",
      "video 1/1 (frame 26/207) c:\\Users\\jake\\dev\\IP_A2\\TracknetImplementation\\Tennis-Ball-Tracking\\src\\trackers\\yolo\\videos\\Clip1_temp.mp4: 384x640 1 tennis_ball, 6.4ms\n",
      "video 1/1 (frame 27/207) c:\\Users\\jake\\dev\\IP_A2\\TracknetImplementation\\Tennis-Ball-Tracking\\src\\trackers\\yolo\\videos\\Clip1_temp.mp4: 384x640 (no detections), 6.6ms\n",
      "video 1/1 (frame 28/207) c:\\Users\\jake\\dev\\IP_A2\\TracknetImplementation\\Tennis-Ball-Tracking\\src\\trackers\\yolo\\videos\\Clip1_temp.mp4: 384x640 (no detections), 6.5ms\n",
      "video 1/1 (frame 29/207) c:\\Users\\jake\\dev\\IP_A2\\TracknetImplementation\\Tennis-Ball-Tracking\\src\\trackers\\yolo\\videos\\Clip1_temp.mp4: 384x640 1 tennis_ball, 6.4ms\n",
      "video 1/1 (frame 30/207) c:\\Users\\jake\\dev\\IP_A2\\TracknetImplementation\\Tennis-Ball-Tracking\\src\\trackers\\yolo\\videos\\Clip1_temp.mp4: 384x640 (no detections), 6.6ms\n",
      "video 1/1 (frame 31/207) c:\\Users\\jake\\dev\\IP_A2\\TracknetImplementation\\Tennis-Ball-Tracking\\src\\trackers\\yolo\\videos\\Clip1_temp.mp4: 384x640 (no detections), 6.5ms\n",
      "video 1/1 (frame 32/207) c:\\Users\\jake\\dev\\IP_A2\\TracknetImplementation\\Tennis-Ball-Tracking\\src\\trackers\\yolo\\videos\\Clip1_temp.mp4: 384x640 1 tennis_ball, 6.5ms\n",
      "video 1/1 (frame 33/207) c:\\Users\\jake\\dev\\IP_A2\\TracknetImplementation\\Tennis-Ball-Tracking\\src\\trackers\\yolo\\videos\\Clip1_temp.mp4: 384x640 1 tennis_ball, 6.5ms\n",
      "video 1/1 (frame 34/207) c:\\Users\\jake\\dev\\IP_A2\\TracknetImplementation\\Tennis-Ball-Tracking\\src\\trackers\\yolo\\videos\\Clip1_temp.mp4: 384x640 1 tennis_ball, 6.5ms\n",
      "video 1/1 (frame 35/207) c:\\Users\\jake\\dev\\IP_A2\\TracknetImplementation\\Tennis-Ball-Tracking\\src\\trackers\\yolo\\videos\\Clip1_temp.mp4: 384x640 1 tennis_ball, 6.6ms\n",
      "video 1/1 (frame 36/207) c:\\Users\\jake\\dev\\IP_A2\\TracknetImplementation\\Tennis-Ball-Tracking\\src\\trackers\\yolo\\videos\\Clip1_temp.mp4: 384x640 1 tennis_ball, 6.7ms\n",
      "video 1/1 (frame 37/207) c:\\Users\\jake\\dev\\IP_A2\\TracknetImplementation\\Tennis-Ball-Tracking\\src\\trackers\\yolo\\videos\\Clip1_temp.mp4: 384x640 1 tennis_ball, 6.7ms\n",
      "video 1/1 (frame 38/207) c:\\Users\\jake\\dev\\IP_A2\\TracknetImplementation\\Tennis-Ball-Tracking\\src\\trackers\\yolo\\videos\\Clip1_temp.mp4: 384x640 1 tennis_ball, 6.6ms\n",
      "video 1/1 (frame 39/207) c:\\Users\\jake\\dev\\IP_A2\\TracknetImplementation\\Tennis-Ball-Tracking\\src\\trackers\\yolo\\videos\\Clip1_temp.mp4: 384x640 1 tennis_ball, 6.6ms\n",
      "video 1/1 (frame 40/207) c:\\Users\\jake\\dev\\IP_A2\\TracknetImplementation\\Tennis-Ball-Tracking\\src\\trackers\\yolo\\videos\\Clip1_temp.mp4: 384x640 1 tennis_ball, 6.9ms\n",
      "video 1/1 (frame 41/207) c:\\Users\\jake\\dev\\IP_A2\\TracknetImplementation\\Tennis-Ball-Tracking\\src\\trackers\\yolo\\videos\\Clip1_temp.mp4: 384x640 2 tennis_balls, 6.7ms\n",
      "video 1/1 (frame 42/207) c:\\Users\\jake\\dev\\IP_A2\\TracknetImplementation\\Tennis-Ball-Tracking\\src\\trackers\\yolo\\videos\\Clip1_temp.mp4: 384x640 3 tennis_balls, 6.8ms\n",
      "video 1/1 (frame 43/207) c:\\Users\\jake\\dev\\IP_A2\\TracknetImplementation\\Tennis-Ball-Tracking\\src\\trackers\\yolo\\videos\\Clip1_temp.mp4: 384x640 3 tennis_balls, 6.9ms\n",
      "video 1/1 (frame 44/207) c:\\Users\\jake\\dev\\IP_A2\\TracknetImplementation\\Tennis-Ball-Tracking\\src\\trackers\\yolo\\videos\\Clip1_temp.mp4: 384x640 1 tennis_ball, 6.9ms\n",
      "video 1/1 (frame 45/207) c:\\Users\\jake\\dev\\IP_A2\\TracknetImplementation\\Tennis-Ball-Tracking\\src\\trackers\\yolo\\videos\\Clip1_temp.mp4: 384x640 1 tennis_ball, 6.9ms\n",
      "video 1/1 (frame 46/207) c:\\Users\\jake\\dev\\IP_A2\\TracknetImplementation\\Tennis-Ball-Tracking\\src\\trackers\\yolo\\videos\\Clip1_temp.mp4: 384x640 (no detections), 6.9ms\n",
      "video 1/1 (frame 47/207) c:\\Users\\jake\\dev\\IP_A2\\TracknetImplementation\\Tennis-Ball-Tracking\\src\\trackers\\yolo\\videos\\Clip1_temp.mp4: 384x640 (no detections), 7.0ms\n",
      "video 1/1 (frame 48/207) c:\\Users\\jake\\dev\\IP_A2\\TracknetImplementation\\Tennis-Ball-Tracking\\src\\trackers\\yolo\\videos\\Clip1_temp.mp4: 384x640 (no detections), 7.2ms\n",
      "video 1/1 (frame 49/207) c:\\Users\\jake\\dev\\IP_A2\\TracknetImplementation\\Tennis-Ball-Tracking\\src\\trackers\\yolo\\videos\\Clip1_temp.mp4: 384x640 1 tennis_ball, 6.9ms\n",
      "video 1/1 (frame 50/207) c:\\Users\\jake\\dev\\IP_A2\\TracknetImplementation\\Tennis-Ball-Tracking\\src\\trackers\\yolo\\videos\\Clip1_temp.mp4: 384x640 1 tennis_ball, 6.6ms\n",
      "video 1/1 (frame 51/207) c:\\Users\\jake\\dev\\IP_A2\\TracknetImplementation\\Tennis-Ball-Tracking\\src\\trackers\\yolo\\videos\\Clip1_temp.mp4: 384x640 1 tennis_ball, 6.9ms\n",
      "video 1/1 (frame 52/207) c:\\Users\\jake\\dev\\IP_A2\\TracknetImplementation\\Tennis-Ball-Tracking\\src\\trackers\\yolo\\videos\\Clip1_temp.mp4: 384x640 1 tennis_ball, 7.0ms\n",
      "video 1/1 (frame 53/207) c:\\Users\\jake\\dev\\IP_A2\\TracknetImplementation\\Tennis-Ball-Tracking\\src\\trackers\\yolo\\videos\\Clip1_temp.mp4: 384x640 1 tennis_ball, 6.8ms\n",
      "video 1/1 (frame 54/207) c:\\Users\\jake\\dev\\IP_A2\\TracknetImplementation\\Tennis-Ball-Tracking\\src\\trackers\\yolo\\videos\\Clip1_temp.mp4: 384x640 (no detections), 6.9ms\n",
      "video 1/1 (frame 55/207) c:\\Users\\jake\\dev\\IP_A2\\TracknetImplementation\\Tennis-Ball-Tracking\\src\\trackers\\yolo\\videos\\Clip1_temp.mp4: 384x640 1 tennis_ball, 6.8ms\n",
      "video 1/1 (frame 56/207) c:\\Users\\jake\\dev\\IP_A2\\TracknetImplementation\\Tennis-Ball-Tracking\\src\\trackers\\yolo\\videos\\Clip1_temp.mp4: 384x640 2 tennis_balls, 6.9ms\n",
      "video 1/1 (frame 57/207) c:\\Users\\jake\\dev\\IP_A2\\TracknetImplementation\\Tennis-Ball-Tracking\\src\\trackers\\yolo\\videos\\Clip1_temp.mp4: 384x640 1 tennis_ball, 6.8ms\n",
      "video 1/1 (frame 58/207) c:\\Users\\jake\\dev\\IP_A2\\TracknetImplementation\\Tennis-Ball-Tracking\\src\\trackers\\yolo\\videos\\Clip1_temp.mp4: 384x640 1 tennis_ball, 7.5ms\n",
      "video 1/1 (frame 59/207) c:\\Users\\jake\\dev\\IP_A2\\TracknetImplementation\\Tennis-Ball-Tracking\\src\\trackers\\yolo\\videos\\Clip1_temp.mp4: 384x640 1 tennis_ball, 9.0ms\n",
      "video 1/1 (frame 60/207) c:\\Users\\jake\\dev\\IP_A2\\TracknetImplementation\\Tennis-Ball-Tracking\\src\\trackers\\yolo\\videos\\Clip1_temp.mp4: 384x640 1 tennis_ball, 9.0ms\n",
      "video 1/1 (frame 61/207) c:\\Users\\jake\\dev\\IP_A2\\TracknetImplementation\\Tennis-Ball-Tracking\\src\\trackers\\yolo\\videos\\Clip1_temp.mp4: 384x640 1 tennis_ball, 9.0ms\n",
      "video 1/1 (frame 62/207) c:\\Users\\jake\\dev\\IP_A2\\TracknetImplementation\\Tennis-Ball-Tracking\\src\\trackers\\yolo\\videos\\Clip1_temp.mp4: 384x640 (no detections), 7.5ms\n",
      "video 1/1 (frame 63/207) c:\\Users\\jake\\dev\\IP_A2\\TracknetImplementation\\Tennis-Ball-Tracking\\src\\trackers\\yolo\\videos\\Clip1_temp.mp4: 384x640 1 tennis_ball, 9.0ms\n",
      "video 1/1 (frame 64/207) c:\\Users\\jake\\dev\\IP_A2\\TracknetImplementation\\Tennis-Ball-Tracking\\src\\trackers\\yolo\\videos\\Clip1_temp.mp4: 384x640 (no detections), 9.2ms\n",
      "video 1/1 (frame 65/207) c:\\Users\\jake\\dev\\IP_A2\\TracknetImplementation\\Tennis-Ball-Tracking\\src\\trackers\\yolo\\videos\\Clip1_temp.mp4: 384x640 1 tennis_ball, 9.3ms\n",
      "video 1/1 (frame 66/207) c:\\Users\\jake\\dev\\IP_A2\\TracknetImplementation\\Tennis-Ball-Tracking\\src\\trackers\\yolo\\videos\\Clip1_temp.mp4: 384x640 1 tennis_ball, 9.2ms\n",
      "video 1/1 (frame 67/207) c:\\Users\\jake\\dev\\IP_A2\\TracknetImplementation\\Tennis-Ball-Tracking\\src\\trackers\\yolo\\videos\\Clip1_temp.mp4: 384x640 1 tennis_ball, 9.3ms\n",
      "video 1/1 (frame 68/207) c:\\Users\\jake\\dev\\IP_A2\\TracknetImplementation\\Tennis-Ball-Tracking\\src\\trackers\\yolo\\videos\\Clip1_temp.mp4: 384x640 2 tennis_balls, 9.3ms\n",
      "video 1/1 (frame 69/207) c:\\Users\\jake\\dev\\IP_A2\\TracknetImplementation\\Tennis-Ball-Tracking\\src\\trackers\\yolo\\videos\\Clip1_temp.mp4: 384x640 3 tennis_balls, 9.1ms\n",
      "video 1/1 (frame 70/207) c:\\Users\\jake\\dev\\IP_A2\\TracknetImplementation\\Tennis-Ball-Tracking\\src\\trackers\\yolo\\videos\\Clip1_temp.mp4: 384x640 2 tennis_balls, 9.2ms\n",
      "video 1/1 (frame 71/207) c:\\Users\\jake\\dev\\IP_A2\\TracknetImplementation\\Tennis-Ball-Tracking\\src\\trackers\\yolo\\videos\\Clip1_temp.mp4: 384x640 2 tennis_balls, 9.0ms\n",
      "video 1/1 (frame 72/207) c:\\Users\\jake\\dev\\IP_A2\\TracknetImplementation\\Tennis-Ball-Tracking\\src\\trackers\\yolo\\videos\\Clip1_temp.mp4: 384x640 1 tennis_ball, 9.4ms\n",
      "video 1/1 (frame 73/207) c:\\Users\\jake\\dev\\IP_A2\\TracknetImplementation\\Tennis-Ball-Tracking\\src\\trackers\\yolo\\videos\\Clip1_temp.mp4: 384x640 3 tennis_balls, 9.4ms\n",
      "video 1/1 (frame 74/207) c:\\Users\\jake\\dev\\IP_A2\\TracknetImplementation\\Tennis-Ball-Tracking\\src\\trackers\\yolo\\videos\\Clip1_temp.mp4: 384x640 (no detections), 9.0ms\n",
      "video 1/1 (frame 75/207) c:\\Users\\jake\\dev\\IP_A2\\TracknetImplementation\\Tennis-Ball-Tracking\\src\\trackers\\yolo\\videos\\Clip1_temp.mp4: 384x640 (no detections), 9.4ms\n",
      "video 1/1 (frame 76/207) c:\\Users\\jake\\dev\\IP_A2\\TracknetImplementation\\Tennis-Ball-Tracking\\src\\trackers\\yolo\\videos\\Clip1_temp.mp4: 384x640 (no detections), 9.3ms\n",
      "video 1/1 (frame 77/207) c:\\Users\\jake\\dev\\IP_A2\\TracknetImplementation\\Tennis-Ball-Tracking\\src\\trackers\\yolo\\videos\\Clip1_temp.mp4: 384x640 (no detections), 9.4ms\n",
      "video 1/1 (frame 78/207) c:\\Users\\jake\\dev\\IP_A2\\TracknetImplementation\\Tennis-Ball-Tracking\\src\\trackers\\yolo\\videos\\Clip1_temp.mp4: 384x640 (no detections), 9.4ms\n",
      "video 1/1 (frame 79/207) c:\\Users\\jake\\dev\\IP_A2\\TracknetImplementation\\Tennis-Ball-Tracking\\src\\trackers\\yolo\\videos\\Clip1_temp.mp4: 384x640 (no detections), 9.2ms\n",
      "video 1/1 (frame 80/207) c:\\Users\\jake\\dev\\IP_A2\\TracknetImplementation\\Tennis-Ball-Tracking\\src\\trackers\\yolo\\videos\\Clip1_temp.mp4: 384x640 (no detections), 9.5ms\n",
      "video 1/1 (frame 81/207) c:\\Users\\jake\\dev\\IP_A2\\TracknetImplementation\\Tennis-Ball-Tracking\\src\\trackers\\yolo\\videos\\Clip1_temp.mp4: 384x640 (no detections), 9.2ms\n",
      "video 1/1 (frame 82/207) c:\\Users\\jake\\dev\\IP_A2\\TracknetImplementation\\Tennis-Ball-Tracking\\src\\trackers\\yolo\\videos\\Clip1_temp.mp4: 384x640 1 tennis_ball, 9.5ms\n",
      "video 1/1 (frame 83/207) c:\\Users\\jake\\dev\\IP_A2\\TracknetImplementation\\Tennis-Ball-Tracking\\src\\trackers\\yolo\\videos\\Clip1_temp.mp4: 384x640 1 tennis_ball, 9.4ms\n",
      "video 1/1 (frame 84/207) c:\\Users\\jake\\dev\\IP_A2\\TracknetImplementation\\Tennis-Ball-Tracking\\src\\trackers\\yolo\\videos\\Clip1_temp.mp4: 384x640 (no detections), 9.6ms\n",
      "video 1/1 (frame 85/207) c:\\Users\\jake\\dev\\IP_A2\\TracknetImplementation\\Tennis-Ball-Tracking\\src\\trackers\\yolo\\videos\\Clip1_temp.mp4: 384x640 (no detections), 9.5ms\n",
      "video 1/1 (frame 86/207) c:\\Users\\jake\\dev\\IP_A2\\TracknetImplementation\\Tennis-Ball-Tracking\\src\\trackers\\yolo\\videos\\Clip1_temp.mp4: 384x640 1 tennis_ball, 9.7ms\n",
      "video 1/1 (frame 87/207) c:\\Users\\jake\\dev\\IP_A2\\TracknetImplementation\\Tennis-Ball-Tracking\\src\\trackers\\yolo\\videos\\Clip1_temp.mp4: 384x640 3 tennis_balls, 8.0ms\n",
      "video 1/1 (frame 88/207) c:\\Users\\jake\\dev\\IP_A2\\TracknetImplementation\\Tennis-Ball-Tracking\\src\\trackers\\yolo\\videos\\Clip1_temp.mp4: 384x640 (no detections), 8.1ms\n",
      "video 1/1 (frame 89/207) c:\\Users\\jake\\dev\\IP_A2\\TracknetImplementation\\Tennis-Ball-Tracking\\src\\trackers\\yolo\\videos\\Clip1_temp.mp4: 384x640 1 tennis_ball, 8.0ms\n",
      "video 1/1 (frame 90/207) c:\\Users\\jake\\dev\\IP_A2\\TracknetImplementation\\Tennis-Ball-Tracking\\src\\trackers\\yolo\\videos\\Clip1_temp.mp4: 384x640 1 tennis_ball, 8.2ms\n",
      "video 1/1 (frame 91/207) c:\\Users\\jake\\dev\\IP_A2\\TracknetImplementation\\Tennis-Ball-Tracking\\src\\trackers\\yolo\\videos\\Clip1_temp.mp4: 384x640 1 tennis_ball, 8.1ms\n",
      "video 1/1 (frame 92/207) c:\\Users\\jake\\dev\\IP_A2\\TracknetImplementation\\Tennis-Ball-Tracking\\src\\trackers\\yolo\\videos\\Clip1_temp.mp4: 384x640 1 tennis_ball, 8.2ms\n",
      "video 1/1 (frame 93/207) c:\\Users\\jake\\dev\\IP_A2\\TracknetImplementation\\Tennis-Ball-Tracking\\src\\trackers\\yolo\\videos\\Clip1_temp.mp4: 384x640 1 tennis_ball, 8.2ms\n",
      "video 1/1 (frame 94/207) c:\\Users\\jake\\dev\\IP_A2\\TracknetImplementation\\Tennis-Ball-Tracking\\src\\trackers\\yolo\\videos\\Clip1_temp.mp4: 384x640 1 tennis_ball, 8.2ms\n",
      "video 1/1 (frame 95/207) c:\\Users\\jake\\dev\\IP_A2\\TracknetImplementation\\Tennis-Ball-Tracking\\src\\trackers\\yolo\\videos\\Clip1_temp.mp4: 384x640 1 tennis_ball, 8.1ms\n",
      "video 1/1 (frame 96/207) c:\\Users\\jake\\dev\\IP_A2\\TracknetImplementation\\Tennis-Ball-Tracking\\src\\trackers\\yolo\\videos\\Clip1_temp.mp4: 384x640 1 tennis_ball, 8.3ms\n",
      "video 1/1 (frame 97/207) c:\\Users\\jake\\dev\\IP_A2\\TracknetImplementation\\Tennis-Ball-Tracking\\src\\trackers\\yolo\\videos\\Clip1_temp.mp4: 384x640 1 tennis_ball, 8.4ms\n",
      "video 1/1 (frame 98/207) c:\\Users\\jake\\dev\\IP_A2\\TracknetImplementation\\Tennis-Ball-Tracking\\src\\trackers\\yolo\\videos\\Clip1_temp.mp4: 384x640 1 tennis_ball, 8.3ms\n",
      "video 1/1 (frame 99/207) c:\\Users\\jake\\dev\\IP_A2\\TracknetImplementation\\Tennis-Ball-Tracking\\src\\trackers\\yolo\\videos\\Clip1_temp.mp4: 384x640 1 tennis_ball, 8.7ms\n",
      "video 1/1 (frame 100/207) c:\\Users\\jake\\dev\\IP_A2\\TracknetImplementation\\Tennis-Ball-Tracking\\src\\trackers\\yolo\\videos\\Clip1_temp.mp4: 384x640 1 tennis_ball, 8.4ms\n",
      "video 1/1 (frame 101/207) c:\\Users\\jake\\dev\\IP_A2\\TracknetImplementation\\Tennis-Ball-Tracking\\src\\trackers\\yolo\\videos\\Clip1_temp.mp4: 384x640 1 tennis_ball, 8.3ms\n",
      "video 1/1 (frame 102/207) c:\\Users\\jake\\dev\\IP_A2\\TracknetImplementation\\Tennis-Ball-Tracking\\src\\trackers\\yolo\\videos\\Clip1_temp.mp4: 384x640 1 tennis_ball, 8.5ms\n",
      "video 1/1 (frame 103/207) c:\\Users\\jake\\dev\\IP_A2\\TracknetImplementation\\Tennis-Ball-Tracking\\src\\trackers\\yolo\\videos\\Clip1_temp.mp4: 384x640 1 tennis_ball, 8.5ms\n",
      "video 1/1 (frame 104/207) c:\\Users\\jake\\dev\\IP_A2\\TracknetImplementation\\Tennis-Ball-Tracking\\src\\trackers\\yolo\\videos\\Clip1_temp.mp4: 384x640 1 tennis_ball, 8.5ms\n",
      "video 1/1 (frame 105/207) c:\\Users\\jake\\dev\\IP_A2\\TracknetImplementation\\Tennis-Ball-Tracking\\src\\trackers\\yolo\\videos\\Clip1_temp.mp4: 384x640 1 tennis_ball, 8.5ms\n",
      "video 1/1 (frame 106/207) c:\\Users\\jake\\dev\\IP_A2\\TracknetImplementation\\Tennis-Ball-Tracking\\src\\trackers\\yolo\\videos\\Clip1_temp.mp4: 384x640 1 tennis_ball, 8.5ms\n",
      "video 1/1 (frame 107/207) c:\\Users\\jake\\dev\\IP_A2\\TracknetImplementation\\Tennis-Ball-Tracking\\src\\trackers\\yolo\\videos\\Clip1_temp.mp4: 384x640 1 tennis_ball, 8.5ms\n",
      "video 1/1 (frame 108/207) c:\\Users\\jake\\dev\\IP_A2\\TracknetImplementation\\Tennis-Ball-Tracking\\src\\trackers\\yolo\\videos\\Clip1_temp.mp4: 384x640 1 tennis_ball, 8.5ms\n",
      "video 1/1 (frame 109/207) c:\\Users\\jake\\dev\\IP_A2\\TracknetImplementation\\Tennis-Ball-Tracking\\src\\trackers\\yolo\\videos\\Clip1_temp.mp4: 384x640 1 tennis_ball, 8.6ms\n",
      "video 1/1 (frame 110/207) c:\\Users\\jake\\dev\\IP_A2\\TracknetImplementation\\Tennis-Ball-Tracking\\src\\trackers\\yolo\\videos\\Clip1_temp.mp4: 384x640 2 tennis_balls, 8.6ms\n",
      "video 1/1 (frame 111/207) c:\\Users\\jake\\dev\\IP_A2\\TracknetImplementation\\Tennis-Ball-Tracking\\src\\trackers\\yolo\\videos\\Clip1_temp.mp4: 384x640 1 tennis_ball, 8.9ms\n",
      "video 1/1 (frame 112/207) c:\\Users\\jake\\dev\\IP_A2\\TracknetImplementation\\Tennis-Ball-Tracking\\src\\trackers\\yolo\\videos\\Clip1_temp.mp4: 384x640 1 tennis_ball, 8.9ms\n",
      "video 1/1 (frame 113/207) c:\\Users\\jake\\dev\\IP_A2\\TracknetImplementation\\Tennis-Ball-Tracking\\src\\trackers\\yolo\\videos\\Clip1_temp.mp4: 384x640 1 tennis_ball, 9.0ms\n",
      "video 1/1 (frame 114/207) c:\\Users\\jake\\dev\\IP_A2\\TracknetImplementation\\Tennis-Ball-Tracking\\src\\trackers\\yolo\\videos\\Clip1_temp.mp4: 384x640 1 tennis_ball, 8.7ms\n",
      "video 1/1 (frame 115/207) c:\\Users\\jake\\dev\\IP_A2\\TracknetImplementation\\Tennis-Ball-Tracking\\src\\trackers\\yolo\\videos\\Clip1_temp.mp4: 384x640 1 tennis_ball, 8.7ms\n",
      "video 1/1 (frame 116/207) c:\\Users\\jake\\dev\\IP_A2\\TracknetImplementation\\Tennis-Ball-Tracking\\src\\trackers\\yolo\\videos\\Clip1_temp.mp4: 384x640 (no detections), 8.8ms\n",
      "video 1/1 (frame 117/207) c:\\Users\\jake\\dev\\IP_A2\\TracknetImplementation\\Tennis-Ball-Tracking\\src\\trackers\\yolo\\videos\\Clip1_temp.mp4: 384x640 1 tennis_ball, 8.7ms\n",
      "video 1/1 (frame 118/207) c:\\Users\\jake\\dev\\IP_A2\\TracknetImplementation\\Tennis-Ball-Tracking\\src\\trackers\\yolo\\videos\\Clip1_temp.mp4: 384x640 1 tennis_ball, 9.9ms\n",
      "video 1/1 (frame 119/207) c:\\Users\\jake\\dev\\IP_A2\\TracknetImplementation\\Tennis-Ball-Tracking\\src\\trackers\\yolo\\videos\\Clip1_temp.mp4: 384x640 2 tennis_balls, 10.2ms\n",
      "video 1/1 (frame 120/207) c:\\Users\\jake\\dev\\IP_A2\\TracknetImplementation\\Tennis-Ball-Tracking\\src\\trackers\\yolo\\videos\\Clip1_temp.mp4: 384x640 1 tennis_ball, 9.3ms\n",
      "video 1/1 (frame 121/207) c:\\Users\\jake\\dev\\IP_A2\\TracknetImplementation\\Tennis-Ball-Tracking\\src\\trackers\\yolo\\videos\\Clip1_temp.mp4: 384x640 1 tennis_ball, 9.4ms\n",
      "video 1/1 (frame 122/207) c:\\Users\\jake\\dev\\IP_A2\\TracknetImplementation\\Tennis-Ball-Tracking\\src\\trackers\\yolo\\videos\\Clip1_temp.mp4: 384x640 (no detections), 8.9ms\n",
      "video 1/1 (frame 123/207) c:\\Users\\jake\\dev\\IP_A2\\TracknetImplementation\\Tennis-Ball-Tracking\\src\\trackers\\yolo\\videos\\Clip1_temp.mp4: 384x640 1 tennis_ball, 9.4ms\n",
      "video 1/1 (frame 124/207) c:\\Users\\jake\\dev\\IP_A2\\TracknetImplementation\\Tennis-Ball-Tracking\\src\\trackers\\yolo\\videos\\Clip1_temp.mp4: 384x640 1 tennis_ball, 9.4ms\n",
      "video 1/1 (frame 125/207) c:\\Users\\jake\\dev\\IP_A2\\TracknetImplementation\\Tennis-Ball-Tracking\\src\\trackers\\yolo\\videos\\Clip1_temp.mp4: 384x640 1 tennis_ball, 9.3ms\n",
      "video 1/1 (frame 126/207) c:\\Users\\jake\\dev\\IP_A2\\TracknetImplementation\\Tennis-Ball-Tracking\\src\\trackers\\yolo\\videos\\Clip1_temp.mp4: 384x640 1 tennis_ball, 9.4ms\n",
      "video 1/1 (frame 127/207) c:\\Users\\jake\\dev\\IP_A2\\TracknetImplementation\\Tennis-Ball-Tracking\\src\\trackers\\yolo\\videos\\Clip1_temp.mp4: 384x640 (no detections), 9.5ms\n",
      "video 1/1 (frame 128/207) c:\\Users\\jake\\dev\\IP_A2\\TracknetImplementation\\Tennis-Ball-Tracking\\src\\trackers\\yolo\\videos\\Clip1_temp.mp4: 384x640 2 tennis_balls, 9.5ms\n",
      "video 1/1 (frame 129/207) c:\\Users\\jake\\dev\\IP_A2\\TracknetImplementation\\Tennis-Ball-Tracking\\src\\trackers\\yolo\\videos\\Clip1_temp.mp4: 384x640 1 tennis_ball, 10.4ms\n",
      "video 1/1 (frame 130/207) c:\\Users\\jake\\dev\\IP_A2\\TracknetImplementation\\Tennis-Ball-Tracking\\src\\trackers\\yolo\\videos\\Clip1_temp.mp4: 384x640 1 tennis_ball, 9.6ms\n",
      "video 1/1 (frame 131/207) c:\\Users\\jake\\dev\\IP_A2\\TracknetImplementation\\Tennis-Ball-Tracking\\src\\trackers\\yolo\\videos\\Clip1_temp.mp4: 384x640 1 tennis_ball, 10.8ms\n",
      "video 1/1 (frame 132/207) c:\\Users\\jake\\dev\\IP_A2\\TracknetImplementation\\Tennis-Ball-Tracking\\src\\trackers\\yolo\\videos\\Clip1_temp.mp4: 384x640 1 tennis_ball, 11.2ms\n",
      "video 1/1 (frame 133/207) c:\\Users\\jake\\dev\\IP_A2\\TracknetImplementation\\Tennis-Ball-Tracking\\src\\trackers\\yolo\\videos\\Clip1_temp.mp4: 384x640 1 tennis_ball, 11.2ms\n",
      "video 1/1 (frame 134/207) c:\\Users\\jake\\dev\\IP_A2\\TracknetImplementation\\Tennis-Ball-Tracking\\src\\trackers\\yolo\\videos\\Clip1_temp.mp4: 384x640 1 tennis_ball, 9.3ms\n",
      "video 1/1 (frame 135/207) c:\\Users\\jake\\dev\\IP_A2\\TracknetImplementation\\Tennis-Ball-Tracking\\src\\trackers\\yolo\\videos\\Clip1_temp.mp4: 384x640 1 tennis_ball, 9.1ms\n",
      "video 1/1 (frame 136/207) c:\\Users\\jake\\dev\\IP_A2\\TracknetImplementation\\Tennis-Ball-Tracking\\src\\trackers\\yolo\\videos\\Clip1_temp.mp4: 384x640 1 tennis_ball, 9.1ms\n",
      "video 1/1 (frame 137/207) c:\\Users\\jake\\dev\\IP_A2\\TracknetImplementation\\Tennis-Ball-Tracking\\src\\trackers\\yolo\\videos\\Clip1_temp.mp4: 384x640 1 tennis_ball, 9.1ms\n",
      "video 1/1 (frame 138/207) c:\\Users\\jake\\dev\\IP_A2\\TracknetImplementation\\Tennis-Ball-Tracking\\src\\trackers\\yolo\\videos\\Clip1_temp.mp4: 384x640 1 tennis_ball, 9.1ms\n",
      "video 1/1 (frame 139/207) c:\\Users\\jake\\dev\\IP_A2\\TracknetImplementation\\Tennis-Ball-Tracking\\src\\trackers\\yolo\\videos\\Clip1_temp.mp4: 384x640 2 tennis_balls, 9.3ms\n",
      "video 1/1 (frame 140/207) c:\\Users\\jake\\dev\\IP_A2\\TracknetImplementation\\Tennis-Ball-Tracking\\src\\trackers\\yolo\\videos\\Clip1_temp.mp4: 384x640 1 tennis_ball, 9.3ms\n",
      "video 1/1 (frame 141/207) c:\\Users\\jake\\dev\\IP_A2\\TracknetImplementation\\Tennis-Ball-Tracking\\src\\trackers\\yolo\\videos\\Clip1_temp.mp4: 384x640 1 tennis_ball, 9.3ms\n",
      "video 1/1 (frame 142/207) c:\\Users\\jake\\dev\\IP_A2\\TracknetImplementation\\Tennis-Ball-Tracking\\src\\trackers\\yolo\\videos\\Clip1_temp.mp4: 384x640 (no detections), 9.3ms\n",
      "video 1/1 (frame 143/207) c:\\Users\\jake\\dev\\IP_A2\\TracknetImplementation\\Tennis-Ball-Tracking\\src\\trackers\\yolo\\videos\\Clip1_temp.mp4: 384x640 (no detections), 9.4ms\n",
      "video 1/1 (frame 144/207) c:\\Users\\jake\\dev\\IP_A2\\TracknetImplementation\\Tennis-Ball-Tracking\\src\\trackers\\yolo\\videos\\Clip1_temp.mp4: 384x640 1 tennis_ball, 9.3ms\n",
      "video 1/1 (frame 145/207) c:\\Users\\jake\\dev\\IP_A2\\TracknetImplementation\\Tennis-Ball-Tracking\\src\\trackers\\yolo\\videos\\Clip1_temp.mp4: 384x640 1 tennis_ball, 9.3ms\n",
      "video 1/1 (frame 146/207) c:\\Users\\jake\\dev\\IP_A2\\TracknetImplementation\\Tennis-Ball-Tracking\\src\\trackers\\yolo\\videos\\Clip1_temp.mp4: 384x640 1 tennis_ball, 9.5ms\n",
      "video 1/1 (frame 147/207) c:\\Users\\jake\\dev\\IP_A2\\TracknetImplementation\\Tennis-Ball-Tracking\\src\\trackers\\yolo\\videos\\Clip1_temp.mp4: 384x640 1 tennis_ball, 11.0ms\n",
      "video 1/1 (frame 148/207) c:\\Users\\jake\\dev\\IP_A2\\TracknetImplementation\\Tennis-Ball-Tracking\\src\\trackers\\yolo\\videos\\Clip1_temp.mp4: 384x640 (no detections), 11.0ms\n",
      "video 1/1 (frame 149/207) c:\\Users\\jake\\dev\\IP_A2\\TracknetImplementation\\Tennis-Ball-Tracking\\src\\trackers\\yolo\\videos\\Clip1_temp.mp4: 384x640 1 tennis_ball, 11.0ms\n",
      "video 1/1 (frame 150/207) c:\\Users\\jake\\dev\\IP_A2\\TracknetImplementation\\Tennis-Ball-Tracking\\src\\trackers\\yolo\\videos\\Clip1_temp.mp4: 384x640 1 tennis_ball, 11.0ms\n",
      "video 1/1 (frame 151/207) c:\\Users\\jake\\dev\\IP_A2\\TracknetImplementation\\Tennis-Ball-Tracking\\src\\trackers\\yolo\\videos\\Clip1_temp.mp4: 384x640 1 tennis_ball, 11.1ms\n",
      "video 1/1 (frame 152/207) c:\\Users\\jake\\dev\\IP_A2\\TracknetImplementation\\Tennis-Ball-Tracking\\src\\trackers\\yolo\\videos\\Clip1_temp.mp4: 384x640 1 tennis_ball, 11.3ms\n",
      "video 1/1 (frame 153/207) c:\\Users\\jake\\dev\\IP_A2\\TracknetImplementation\\Tennis-Ball-Tracking\\src\\trackers\\yolo\\videos\\Clip1_temp.mp4: 384x640 1 tennis_ball, 11.1ms\n",
      "video 1/1 (frame 154/207) c:\\Users\\jake\\dev\\IP_A2\\TracknetImplementation\\Tennis-Ball-Tracking\\src\\trackers\\yolo\\videos\\Clip1_temp.mp4: 384x640 1 tennis_ball, 11.2ms\n",
      "video 1/1 (frame 155/207) c:\\Users\\jake\\dev\\IP_A2\\TracknetImplementation\\Tennis-Ball-Tracking\\src\\trackers\\yolo\\videos\\Clip1_temp.mp4: 384x640 1 tennis_ball, 11.2ms\n",
      "video 1/1 (frame 156/207) c:\\Users\\jake\\dev\\IP_A2\\TracknetImplementation\\Tennis-Ball-Tracking\\src\\trackers\\yolo\\videos\\Clip1_temp.mp4: 384x640 1 tennis_ball, 11.4ms\n",
      "video 1/1 (frame 157/207) c:\\Users\\jake\\dev\\IP_A2\\TracknetImplementation\\Tennis-Ball-Tracking\\src\\trackers\\yolo\\videos\\Clip1_temp.mp4: 384x640 1 tennis_ball, 11.1ms\n",
      "video 1/1 (frame 158/207) c:\\Users\\jake\\dev\\IP_A2\\TracknetImplementation\\Tennis-Ball-Tracking\\src\\trackers\\yolo\\videos\\Clip1_temp.mp4: 384x640 1 tennis_ball, 9.9ms\n",
      "video 1/1 (frame 159/207) c:\\Users\\jake\\dev\\IP_A2\\TracknetImplementation\\Tennis-Ball-Tracking\\src\\trackers\\yolo\\videos\\Clip1_temp.mp4: 384x640 1 tennis_ball, 9.8ms\n",
      "video 1/1 (frame 160/207) c:\\Users\\jake\\dev\\IP_A2\\TracknetImplementation\\Tennis-Ball-Tracking\\src\\trackers\\yolo\\videos\\Clip1_temp.mp4: 384x640 1 tennis_ball, 9.6ms\n",
      "video 1/1 (frame 161/207) c:\\Users\\jake\\dev\\IP_A2\\TracknetImplementation\\Tennis-Ball-Tracking\\src\\trackers\\yolo\\videos\\Clip1_temp.mp4: 384x640 1 tennis_ball, 9.5ms\n",
      "video 1/1 (frame 162/207) c:\\Users\\jake\\dev\\IP_A2\\TracknetImplementation\\Tennis-Ball-Tracking\\src\\trackers\\yolo\\videos\\Clip1_temp.mp4: 384x640 1 tennis_ball, 9.6ms\n",
      "video 1/1 (frame 163/207) c:\\Users\\jake\\dev\\IP_A2\\TracknetImplementation\\Tennis-Ball-Tracking\\src\\trackers\\yolo\\videos\\Clip1_temp.mp4: 384x640 1 tennis_ball, 9.5ms\n",
      "video 1/1 (frame 164/207) c:\\Users\\jake\\dev\\IP_A2\\TracknetImplementation\\Tennis-Ball-Tracking\\src\\trackers\\yolo\\videos\\Clip1_temp.mp4: 384x640 1 tennis_ball, 9.8ms\n",
      "video 1/1 (frame 165/207) c:\\Users\\jake\\dev\\IP_A2\\TracknetImplementation\\Tennis-Ball-Tracking\\src\\trackers\\yolo\\videos\\Clip1_temp.mp4: 384x640 1 tennis_ball, 9.7ms\n",
      "video 1/1 (frame 166/207) c:\\Users\\jake\\dev\\IP_A2\\TracknetImplementation\\Tennis-Ball-Tracking\\src\\trackers\\yolo\\videos\\Clip1_temp.mp4: 384x640 1 tennis_ball, 9.8ms\n",
      "video 1/1 (frame 167/207) c:\\Users\\jake\\dev\\IP_A2\\TracknetImplementation\\Tennis-Ball-Tracking\\src\\trackers\\yolo\\videos\\Clip1_temp.mp4: 384x640 1 tennis_ball, 9.7ms\n",
      "video 1/1 (frame 168/207) c:\\Users\\jake\\dev\\IP_A2\\TracknetImplementation\\Tennis-Ball-Tracking\\src\\trackers\\yolo\\videos\\Clip1_temp.mp4: 384x640 1 tennis_ball, 9.8ms\n",
      "video 1/1 (frame 169/207) c:\\Users\\jake\\dev\\IP_A2\\TracknetImplementation\\Tennis-Ball-Tracking\\src\\trackers\\yolo\\videos\\Clip1_temp.mp4: 384x640 2 tennis_balls, 9.8ms\n",
      "video 1/1 (frame 170/207) c:\\Users\\jake\\dev\\IP_A2\\TracknetImplementation\\Tennis-Ball-Tracking\\src\\trackers\\yolo\\videos\\Clip1_temp.mp4: 384x640 2 tennis_balls, 9.7ms\n",
      "video 1/1 (frame 171/207) c:\\Users\\jake\\dev\\IP_A2\\TracknetImplementation\\Tennis-Ball-Tracking\\src\\trackers\\yolo\\videos\\Clip1_temp.mp4: 384x640 1 tennis_ball, 10.7ms\n",
      "video 1/1 (frame 172/207) c:\\Users\\jake\\dev\\IP_A2\\TracknetImplementation\\Tennis-Ball-Tracking\\src\\trackers\\yolo\\videos\\Clip1_temp.mp4: 384x640 1 tennis_ball, 11.1ms\n",
      "video 1/1 (frame 173/207) c:\\Users\\jake\\dev\\IP_A2\\TracknetImplementation\\Tennis-Ball-Tracking\\src\\trackers\\yolo\\videos\\Clip1_temp.mp4: 384x640 1 tennis_ball, 10.2ms\n",
      "video 1/1 (frame 174/207) c:\\Users\\jake\\dev\\IP_A2\\TracknetImplementation\\Tennis-Ball-Tracking\\src\\trackers\\yolo\\videos\\Clip1_temp.mp4: 384x640 1 tennis_ball, 10.5ms\n",
      "video 1/1 (frame 175/207) c:\\Users\\jake\\dev\\IP_A2\\TracknetImplementation\\Tennis-Ball-Tracking\\src\\trackers\\yolo\\videos\\Clip1_temp.mp4: 384x640 2 tennis_balls, 10.1ms\n",
      "video 1/1 (frame 176/207) c:\\Users\\jake\\dev\\IP_A2\\TracknetImplementation\\Tennis-Ball-Tracking\\src\\trackers\\yolo\\videos\\Clip1_temp.mp4: 384x640 1 tennis_ball, 10.4ms\n",
      "video 1/1 (frame 177/207) c:\\Users\\jake\\dev\\IP_A2\\TracknetImplementation\\Tennis-Ball-Tracking\\src\\trackers\\yolo\\videos\\Clip1_temp.mp4: 384x640 1 tennis_ball, 10.2ms\n",
      "video 1/1 (frame 178/207) c:\\Users\\jake\\dev\\IP_A2\\TracknetImplementation\\Tennis-Ball-Tracking\\src\\trackers\\yolo\\videos\\Clip1_temp.mp4: 384x640 1 tennis_ball, 10.6ms\n",
      "video 1/1 (frame 179/207) c:\\Users\\jake\\dev\\IP_A2\\TracknetImplementation\\Tennis-Ball-Tracking\\src\\trackers\\yolo\\videos\\Clip1_temp.mp4: 384x640 2 tennis_balls, 10.3ms\n",
      "video 1/1 (frame 180/207) c:\\Users\\jake\\dev\\IP_A2\\TracknetImplementation\\Tennis-Ball-Tracking\\src\\trackers\\yolo\\videos\\Clip1_temp.mp4: 384x640 2 tennis_balls, 9.9ms\n",
      "video 1/1 (frame 181/207) c:\\Users\\jake\\dev\\IP_A2\\TracknetImplementation\\Tennis-Ball-Tracking\\src\\trackers\\yolo\\videos\\Clip1_temp.mp4: 384x640 3 tennis_balls, 9.9ms\n",
      "video 1/1 (frame 182/207) c:\\Users\\jake\\dev\\IP_A2\\TracknetImplementation\\Tennis-Ball-Tracking\\src\\trackers\\yolo\\videos\\Clip1_temp.mp4: 384x640 3 tennis_balls, 19.2ms\n",
      "video 1/1 (frame 183/207) c:\\Users\\jake\\dev\\IP_A2\\TracknetImplementation\\Tennis-Ball-Tracking\\src\\trackers\\yolo\\videos\\Clip1_temp.mp4: 384x640 2 tennis_balls, 16.2ms\n",
      "video 1/1 (frame 184/207) c:\\Users\\jake\\dev\\IP_A2\\TracknetImplementation\\Tennis-Ball-Tracking\\src\\trackers\\yolo\\videos\\Clip1_temp.mp4: 384x640 2 tennis_balls, 20.0ms\n",
      "video 1/1 (frame 185/207) c:\\Users\\jake\\dev\\IP_A2\\TracknetImplementation\\Tennis-Ball-Tracking\\src\\trackers\\yolo\\videos\\Clip1_temp.mp4: 384x640 3 tennis_balls, 15.9ms\n",
      "video 1/1 (frame 186/207) c:\\Users\\jake\\dev\\IP_A2\\TracknetImplementation\\Tennis-Ball-Tracking\\src\\trackers\\yolo\\videos\\Clip1_temp.mp4: 384x640 3 tennis_balls, 18.5ms\n",
      "video 1/1 (frame 187/207) c:\\Users\\jake\\dev\\IP_A2\\TracknetImplementation\\Tennis-Ball-Tracking\\src\\trackers\\yolo\\videos\\Clip1_temp.mp4: 384x640 3 tennis_balls, 15.3ms\n",
      "video 1/1 (frame 188/207) c:\\Users\\jake\\dev\\IP_A2\\TracknetImplementation\\Tennis-Ball-Tracking\\src\\trackers\\yolo\\videos\\Clip1_temp.mp4: 384x640 3 tennis_balls, 18.6ms\n",
      "video 1/1 (frame 189/207) c:\\Users\\jake\\dev\\IP_A2\\TracknetImplementation\\Tennis-Ball-Tracking\\src\\trackers\\yolo\\videos\\Clip1_temp.mp4: 384x640 3 tennis_balls, 15.8ms\n",
      "video 1/1 (frame 190/207) c:\\Users\\jake\\dev\\IP_A2\\TracknetImplementation\\Tennis-Ball-Tracking\\src\\trackers\\yolo\\videos\\Clip1_temp.mp4: 384x640 1 tennis_ball, 19.7ms\n",
      "video 1/1 (frame 191/207) c:\\Users\\jake\\dev\\IP_A2\\TracknetImplementation\\Tennis-Ball-Tracking\\src\\trackers\\yolo\\videos\\Clip1_temp.mp4: 384x640 2 tennis_balls, 15.7ms\n",
      "video 1/1 (frame 192/207) c:\\Users\\jake\\dev\\IP_A2\\TracknetImplementation\\Tennis-Ball-Tracking\\src\\trackers\\yolo\\videos\\Clip1_temp.mp4: 384x640 1 tennis_ball, 18.2ms\n",
      "video 1/1 (frame 193/207) c:\\Users\\jake\\dev\\IP_A2\\TracknetImplementation\\Tennis-Ball-Tracking\\src\\trackers\\yolo\\videos\\Clip1_temp.mp4: 384x640 1 tennis_ball, 15.3ms\n",
      "video 1/1 (frame 194/207) c:\\Users\\jake\\dev\\IP_A2\\TracknetImplementation\\Tennis-Ball-Tracking\\src\\trackers\\yolo\\videos\\Clip1_temp.mp4: 384x640 1 tennis_ball, 19.0ms\n",
      "video 1/1 (frame 195/207) c:\\Users\\jake\\dev\\IP_A2\\TracknetImplementation\\Tennis-Ball-Tracking\\src\\trackers\\yolo\\videos\\Clip1_temp.mp4: 384x640 1 tennis_ball, 14.9ms\n",
      "video 1/1 (frame 196/207) c:\\Users\\jake\\dev\\IP_A2\\TracknetImplementation\\Tennis-Ball-Tracking\\src\\trackers\\yolo\\videos\\Clip1_temp.mp4: 384x640 1 tennis_ball, 18.0ms\n",
      "video 1/1 (frame 197/207) c:\\Users\\jake\\dev\\IP_A2\\TracknetImplementation\\Tennis-Ball-Tracking\\src\\trackers\\yolo\\videos\\Clip1_temp.mp4: 384x640 (no detections), 15.0ms\n",
      "video 1/1 (frame 198/207) c:\\Users\\jake\\dev\\IP_A2\\TracknetImplementation\\Tennis-Ball-Tracking\\src\\trackers\\yolo\\videos\\Clip1_temp.mp4: 384x640 (no detections), 18.1ms\n",
      "video 1/1 (frame 199/207) c:\\Users\\jake\\dev\\IP_A2\\TracknetImplementation\\Tennis-Ball-Tracking\\src\\trackers\\yolo\\videos\\Clip1_temp.mp4: 384x640 (no detections), 14.4ms\n",
      "video 1/1 (frame 200/207) c:\\Users\\jake\\dev\\IP_A2\\TracknetImplementation\\Tennis-Ball-Tracking\\src\\trackers\\yolo\\videos\\Clip1_temp.mp4: 384x640 1 tennis_ball, 18.0ms\n",
      "video 1/1 (frame 201/207) c:\\Users\\jake\\dev\\IP_A2\\TracknetImplementation\\Tennis-Ball-Tracking\\src\\trackers\\yolo\\videos\\Clip1_temp.mp4: 384x640 2 tennis_balls, 14.4ms\n",
      "video 1/1 (frame 202/207) c:\\Users\\jake\\dev\\IP_A2\\TracknetImplementation\\Tennis-Ball-Tracking\\src\\trackers\\yolo\\videos\\Clip1_temp.mp4: 384x640 1 tennis_ball, 18.7ms\n",
      "video 1/1 (frame 203/207) c:\\Users\\jake\\dev\\IP_A2\\TracknetImplementation\\Tennis-Ball-Tracking\\src\\trackers\\yolo\\videos\\Clip1_temp.mp4: 384x640 1 tennis_ball, 14.4ms\n",
      "video 1/1 (frame 204/207) c:\\Users\\jake\\dev\\IP_A2\\TracknetImplementation\\Tennis-Ball-Tracking\\src\\trackers\\yolo\\videos\\Clip1_temp.mp4: 384x640 1 tennis_ball, 18.0ms\n",
      "video 1/1 (frame 205/207) c:\\Users\\jake\\dev\\IP_A2\\TracknetImplementation\\Tennis-Ball-Tracking\\src\\trackers\\yolo\\videos\\Clip1_temp.mp4: 384x640 1 tennis_ball, 14.4ms\n",
      "video 1/1 (frame 206/207) c:\\Users\\jake\\dev\\IP_A2\\TracknetImplementation\\Tennis-Ball-Tracking\\src\\trackers\\yolo\\videos\\Clip1_temp.mp4: 384x640 2 tennis_balls, 14.5ms\n",
      "video 1/1 (frame 207/207) c:\\Users\\jake\\dev\\IP_A2\\TracknetImplementation\\Tennis-Ball-Tracking\\src\\trackers\\yolo\\videos\\Clip1_temp.mp4: 384x640 (no detections), 18.7ms\n",
      "Speed: 0.8ms preprocess, 9.8ms inference, 0.9ms postprocess per image at shape (1, 3, 384, 640)\n",
      "Results saved to \u001b[1mC:\\Users\\jake\\dev\\IP_A2\\TracknetImplementation\\Tennis-Ball-Tracking\\src\\trackers\\yolo\\runs\\detect\\track\u001b[0m\n"
     ]
    }
   ],
   "source": [
    "# Load Model and Test Clip paths\n",
    "model = YOLO('runs/detect/yolov8m_tennis_ballv2_150epochs/weights/best.pt')\n",
    "video_path = 'videos/Clip1.mp4'\n",
    "\n",
    "# Run tracking \n",
    "# 'persist=True' tells the tracker to remember objects between frames\n",
    "# 'save=True' will save the output video with tracking annotations\n",
    "results = model.track(\n",
    "    source=video_path,\n",
    "    show=True, \n",
    "    save=True,\n",
    "    persist=True\n",
    ")"
   ]
  },
  {
   "cell_type": "markdown",
   "id": "9d1c950d",
   "metadata": {},
   "source": [
    "## Method 2: Advanced Trajectory Visualization\n",
    "\n",
    "This section implements a more sophisticated tracking approach with custom trajectory visualization and confidence filtering.\n",
    "\n",
    "**Key Features:**\n",
    "- **Frame-to-Video Conversion**: Creates temporary video from individual frame images\n",
    "- **Confidence Thresholding**: Only tracks detections above 30% confidence\n",
    "- **Trajectory Trails**: Draws continuous path of tennis ball movement\n",
    "- **Best Detection Selection**: Chooses highest confidence detection per frame\n",
    "- **Custom Visualization**: Overlays trajectory trail on YOLO annotations\n",
    "\n",
    "**Workflow:**\n",
    "1. Convert frame images to temporary video\n",
    "2. Run YOLO tracking with streaming results\n",
    "3. Filter detections by confidence threshold\n",
    "4. Calculate ball center points for trajectory\n",
    "5. Draw cumulative trajectory trail\n",
    "6. Save final annotated video with trajectory"
   ]
  },
  {
   "cell_type": "code",
   "execution_count": null,
   "id": "c22d47e4",
   "metadata": {},
   "outputs": [
    {
     "name": "stdout",
     "output_type": "stream",
     "text": [
      "Compiling 207 frames into temporary video...\n"
     ]
    },
    {
     "name": "stderr",
     "output_type": "stream",
     "text": [
      "Compiling Video: 100%|██████████| 207/207 [00:00<00:00, 245.46it/s]\n"
     ]
    },
    {
     "name": "stdout",
     "output_type": "stream",
     "text": [
      "Temporary video compilation complete.\n",
      "Processing video and drawing trail with confidence threshold of 0.3...\n"
     ]
    },
    {
     "name": "stderr",
     "output_type": "stream",
     "text": [
      "  0%|          | 0/207 [00:00<?, ?it/s]"
     ]
    },
    {
     "name": "stdout",
     "output_type": "stream",
     "text": [
      "\n",
      "video 1/1 (frame 1/207) c:\\Users\\jake\\dev\\IP_A2\\TracknetImplementation\\Tennis-Ball-Tracking\\src\\trackers\\yolo\\videos\\Clip1.mp4: 384x640 (no detections), 48.0ms\n"
     ]
    },
    {
     "name": "stderr",
     "output_type": "stream",
     "text": [
      "  0%|          | 1/207 [00:00<00:37,  5.54it/s]"
     ]
    },
    {
     "name": "stdout",
     "output_type": "stream",
     "text": [
      "video 1/1 (frame 2/207) c:\\Users\\jake\\dev\\IP_A2\\TracknetImplementation\\Tennis-Ball-Tracking\\src\\trackers\\yolo\\videos\\Clip1.mp4: 384x640 1 tennis_ball, 45.4ms\n",
      "video 1/1 (frame 3/207) c:\\Users\\jake\\dev\\IP_A2\\TracknetImplementation\\Tennis-Ball-Tracking\\src\\trackers\\yolo\\videos\\Clip1.mp4: 384x640 (no detections), 43.9ms\n"
     ]
    },
    {
     "name": "stderr",
     "output_type": "stream",
     "text": [
      "  1%|▏         | 3/207 [00:00<00:19, 10.51it/s]"
     ]
    },
    {
     "name": "stdout",
     "output_type": "stream",
     "text": [
      "video 1/1 (frame 4/207) c:\\Users\\jake\\dev\\IP_A2\\TracknetImplementation\\Tennis-Ball-Tracking\\src\\trackers\\yolo\\videos\\Clip1.mp4: 384x640 (no detections), 31.4ms\n",
      "video 1/1 (frame 5/207) c:\\Users\\jake\\dev\\IP_A2\\TracknetImplementation\\Tennis-Ball-Tracking\\src\\trackers\\yolo\\videos\\Clip1.mp4: 384x640 1 tennis_ball, 5.8ms\n",
      "video 1/1 (frame 6/207) c:\\Users\\jake\\dev\\IP_A2\\TracknetImplementation\\Tennis-Ball-Tracking\\src\\trackers\\yolo\\videos\\Clip1.mp4: 384x640 1 tennis_ball, 6.0ms\n",
      "video 1/1 (frame 7/207) c:\\Users\\jake\\dev\\IP_A2\\TracknetImplementation\\Tennis-Ball-Tracking\\src\\trackers\\yolo\\videos\\Clip1.mp4: 384x640 1 tennis_ball, 5.9ms\n"
     ]
    },
    {
     "name": "stderr",
     "output_type": "stream",
     "text": [
      "  3%|▎         | 7/207 [00:00<00:09, 20.04it/s]"
     ]
    },
    {
     "name": "stdout",
     "output_type": "stream",
     "text": [
      "video 1/1 (frame 8/207) c:\\Users\\jake\\dev\\IP_A2\\TracknetImplementation\\Tennis-Ball-Tracking\\src\\trackers\\yolo\\videos\\Clip1.mp4: 384x640 1 tennis_ball, 6.5ms\n",
      "video 1/1 (frame 9/207) c:\\Users\\jake\\dev\\IP_A2\\TracknetImplementation\\Tennis-Ball-Tracking\\src\\trackers\\yolo\\videos\\Clip1.mp4: 384x640 1 tennis_ball, 6.0ms\n",
      "video 1/1 (frame 10/207) c:\\Users\\jake\\dev\\IP_A2\\TracknetImplementation\\Tennis-Ball-Tracking\\src\\trackers\\yolo\\videos\\Clip1.mp4: 384x640 (no detections), 5.8ms\n",
      "video 1/1 (frame 11/207) c:\\Users\\jake\\dev\\IP_A2\\TracknetImplementation\\Tennis-Ball-Tracking\\src\\trackers\\yolo\\videos\\Clip1.mp4: 384x640 (no detections), 5.8ms\n",
      "video 1/1 (frame 12/207) c:\\Users\\jake\\dev\\IP_A2\\TracknetImplementation\\Tennis-Ball-Tracking\\src\\trackers\\yolo\\videos\\Clip1.mp4: 384x640 1 tennis_ball, 5.8ms\n"
     ]
    },
    {
     "name": "stderr",
     "output_type": "stream",
     "text": [
      "  6%|▌         | 12/207 [00:00<00:06, 29.00it/s]"
     ]
    },
    {
     "name": "stdout",
     "output_type": "stream",
     "text": [
      "video 1/1 (frame 13/207) c:\\Users\\jake\\dev\\IP_A2\\TracknetImplementation\\Tennis-Ball-Tracking\\src\\trackers\\yolo\\videos\\Clip1.mp4: 384x640 1 tennis_ball, 5.9ms\n",
      "video 1/1 (frame 14/207) c:\\Users\\jake\\dev\\IP_A2\\TracknetImplementation\\Tennis-Ball-Tracking\\src\\trackers\\yolo\\videos\\Clip1.mp4: 384x640 1 tennis_ball, 5.9ms\n",
      "video 1/1 (frame 15/207) c:\\Users\\jake\\dev\\IP_A2\\TracknetImplementation\\Tennis-Ball-Tracking\\src\\trackers\\yolo\\videos\\Clip1.mp4: 384x640 1 tennis_ball, 6.3ms\n",
      "video 1/1 (frame 16/207) c:\\Users\\jake\\dev\\IP_A2\\TracknetImplementation\\Tennis-Ball-Tracking\\src\\trackers\\yolo\\videos\\Clip1.mp4: 384x640 1 tennis_ball, 6.3ms\n",
      "video 1/1 (frame 17/207) c:\\Users\\jake\\dev\\IP_A2\\TracknetImplementation\\Tennis-Ball-Tracking\\src\\trackers\\yolo\\videos\\Clip1.mp4: 384x640 1 tennis_ball, 6.0ms\n"
     ]
    },
    {
     "name": "stderr",
     "output_type": "stream",
     "text": [
      "  8%|▊         | 17/207 [00:00<00:05, 34.11it/s]"
     ]
    },
    {
     "name": "stdout",
     "output_type": "stream",
     "text": [
      "video 1/1 (frame 18/207) c:\\Users\\jake\\dev\\IP_A2\\TracknetImplementation\\Tennis-Ball-Tracking\\src\\trackers\\yolo\\videos\\Clip1.mp4: 384x640 1 tennis_ball, 5.9ms\n",
      "video 1/1 (frame 19/207) c:\\Users\\jake\\dev\\IP_A2\\TracknetImplementation\\Tennis-Ball-Tracking\\src\\trackers\\yolo\\videos\\Clip1.mp4: 384x640 1 tennis_ball, 5.9ms\n",
      "video 1/1 (frame 20/207) c:\\Users\\jake\\dev\\IP_A2\\TracknetImplementation\\Tennis-Ball-Tracking\\src\\trackers\\yolo\\videos\\Clip1.mp4: 384x640 1 tennis_ball, 5.8ms\n",
      "video 1/1 (frame 21/207) c:\\Users\\jake\\dev\\IP_A2\\TracknetImplementation\\Tennis-Ball-Tracking\\src\\trackers\\yolo\\videos\\Clip1.mp4: 384x640 1 tennis_ball, 6.1ms\n",
      "video 1/1 (frame 22/207) c:\\Users\\jake\\dev\\IP_A2\\TracknetImplementation\\Tennis-Ball-Tracking\\src\\trackers\\yolo\\videos\\Clip1.mp4: 384x640 1 tennis_ball, 6.2ms\n"
     ]
    },
    {
     "name": "stderr",
     "output_type": "stream",
     "text": [
      " 11%|█         | 22/207 [00:00<00:04, 37.68it/s]"
     ]
    },
    {
     "name": "stdout",
     "output_type": "stream",
     "text": [
      "video 1/1 (frame 23/207) c:\\Users\\jake\\dev\\IP_A2\\TracknetImplementation\\Tennis-Ball-Tracking\\src\\trackers\\yolo\\videos\\Clip1.mp4: 384x640 1 tennis_ball, 6.0ms\n",
      "video 1/1 (frame 24/207) c:\\Users\\jake\\dev\\IP_A2\\TracknetImplementation\\Tennis-Ball-Tracking\\src\\trackers\\yolo\\videos\\Clip1.mp4: 384x640 1 tennis_ball, 5.8ms\n",
      "video 1/1 (frame 25/207) c:\\Users\\jake\\dev\\IP_A2\\TracknetImplementation\\Tennis-Ball-Tracking\\src\\trackers\\yolo\\videos\\Clip1.mp4: 384x640 1 tennis_ball, 6.0ms\n",
      "video 1/1 (frame 26/207) c:\\Users\\jake\\dev\\IP_A2\\TracknetImplementation\\Tennis-Ball-Tracking\\src\\trackers\\yolo\\videos\\Clip1.mp4: 384x640 1 tennis_ball, 5.8ms\n",
      "video 1/1 (frame 27/207) c:\\Users\\jake\\dev\\IP_A2\\TracknetImplementation\\Tennis-Ball-Tracking\\src\\trackers\\yolo\\videos\\Clip1.mp4: 384x640 (no detections), 6.8ms\n"
     ]
    },
    {
     "name": "stderr",
     "output_type": "stream",
     "text": [
      " 13%|█▎        | 27/207 [00:00<00:04, 39.06it/s]"
     ]
    },
    {
     "name": "stdout",
     "output_type": "stream",
     "text": [
      "video 1/1 (frame 28/207) c:\\Users\\jake\\dev\\IP_A2\\TracknetImplementation\\Tennis-Ball-Tracking\\src\\trackers\\yolo\\videos\\Clip1.mp4: 384x640 (no detections), 6.1ms\n",
      "video 1/1 (frame 29/207) c:\\Users\\jake\\dev\\IP_A2\\TracknetImplementation\\Tennis-Ball-Tracking\\src\\trackers\\yolo\\videos\\Clip1.mp4: 384x640 1 tennis_ball, 6.5ms\n",
      "video 1/1 (frame 30/207) c:\\Users\\jake\\dev\\IP_A2\\TracknetImplementation\\Tennis-Ball-Tracking\\src\\trackers\\yolo\\videos\\Clip1.mp4: 384x640 (no detections), 6.2ms\n",
      "video 1/1 (frame 31/207) c:\\Users\\jake\\dev\\IP_A2\\TracknetImplementation\\Tennis-Ball-Tracking\\src\\trackers\\yolo\\videos\\Clip1.mp4: 384x640 (no detections), 5.9ms\n",
      "video 1/1 (frame 32/207) c:\\Users\\jake\\dev\\IP_A2\\TracknetImplementation\\Tennis-Ball-Tracking\\src\\trackers\\yolo\\videos\\Clip1.mp4: 384x640 1 tennis_ball, 6.0ms\n"
     ]
    },
    {
     "name": "stderr",
     "output_type": "stream",
     "text": [
      " 15%|█▌        | 32/207 [00:00<00:04, 41.08it/s]"
     ]
    },
    {
     "name": "stdout",
     "output_type": "stream",
     "text": [
      "video 1/1 (frame 33/207) c:\\Users\\jake\\dev\\IP_A2\\TracknetImplementation\\Tennis-Ball-Tracking\\src\\trackers\\yolo\\videos\\Clip1.mp4: 384x640 1 tennis_ball, 6.3ms\n",
      "video 1/1 (frame 34/207) c:\\Users\\jake\\dev\\IP_A2\\TracknetImplementation\\Tennis-Ball-Tracking\\src\\trackers\\yolo\\videos\\Clip1.mp4: 384x640 1 tennis_ball, 5.8ms\n",
      "video 1/1 (frame 35/207) c:\\Users\\jake\\dev\\IP_A2\\TracknetImplementation\\Tennis-Ball-Tracking\\src\\trackers\\yolo\\videos\\Clip1.mp4: 384x640 1 tennis_ball, 6.0ms\n",
      "video 1/1 (frame 36/207) c:\\Users\\jake\\dev\\IP_A2\\TracknetImplementation\\Tennis-Ball-Tracking\\src\\trackers\\yolo\\videos\\Clip1.mp4: 384x640 1 tennis_ball, 6.0ms\n",
      "video 1/1 (frame 37/207) c:\\Users\\jake\\dev\\IP_A2\\TracknetImplementation\\Tennis-Ball-Tracking\\src\\trackers\\yolo\\videos\\Clip1.mp4: 384x640 1 tennis_ball, 6.8ms\n"
     ]
    },
    {
     "name": "stderr",
     "output_type": "stream",
     "text": [
      " 18%|█▊        | 37/207 [00:01<00:04, 41.81it/s]"
     ]
    },
    {
     "name": "stdout",
     "output_type": "stream",
     "text": [
      "video 1/1 (frame 38/207) c:\\Users\\jake\\dev\\IP_A2\\TracknetImplementation\\Tennis-Ball-Tracking\\src\\trackers\\yolo\\videos\\Clip1.mp4: 384x640 1 tennis_ball, 5.9ms\n",
      "video 1/1 (frame 39/207) c:\\Users\\jake\\dev\\IP_A2\\TracknetImplementation\\Tennis-Ball-Tracking\\src\\trackers\\yolo\\videos\\Clip1.mp4: 384x640 1 tennis_ball, 5.9ms\n",
      "video 1/1 (frame 40/207) c:\\Users\\jake\\dev\\IP_A2\\TracknetImplementation\\Tennis-Ball-Tracking\\src\\trackers\\yolo\\videos\\Clip1.mp4: 384x640 1 tennis_ball, 6.0ms\n",
      "video 1/1 (frame 41/207) c:\\Users\\jake\\dev\\IP_A2\\TracknetImplementation\\Tennis-Ball-Tracking\\src\\trackers\\yolo\\videos\\Clip1.mp4: 384x640 2 tennis_balls, 5.8ms\n",
      "video 1/1 (frame 42/207) c:\\Users\\jake\\dev\\IP_A2\\TracknetImplementation\\Tennis-Ball-Tracking\\src\\trackers\\yolo\\videos\\Clip1.mp4: 384x640 3 tennis_balls, 5.9ms\n"
     ]
    },
    {
     "name": "stderr",
     "output_type": "stream",
     "text": [
      " 20%|██        | 42/207 [00:01<00:03, 42.49it/s]"
     ]
    },
    {
     "name": "stdout",
     "output_type": "stream",
     "text": [
      "video 1/1 (frame 43/207) c:\\Users\\jake\\dev\\IP_A2\\TracknetImplementation\\Tennis-Ball-Tracking\\src\\trackers\\yolo\\videos\\Clip1.mp4: 384x640 3 tennis_balls, 5.8ms\n",
      "video 1/1 (frame 44/207) c:\\Users\\jake\\dev\\IP_A2\\TracknetImplementation\\Tennis-Ball-Tracking\\src\\trackers\\yolo\\videos\\Clip1.mp4: 384x640 1 tennis_ball, 6.2ms\n",
      "video 1/1 (frame 45/207) c:\\Users\\jake\\dev\\IP_A2\\TracknetImplementation\\Tennis-Ball-Tracking\\src\\trackers\\yolo\\videos\\Clip1.mp4: 384x640 1 tennis_ball, 5.8ms\n",
      "video 1/1 (frame 46/207) c:\\Users\\jake\\dev\\IP_A2\\TracknetImplementation\\Tennis-Ball-Tracking\\src\\trackers\\yolo\\videos\\Clip1.mp4: 384x640 (no detections), 6.0ms\n",
      "video 1/1 (frame 47/207) c:\\Users\\jake\\dev\\IP_A2\\TracknetImplementation\\Tennis-Ball-Tracking\\src\\trackers\\yolo\\videos\\Clip1.mp4: 384x640 (no detections), 5.9ms\n"
     ]
    },
    {
     "name": "stderr",
     "output_type": "stream",
     "text": [
      " 23%|██▎       | 47/207 [00:01<00:03, 43.37it/s]"
     ]
    },
    {
     "name": "stdout",
     "output_type": "stream",
     "text": [
      "video 1/1 (frame 48/207) c:\\Users\\jake\\dev\\IP_A2\\TracknetImplementation\\Tennis-Ball-Tracking\\src\\trackers\\yolo\\videos\\Clip1.mp4: 384x640 (no detections), 5.9ms\n",
      "video 1/1 (frame 49/207) c:\\Users\\jake\\dev\\IP_A2\\TracknetImplementation\\Tennis-Ball-Tracking\\src\\trackers\\yolo\\videos\\Clip1.mp4: 384x640 1 tennis_ball, 5.9ms\n",
      "video 1/1 (frame 50/207) c:\\Users\\jake\\dev\\IP_A2\\TracknetImplementation\\Tennis-Ball-Tracking\\src\\trackers\\yolo\\videos\\Clip1.mp4: 384x640 1 tennis_ball, 6.1ms\n",
      "video 1/1 (frame 51/207) c:\\Users\\jake\\dev\\IP_A2\\TracknetImplementation\\Tennis-Ball-Tracking\\src\\trackers\\yolo\\videos\\Clip1.mp4: 384x640 1 tennis_ball, 6.2ms\n",
      "video 1/1 (frame 52/207) c:\\Users\\jake\\dev\\IP_A2\\TracknetImplementation\\Tennis-Ball-Tracking\\src\\trackers\\yolo\\videos\\Clip1.mp4: 384x640 1 tennis_ball, 6.0ms\n"
     ]
    },
    {
     "name": "stderr",
     "output_type": "stream",
     "text": [
      " 25%|██▌       | 52/207 [00:01<00:03, 43.51it/s]"
     ]
    },
    {
     "name": "stdout",
     "output_type": "stream",
     "text": [
      "video 1/1 (frame 53/207) c:\\Users\\jake\\dev\\IP_A2\\TracknetImplementation\\Tennis-Ball-Tracking\\src\\trackers\\yolo\\videos\\Clip1.mp4: 384x640 1 tennis_ball, 5.9ms\n",
      "video 1/1 (frame 54/207) c:\\Users\\jake\\dev\\IP_A2\\TracknetImplementation\\Tennis-Ball-Tracking\\src\\trackers\\yolo\\videos\\Clip1.mp4: 384x640 (no detections), 6.8ms\n",
      "video 1/1 (frame 55/207) c:\\Users\\jake\\dev\\IP_A2\\TracknetImplementation\\Tennis-Ball-Tracking\\src\\trackers\\yolo\\videos\\Clip1.mp4: 384x640 1 tennis_ball, 6.8ms\n",
      "video 1/1 (frame 56/207) c:\\Users\\jake\\dev\\IP_A2\\TracknetImplementation\\Tennis-Ball-Tracking\\src\\trackers\\yolo\\videos\\Clip1.mp4: 384x640 2 tennis_balls, 6.7ms\n",
      "video 1/1 (frame 57/207) c:\\Users\\jake\\dev\\IP_A2\\TracknetImplementation\\Tennis-Ball-Tracking\\src\\trackers\\yolo\\videos\\Clip1.mp4: 384x640 1 tennis_ball, 6.0ms\n"
     ]
    },
    {
     "name": "stderr",
     "output_type": "stream",
     "text": [
      " 28%|██▊       | 57/207 [00:01<00:03, 42.87it/s]"
     ]
    },
    {
     "name": "stdout",
     "output_type": "stream",
     "text": [
      "video 1/1 (frame 58/207) c:\\Users\\jake\\dev\\IP_A2\\TracknetImplementation\\Tennis-Ball-Tracking\\src\\trackers\\yolo\\videos\\Clip1.mp4: 384x640 1 tennis_ball, 5.8ms\n",
      "video 1/1 (frame 59/207) c:\\Users\\jake\\dev\\IP_A2\\TracknetImplementation\\Tennis-Ball-Tracking\\src\\trackers\\yolo\\videos\\Clip1.mp4: 384x640 1 tennis_ball, 5.9ms\n",
      "video 1/1 (frame 60/207) c:\\Users\\jake\\dev\\IP_A2\\TracknetImplementation\\Tennis-Ball-Tracking\\src\\trackers\\yolo\\videos\\Clip1.mp4: 384x640 1 tennis_ball, 5.8ms\n",
      "video 1/1 (frame 61/207) c:\\Users\\jake\\dev\\IP_A2\\TracknetImplementation\\Tennis-Ball-Tracking\\src\\trackers\\yolo\\videos\\Clip1.mp4: 384x640 1 tennis_ball, 5.9ms\n",
      "video 1/1 (frame 62/207) c:\\Users\\jake\\dev\\IP_A2\\TracknetImplementation\\Tennis-Ball-Tracking\\src\\trackers\\yolo\\videos\\Clip1.mp4: 384x640 (no detections), 5.8ms\n"
     ]
    },
    {
     "name": "stderr",
     "output_type": "stream",
     "text": [
      " 30%|██▉       | 62/207 [00:01<00:03, 43.16it/s]"
     ]
    },
    {
     "name": "stdout",
     "output_type": "stream",
     "text": [
      "video 1/1 (frame 63/207) c:\\Users\\jake\\dev\\IP_A2\\TracknetImplementation\\Tennis-Ball-Tracking\\src\\trackers\\yolo\\videos\\Clip1.mp4: 384x640 1 tennis_ball, 6.3ms\n",
      "video 1/1 (frame 64/207) c:\\Users\\jake\\dev\\IP_A2\\TracknetImplementation\\Tennis-Ball-Tracking\\src\\trackers\\yolo\\videos\\Clip1.mp4: 384x640 (no detections), 6.0ms\n",
      "video 1/1 (frame 65/207) c:\\Users\\jake\\dev\\IP_A2\\TracknetImplementation\\Tennis-Ball-Tracking\\src\\trackers\\yolo\\videos\\Clip1.mp4: 384x640 1 tennis_ball, 5.9ms\n",
      "video 1/1 (frame 66/207) c:\\Users\\jake\\dev\\IP_A2\\TracknetImplementation\\Tennis-Ball-Tracking\\src\\trackers\\yolo\\videos\\Clip1.mp4: 384x640 1 tennis_ball, 5.8ms\n",
      "video 1/1 (frame 67/207) c:\\Users\\jake\\dev\\IP_A2\\TracknetImplementation\\Tennis-Ball-Tracking\\src\\trackers\\yolo\\videos\\Clip1.mp4: 384x640 1 tennis_ball, 5.8ms\n"
     ]
    },
    {
     "name": "stderr",
     "output_type": "stream",
     "text": [
      " 32%|███▏      | 67/207 [00:01<00:03, 43.65it/s]"
     ]
    },
    {
     "name": "stdout",
     "output_type": "stream",
     "text": [
      "video 1/1 (frame 68/207) c:\\Users\\jake\\dev\\IP_A2\\TracknetImplementation\\Tennis-Ball-Tracking\\src\\trackers\\yolo\\videos\\Clip1.mp4: 384x640 2 tennis_balls, 5.9ms\n",
      "video 1/1 (frame 69/207) c:\\Users\\jake\\dev\\IP_A2\\TracknetImplementation\\Tennis-Ball-Tracking\\src\\trackers\\yolo\\videos\\Clip1.mp4: 384x640 3 tennis_balls, 5.8ms\n",
      "video 1/1 (frame 70/207) c:\\Users\\jake\\dev\\IP_A2\\TracknetImplementation\\Tennis-Ball-Tracking\\src\\trackers\\yolo\\videos\\Clip1.mp4: 384x640 2 tennis_balls, 6.3ms\n",
      "video 1/1 (frame 71/207) c:\\Users\\jake\\dev\\IP_A2\\TracknetImplementation\\Tennis-Ball-Tracking\\src\\trackers\\yolo\\videos\\Clip1.mp4: 384x640 2 tennis_balls, 5.8ms\n",
      "video 1/1 (frame 72/207) c:\\Users\\jake\\dev\\IP_A2\\TracknetImplementation\\Tennis-Ball-Tracking\\src\\trackers\\yolo\\videos\\Clip1.mp4: 384x640 1 tennis_ball, 6.3ms\n"
     ]
    },
    {
     "name": "stderr",
     "output_type": "stream",
     "text": [
      " 35%|███▍      | 72/207 [00:01<00:03, 43.42it/s]"
     ]
    },
    {
     "name": "stdout",
     "output_type": "stream",
     "text": [
      "video 1/1 (frame 73/207) c:\\Users\\jake\\dev\\IP_A2\\TracknetImplementation\\Tennis-Ball-Tracking\\src\\trackers\\yolo\\videos\\Clip1.mp4: 384x640 3 tennis_balls, 5.8ms\n",
      "video 1/1 (frame 74/207) c:\\Users\\jake\\dev\\IP_A2\\TracknetImplementation\\Tennis-Ball-Tracking\\src\\trackers\\yolo\\videos\\Clip1.mp4: 384x640 (no detections), 6.0ms\n",
      "video 1/1 (frame 75/207) c:\\Users\\jake\\dev\\IP_A2\\TracknetImplementation\\Tennis-Ball-Tracking\\src\\trackers\\yolo\\videos\\Clip1.mp4: 384x640 (no detections), 6.0ms\n",
      "video 1/1 (frame 76/207) c:\\Users\\jake\\dev\\IP_A2\\TracknetImplementation\\Tennis-Ball-Tracking\\src\\trackers\\yolo\\videos\\Clip1.mp4: 384x640 (no detections), 6.6ms\n",
      "video 1/1 (frame 77/207) c:\\Users\\jake\\dev\\IP_A2\\TracknetImplementation\\Tennis-Ball-Tracking\\src\\trackers\\yolo\\videos\\Clip1.mp4: 384x640 (no detections), 6.0ms\n"
     ]
    },
    {
     "name": "stderr",
     "output_type": "stream",
     "text": [
      " 37%|███▋      | 77/207 [00:02<00:02, 43.85it/s]"
     ]
    },
    {
     "name": "stdout",
     "output_type": "stream",
     "text": [
      "video 1/1 (frame 78/207) c:\\Users\\jake\\dev\\IP_A2\\TracknetImplementation\\Tennis-Ball-Tracking\\src\\trackers\\yolo\\videos\\Clip1.mp4: 384x640 (no detections), 6.3ms\n",
      "video 1/1 (frame 79/207) c:\\Users\\jake\\dev\\IP_A2\\TracknetImplementation\\Tennis-Ball-Tracking\\src\\trackers\\yolo\\videos\\Clip1.mp4: 384x640 (no detections), 8.9ms\n",
      "video 1/1 (frame 80/207) c:\\Users\\jake\\dev\\IP_A2\\TracknetImplementation\\Tennis-Ball-Tracking\\src\\trackers\\yolo\\videos\\Clip1.mp4: 384x640 (no detections), 6.4ms\n",
      "video 1/1 (frame 81/207) c:\\Users\\jake\\dev\\IP_A2\\TracknetImplementation\\Tennis-Ball-Tracking\\src\\trackers\\yolo\\videos\\Clip1.mp4: 384x640 (no detections), 6.8ms\n",
      "video 1/1 (frame 82/207) c:\\Users\\jake\\dev\\IP_A2\\TracknetImplementation\\Tennis-Ball-Tracking\\src\\trackers\\yolo\\videos\\Clip1.mp4: 384x640 1 tennis_ball, 6.1ms\n"
     ]
    },
    {
     "name": "stderr",
     "output_type": "stream",
     "text": [
      " 40%|███▉      | 82/207 [00:02<00:02, 42.64it/s]"
     ]
    },
    {
     "name": "stdout",
     "output_type": "stream",
     "text": [
      "video 1/1 (frame 83/207) c:\\Users\\jake\\dev\\IP_A2\\TracknetImplementation\\Tennis-Ball-Tracking\\src\\trackers\\yolo\\videos\\Clip1.mp4: 384x640 1 tennis_ball, 6.8ms\n",
      "video 1/1 (frame 84/207) c:\\Users\\jake\\dev\\IP_A2\\TracknetImplementation\\Tennis-Ball-Tracking\\src\\trackers\\yolo\\videos\\Clip1.mp4: 384x640 (no detections), 6.8ms\n",
      "video 1/1 (frame 85/207) c:\\Users\\jake\\dev\\IP_A2\\TracknetImplementation\\Tennis-Ball-Tracking\\src\\trackers\\yolo\\videos\\Clip1.mp4: 384x640 (no detections), 7.0ms\n",
      "video 1/1 (frame 86/207) c:\\Users\\jake\\dev\\IP_A2\\TracknetImplementation\\Tennis-Ball-Tracking\\src\\trackers\\yolo\\videos\\Clip1.mp4: 384x640 1 tennis_ball, 8.1ms\n",
      "video 1/1 (frame 87/207) c:\\Users\\jake\\dev\\IP_A2\\TracknetImplementation\\Tennis-Ball-Tracking\\src\\trackers\\yolo\\videos\\Clip1.mp4: 384x640 3 tennis_balls, 6.7ms\n"
     ]
    },
    {
     "name": "stderr",
     "output_type": "stream",
     "text": [
      " 42%|████▏     | 87/207 [00:02<00:02, 42.74it/s]"
     ]
    },
    {
     "name": "stdout",
     "output_type": "stream",
     "text": [
      "video 1/1 (frame 88/207) c:\\Users\\jake\\dev\\IP_A2\\TracknetImplementation\\Tennis-Ball-Tracking\\src\\trackers\\yolo\\videos\\Clip1.mp4: 384x640 (no detections), 6.8ms\n",
      "video 1/1 (frame 89/207) c:\\Users\\jake\\dev\\IP_A2\\TracknetImplementation\\Tennis-Ball-Tracking\\src\\trackers\\yolo\\videos\\Clip1.mp4: 384x640 1 tennis_ball, 6.8ms\n",
      "video 1/1 (frame 90/207) c:\\Users\\jake\\dev\\IP_A2\\TracknetImplementation\\Tennis-Ball-Tracking\\src\\trackers\\yolo\\videos\\Clip1.mp4: 384x640 1 tennis_ball, 8.0ms\n",
      "video 1/1 (frame 91/207) c:\\Users\\jake\\dev\\IP_A2\\TracknetImplementation\\Tennis-Ball-Tracking\\src\\trackers\\yolo\\videos\\Clip1.mp4: 384x640 1 tennis_ball, 6.8ms\n",
      "video 1/1 (frame 92/207) c:\\Users\\jake\\dev\\IP_A2\\TracknetImplementation\\Tennis-Ball-Tracking\\src\\trackers\\yolo\\videos\\Clip1.mp4: 384x640 1 tennis_ball, 6.8ms\n"
     ]
    },
    {
     "name": "stderr",
     "output_type": "stream",
     "text": [
      " 44%|████▍     | 92/207 [00:02<00:02, 42.96it/s]"
     ]
    },
    {
     "name": "stdout",
     "output_type": "stream",
     "text": [
      "video 1/1 (frame 93/207) c:\\Users\\jake\\dev\\IP_A2\\TracknetImplementation\\Tennis-Ball-Tracking\\src\\trackers\\yolo\\videos\\Clip1.mp4: 384x640 1 tennis_ball, 6.9ms\n",
      "video 1/1 (frame 94/207) c:\\Users\\jake\\dev\\IP_A2\\TracknetImplementation\\Tennis-Ball-Tracking\\src\\trackers\\yolo\\videos\\Clip1.mp4: 384x640 1 tennis_ball, 7.9ms\n",
      "video 1/1 (frame 95/207) c:\\Users\\jake\\dev\\IP_A2\\TracknetImplementation\\Tennis-Ball-Tracking\\src\\trackers\\yolo\\videos\\Clip1.mp4: 384x640 1 tennis_ball, 6.9ms\n",
      "video 1/1 (frame 96/207) c:\\Users\\jake\\dev\\IP_A2\\TracknetImplementation\\Tennis-Ball-Tracking\\src\\trackers\\yolo\\videos\\Clip1.mp4: 384x640 1 tennis_ball, 6.8ms\n",
      "video 1/1 (frame 97/207) c:\\Users\\jake\\dev\\IP_A2\\TracknetImplementation\\Tennis-Ball-Tracking\\src\\trackers\\yolo\\videos\\Clip1.mp4: 384x640 1 tennis_ball, 6.8ms\n"
     ]
    },
    {
     "name": "stderr",
     "output_type": "stream",
     "text": [
      " 47%|████▋     | 97/207 [00:02<00:02, 42.64it/s]"
     ]
    },
    {
     "name": "stdout",
     "output_type": "stream",
     "text": [
      "video 1/1 (frame 98/207) c:\\Users\\jake\\dev\\IP_A2\\TracknetImplementation\\Tennis-Ball-Tracking\\src\\trackers\\yolo\\videos\\Clip1.mp4: 384x640 1 tennis_ball, 7.5ms\n",
      "video 1/1 (frame 99/207) c:\\Users\\jake\\dev\\IP_A2\\TracknetImplementation\\Tennis-Ball-Tracking\\src\\trackers\\yolo\\videos\\Clip1.mp4: 384x640 1 tennis_ball, 6.9ms\n",
      "video 1/1 (frame 100/207) c:\\Users\\jake\\dev\\IP_A2\\TracknetImplementation\\Tennis-Ball-Tracking\\src\\trackers\\yolo\\videos\\Clip1.mp4: 384x640 1 tennis_ball, 6.9ms\n",
      "video 1/1 (frame 101/207) c:\\Users\\jake\\dev\\IP_A2\\TracknetImplementation\\Tennis-Ball-Tracking\\src\\trackers\\yolo\\videos\\Clip1.mp4: 384x640 1 tennis_ball, 6.9ms\n",
      "video 1/1 (frame 102/207) c:\\Users\\jake\\dev\\IP_A2\\TracknetImplementation\\Tennis-Ball-Tracking\\src\\trackers\\yolo\\videos\\Clip1.mp4: 384x640 1 tennis_ball, 7.3ms\n"
     ]
    },
    {
     "name": "stderr",
     "output_type": "stream",
     "text": [
      " 49%|████▉     | 102/207 [00:02<00:02, 42.46it/s]"
     ]
    },
    {
     "name": "stdout",
     "output_type": "stream",
     "text": [
      "video 1/1 (frame 103/207) c:\\Users\\jake\\dev\\IP_A2\\TracknetImplementation\\Tennis-Ball-Tracking\\src\\trackers\\yolo\\videos\\Clip1.mp4: 384x640 1 tennis_ball, 8.0ms\n",
      "video 1/1 (frame 104/207) c:\\Users\\jake\\dev\\IP_A2\\TracknetImplementation\\Tennis-Ball-Tracking\\src\\trackers\\yolo\\videos\\Clip1.mp4: 384x640 1 tennis_ball, 8.3ms\n",
      "video 1/1 (frame 105/207) c:\\Users\\jake\\dev\\IP_A2\\TracknetImplementation\\Tennis-Ball-Tracking\\src\\trackers\\yolo\\videos\\Clip1.mp4: 384x640 1 tennis_ball, 7.4ms\n",
      "video 1/1 (frame 106/207) c:\\Users\\jake\\dev\\IP_A2\\TracknetImplementation\\Tennis-Ball-Tracking\\src\\trackers\\yolo\\videos\\Clip1.mp4: 384x640 1 tennis_ball, 6.9ms\n",
      "video 1/1 (frame 107/207) c:\\Users\\jake\\dev\\IP_A2\\TracknetImplementation\\Tennis-Ball-Tracking\\src\\trackers\\yolo\\videos\\Clip1.mp4: 384x640 1 tennis_ball, 7.5ms\n"
     ]
    },
    {
     "name": "stderr",
     "output_type": "stream",
     "text": [
      " 52%|█████▏    | 107/207 [00:02<00:02, 41.64it/s]"
     ]
    },
    {
     "name": "stdout",
     "output_type": "stream",
     "text": [
      "video 1/1 (frame 108/207) c:\\Users\\jake\\dev\\IP_A2\\TracknetImplementation\\Tennis-Ball-Tracking\\src\\trackers\\yolo\\videos\\Clip1.mp4: 384x640 1 tennis_ball, 8.0ms\n",
      "video 1/1 (frame 109/207) c:\\Users\\jake\\dev\\IP_A2\\TracknetImplementation\\Tennis-Ball-Tracking\\src\\trackers\\yolo\\videos\\Clip1.mp4: 384x640 1 tennis_ball, 7.1ms\n",
      "video 1/1 (frame 110/207) c:\\Users\\jake\\dev\\IP_A2\\TracknetImplementation\\Tennis-Ball-Tracking\\src\\trackers\\yolo\\videos\\Clip1.mp4: 384x640 2 tennis_balls, 7.0ms\n",
      "video 1/1 (frame 111/207) c:\\Users\\jake\\dev\\IP_A2\\TracknetImplementation\\Tennis-Ball-Tracking\\src\\trackers\\yolo\\videos\\Clip1.mp4: 384x640 1 tennis_ball, 7.0ms\n",
      "video 1/1 (frame 112/207) c:\\Users\\jake\\dev\\IP_A2\\TracknetImplementation\\Tennis-Ball-Tracking\\src\\trackers\\yolo\\videos\\Clip1.mp4: 384x640 1 tennis_ball, 8.2ms\n"
     ]
    },
    {
     "name": "stderr",
     "output_type": "stream",
     "text": [
      " 54%|█████▍    | 112/207 [00:02<00:02, 41.49it/s]"
     ]
    },
    {
     "name": "stdout",
     "output_type": "stream",
     "text": [
      "video 1/1 (frame 113/207) c:\\Users\\jake\\dev\\IP_A2\\TracknetImplementation\\Tennis-Ball-Tracking\\src\\trackers\\yolo\\videos\\Clip1.mp4: 384x640 1 tennis_ball, 7.0ms\n",
      "video 1/1 (frame 114/207) c:\\Users\\jake\\dev\\IP_A2\\TracknetImplementation\\Tennis-Ball-Tracking\\src\\trackers\\yolo\\videos\\Clip1.mp4: 384x640 1 tennis_ball, 7.0ms\n",
      "video 1/1 (frame 115/207) c:\\Users\\jake\\dev\\IP_A2\\TracknetImplementation\\Tennis-Ball-Tracking\\src\\trackers\\yolo\\videos\\Clip1.mp4: 384x640 1 tennis_ball, 7.0ms\n",
      "video 1/1 (frame 116/207) c:\\Users\\jake\\dev\\IP_A2\\TracknetImplementation\\Tennis-Ball-Tracking\\src\\trackers\\yolo\\videos\\Clip1.mp4: 384x640 (no detections), 7.4ms\n",
      "video 1/1 (frame 117/207) c:\\Users\\jake\\dev\\IP_A2\\TracknetImplementation\\Tennis-Ball-Tracking\\src\\trackers\\yolo\\videos\\Clip1.mp4: 384x640 1 tennis_ball, 7.1ms\n"
     ]
    },
    {
     "name": "stderr",
     "output_type": "stream",
     "text": [
      " 57%|█████▋    | 117/207 [00:02<00:02, 41.62it/s]"
     ]
    },
    {
     "name": "stdout",
     "output_type": "stream",
     "text": [
      "video 1/1 (frame 118/207) c:\\Users\\jake\\dev\\IP_A2\\TracknetImplementation\\Tennis-Ball-Tracking\\src\\trackers\\yolo\\videos\\Clip1.mp4: 384x640 1 tennis_ball, 7.1ms\n",
      "video 1/1 (frame 119/207) c:\\Users\\jake\\dev\\IP_A2\\TracknetImplementation\\Tennis-Ball-Tracking\\src\\trackers\\yolo\\videos\\Clip1.mp4: 384x640 2 tennis_balls, 7.1ms\n",
      "video 1/1 (frame 120/207) c:\\Users\\jake\\dev\\IP_A2\\TracknetImplementation\\Tennis-Ball-Tracking\\src\\trackers\\yolo\\videos\\Clip1.mp4: 384x640 1 tennis_ball, 7.4ms\n",
      "video 1/1 (frame 121/207) c:\\Users\\jake\\dev\\IP_A2\\TracknetImplementation\\Tennis-Ball-Tracking\\src\\trackers\\yolo\\videos\\Clip1.mp4: 384x640 1 tennis_ball, 8.7ms\n",
      "video 1/1 (frame 122/207) c:\\Users\\jake\\dev\\IP_A2\\TracknetImplementation\\Tennis-Ball-Tracking\\src\\trackers\\yolo\\videos\\Clip1.mp4: 384x640 (no detections), 7.2ms\n"
     ]
    },
    {
     "name": "stderr",
     "output_type": "stream",
     "text": [
      " 59%|█████▉    | 122/207 [00:03<00:02, 41.28it/s]"
     ]
    },
    {
     "name": "stdout",
     "output_type": "stream",
     "text": [
      "video 1/1 (frame 123/207) c:\\Users\\jake\\dev\\IP_A2\\TracknetImplementation\\Tennis-Ball-Tracking\\src\\trackers\\yolo\\videos\\Clip1.mp4: 384x640 1 tennis_ball, 7.1ms\n",
      "video 1/1 (frame 124/207) c:\\Users\\jake\\dev\\IP_A2\\TracknetImplementation\\Tennis-Ball-Tracking\\src\\trackers\\yolo\\videos\\Clip1.mp4: 384x640 1 tennis_ball, 7.1ms\n",
      "video 1/1 (frame 125/207) c:\\Users\\jake\\dev\\IP_A2\\TracknetImplementation\\Tennis-Ball-Tracking\\src\\trackers\\yolo\\videos\\Clip1.mp4: 384x640 1 tennis_ball, 8.2ms\n",
      "video 1/1 (frame 126/207) c:\\Users\\jake\\dev\\IP_A2\\TracknetImplementation\\Tennis-Ball-Tracking\\src\\trackers\\yolo\\videos\\Clip1.mp4: 384x640 1 tennis_ball, 7.9ms\n",
      "video 1/1 (frame 127/207) c:\\Users\\jake\\dev\\IP_A2\\TracknetImplementation\\Tennis-Ball-Tracking\\src\\trackers\\yolo\\videos\\Clip1.mp4: 384x640 (no detections), 7.2ms\n"
     ]
    },
    {
     "name": "stderr",
     "output_type": "stream",
     "text": [
      " 61%|██████▏   | 127/207 [00:03<00:01, 41.18it/s]"
     ]
    },
    {
     "name": "stdout",
     "output_type": "stream",
     "text": [
      "video 1/1 (frame 128/207) c:\\Users\\jake\\dev\\IP_A2\\TracknetImplementation\\Tennis-Ball-Tracking\\src\\trackers\\yolo\\videos\\Clip1.mp4: 384x640 2 tennis_balls, 7.3ms\n",
      "video 1/1 (frame 129/207) c:\\Users\\jake\\dev\\IP_A2\\TracknetImplementation\\Tennis-Ball-Tracking\\src\\trackers\\yolo\\videos\\Clip1.mp4: 384x640 1 tennis_ball, 7.3ms\n",
      "video 1/1 (frame 130/207) c:\\Users\\jake\\dev\\IP_A2\\TracknetImplementation\\Tennis-Ball-Tracking\\src\\trackers\\yolo\\videos\\Clip1.mp4: 384x640 1 tennis_ball, 8.3ms\n",
      "video 1/1 (frame 131/207) c:\\Users\\jake\\dev\\IP_A2\\TracknetImplementation\\Tennis-Ball-Tracking\\src\\trackers\\yolo\\videos\\Clip1.mp4: 384x640 1 tennis_ball, 7.9ms\n",
      "video 1/1 (frame 132/207) c:\\Users\\jake\\dev\\IP_A2\\TracknetImplementation\\Tennis-Ball-Tracking\\src\\trackers\\yolo\\videos\\Clip1.mp4: 384x640 1 tennis_ball, 7.2ms\n"
     ]
    },
    {
     "name": "stderr",
     "output_type": "stream",
     "text": [
      " 64%|██████▍   | 132/207 [00:03<00:01, 40.95it/s]"
     ]
    },
    {
     "name": "stdout",
     "output_type": "stream",
     "text": [
      "video 1/1 (frame 133/207) c:\\Users\\jake\\dev\\IP_A2\\TracknetImplementation\\Tennis-Ball-Tracking\\src\\trackers\\yolo\\videos\\Clip1.mp4: 384x640 1 tennis_ball, 7.4ms\n",
      "video 1/1 (frame 134/207) c:\\Users\\jake\\dev\\IP_A2\\TracknetImplementation\\Tennis-Ball-Tracking\\src\\trackers\\yolo\\videos\\Clip1.mp4: 384x640 1 tennis_ball, 7.3ms\n",
      "video 1/1 (frame 135/207) c:\\Users\\jake\\dev\\IP_A2\\TracknetImplementation\\Tennis-Ball-Tracking\\src\\trackers\\yolo\\videos\\Clip1.mp4: 384x640 1 tennis_ball, 8.2ms\n",
      "video 1/1 (frame 136/207) c:\\Users\\jake\\dev\\IP_A2\\TracknetImplementation\\Tennis-Ball-Tracking\\src\\trackers\\yolo\\videos\\Clip1.mp4: 384x640 1 tennis_ball, 8.1ms\n",
      "video 1/1 (frame 137/207) c:\\Users\\jake\\dev\\IP_A2\\TracknetImplementation\\Tennis-Ball-Tracking\\src\\trackers\\yolo\\videos\\Clip1.mp4: 384x640 1 tennis_ball, 7.3ms\n"
     ]
    },
    {
     "name": "stderr",
     "output_type": "stream",
     "text": [
      " 66%|██████▌   | 137/207 [00:03<00:01, 40.39it/s]"
     ]
    },
    {
     "name": "stdout",
     "output_type": "stream",
     "text": [
      "video 1/1 (frame 138/207) c:\\Users\\jake\\dev\\IP_A2\\TracknetImplementation\\Tennis-Ball-Tracking\\src\\trackers\\yolo\\videos\\Clip1.mp4: 384x640 1 tennis_ball, 7.4ms\n",
      "video 1/1 (frame 139/207) c:\\Users\\jake\\dev\\IP_A2\\TracknetImplementation\\Tennis-Ball-Tracking\\src\\trackers\\yolo\\videos\\Clip1.mp4: 384x640 2 tennis_balls, 7.3ms\n",
      "video 1/1 (frame 140/207) c:\\Users\\jake\\dev\\IP_A2\\TracknetImplementation\\Tennis-Ball-Tracking\\src\\trackers\\yolo\\videos\\Clip1.mp4: 384x640 1 tennis_ball, 8.7ms\n",
      "video 1/1 (frame 141/207) c:\\Users\\jake\\dev\\IP_A2\\TracknetImplementation\\Tennis-Ball-Tracking\\src\\trackers\\yolo\\videos\\Clip1.mp4: 384x640 1 tennis_ball, 8.4ms\n",
      "video 1/1 (frame 142/207) c:\\Users\\jake\\dev\\IP_A2\\TracknetImplementation\\Tennis-Ball-Tracking\\src\\trackers\\yolo\\videos\\Clip1.mp4: 384x640 (no detections), 7.4ms\n"
     ]
    },
    {
     "name": "stderr",
     "output_type": "stream",
     "text": [
      " 69%|██████▊   | 142/207 [00:03<00:01, 40.41it/s]"
     ]
    },
    {
     "name": "stdout",
     "output_type": "stream",
     "text": [
      "video 1/1 (frame 143/207) c:\\Users\\jake\\dev\\IP_A2\\TracknetImplementation\\Tennis-Ball-Tracking\\src\\trackers\\yolo\\videos\\Clip1.mp4: 384x640 (no detections), 7.4ms\n",
      "video 1/1 (frame 144/207) c:\\Users\\jake\\dev\\IP_A2\\TracknetImplementation\\Tennis-Ball-Tracking\\src\\trackers\\yolo\\videos\\Clip1.mp4: 384x640 1 tennis_ball, 7.8ms\n",
      "video 1/1 (frame 145/207) c:\\Users\\jake\\dev\\IP_A2\\TracknetImplementation\\Tennis-Ball-Tracking\\src\\trackers\\yolo\\videos\\Clip1.mp4: 384x640 1 tennis_ball, 8.3ms\n",
      "video 1/1 (frame 146/207) c:\\Users\\jake\\dev\\IP_A2\\TracknetImplementation\\Tennis-Ball-Tracking\\src\\trackers\\yolo\\videos\\Clip1.mp4: 384x640 1 tennis_ball, 7.5ms\n",
      "video 1/1 (frame 147/207) c:\\Users\\jake\\dev\\IP_A2\\TracknetImplementation\\Tennis-Ball-Tracking\\src\\trackers\\yolo\\videos\\Clip1.mp4: 384x640 1 tennis_ball, 7.4ms\n"
     ]
    },
    {
     "name": "stderr",
     "output_type": "stream",
     "text": [
      " 71%|███████   | 147/207 [00:03<00:01, 40.56it/s]"
     ]
    },
    {
     "name": "stdout",
     "output_type": "stream",
     "text": [
      "video 1/1 (frame 148/207) c:\\Users\\jake\\dev\\IP_A2\\TracknetImplementation\\Tennis-Ball-Tracking\\src\\trackers\\yolo\\videos\\Clip1.mp4: 384x640 (no detections), 7.4ms\n",
      "video 1/1 (frame 149/207) c:\\Users\\jake\\dev\\IP_A2\\TracknetImplementation\\Tennis-Ball-Tracking\\src\\trackers\\yolo\\videos\\Clip1.mp4: 384x640 1 tennis_ball, 8.6ms\n",
      "video 1/1 (frame 150/207) c:\\Users\\jake\\dev\\IP_A2\\TracknetImplementation\\Tennis-Ball-Tracking\\src\\trackers\\yolo\\videos\\Clip1.mp4: 384x640 1 tennis_ball, 8.7ms\n",
      "video 1/1 (frame 151/207) c:\\Users\\jake\\dev\\IP_A2\\TracknetImplementation\\Tennis-Ball-Tracking\\src\\trackers\\yolo\\videos\\Clip1.mp4: 384x640 1 tennis_ball, 8.2ms\n",
      "video 1/1 (frame 152/207) c:\\Users\\jake\\dev\\IP_A2\\TracknetImplementation\\Tennis-Ball-Tracking\\src\\trackers\\yolo\\videos\\Clip1.mp4: 384x640 1 tennis_ball, 7.5ms\n"
     ]
    },
    {
     "name": "stderr",
     "output_type": "stream",
     "text": [
      " 73%|███████▎  | 152/207 [00:03<00:01, 39.97it/s]"
     ]
    },
    {
     "name": "stdout",
     "output_type": "stream",
     "text": [
      "video 1/1 (frame 153/207) c:\\Users\\jake\\dev\\IP_A2\\TracknetImplementation\\Tennis-Ball-Tracking\\src\\trackers\\yolo\\videos\\Clip1.mp4: 384x640 1 tennis_ball, 7.5ms\n",
      "video 1/1 (frame 154/207) c:\\Users\\jake\\dev\\IP_A2\\TracknetImplementation\\Tennis-Ball-Tracking\\src\\trackers\\yolo\\videos\\Clip1.mp4: 384x640 1 tennis_ball, 7.5ms\n",
      "video 1/1 (frame 155/207) c:\\Users\\jake\\dev\\IP_A2\\TracknetImplementation\\Tennis-Ball-Tracking\\src\\trackers\\yolo\\videos\\Clip1.mp4: 384x640 1 tennis_ball, 8.6ms\n",
      "video 1/1 (frame 156/207) c:\\Users\\jake\\dev\\IP_A2\\TracknetImplementation\\Tennis-Ball-Tracking\\src\\trackers\\yolo\\videos\\Clip1.mp4: 384x640 1 tennis_ball, 7.5ms\n",
      "video 1/1 (frame 157/207) c:\\Users\\jake\\dev\\IP_A2\\TracknetImplementation\\Tennis-Ball-Tracking\\src\\trackers\\yolo\\videos\\Clip1.mp4: 384x640 1 tennis_ball, 7.6ms\n"
     ]
    },
    {
     "name": "stderr",
     "output_type": "stream",
     "text": [
      " 76%|███████▌  | 157/207 [00:03<00:01, 40.10it/s]"
     ]
    },
    {
     "name": "stdout",
     "output_type": "stream",
     "text": [
      "video 1/1 (frame 158/207) c:\\Users\\jake\\dev\\IP_A2\\TracknetImplementation\\Tennis-Ball-Tracking\\src\\trackers\\yolo\\videos\\Clip1.mp4: 384x640 1 tennis_ball, 7.6ms\n",
      "video 1/1 (frame 159/207) c:\\Users\\jake\\dev\\IP_A2\\TracknetImplementation\\Tennis-Ball-Tracking\\src\\trackers\\yolo\\videos\\Clip1.mp4: 384x640 1 tennis_ball, 7.6ms\n",
      "video 1/1 (frame 160/207) c:\\Users\\jake\\dev\\IP_A2\\TracknetImplementation\\Tennis-Ball-Tracking\\src\\trackers\\yolo\\videos\\Clip1.mp4: 384x640 1 tennis_ball, 8.7ms\n",
      "video 1/1 (frame 161/207) c:\\Users\\jake\\dev\\IP_A2\\TracknetImplementation\\Tennis-Ball-Tracking\\src\\trackers\\yolo\\videos\\Clip1.mp4: 384x640 1 tennis_ball, 7.7ms\n",
      "video 1/1 (frame 162/207) c:\\Users\\jake\\dev\\IP_A2\\TracknetImplementation\\Tennis-Ball-Tracking\\src\\trackers\\yolo\\videos\\Clip1.mp4: 384x640 1 tennis_ball, 7.6ms\n"
     ]
    },
    {
     "name": "stderr",
     "output_type": "stream",
     "text": [
      " 78%|███████▊  | 162/207 [00:04<00:01, 40.37it/s]"
     ]
    },
    {
     "name": "stdout",
     "output_type": "stream",
     "text": [
      "video 1/1 (frame 163/207) c:\\Users\\jake\\dev\\IP_A2\\TracknetImplementation\\Tennis-Ball-Tracking\\src\\trackers\\yolo\\videos\\Clip1.mp4: 384x640 1 tennis_ball, 7.6ms\n",
      "video 1/1 (frame 164/207) c:\\Users\\jake\\dev\\IP_A2\\TracknetImplementation\\Tennis-Ball-Tracking\\src\\trackers\\yolo\\videos\\Clip1.mp4: 384x640 1 tennis_ball, 7.9ms\n",
      "video 1/1 (frame 165/207) c:\\Users\\jake\\dev\\IP_A2\\TracknetImplementation\\Tennis-Ball-Tracking\\src\\trackers\\yolo\\videos\\Clip1.mp4: 384x640 1 tennis_ball, 8.5ms\n",
      "video 1/1 (frame 166/207) c:\\Users\\jake\\dev\\IP_A2\\TracknetImplementation\\Tennis-Ball-Tracking\\src\\trackers\\yolo\\videos\\Clip1.mp4: 384x640 1 tennis_ball, 7.6ms\n",
      "video 1/1 (frame 167/207) c:\\Users\\jake\\dev\\IP_A2\\TracknetImplementation\\Tennis-Ball-Tracking\\src\\trackers\\yolo\\videos\\Clip1.mp4: 384x640 1 tennis_ball, 7.6ms\n"
     ]
    },
    {
     "name": "stderr",
     "output_type": "stream",
     "text": [
      " 81%|████████  | 167/207 [00:04<00:00, 40.17it/s]"
     ]
    },
    {
     "name": "stdout",
     "output_type": "stream",
     "text": [
      "video 1/1 (frame 168/207) c:\\Users\\jake\\dev\\IP_A2\\TracknetImplementation\\Tennis-Ball-Tracking\\src\\trackers\\yolo\\videos\\Clip1.mp4: 384x640 1 tennis_ball, 7.6ms\n",
      "video 1/1 (frame 169/207) c:\\Users\\jake\\dev\\IP_A2\\TracknetImplementation\\Tennis-Ball-Tracking\\src\\trackers\\yolo\\videos\\Clip1.mp4: 384x640 2 tennis_balls, 8.0ms\n",
      "video 1/1 (frame 170/207) c:\\Users\\jake\\dev\\IP_A2\\TracknetImplementation\\Tennis-Ball-Tracking\\src\\trackers\\yolo\\videos\\Clip1.mp4: 384x640 2 tennis_balls, 9.1ms\n",
      "video 1/1 (frame 171/207) c:\\Users\\jake\\dev\\IP_A2\\TracknetImplementation\\Tennis-Ball-Tracking\\src\\trackers\\yolo\\videos\\Clip1.mp4: 384x640 1 tennis_ball, 8.5ms\n",
      "video 1/1 (frame 172/207) c:\\Users\\jake\\dev\\IP_A2\\TracknetImplementation\\Tennis-Ball-Tracking\\src\\trackers\\yolo\\videos\\Clip1.mp4: 384x640 1 tennis_ball, 8.9ms\n"
     ]
    },
    {
     "name": "stderr",
     "output_type": "stream",
     "text": [
      " 83%|████████▎ | 172/207 [00:04<00:00, 39.12it/s]"
     ]
    },
    {
     "name": "stdout",
     "output_type": "stream",
     "text": [
      "video 1/1 (frame 173/207) c:\\Users\\jake\\dev\\IP_A2\\TracknetImplementation\\Tennis-Ball-Tracking\\src\\trackers\\yolo\\videos\\Clip1.mp4: 384x640 1 tennis_ball, 7.8ms\n",
      "video 1/1 (frame 174/207) c:\\Users\\jake\\dev\\IP_A2\\TracknetImplementation\\Tennis-Ball-Tracking\\src\\trackers\\yolo\\videos\\Clip1.mp4: 384x640 1 tennis_ball, 7.8ms\n",
      "video 1/1 (frame 175/207) c:\\Users\\jake\\dev\\IP_A2\\TracknetImplementation\\Tennis-Ball-Tracking\\src\\trackers\\yolo\\videos\\Clip1.mp4: 384x640 2 tennis_balls, 7.8ms\n",
      "video 1/1 (frame 176/207) c:\\Users\\jake\\dev\\IP_A2\\TracknetImplementation\\Tennis-Ball-Tracking\\src\\trackers\\yolo\\videos\\Clip1.mp4: 384x640 1 tennis_ball, 8.1ms\n"
     ]
    },
    {
     "name": "stderr",
     "output_type": "stream",
     "text": [
      " 85%|████████▌ | 176/207 [00:04<00:00, 39.33it/s]"
     ]
    },
    {
     "name": "stdout",
     "output_type": "stream",
     "text": [
      "video 1/1 (frame 177/207) c:\\Users\\jake\\dev\\IP_A2\\TracknetImplementation\\Tennis-Ball-Tracking\\src\\trackers\\yolo\\videos\\Clip1.mp4: 384x640 1 tennis_ball, 9.4ms\n",
      "video 1/1 (frame 178/207) c:\\Users\\jake\\dev\\IP_A2\\TracknetImplementation\\Tennis-Ball-Tracking\\src\\trackers\\yolo\\videos\\Clip1.mp4: 384x640 1 tennis_ball, 7.8ms\n",
      "video 1/1 (frame 179/207) c:\\Users\\jake\\dev\\IP_A2\\TracknetImplementation\\Tennis-Ball-Tracking\\src\\trackers\\yolo\\videos\\Clip1.mp4: 384x640 2 tennis_balls, 7.7ms\n",
      "video 1/1 (frame 180/207) c:\\Users\\jake\\dev\\IP_A2\\TracknetImplementation\\Tennis-Ball-Tracking\\src\\trackers\\yolo\\videos\\Clip1.mp4: 384x640 2 tennis_balls, 7.9ms\n"
     ]
    },
    {
     "name": "stderr",
     "output_type": "stream",
     "text": [
      " 87%|████████▋ | 180/207 [00:04<00:00, 39.24it/s]"
     ]
    },
    {
     "name": "stdout",
     "output_type": "stream",
     "text": [
      "video 1/1 (frame 181/207) c:\\Users\\jake\\dev\\IP_A2\\TracknetImplementation\\Tennis-Ball-Tracking\\src\\trackers\\yolo\\videos\\Clip1.mp4: 384x640 3 tennis_balls, 8.0ms\n",
      "video 1/1 (frame 182/207) c:\\Users\\jake\\dev\\IP_A2\\TracknetImplementation\\Tennis-Ball-Tracking\\src\\trackers\\yolo\\videos\\Clip1.mp4: 384x640 3 tennis_balls, 8.2ms\n",
      "video 1/1 (frame 183/207) c:\\Users\\jake\\dev\\IP_A2\\TracknetImplementation\\Tennis-Ball-Tracking\\src\\trackers\\yolo\\videos\\Clip1.mp4: 384x640 2 tennis_balls, 9.0ms\n",
      "video 1/1 (frame 184/207) c:\\Users\\jake\\dev\\IP_A2\\TracknetImplementation\\Tennis-Ball-Tracking\\src\\trackers\\yolo\\videos\\Clip1.mp4: 384x640 2 tennis_balls, 7.8ms\n"
     ]
    },
    {
     "name": "stderr",
     "output_type": "stream",
     "text": [
      " 89%|████████▉ | 184/207 [00:04<00:00, 38.87it/s]"
     ]
    },
    {
     "name": "stdout",
     "output_type": "stream",
     "text": [
      "video 1/1 (frame 185/207) c:\\Users\\jake\\dev\\IP_A2\\TracknetImplementation\\Tennis-Ball-Tracking\\src\\trackers\\yolo\\videos\\Clip1.mp4: 384x640 3 tennis_balls, 7.8ms\n",
      "video 1/1 (frame 186/207) c:\\Users\\jake\\dev\\IP_A2\\TracknetImplementation\\Tennis-Ball-Tracking\\src\\trackers\\yolo\\videos\\Clip1.mp4: 384x640 3 tennis_balls, 7.8ms\n",
      "video 1/1 (frame 187/207) c:\\Users\\jake\\dev\\IP_A2\\TracknetImplementation\\Tennis-Ball-Tracking\\src\\trackers\\yolo\\videos\\Clip1.mp4: 384x640 3 tennis_balls, 8.2ms\n",
      "video 1/1 (frame 188/207) c:\\Users\\jake\\dev\\IP_A2\\TracknetImplementation\\Tennis-Ball-Tracking\\src\\trackers\\yolo\\videos\\Clip1.mp4: 384x640 3 tennis_balls, 9.2ms\n"
     ]
    },
    {
     "name": "stderr",
     "output_type": "stream",
     "text": [
      " 91%|█████████ | 188/207 [00:04<00:00, 38.80it/s]"
     ]
    },
    {
     "name": "stdout",
     "output_type": "stream",
     "text": [
      "video 1/1 (frame 189/207) c:\\Users\\jake\\dev\\IP_A2\\TracknetImplementation\\Tennis-Ball-Tracking\\src\\trackers\\yolo\\videos\\Clip1.mp4: 384x640 3 tennis_balls, 8.7ms\n",
      "video 1/1 (frame 190/207) c:\\Users\\jake\\dev\\IP_A2\\TracknetImplementation\\Tennis-Ball-Tracking\\src\\trackers\\yolo\\videos\\Clip1.mp4: 384x640 1 tennis_ball, 7.9ms\n",
      "video 1/1 (frame 191/207) c:\\Users\\jake\\dev\\IP_A2\\TracknetImplementation\\Tennis-Ball-Tracking\\src\\trackers\\yolo\\videos\\Clip1.mp4: 384x640 2 tennis_balls, 7.9ms\n",
      "video 1/1 (frame 192/207) c:\\Users\\jake\\dev\\IP_A2\\TracknetImplementation\\Tennis-Ball-Tracking\\src\\trackers\\yolo\\videos\\Clip1.mp4: 384x640 1 tennis_ball, 7.9ms\n"
     ]
    },
    {
     "name": "stderr",
     "output_type": "stream",
     "text": [
      " 93%|█████████▎| 192/207 [00:04<00:00, 39.03it/s]"
     ]
    },
    {
     "name": "stdout",
     "output_type": "stream",
     "text": [
      "video 1/1 (frame 193/207) c:\\Users\\jake\\dev\\IP_A2\\TracknetImplementation\\Tennis-Ball-Tracking\\src\\trackers\\yolo\\videos\\Clip1.mp4: 384x640 1 tennis_ball, 8.2ms\n",
      "video 1/1 (frame 194/207) c:\\Users\\jake\\dev\\IP_A2\\TracknetImplementation\\Tennis-Ball-Tracking\\src\\trackers\\yolo\\videos\\Clip1.mp4: 384x640 1 tennis_ball, 9.1ms\n",
      "video 1/1 (frame 195/207) c:\\Users\\jake\\dev\\IP_A2\\TracknetImplementation\\Tennis-Ball-Tracking\\src\\trackers\\yolo\\videos\\Clip1.mp4: 384x640 1 tennis_ball, 9.2ms\n",
      "video 1/1 (frame 196/207) c:\\Users\\jake\\dev\\IP_A2\\TracknetImplementation\\Tennis-Ball-Tracking\\src\\trackers\\yolo\\videos\\Clip1.mp4: 384x640 1 tennis_ball, 9.6ms\n"
     ]
    },
    {
     "name": "stderr",
     "output_type": "stream",
     "text": [
      " 95%|█████████▍| 196/207 [00:04<00:00, 38.07it/s]"
     ]
    },
    {
     "name": "stdout",
     "output_type": "stream",
     "text": [
      "video 1/1 (frame 197/207) c:\\Users\\jake\\dev\\IP_A2\\TracknetImplementation\\Tennis-Ball-Tracking\\src\\trackers\\yolo\\videos\\Clip1.mp4: 384x640 (no detections), 8.0ms\n",
      "video 1/1 (frame 198/207) c:\\Users\\jake\\dev\\IP_A2\\TracknetImplementation\\Tennis-Ball-Tracking\\src\\trackers\\yolo\\videos\\Clip1.mp4: 384x640 (no detections), 8.1ms\n",
      "video 1/1 (frame 199/207) c:\\Users\\jake\\dev\\IP_A2\\TracknetImplementation\\Tennis-Ball-Tracking\\src\\trackers\\yolo\\videos\\Clip1.mp4: 384x640 (no detections), 8.4ms\n",
      "video 1/1 (frame 200/207) c:\\Users\\jake\\dev\\IP_A2\\TracknetImplementation\\Tennis-Ball-Tracking\\src\\trackers\\yolo\\videos\\Clip1.mp4: 384x640 1 tennis_ball, 8.9ms\n",
      "video 1/1 (frame 201/207) c:\\Users\\jake\\dev\\IP_A2\\TracknetImplementation\\Tennis-Ball-Tracking\\src\\trackers\\yolo\\videos\\Clip1.mp4: 384x640 2 tennis_balls, 8.1ms\n"
     ]
    },
    {
     "name": "stderr",
     "output_type": "stream",
     "text": [
      " 97%|█████████▋| 201/207 [00:05<00:00, 39.18it/s]"
     ]
    },
    {
     "name": "stdout",
     "output_type": "stream",
     "text": [
      "video 1/1 (frame 202/207) c:\\Users\\jake\\dev\\IP_A2\\TracknetImplementation\\Tennis-Ball-Tracking\\src\\trackers\\yolo\\videos\\Clip1.mp4: 384x640 1 tennis_ball, 8.0ms\n",
      "video 1/1 (frame 203/207) c:\\Users\\jake\\dev\\IP_A2\\TracknetImplementation\\Tennis-Ball-Tracking\\src\\trackers\\yolo\\videos\\Clip1.mp4: 384x640 1 tennis_ball, 8.2ms\n",
      "video 1/1 (frame 204/207) c:\\Users\\jake\\dev\\IP_A2\\TracknetImplementation\\Tennis-Ball-Tracking\\src\\trackers\\yolo\\videos\\Clip1.mp4: 384x640 1 tennis_ball, 8.5ms\n",
      "video 1/1 (frame 205/207) c:\\Users\\jake\\dev\\IP_A2\\TracknetImplementation\\Tennis-Ball-Tracking\\src\\trackers\\yolo\\videos\\Clip1.mp4: 384x640 1 tennis_ball, 9.4ms\n"
     ]
    },
    {
     "name": "stderr",
     "output_type": "stream",
     "text": [
      " 99%|█████████▉| 205/207 [00:05<00:00, 39.14it/s]"
     ]
    },
    {
     "name": "stdout",
     "output_type": "stream",
     "text": [
      "video 1/1 (frame 206/207) c:\\Users\\jake\\dev\\IP_A2\\TracknetImplementation\\Tennis-Ball-Tracking\\src\\trackers\\yolo\\videos\\Clip1.mp4: 384x640 2 tennis_balls, 9.0ms\n",
      "video 1/1 (frame 207/207) c:\\Users\\jake\\dev\\IP_A2\\TracknetImplementation\\Tennis-Ball-Tracking\\src\\trackers\\yolo\\videos\\Clip1.mp4: 384x640 (no detections), 9.0ms\n",
      "Speed: 0.8ms preprocess, 7.8ms inference, 0.8ms postprocess per image at shape (1, 3, 384, 640)\n"
     ]
    },
    {
     "name": "stderr",
     "output_type": "stream",
     "text": [
      "100%|██████████| 207/207 [00:05<00:00, 39.36it/s]"
     ]
    },
    {
     "name": "stdout",
     "output_type": "stream",
     "text": [
      "\n",
      "--- Processing Complete ---\n",
      "Final trajectory video saved to: videos/Clip1_yolo_trajectory.mp4\n"
     ]
    },
    {
     "name": "stderr",
     "output_type": "stream",
     "text": [
      "\n"
     ]
    }
   ],
   "source": [
    "from pathlib import Path\n",
    "\n",
    "def create_video_from_frames(frames_dir, output_path, fps):\n",
    "    \"\"\"\n",
    "    Convert a directory of frame images into a single video file.\n",
    "    \n",
    "    Args:\n",
    "        frames_dir (str): Path to directory containing .jpg frame files\n",
    "        output_path (str): Output path for the compiled video file\n",
    "        fps (int): Frames per second for the output video\n",
    "        \n",
    "    Returns:\n",
    "        tuple: (success_flag, video_properties)\n",
    "            - success_flag (bool): True if video creation succeeded\n",
    "            - video_properties (tuple or None): (width, height, frame_count) if successful, None if failed\n",
    "    \"\"\"\n",
    "    # Get sorted list of all .jpg frame files\n",
    "    frame_files = sorted(Path(frames_dir).glob('*.jpg'))\n",
    "    if not frame_files:\n",
    "        print(f\"Error: No .jpg frames found in {frames_dir}\")\n",
    "        return False, None\n",
    "    \n",
    "    # Read first frame to determine video dimensions\n",
    "    first_frame = cv2.imread(str(frame_files[0]))\n",
    "    height, width, _ = first_frame.shape\n",
    "    \n",
    "    # Initialize video writer with MP4 codec\n",
    "    fourcc = cv2.VideoWriter_fourcc(*'mp4v')\n",
    "    video_writer = cv2.VideoWriter(output_path, fourcc, fps, (width, height))\n",
    "    \n",
    "    # Compile all frames into video\n",
    "    print(f\"Compiling {len(frame_files)} frames into temporary video...\")\n",
    "    for frame_file in tqdm(frame_files, desc=\"Compiling Video\"):\n",
    "        frame = cv2.imread(str(frame_file))\n",
    "        video_writer.write(frame)\n",
    "    \n",
    "    # Release video writer and return success status\n",
    "    video_writer.release()\n",
    "    print(\"Temporary video compilation complete.\")\n",
    "    return True, (width, height, len(frame_files))\n",
    "\n",
    "# ============================================================================\n",
    "# CONFIGURATION PARAMETERS\n",
    "# ============================================================================\n",
    "\n",
    "# Model configuration\n",
    "MODEL_PATH = 'runs/detect/yolov8m_tennis_ballv2_150epochs/weights/best.pt'\n",
    "model = YOLO(MODEL_PATH)\n",
    "\n",
    "# Input/Output paths\n",
    "INPUT_FRAMES_DIR = 'videos/Clip1'\n",
    "TEMP_VIDEO_PATH = 'videos/Clip1.mp4'\n",
    "OUTPUT_VIDEO_PATH = 'videos/Clip1_yolo_trajectory.mp4'\n",
    "OUTPUT_FPS = 30\n",
    "\n",
    "# Detection parameters\n",
    "CONF_THRESHOLD = 0.3  # Minimum confidence score for valid detections\n",
    "\n",
    "# Trajectory visualization settings\n",
    "TRAIL_COLOR = (255, 0, 0)  # BGR format: Red trajectory line\n",
    "TRAIL_THICKNESS = 3\n",
    "\n",
    "# ============================================================================\n",
    "# VIDEO PROCESSING PIPELINE\n",
    "# ============================================================================\n",
    "\n",
    "# Step 1: Convert frame images to temporary video file\n",
    "success, video_props = create_video_from_frames(INPUT_FRAMES_DIR, TEMP_VIDEO_PATH, OUTPUT_FPS)\n",
    "if not success:\n",
    "    exit()\n",
    "\n",
    "# Step 2: Initialize video writer for output with trajectory overlay\n",
    "original_width, original_height, total_frames = video_props\n",
    "fourcc = cv2.VideoWriter_fourcc(*'mp4v')\n",
    "video_writer = cv2.VideoWriter(OUTPUT_VIDEO_PATH, fourcc, OUTPUT_FPS, (original_width, original_height))\n",
    "\n",
    "# Initialize trajectory storage for ball position history\n",
    "trajectory_points = []\n",
    "\n",
    "# Step 3: Run YOLO tracking with streaming results for memory efficiency\n",
    "results = model.track(source=TEMP_VIDEO_PATH, stream=True, persist=True)\n",
    "\n",
    "print(f\"Processing video and drawing trail with confidence threshold of {CONF_THRESHOLD}...\")\n",
    "\n",
    "# Process each frame for detection and trajectory drawing\n",
    "for r in tqdm(results, total=total_frames):\n",
    "    # Get YOLO annotated frame (with bounding boxes)\n",
    "    annotated_frame = r.plot()\n",
    "\n",
    "    # Process detections if any boxes found in current frame\n",
    "    if len(r.boxes) > 0:\n",
    "        # Extract detection data from YOLO results\n",
    "        boxes = r.boxes.xyxy.cpu().numpy().astype(int)  # Bounding box coordinates\n",
    "        confidences = r.boxes.conf.cpu().numpy()        # Confidence scores\n",
    "        \n",
    "        # Select highest confidence detection in current frame\n",
    "        best_box_idx = confidences.argmax()\n",
    "        \n",
    "        # Filter detection by confidence threshold\n",
    "        if confidences[best_box_idx] >= CONF_THRESHOLD:\n",
    "            # Calculate center coordinates of best detection\n",
    "            best_box = boxes[best_box_idx]\n",
    "            center_x = (best_box[0] + best_box[2]) // 2  # (x1 + x2) / 2\n",
    "            center_y = (best_box[1] + best_box[3]) // 2  # (y1 + y2) / 2\n",
    "            \n",
    "            # Add validated center point to trajectory history\n",
    "            trajectory_points.append((center_x, center_y))\n",
    "\n",
    "    # Draw trajectory trail connecting all historical points\n",
    "    if len(trajectory_points) > 1:\n",
    "        for i in range(1, len(trajectory_points)):\n",
    "            cv2.line(annotated_frame, \n",
    "                    trajectory_points[i - 1], \n",
    "                    trajectory_points[i], \n",
    "                    TRAIL_COLOR, \n",
    "                    TRAIL_THICKNESS)\n",
    "    \n",
    "    # Write frame with overlaid trajectory to output video\n",
    "    video_writer.write(annotated_frame)\n",
    "\n",
    "# ============================================================================\n",
    "# CLEANUP AND COMPLETION\n",
    "# ============================================================================\n",
    "\n",
    "# Release video writer and close OpenCV windows\n",
    "video_writer.release()\n",
    "cv2.destroyAllWindows()\n",
    "\n",
    "# Display completion status\n",
    "print(f\"\\n--- Processing Complete ---\")\n",
    "print(f\"Final trajectory video saved to: {OUTPUT_VIDEO_PATH}\")\n",
    "print(f\"Total trajectory points tracked: {len(trajectory_points)}\")"
   ]
  },
  {
   "cell_type": "markdown",
   "id": "ba218611",
   "metadata": {},
   "source": [
    "### Configuration Parameters\n",
    "\n",
    "**Model Settings:**\n",
    "- `MODEL_PATH`: Path to the trained YOLOv8m model weights\n",
    "- `CONF_THRESHOLD`: Minimum confidence score (0.3) for valid detections\n",
    "\n",
    "**Input/Output Paths:**\n",
    "- `INPUT_FRAMES_DIR`: Directory containing individual frame images\n",
    "- `TEMP_VIDEO_PATH`: Temporary video file created from frames\n",
    "- `OUTPUT_VIDEO_PATH`: Final output video with trajectory overlay\n",
    "- `OUTPUT_FPS`: Frame rate for output video (30 FPS)\n",
    "\n",
    "**Visualization Settings:**\n",
    "- `TRAIL_COLOR`: RGB color for trajectory line (red: 255,0,0)\n",
    "- `TRAIL_THICKNESS`: Line thickness for trajectory visualization\n",
    "\n",
    "### Processing Pipeline\n",
    "\n",
    "**Step 1: Video Preparation**\n",
    "- Compiles individual frame images into a temporary video file\n",
    "- Validates frame availability and determines video dimensions\n",
    "\n",
    "**Step 2: Detection and Tracking**\n",
    "- Processes video frame-by-frame using YOLO tracking\n",
    "- Filters detections based on confidence threshold\n",
    "- Selects best detection per frame (highest confidence)\n",
    "- Calculates center coordinates for trajectory points\n",
    "\n",
    "**Step 3: Trajectory Visualization**\n",
    "- Draws cumulative trajectory trail connecting all valid points\n",
    "- Overlays trail on YOLO's annotated frames\n",
    "- Saves final video with both detection boxes and trajectory path"
   ]
  }
 ],
 "metadata": {
  "language_info": {
   "name": "python"
  }
 },
 "nbformat": 4,
 "nbformat_minor": 5
}
