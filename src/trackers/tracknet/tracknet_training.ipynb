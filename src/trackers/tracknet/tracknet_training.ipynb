{
 "cells": [
  {
   "cell_type": "markdown",
   "id": "3c48919b",
   "metadata": {},
   "source": [
    "# Training TrackNet for Tennis Ball Tracking"
   ]
  },
  {
   "cell_type": "markdown",
   "id": "387c349f",
   "metadata": {},
   "source": [
    "## Introduction and Setup\n",
    "\n",
    "This` notebook implements the TrackNet model for tennis ball tracking. TrackNet is a deep learning model that uses a sequence of three consecutive frames to predict the location of a tennis ball in the current frame. The model outputs a heatmap where the brightest region corresponds to the predicted ball location.\n",
    "\n",
    "### Key Features:\n",
    "- Uses a CNN with VGG16-style encoder and decoder architecture\n",
    "- Takes 3 consecutive frames as input (9 channels total)\n",
    "- Outputs a 256-class heatmap for ball localization\n",
    "- Implements the exact training protocol from the original TrackNet paper"
   ]
  },
  {
   "cell_type": "markdown",
   "id": "b3b9a747",
   "metadata": {},
   "source": [
    "### Import Required Libraries\n",
    "\n",
    "Import all necessary libraries for deep learning, data processing, and visualization."
   ]
  },
  {
   "cell_type": "code",
   "execution_count": 1,
   "id": "1ce6c8b8",
   "metadata": {},
   "outputs": [],
   "source": [
    "import torch\n",
    "import torch.nn as nn\n",
    "import torch.optim as optim\n",
    "from torch.utils.data import Dataset, DataLoader\n",
    "from tensorboardX import SummaryWriter\n",
    "import numpy as np\n",
    "import pandas as pd\n",
    "import cv2\n",
    "import os\n",
    "from pathlib import Path\n",
    "from tqdm import tqdm\n",
    "import math"
   ]
  },
  {
   "cell_type": "markdown",
   "id": "3c175ec3",
   "metadata": {},
   "source": [
    "### Configuration and Setup\n",
    "\n",
    "Define the configuration parameters for training TrackNet, including data paths, model hyperparameters, and training settings. These parameters are based on the original TrackNet paper specifications."
   ]
  },
  {
   "cell_type": "code",
   "execution_count": 2,
   "id": "fbe03ed9",
   "metadata": {},
   "outputs": [
    {
     "name": "stdout",
     "output_type": "stream",
     "text": [
      "Using device: cuda\n",
      "Raw data path: data\\tracknet_dataset\n",
      "Prepared data will be saved to: data\\preprocessed_tracknet_dataset\n"
     ]
    }
   ],
   "source": [
    "class Config:\n",
    "    #Data Paths\n",
    "    RAW_DATASET_DIR = Path('data/tracknet_dataset')\n",
    "    PREPROCESSED_DATASET_DIR = Path('data/preprocessed_tracknet_dataset')\n",
    "\n",
    "    # Model & Training Hyperparameters (from the paper)\n",
    "    INPUT_WIDTH = 640\n",
    "    INPUT_HEIGHT = 360\n",
    "    BATCH_SIZE = 2\n",
    "    NUM_EPOCHS = 500\n",
    "    LEARNING_RATE = 1.0\n",
    "    VAL_INTERVALS = 5\n",
    "    STEPS_PER_EPOCH = 200 # As specified in the paper\n",
    "    DEVICE = \"cuda\" if torch.cuda.is_available() else \"cpu\"\n",
    "    \n",
    "    \n",
    "\n",
    "config = Config()\n",
    "PREPROCESSED_IMAGES_DIR = config.PREPROCESSED_DATASET_DIR / 'images'\n",
    "PREPROCESSED_GTS_DIR = config.PREPROCESSED_DATASET_DIR / 'gts'\n",
    "MODEL_PATH = Path(f'./models')\n",
    "TB_PATH = MODEL_PATH / 'plots'\n",
    "MODEL_BEST_PATH = MODEL_PATH / 'model_best.pt'\n",
    "MODEL_LAST_PATH = MODEL_PATH / 'model_last.pt'\n",
    "\n",
    "os.makedirs(config.PREPROCESSED_DATASET_DIR, exist_ok=True)\n",
    "os.makedirs(PREPROCESSED_IMAGES_DIR, exist_ok=True)\n",
    "os.makedirs(PREPROCESSED_GTS_DIR, exist_ok=True)\n",
    "os.makedirs(MODEL_PATH, exist_ok=True)\n",
    "os.makedirs(TB_PATH, exist_ok=True)\n",
    "\n",
    "print(f\"Using device: {config.DEVICE}\")\n",
    "print(f\"Raw data path: {config.RAW_DATASET_DIR}\")\n",
    "print(f\"Prepared data will be saved to: {config.PREPROCESSED_DATASET_DIR}\")"
   ]
  },
  {
   "cell_type": "markdown",
   "id": "f33eb7f4",
   "metadata": {},
   "source": [
    "## Step 1: Data Preparation (Ground Truth Generation)\n",
    "\n",
    "This section prepares the training data by:\n",
    "1. **Creating Ground Truth Heatmaps**: Converts ball coordinates to Gaussian heatmaps for training\n",
    "2. **Organizing Label Files**: Creates train/validation splits and aligns 3-frame sequences\n",
    "3. **Copying Images**: Reorganizes raw images into a unified directory structure\n",
    "\n",
    "The ground truth generation follows the TrackNet paper methodology, creating 256-intensity heatmaps with Gaussian kernels centered at ball locations."
   ]
  },
  {
   "cell_type": "code",
   "execution_count": null,
   "id": "061aaf03",
   "metadata": {},
   "outputs": [
    {
     "name": "stdout",
     "output_type": "stream",
     "text": [
      "Prepared dataset files already exist. Skipping generation.\n"
     ]
    }
   ],
   "source": [
    "def create_gaussian(size, variance):\n",
    "    \"\"\"\n",
    "    Create a 2D Gaussian kernel for ground truth heatmap generation.\n",
    "    \n",
    "    Args:\n",
    "        size (int): Half-size of the kernel (full size = 2*size + 1)\n",
    "        variance (float): Gaussian variance parameter\n",
    "        \n",
    "    Returns:\n",
    "        np.ndarray: 2D Gaussian kernel with values 0-255\n",
    "    \"\"\"\n",
    "    x, y = np.mgrid[-size:size+1, -size:size+1]\n",
    "    g = np.exp(-(x**2 + y**2) / float(2 * variance))\n",
    "    g = g * 255 / g.max()  # Normalize to 0-255 range\n",
    "    return g.astype(np.uint8)\n",
    "\n",
    "def create_gt_images(path_input, path_output, size, variance, width, height):\n",
    "    \"\"\"\n",
    "    Generate ground truth heatmap images for tennis ball training data.\n",
    "    \n",
    "    Creates Gaussian heatmaps centered at ball coordinates for each frame.\n",
    "    Invisible balls (visibility=0) or NaN coordinates result in zero heatmaps.\n",
    "    \n",
    "    Args:\n",
    "        path_input (Path): Input directory containing game/clip subdirectories\n",
    "        path_output (Path): Output directory for generated heatmaps\n",
    "        size (int): Gaussian kernel half-size\n",
    "        variance (float): Gaussian variance\n",
    "        width (int): Image width (1280 for original resolution)\n",
    "        height (int): Image height (720 for original resolution)\n",
    "    \"\"\"\n",
    "    print(\"--- Starting Ground Truth Image Generation ---\")\n",
    "    gaussian_kernel_array = create_gaussian(size, variance)\n",
    "    \n",
    "    for game_dir in tqdm(sorted(path_input.glob(\"game*\")), desc=\"Processing Games\"):\n",
    "        for clip_dir in sorted(game_dir.glob(\"Clip*\")):\n",
    "            path_out_clip = path_output / game_dir.name / clip_dir.name\n",
    "            os.makedirs(path_out_clip, exist_ok=True)\n",
    "            \n",
    "            labels_path = clip_dir / 'Label.csv'\n",
    "            if not labels_path.exists():\n",
    "                continue\n",
    "            \n",
    "            labels = pd.read_csv(labels_path)\n",
    "            for _, row in labels.iterrows():\n",
    "                file_name, vis, x, y = row['file name'], row['visibility'], row['x-coordinate'], row['y-coordinate']\n",
    "                heatmap = np.zeros((height, width, 3), dtype=np.uint8)\n",
    "                \n",
    "                # Only create heatmap for visible balls with valid coordinates\n",
    "                if vis != 0 and not (math.isnan(x) or math.isnan(y)):\n",
    "                    x, y = int(x), int(y)\n",
    "                    \n",
    "                    # Place Gaussian kernel at ball position\n",
    "                    for i in range(-size, size + 1):\n",
    "                        for j in range(-size, size + 1):\n",
    "                            if 0 <= y + j < height and 0 <= x + i < width:\n",
    "                                temp = gaussian_kernel_array[j + size, i + size]\n",
    "                                if temp > 0:\n",
    "                                    heatmap[y + j, x + i] = (temp, temp, temp)\n",
    "                \n",
    "                cv2.imwrite(str(path_out_clip / file_name), heatmap)\n",
    "    print(\"--- Ground Truth Image Generation Complete ---\")\n",
    "\n",
    "\n",
    "def create_gt_labels(path_input, path_gts, path_output, train_rate=0.7):\n",
    "    \"\"\"\n",
    "    Create training and validation CSV files with 3-frame sequences.\n",
    "    \n",
    "    Processes all game clips to create aligned frame sequences (t-2, t-1, t)\n",
    "    and corresponding ground truth paths. Randomly splits into train/val sets.\n",
    "    \n",
    "    Args:\n",
    "        path_input (Path): Raw dataset directory\n",
    "        path_gts (Path): Ground truth heatmaps directory (unused in function)\n",
    "        path_output (Path): Output directory for CSV files\n",
    "        train_rate (float): Training split ratio (default: 0.7)\n",
    "    \"\"\"\n",
    "    print(\"--- Starting Label File Generation ---\")\n",
    "    df = pd.DataFrame()\n",
    "    \n",
    "    for game_dir in tqdm(sorted(path_input.glob(\"game*\")), desc=\"Processing Labels\"):\n",
    "        for clip_dir in sorted(game_dir.glob(\"Clip*\")):\n",
    "            labels_path = clip_dir / 'Label.csv'\n",
    "            if not labels_path.exists():\n",
    "                continue\n",
    "            \n",
    "            labels = pd.read_csv(labels_path)\n",
    "            \n",
    "            game_name = game_dir.name\n",
    "            clip_name = clip_dir.name\n",
    "            \n",
    "            # Create unified path structure for preprocessed data\n",
    "            labels['gt_path'] = labels['file name'].apply(lambda fn: f'gts/{game_name}/{clip_name}/{fn}')\n",
    "            labels['path1'] = labels['file name'].apply(lambda fn: f'images/{game_name}/{clip_name}/{fn}')\n",
    "            \n",
    "            # Create 3-frame sequences: [t-2, t-1, t] where t is the target frame\n",
    "            labels_target = labels[2:].copy().reset_index(drop=True)  # Target frame (t)\n",
    "            labels_target['path2'] = labels['path1'][1:-1].reset_index(drop=True)  # t-1\n",
    "            labels_target['path3'] = labels['path1'][:-2].reset_index(drop=True)   # t-2\n",
    "            \n",
    "            df = pd.concat([df, labels_target])\n",
    "\n",
    "    # Prepare final dataset\n",
    "    df = df.reset_index(drop=True)\n",
    "    df = df[['path1', 'path2', 'path3', 'gt_path', 'x-coordinate', 'y-coordinate', 'status', 'visibility']]\n",
    "    df = df.sample(frac=1).reset_index(drop=True)  # Shuffle data\n",
    "    \n",
    "    # Split into train/validation sets\n",
    "    num_train = int(df.shape[0] * train_rate)\n",
    "    df_train = df.iloc[:num_train]\n",
    "    df_val = df.iloc[num_train:]\n",
    "    \n",
    "    df_train.to_csv(path_output / 'labels_train.csv', index=False)\n",
    "    df_val.to_csv(path_output / 'labels_val.csv', index=False)\n",
    "    print(f\"Training labels saved ({len(df_train)} samples)\")\n",
    "    print(f\"Validation labels saved ({len(df_val)} samples)\")\n",
    "    print(\"--- Label File Generation Complete ---\")\n",
    "\n",
    "# Execute data preparation pipeline\n",
    "if not (config.PREPROCESSED_DATASET_DIR / 'labels_train.csv').exists():\n",
    "    # Generate ground truth heatmaps at original resolution\n",
    "    create_gt_images(\n",
    "        path_input=config.RAW_DATASET_DIR,\n",
    "        path_output=PREPROCESSED_GTS_DIR,\n",
    "        size=20, variance=10, width=1280, height=720\n",
    "    )\n",
    "    \n",
    "    # Copy raw images to unified directory structure\n",
    "    print(\"Copying original images to prepared directory...\")\n",
    "    for game_dir in tqdm(sorted(config.RAW_DATASET_DIR.glob(\"game*\"))):\n",
    "        for clip_dir in sorted(game_dir.glob(\"Clip*\")):\n",
    "            dest_clip_dir = PREPROCESSED_IMAGES_DIR / game_dir.name / clip_dir.name\n",
    "            os.makedirs(dest_clip_dir, exist_ok=True)\n",
    "            \n",
    "            for img_file in clip_dir.glob(\"*.jpg\"):\n",
    "                os.system(f'cp \"{img_file}\" \"{dest_clip_dir / img_file.name}\"')\n",
    "    \n",
    "    # Generate train/validation CSV files\n",
    "    create_gt_labels(\n",
    "        path_input=config.RAW_DATASET_DIR,\n",
    "        path_gts=PREPROCESSED_GTS_DIR,\n",
    "        path_output=config.PREPROCESSED_DATASET_DIR\n",
    "    )\n",
    "else:\n",
    "    print(\"Prepared dataset files already exist. Skipping generation.\")"
   ]
  },
  {
   "cell_type": "markdown",
   "id": "010fafb5",
   "metadata": {},
   "source": [
    "## Step 2: PyTorch Dataset Class\n",
    "\n",
    "The `TrackNetDataset` class handles loading and preprocessing of the training data:\n",
    "\n",
    "- **Input**: 3 consecutive frames (concatenated as 9-channel tensor)\n",
    "- **Output**: Ground truth heatmap with ball location \n",
    "- **Preprocessing**: Resizes images to 640x360, normalizes pixel values, and scales coordinates\n",
    "- **Data Loading**: Reads from preprocessed CSV files and image directories\n",
    "\n",
    "This dataset implementation ensures proper temporal alignment and handles cases where the ball is not visible."
   ]
  },
  {
   "cell_type": "code",
   "execution_count": 4,
   "id": "00d8261b",
   "metadata": {},
   "outputs": [],
   "source": [
    "class TrackNetDataset(Dataset):\n",
    "    def __init__(self, mode, input_height=360, input_width=640):\n",
    "        self.path_dataset = config.PREPROCESSED_DATASET_DIR\n",
    "        assert mode in ['train', 'val'], 'incorrect mode'\n",
    "        self.data = pd.read_csv(os.path.join(self.path_dataset, f'labels_{mode}.csv'))\n",
    "        print(f'Mode = {mode}, Samples = {self.data.shape[0]}')\n",
    "        self.height = input_height\n",
    "        self.width = input_width\n",
    "        \n",
    "    def __len__(self):\n",
    "        return self.data.shape[0]\n",
    "    \n",
    "    def __getitem__(self, idx):\n",
    "        row = self.data.iloc[idx]\n",
    "        path, path_prev, path_preprev = row['path1'], row['path2'], row['path3']\n",
    "        path_gt = row['gt_path']\n",
    "        x, y, vis = row['x-coordinate'], row['y-coordinate'], row['visibility']\n",
    "        \n",
    "        # Handle cases where there is no ball\n",
    "        if vis == 0 or math.isnan(x):\n",
    "            x, y = -1, -1\n",
    "\n",
    "        # Rescale coordinates for the smaller input size\n",
    "        x_scaled = x * (self.width / 1280)\n",
    "        y_scaled = y * (self.height / 720)\n",
    "\n",
    "        inputs = self._get_input(path, path_prev, path_preprev)\n",
    "        outputs = self._get_output(path_gt)\n",
    "        \n",
    "        return inputs, outputs, x_scaled, y_scaled, vis\n",
    "\n",
    "    def _get_output(self, path_gt):\n",
    "        # The GT images were generated at 1280x720, so we resize them\n",
    "        img_path = os.path.join(self.path_dataset, path_gt)\n",
    "        img = cv2.imread(img_path, cv2.IMREAD_GRAYSCALE)\n",
    "        img = cv2.resize(img, (self.width, self.height))\n",
    "        # The loss function expects a 1D target for each pixel in the batch\n",
    "        return torch.from_numpy(img).long()\n",
    "        \n",
    "    def _get_input(self, path, path_prev, path_preprev):\n",
    "        imgs_list = []\n",
    "        for p in [path_preprev, path_prev, path]:\n",
    "            img_path = os.path.join(self.path_dataset, p)\n",
    "            img = cv2.imread(img_path)\n",
    "            img = cv2.resize(img, (self.width, self.height))\n",
    "            # BGR to RGB, normalize, and permute to (C, H, W)\n",
    "            img = cv2.cvtColor(img, cv2.COLOR_BGR2RGB)\n",
    "            img_tensor = torch.from_numpy(img).float() / 255.0\n",
    "            imgs_list.append(img_tensor.permute(2, 0, 1))\n",
    "        \n",
    "        return torch.cat(imgs_list, dim=0)"
   ]
  },
  {
   "cell_type": "markdown",
   "id": "732779a8",
   "metadata": {},
   "source": [
    "## Step 3: TrackNet Model Architecture\n",
    "\n",
    "Implementation of the TrackNet neural network with:\n",
    "\n",
    "### Encoder (VGG16-style):\n",
    "- Multiple convolutional blocks with ReLU activation and batch normalization\n",
    "- Progressive downsampling with max pooling (640x360 → 80x45)\n",
    "- Feature extraction from 9 input channels (3 frames × 3 RGB channels)\n",
    "\n",
    "### Decoder (DeconvNet-style):\n",
    "- Upsampling layers to restore original resolution\n",
    "- Outputs 256-class heatmap for ball localization\n",
    "- Each class represents a different intensity level in the heatmap\n",
    "\n",
    "The model architecture follows the exact specifications from the TrackNet paper."
   ]
  },
  {
   "cell_type": "code",
   "execution_count": null,
   "id": "1cdf1701",
   "metadata": {},
   "outputs": [
    {
     "name": "stdout",
     "output_type": "stream",
     "text": [
      "out = torch.Size([2, 256, 360, 640])\n"
     ]
    }
   ],
   "source": [
    "class ConvBlock(nn.Module):\n",
    "    \"\"\"\n",
    "    Basic convolutional block with Conv2D + ReLU + BatchNorm.\n",
    "    \n",
    "    Args:\n",
    "        in_channels (int): Number of input channels\n",
    "        out_channels (int): Number of output channels\n",
    "        kernel_size (int): Convolution kernel size (default: 3)\n",
    "        pad (int): Padding size (default: 1)\n",
    "        stride (int): Convolution stride (default: 1)\n",
    "        bias (bool): Whether to use bias in convolution (default: True)\n",
    "    \"\"\"\n",
    "    def __init__(self, in_channels, out_channels, kernel_size=3, pad=1, stride=1, bias=True):\n",
    "        super().__init__()\n",
    "        self.block = nn.Sequential(\n",
    "            nn.Conv2d(in_channels, out_channels, kernel_size, stride=stride, padding=pad, bias=bias),\n",
    "            nn.ReLU(),\n",
    "            nn.BatchNorm2d(out_channels)\n",
    "        )\n",
    "\n",
    "    def forward(self, x):\n",
    "        return self.block(x)\n",
    "\n",
    "class TrackNet(nn.Module):\n",
    "    \"\"\"\n",
    "    TrackNet model for tennis ball tracking using encoder-decoder architecture.\n",
    "    \n",
    "    Takes 3 consecutive frames (9 channels) as input and outputs a 256-class\n",
    "    heatmap for ball localization. Architecture follows VGG16-style encoder\n",
    "    with DeconvNet-style decoder for pixel-level classification.\n",
    "    \n",
    "    Args:\n",
    "        out_channels (int): Number of output classes (default: 256)\n",
    "    \"\"\"\n",
    "    def __init__(self, out_channels=256):\n",
    "        super().__init__()\n",
    "        self.out_channels = out_channels\n",
    "\n",
    "        # Encoder: VGG16-style feature extraction\n",
    "        # Block 1: 9 -> 64 channels, spatial size: 640x360 -> 320x180\n",
    "        self.conv1 = ConvBlock(in_channels=9, out_channels=64)\n",
    "        self.conv2 = ConvBlock(in_channels=64, out_channels=64)\n",
    "        self.pool1 = nn.MaxPool2d(kernel_size=2, stride=2)\n",
    "\n",
    "        # Block 2: 64 -> 128 channels, spatial size: 320x180 -> 160x90\n",
    "        self.conv3 = ConvBlock(in_channels=64, out_channels=128)\n",
    "        self.conv4 = ConvBlock(in_channels=128, out_channels=128)\n",
    "        self.pool2 = nn.MaxPool2d(kernel_size=2, stride=2)\n",
    "\n",
    "        # Block 3: 128 -> 256 channels, spatial size: 160x90 -> 80x45\n",
    "        self.conv5 = ConvBlock(in_channels=128, out_channels=256)\n",
    "        self.conv6 = ConvBlock(in_channels=256, out_channels=256)\n",
    "        self.conv7 = ConvBlock(in_channels=256, out_channels=256)\n",
    "        self.pool3 = nn.MaxPool2d(kernel_size=2, stride=2)\n",
    "\n",
    "        # Block 4: 256 -> 512 channels (bottleneck), spatial size: 80x45\n",
    "        self.conv8 = ConvBlock(in_channels=256, out_channels=512)\n",
    "        self.conv9 = ConvBlock(in_channels=512, out_channels=512)\n",
    "        self.conv10 = ConvBlock(in_channels=512, out_channels=512)\n",
    "\n",
    "        # Decoder: DeconvNet-style upsampling\n",
    "        # Upsample 1: 80x45 -> 160x90, 512 -> 256 channels\n",
    "        self.ups1 = nn.Upsample(scale_factor=2)\n",
    "        self.conv11 = ConvBlock(in_channels=512, out_channels=256)\n",
    "        self.conv12 = ConvBlock(in_channels=256, out_channels=256)\n",
    "        self.conv13 = ConvBlock(in_channels=256, out_channels=256)\n",
    "\n",
    "        # Upsample 2: 160x90 -> 320x180, 256 -> 128 channels\n",
    "        self.ups2 = nn.Upsample(scale_factor=2)\n",
    "        self.conv14 = ConvBlock(in_channels=256, out_channels=128)\n",
    "        self.conv15 = ConvBlock(in_channels=128, out_channels=128)\n",
    "\n",
    "        # Upsample 3: 320x180 -> 640x360, 128 -> 64 -> out_channels\n",
    "        self.ups3 = nn.Upsample(scale_factor=2)\n",
    "        self.conv16 = ConvBlock(in_channels=128, out_channels=64)\n",
    "        self.conv17 = ConvBlock(in_channels=64, out_channels=64)\n",
    "        self.conv18 = ConvBlock(in_channels=64, out_channels=self.out_channels)\n",
    "\n",
    "        self.softmax = nn.Softmax(dim=1)\n",
    "        self._init_weights()\n",
    "                  \n",
    "    def forward(self, x):\n",
    "        \"\"\"\n",
    "        Forward pass through TrackNet.\n",
    "        \n",
    "        Args:\n",
    "            x (torch.Tensor): Input tensor of shape (N, 9, H, W)\n",
    "            \n",
    "        Returns:\n",
    "            torch.Tensor: Output heatmap of shape (N, 256, H, W)\n",
    "        \"\"\"\n",
    "        # Encoder path\n",
    "        x = self.conv1(x)\n",
    "        x = self.conv2(x)    \n",
    "        x = self.pool1(x)\n",
    "        x = self.conv3(x)\n",
    "        x = self.conv4(x)\n",
    "        x = self.pool2(x)\n",
    "        x = self.conv5(x)\n",
    "        x = self.conv6(x)\n",
    "        x = self.conv7(x)\n",
    "        x = self.pool3(x)\n",
    "        x = self.conv8(x)\n",
    "        x = self.conv9(x)\n",
    "        x = self.conv10(x)\n",
    "        \n",
    "        # Decoder path\n",
    "        x = self.ups1(x)\n",
    "        x = self.conv11(x)\n",
    "        x = self.conv12(x)\n",
    "        x = self.conv13(x)\n",
    "        x = self.ups2(x)\n",
    "        x = self.conv14(x)\n",
    "        x = self.conv15(x)\n",
    "        x = self.ups3(x)\n",
    "        x = self.conv16(x)\n",
    "        x = self.conv17(x)\n",
    "        x = self.conv18(x)\n",
    "\n",
    "        return x                       \n",
    "    \n",
    "    def _init_weights(self):\n",
    "        \"\"\"Initialize model weights following TrackNet paper specifications.\"\"\"\n",
    "        for module in self.modules():\n",
    "            if isinstance(module, nn.Conv2d):\n",
    "                nn.init.uniform_(module.weight, -0.05, 0.05)\n",
    "                if module.bias is not None:\n",
    "                    nn.init.constant_(module.bias, 0)\n",
    "            elif isinstance(module, nn.BatchNorm2d):\n",
    "                nn.init.constant_(module.weight, 1)\n",
    "                nn.init.constant_(module.bias, 0)\n",
    "\n",
    "\n",
    "# Test model instantiation and forward pass\n",
    "model = TrackNet().to(config.DEVICE)\n",
    "inp = torch.randn(config.BATCH_SIZE, 9, config.INPUT_HEIGHT, config.INPUT_WIDTH).to(config.DEVICE)\n",
    "out = model(inp)\n",
    "print('out = {}'.format(out.shape))"
   ]
  },
  {
   "cell_type": "markdown",
   "id": "0041b97a",
   "metadata": {},
   "source": [
    "## Step 4: Training and Validation Logic\n",
    "\n",
    "This section implements the core training and evaluation functions:\n",
    "\n",
    "### Helper Functions:\n",
    "- **`get_coords_from_heatmap()`**: Extracts ball coordinates from predicted heatmaps\n",
    "- **`calculate_metrics()`**: Computes precision, recall, and F1 score\n",
    "- **`postprocess()`**: Applies Hough Circle Transform to refine predictions\n",
    "\n",
    "### Validation Strategy:\n",
    "- Granular metrics per visibility class (easy, hard, occluded)\n",
    "- Distance-based accuracy measurement (5-pixel threshold)\n",
    "- Performance tracking across different ball visibility conditions"
   ]
  },
  {
   "cell_type": "markdown",
   "id": "92b5d637",
   "metadata": {},
   "source": [
    "### Utility Functions for Evaluation\n",
    "\n",
    "Helper functions to extract ball coordinates from heatmaps and calculate performance metrics."
   ]
  },
  {
   "cell_type": "code",
   "execution_count": 6,
   "id": "26d6c4c1",
   "metadata": {},
   "outputs": [],
   "source": [
    "def get_coords_from_heatmap(heatmap):\n",
    "    \"\"\"\n",
    "    Finds the (x, y) coordinates of the maximum value in a heatmap.\n",
    "    \"\"\"\n",
    "    max_val = heatmap.max()\n",
    "    if max_val == 0:\n",
    "        return -1, -1 # No prediction\n",
    "        \n",
    "    coords = (heatmap == max_val).nonzero()\n",
    "    # Take the first one if there are multiple max values\n",
    "    return coords[0, 1].item(), coords[0, 0].item()\n",
    "\n",
    "def calculate_metrics(pred_coords, gt_coords, threshold=5):\n",
    "    \"\"\"\n",
    "    Calculates TP, FP, FN based on distance between predicted and GT coordinates.\n",
    "    \"\"\"\n",
    "    tp, fp, fn = 0, 0, 0\n",
    "    \n",
    "    for (px, py), (gx, gy) in zip(pred_coords, gt_coords):\n",
    "        gt_ball_present = (gx != -1)\n",
    "        pred_ball_present = (px != -1)\n",
    "        \n",
    "        if gt_ball_present and pred_ball_present:\n",
    "            dist = math.sqrt((px - gx)**2 + (py - gy)**2)\n",
    "            if dist <= threshold:\n",
    "                tp += 1\n",
    "            else:\n",
    "                fp += 1 # Prediction was too far away\n",
    "                fn += 1 # Missed the actual ball\n",
    "        elif gt_ball_present and not pred_ball_present:\n",
    "            fn += 1 # Model failed to predict a ball that was there\n",
    "        elif not gt_ball_present and pred_ball_present:\n",
    "            fp += 1 # Model predicted a ball that wasn't there\n",
    "            \n",
    "    return tp, fp, fn"
   ]
  },
  {
   "cell_type": "markdown",
   "id": "b17859b1",
   "metadata": {},
   "source": [
    "### Training and Validation Functions\n",
    "\n",
    "Core functions for:\n",
    "- **Training**: Forward/backward pass, loss calculation, and parameter updates\n",
    "- **Postprocessing**: Hough Circle Transform for refined ball detection\n",
    "- **Validation**: Comprehensive evaluation with per-class metrics and distance-based accuracy"
   ]
  },
  {
   "cell_type": "code",
   "execution_count": null,
   "id": "e96838dd",
   "metadata": {},
   "outputs": [],
   "source": [
    "import time\n",
    "from scipy.spatial import distance\n",
    "\n",
    "def train(model, loader, optimizer, loss_fn, device, epoch, steps_per_epoch):\n",
    "    \"\"\"\n",
    "    Execute one training epoch with specified number of steps.\n",
    "    \n",
    "    Args:\n",
    "        model (nn.Module): TrackNet model to train\n",
    "        loader (DataLoader): Training data loader\n",
    "        optimizer (torch.optim): Optimizer for parameter updates\n",
    "        loss_fn (nn.Module): Loss function (CrossEntropyLoss)\n",
    "        device (str): Device to run training on ('cuda' or 'cpu')\n",
    "        epoch (int): Current epoch number\n",
    "        steps_per_epoch (int): Maximum steps per epoch (200 as per paper)\n",
    "        \n",
    "    Returns:\n",
    "        float: Average loss for the epoch\n",
    "    \"\"\"\n",
    "    model.train()\n",
    "    total_loss = 0\n",
    "    \n",
    "    # Progress bar for in-training updates\n",
    "    pbar = tqdm(loader, total=steps_per_epoch, desc=f\"Epoch {epoch+1}/{config.NUM_EPOCHS} [Train]\")\n",
    "    \n",
    "    for i, (inputs, targets, _, _, _) in enumerate(pbar):\n",
    "        if i >= steps_per_epoch:\n",
    "            break\n",
    "            \n",
    "        inputs = inputs.to(device)\n",
    "        targets = targets.to(device)  # Shape: (N, H, W)\n",
    "        \n",
    "        # Forward pass: predict 256-class heatmap\n",
    "        predictions = model(inputs)  # Shape: (N, 256, H, W)\n",
    "        \n",
    "        # Compute pixel-wise classification loss\n",
    "        loss = loss_fn(predictions, targets)\n",
    "        \n",
    "        # Backward pass and optimization\n",
    "        optimizer.zero_grad()\n",
    "        loss.backward()\n",
    "        optimizer.step()\n",
    "        \n",
    "        total_loss += loss.item()\n",
    "        pbar.set_postfix(loss=f'{loss.item():.4f}')\n",
    "        \n",
    "    return total_loss / steps_per_epoch\n",
    "\n",
    "def postprocess(heatmap):\n",
    "    \"\"\"\n",
    "    Extract ball coordinates from predicted heatmap using Hough Circle Transform.\n",
    "    \n",
    "    Applies binary thresholding followed by circle detection to find the most\n",
    "    likely ball position. This follows the methodology from the TrackNet paper.\n",
    "    \n",
    "    Args:\n",
    "        heatmap (np.ndarray): 2D heatmap with intensity values 0-255\n",
    "        \n",
    "    Returns:\n",
    "        tuple: (x, y) coordinates of detected ball, or (None, None) if not found\n",
    "    \"\"\"\n",
    "    heatmap = heatmap.astype(np.uint8)\n",
    "    \n",
    "    # Create binary mask from heatmap\n",
    "    ret, binary_heatmap = cv2.threshold(heatmap, 127, 255, cv2.THRESH_BINARY)\n",
    "    \n",
    "    # Detect circular patterns in binary image\n",
    "    circles = cv2.HoughCircles(binary_heatmap, cv2.HOUGH_GRADIENT, dp=1, minDist=1,\n",
    "                               param1=50, param2=2, minRadius=2, maxRadius=7)\n",
    "    \n",
    "    x, y = None, None\n",
    "    if circles is not None and len(circles) == 1:\n",
    "        # Use center of detected circle as ball position\n",
    "        x = circles[0][0][0]\n",
    "        y = circles[0][0][1]\n",
    "        \n",
    "    return x, y\n",
    "\n",
    "def validate(model, loader, loss_fn, device, epoch, min_dist_px=5):\n",
    "    \"\"\"\n",
    "    Validate model performance with granular metrics per visibility class.\n",
    "    \n",
    "    Evaluates model predictions against ground truth using distance-based\n",
    "    accuracy measurement. Tracks performance across different ball visibility\n",
    "    conditions (easy, hard, occluded) as specified in TrackNet paper.\n",
    "    \n",
    "    Args:\n",
    "        model (nn.Module): TrackNet model to validate\n",
    "        loader (DataLoader): Validation data loader\n",
    "        loss_fn (nn.Module): Loss function for validation loss\n",
    "        device (str): Device to run validation on\n",
    "        epoch (int): Current epoch number\n",
    "        min_dist_px (int): Distance threshold for correct prediction (default: 5)\n",
    "        \n",
    "    Returns:\n",
    "        tuple: (avg_loss, precision, recall, f1) validation metrics\n",
    "    \"\"\"\n",
    "    model.eval()\n",
    "    total_loss = 0\n",
    "    \n",
    "    # Initialize metric counters for visibility classes (0=none, 1=easy, 2=hard, 3=occluded)\n",
    "    tp = [0] * 4  # True positives\n",
    "    fp = [0] * 4  # False positives\n",
    "    fn = [0] * 4  # False negatives\n",
    "    tn = [0] * 4  # True negatives (only for vis=0)\n",
    "\n",
    "    pbar = tqdm(loader, desc=f\"Epoch {epoch+1}/{config.NUM_EPOCHS} [Val]\")\n",
    "\n",
    "    with torch.no_grad():\n",
    "        for inputs, targets, gt_x, gt_y, gt_vis in pbar:\n",
    "            inputs = inputs.to(device)\n",
    "            targets = targets.to(device)\n",
    "\n",
    "            predictions = model(inputs)\n",
    "            loss = loss_fn(predictions, targets)\n",
    "            total_loss += loss.item()\n",
    "\n",
    "            # Convert model output to predicted heatmaps\n",
    "            pred_heatmaps = torch.argmax(predictions, dim=1).cpu().numpy()\n",
    "\n",
    "            # Evaluate each sample in the batch\n",
    "            for i in range(len(inputs)):\n",
    "                px, py = postprocess(pred_heatmaps[i])\n",
    "                gx, gy, gv = gt_x[i].item(), gt_y[i].item(), gt_vis[i].item()\n",
    "\n",
    "                is_pred_ball = (px is not None)\n",
    "                is_gt_ball = (gv != 0)\n",
    "\n",
    "                if is_gt_ball:\n",
    "                    if is_pred_ball:\n",
    "                        # Check if prediction is within distance threshold\n",
    "                        dist = distance.euclidean((px, py), (gx, gy))\n",
    "                        if dist < min_dist_px:\n",
    "                            tp[gv] += 1\n",
    "                        else:\n",
    "                            fp[gv] += 1  # Prediction too far from ground truth\n",
    "                    else:\n",
    "                        fn[gv] += 1  # Failed to detect existing ball\n",
    "                else:  # No ground truth ball\n",
    "                    if is_pred_ball:\n",
    "                        fp[gv] += 1  # False detection\n",
    "                    else:\n",
    "                        tn[gv] += 1  # Correct no-ball prediction\n",
    "                        \n",
    "    avg_loss = total_loss / len(loader)\n",
    "    \n",
    "    # Calculate aggregate metrics for frames with visible balls (vis=1,2,3)\n",
    "    total_tp = sum(tp[1:])\n",
    "    total_fp = sum(fp[1:])\n",
    "    total_fn = sum(fn[1:])\n",
    "    \n",
    "    eps = 1e-6\n",
    "    precision = total_tp / (total_tp + total_fp + eps)\n",
    "    recall = total_tp / (total_tp + total_fn + eps)\n",
    "    f1 = 2 * (precision * recall) / (precision + recall + eps)\n",
    "\n",
    "    # Print detailed breakdown by visibility class\n",
    "    print(f\"\\n--- Validation Metrics (Epoch {epoch+1}) ---\")\n",
    "    print(f\"  - Vis Class 1 (Easy): TP={tp[1]}, FP={fp[1]}, FN={fn[1]}\")\n",
    "    print(f\"  - Vis Class 2 (Hard): TP={tp[2]}, FP={fp[2]}, FN={fn[2]}\")\n",
    "    print(f\"  - Vis Class 3 (Occluded): TP={tp[3]}, FP={fp[3]}, FN={fn[3]}\")\n",
    "    print(f\"  - No Ball (Vis 0): TN={tn[0]}, FP={fp[0]}\")\n",
    "    print(\"  ------------------------------------\")\n",
    "    \n",
    "    return avg_loss, precision, recall, f1"
   ]
  },
  {
   "cell_type": "markdown",
   "id": "66eec224",
   "metadata": {},
   "source": [
    "## Step 5: Main Training Loop\n",
    "\n",
    "Execute the complete training pipeline:\n",
    "\n",
    "### Training Setup:\n",
    "- Initialize datasets and data loaders for train/validation splits\n",
    "- Configure the TrackNet model with Adadelta optimizer\n",
    "- Set up TensorBoard logging for monitoring training progress\n",
    "\n",
    "### Training Process:\n",
    "- Train for 500 epochs with 200 steps per epoch (as per paper)\n",
    "- Validate every 5 epochs with detailed performance metrics\n",
    "- Save best model based on F1 score and latest model checkpoint\n",
    "- Log all metrics to TensorBoard for visualization\n",
    "\n",
    "This follows the exact training protocol specified in the TrackNet paper."
   ]
  },
  {
   "cell_type": "code",
   "execution_count": null,
   "id": "2762d460",
   "metadata": {},
   "outputs": [
    {
     "name": "stdout",
     "output_type": "stream",
     "text": [
      "--- Initializing Datasets and Dataloaders ---\n",
      "Mode = train, Samples = 13751\n",
      "Mode = val, Samples = 5894\n",
      "\n",
      "--- Initializing Model, Optimizer, and Loss ---\n",
      "\n",
      "--- Starting Training ---\n"
     ]
    },
    {
     "name": "stderr",
     "output_type": "stream",
     "text": [
      "Epoch 1/500 [Train]: 100%|██████████| 200/200 [00:37<00:00,  5.34it/s, loss=4.0330]\n"
     ]
    },
    {
     "name": "stdout",
     "output_type": "stream",
     "text": [
      "[Epoch 1] Train Loss: 4.8701\n"
     ]
    },
    {
     "name": "stderr",
     "output_type": "stream",
     "text": [
      "Epoch 2/500 [Train]: 100%|██████████| 200/200 [00:37<00:00,  5.41it/s, loss=2.1814]\n"
     ]
    },
    {
     "name": "stdout",
     "output_type": "stream",
     "text": [
      "[Epoch 2] Train Loss: 3.1011\n"
     ]
    },
    {
     "name": "stderr",
     "output_type": "stream",
     "text": [
      "Epoch 3/500 [Train]: 100%|██████████| 200/200 [00:37<00:00,  5.40it/s, loss=0.8141]\n"
     ]
    },
    {
     "name": "stdout",
     "output_type": "stream",
     "text": [
      "[Epoch 3] Train Loss: 1.4140\n"
     ]
    },
    {
     "name": "stderr",
     "output_type": "stream",
     "text": [
      "Epoch 4/500 [Train]: 100%|██████████| 200/200 [00:37<00:00,  5.39it/s, loss=0.3039]\n"
     ]
    },
    {
     "name": "stdout",
     "output_type": "stream",
     "text": [
      "[Epoch 4] Train Loss: 0.5095\n"
     ]
    },
    {
     "name": "stderr",
     "output_type": "stream",
     "text": [
      "Epoch 5/500 [Train]: 100%|██████████| 200/200 [00:36<00:00,  5.41it/s, loss=0.1308]\n"
     ]
    },
    {
     "name": "stdout",
     "output_type": "stream",
     "text": [
      "[Epoch 5] Train Loss: 0.2039\n"
     ]
    },
    {
     "name": "stderr",
     "output_type": "stream",
     "text": [
      "Epoch 5/500 [Val]: 100%|██████████| 2947/2947 [04:01<00:00, 12.20it/s]\n"
     ]
    },
    {
     "name": "stdout",
     "output_type": "stream",
     "text": [
      "\n",
      "--- Validation Metrics (Epoch 5) ---\n",
      "  - Vis Class 1 (Easy): TP=0, FP=906, FN=4352\n",
      "  - Vis Class 2 (Hard): TP=0, FP=73, FN=350\n",
      "  - Vis Class 3 (Occluded): TP=0, FP=1, FN=23\n",
      "  - No Ball (Vis 0): TN=169, FP=20\n",
      "  ------------------------------------\n",
      "[Epoch 5] Val Loss: 0.2338, Precision: 0.0000, Recall: 0.0000, F1: 0.0000\n"
     ]
    },
    {
     "name": "stderr",
     "output_type": "stream",
     "text": [
      "Epoch 6/500 [Train]: 100%|██████████| 200/200 [00:36<00:00,  5.45it/s, loss=0.0624]\n"
     ]
    },
    {
     "name": "stdout",
     "output_type": "stream",
     "text": [
      "[Epoch 6] Train Loss: 0.0922\n"
     ]
    },
    {
     "name": "stderr",
     "output_type": "stream",
     "text": [
      "Epoch 7/500 [Train]: 100%|██████████| 200/200 [00:36<00:00,  5.45it/s, loss=0.0315]\n"
     ]
    },
    {
     "name": "stdout",
     "output_type": "stream",
     "text": [
      "[Epoch 7] Train Loss: 0.0447\n"
     ]
    },
    {
     "name": "stderr",
     "output_type": "stream",
     "text": [
      "Epoch 8/500 [Train]: 100%|██████████| 200/200 [00:36<00:00,  5.44it/s, loss=0.0173]\n"
     ]
    },
    {
     "name": "stdout",
     "output_type": "stream",
     "text": [
      "[Epoch 8] Train Loss: 0.0233\n"
     ]
    },
    {
     "name": "stderr",
     "output_type": "stream",
     "text": [
      "Epoch 9/500 [Train]: 100%|██████████| 200/200 [00:36<00:00,  5.44it/s, loss=0.0108]\n"
     ]
    },
    {
     "name": "stdout",
     "output_type": "stream",
     "text": [
      "[Epoch 9] Train Loss: 0.0135\n"
     ]
    },
    {
     "name": "stderr",
     "output_type": "stream",
     "text": [
      "Epoch 10/500 [Train]: 100%|██████████| 200/200 [00:36<00:00,  5.44it/s, loss=0.0081]\n"
     ]
    },
    {
     "name": "stdout",
     "output_type": "stream",
     "text": [
      "[Epoch 10] Train Loss: 0.0091\n"
     ]
    },
    {
     "name": "stderr",
     "output_type": "stream",
     "text": [
      "Epoch 10/500 [Val]: 100%|██████████| 2947/2947 [03:59<00:00, 12.33it/s]\n"
     ]
    },
    {
     "name": "stdout",
     "output_type": "stream",
     "text": [
      "\n",
      "--- Validation Metrics (Epoch 10) ---\n",
      "  - Vis Class 1 (Easy): TP=0, FP=862, FN=4396\n",
      "  - Vis Class 2 (Hard): TP=0, FP=72, FN=351\n",
      "  - Vis Class 3 (Occluded): TP=0, FP=1, FN=23\n",
      "  - No Ball (Vis 0): TN=169, FP=20\n",
      "  ------------------------------------\n",
      "[Epoch 10] Val Loss: 0.1087, Precision: 0.0000, Recall: 0.0000, F1: 0.0000\n"
     ]
    },
    {
     "name": "stderr",
     "output_type": "stream",
     "text": [
      "Epoch 11/500 [Train]: 100%|██████████| 200/200 [00:37<00:00,  5.39it/s, loss=0.0071]\n"
     ]
    },
    {
     "name": "stdout",
     "output_type": "stream",
     "text": [
      "[Epoch 11] Train Loss: 0.0074\n"
     ]
    },
    {
     "name": "stderr",
     "output_type": "stream",
     "text": [
      "Epoch 12/500 [Train]: 100%|██████████| 200/200 [00:36<00:00,  5.44it/s, loss=0.0066]\n"
     ]
    },
    {
     "name": "stdout",
     "output_type": "stream",
     "text": [
      "[Epoch 12] Train Loss: 0.0066\n"
     ]
    },
    {
     "name": "stderr",
     "output_type": "stream",
     "text": [
      "Epoch 13/500 [Train]: 100%|██████████| 200/200 [00:36<00:00,  5.47it/s, loss=0.0063]\n"
     ]
    },
    {
     "name": "stdout",
     "output_type": "stream",
     "text": [
      "[Epoch 13] Train Loss: 0.0064\n"
     ]
    },
    {
     "name": "stderr",
     "output_type": "stream",
     "text": [
      "Epoch 14/500 [Train]: 100%|██████████| 200/200 [00:36<00:00,  5.49it/s, loss=0.0038]\n"
     ]
    },
    {
     "name": "stdout",
     "output_type": "stream",
     "text": [
      "[Epoch 14] Train Loss: 0.0061\n"
     ]
    },
    {
     "name": "stderr",
     "output_type": "stream",
     "text": [
      "Epoch 15/500 [Train]: 100%|██████████| 200/200 [00:36<00:00,  5.49it/s, loss=0.0064]\n"
     ]
    },
    {
     "name": "stdout",
     "output_type": "stream",
     "text": [
      "[Epoch 15] Train Loss: 0.0060\n"
     ]
    },
    {
     "name": "stderr",
     "output_type": "stream",
     "text": [
      "Epoch 15/500 [Val]: 100%|██████████| 2947/2947 [04:01<00:00, 12.22it/s]\n"
     ]
    },
    {
     "name": "stdout",
     "output_type": "stream",
     "text": [
      "\n",
      "--- Validation Metrics (Epoch 15) ---\n",
      "  - Vis Class 1 (Easy): TP=0, FP=64, FN=5194\n",
      "  - Vis Class 2 (Hard): TP=0, FP=2, FN=421\n",
      "  - Vis Class 3 (Occluded): TP=0, FP=0, FN=24\n",
      "  - No Ball (Vis 0): TN=189, FP=0\n",
      "  ------------------------------------\n",
      "[Epoch 15] Val Loss: 0.0164, Precision: 0.0000, Recall: 0.0000, F1: 0.0000\n"
     ]
    },
    {
     "name": "stderr",
     "output_type": "stream",
     "text": [
      "Epoch 16/500 [Train]: 100%|██████████| 200/200 [00:36<00:00,  5.49it/s, loss=0.0063]\n"
     ]
    },
    {
     "name": "stdout",
     "output_type": "stream",
     "text": [
      "[Epoch 16] Train Loss: 0.0060\n"
     ]
    },
    {
     "name": "stderr",
     "output_type": "stream",
     "text": [
      "Epoch 17/500 [Train]: 100%|██████████| 200/200 [00:37<00:00,  5.37it/s, loss=0.0061]\n"
     ]
    },
    {
     "name": "stdout",
     "output_type": "stream",
     "text": [
      "[Epoch 17] Train Loss: 0.0059\n"
     ]
    },
    {
     "name": "stderr",
     "output_type": "stream",
     "text": [
      "Epoch 18/500 [Train]: 100%|██████████| 200/200 [00:36<00:00,  5.42it/s, loss=0.0059]\n"
     ]
    },
    {
     "name": "stdout",
     "output_type": "stream",
     "text": [
      "[Epoch 18] Train Loss: 0.0059\n"
     ]
    },
    {
     "name": "stderr",
     "output_type": "stream",
     "text": [
      "Epoch 19/500 [Train]: 100%|██████████| 200/200 [00:36<00:00,  5.42it/s, loss=0.0061]\n"
     ]
    },
    {
     "name": "stdout",
     "output_type": "stream",
     "text": [
      "[Epoch 19] Train Loss: 0.0059\n"
     ]
    },
    {
     "name": "stderr",
     "output_type": "stream",
     "text": [
      "Epoch 20/500 [Train]: 100%|██████████| 200/200 [00:36<00:00,  5.45it/s, loss=0.0056]\n"
     ]
    },
    {
     "name": "stdout",
     "output_type": "stream",
     "text": [
      "[Epoch 20] Train Loss: 0.0057\n"
     ]
    },
    {
     "name": "stderr",
     "output_type": "stream",
     "text": [
      "Epoch 20/500 [Val]: 100%|██████████| 2947/2947 [04:05<00:00, 11.99it/s]\n"
     ]
    },
    {
     "name": "stdout",
     "output_type": "stream",
     "text": [
      "\n",
      "--- Validation Metrics (Epoch 20) ---\n",
      "  - Vis Class 1 (Easy): TP=0, FP=2633, FN=2625\n",
      "  - Vis Class 2 (Hard): TP=0, FP=162, FN=261\n",
      "  - Vis Class 3 (Occluded): TP=0, FP=7, FN=17\n",
      "  - No Ball (Vis 0): TN=91, FP=98\n",
      "  ------------------------------------\n",
      "[Epoch 20] Val Loss: 0.0125, Precision: 0.0000, Recall: 0.0000, F1: 0.0000\n"
     ]
    },
    {
     "name": "stderr",
     "output_type": "stream",
     "text": [
      "Epoch 21/500 [Train]: 100%|██████████| 200/200 [00:36<00:00,  5.50it/s, loss=0.0059]\n"
     ]
    },
    {
     "name": "stdout",
     "output_type": "stream",
     "text": [
      "[Epoch 21] Train Loss: 0.0056\n"
     ]
    },
    {
     "name": "stderr",
     "output_type": "stream",
     "text": [
      "Epoch 22/500 [Train]: 100%|██████████| 200/200 [00:35<00:00,  5.56it/s, loss=0.0058]\n"
     ]
    },
    {
     "name": "stdout",
     "output_type": "stream",
     "text": [
      "[Epoch 22] Train Loss: 0.0056\n"
     ]
    },
    {
     "name": "stderr",
     "output_type": "stream",
     "text": [
      "Epoch 23/500 [Train]: 100%|██████████| 200/200 [00:35<00:00,  5.56it/s, loss=0.0057]\n"
     ]
    },
    {
     "name": "stdout",
     "output_type": "stream",
     "text": [
      "[Epoch 23] Train Loss: 0.0055\n"
     ]
    },
    {
     "name": "stderr",
     "output_type": "stream",
     "text": [
      "Epoch 24/500 [Train]: 100%|██████████| 200/200 [00:36<00:00,  5.54it/s, loss=0.0029]\n"
     ]
    },
    {
     "name": "stdout",
     "output_type": "stream",
     "text": [
      "[Epoch 24] Train Loss: 0.0055\n"
     ]
    },
    {
     "name": "stderr",
     "output_type": "stream",
     "text": [
      "Epoch 25/500 [Train]: 100%|██████████| 200/200 [00:36<00:00,  5.50it/s, loss=0.0055]\n"
     ]
    },
    {
     "name": "stdout",
     "output_type": "stream",
     "text": [
      "[Epoch 25] Train Loss: 0.0054\n"
     ]
    },
    {
     "name": "stderr",
     "output_type": "stream",
     "text": [
      "Epoch 25/500 [Val]: 100%|██████████| 2947/2947 [04:05<00:00, 12.01it/s]\n"
     ]
    },
    {
     "name": "stdout",
     "output_type": "stream",
     "text": [
      "\n",
      "--- Validation Metrics (Epoch 25) ---\n",
      "  - Vis Class 1 (Easy): TP=0, FP=2167, FN=3091\n",
      "  - Vis Class 2 (Hard): TP=0, FP=178, FN=245\n",
      "  - Vis Class 3 (Occluded): TP=0, FP=5, FN=19\n",
      "  - No Ball (Vis 0): TN=122, FP=67\n",
      "  ------------------------------------\n",
      "[Epoch 25] Val Loss: 0.0128, Precision: 0.0000, Recall: 0.0000, F1: 0.0000\n"
     ]
    },
    {
     "name": "stderr",
     "output_type": "stream",
     "text": [
      "Epoch 26/500 [Train]: 100%|██████████| 200/200 [00:36<00:00,  5.44it/s, loss=0.0052]\n"
     ]
    },
    {
     "name": "stdout",
     "output_type": "stream",
     "text": [
      "[Epoch 26] Train Loss: 0.0053\n"
     ]
    },
    {
     "name": "stderr",
     "output_type": "stream",
     "text": [
      "Epoch 27/500 [Train]: 100%|██████████| 200/200 [00:36<00:00,  5.45it/s, loss=0.0054]\n"
     ]
    },
    {
     "name": "stdout",
     "output_type": "stream",
     "text": [
      "[Epoch 27] Train Loss: 0.0052\n"
     ]
    },
    {
     "name": "stderr",
     "output_type": "stream",
     "text": [
      "Epoch 28/500 [Train]: 100%|██████████| 200/200 [00:37<00:00,  5.39it/s, loss=0.0046]\n"
     ]
    },
    {
     "name": "stdout",
     "output_type": "stream",
     "text": [
      "[Epoch 28] Train Loss: 0.0049\n"
     ]
    },
    {
     "name": "stderr",
     "output_type": "stream",
     "text": [
      "Epoch 29/500 [Train]: 100%|██████████| 200/200 [00:36<00:00,  5.44it/s, loss=0.0044]\n"
     ]
    },
    {
     "name": "stdout",
     "output_type": "stream",
     "text": [
      "[Epoch 29] Train Loss: 0.0046\n"
     ]
    },
    {
     "name": "stderr",
     "output_type": "stream",
     "text": [
      "Epoch 30/500 [Train]: 100%|██████████| 200/200 [00:36<00:00,  5.42it/s, loss=0.0041]\n"
     ]
    },
    {
     "name": "stdout",
     "output_type": "stream",
     "text": [
      "[Epoch 30] Train Loss: 0.0040\n"
     ]
    },
    {
     "name": "stderr",
     "output_type": "stream",
     "text": [
      "Epoch 30/500 [Val]: 100%|██████████| 2947/2947 [04:02<00:00, 12.15it/s]\n"
     ]
    },
    {
     "name": "stdout",
     "output_type": "stream",
     "text": [
      "\n",
      "--- Validation Metrics (Epoch 30) ---\n",
      "  - Vis Class 1 (Easy): TP=0, FP=390, FN=4868\n",
      "  - Vis Class 2 (Hard): TP=0, FP=19, FN=404\n",
      "  - Vis Class 3 (Occluded): TP=1, FP=4, FN=19\n",
      "  - No Ball (Vis 0): TN=184, FP=5\n",
      "  ------------------------------------\n",
      "[Epoch 30] Val Loss: 0.0063, Precision: 0.0024, Recall: 0.0002, F1: 0.0004\n",
      "  -> New best F1 score: 0.0004. Saving best model to models\\model_best.pt\n"
     ]
    },
    {
     "name": "stderr",
     "output_type": "stream",
     "text": [
      "Epoch 31/500 [Train]: 100%|██████████| 200/200 [00:36<00:00,  5.42it/s, loss=0.0037]\n"
     ]
    },
    {
     "name": "stdout",
     "output_type": "stream",
     "text": [
      "[Epoch 31] Train Loss: 0.0035\n"
     ]
    },
    {
     "name": "stderr",
     "output_type": "stream",
     "text": [
      "Epoch 32/500 [Train]: 100%|██████████| 200/200 [00:37<00:00,  5.37it/s, loss=0.0046]\n"
     ]
    },
    {
     "name": "stdout",
     "output_type": "stream",
     "text": [
      "[Epoch 32] Train Loss: 0.0030\n"
     ]
    },
    {
     "name": "stderr",
     "output_type": "stream",
     "text": [
      "Epoch 33/500 [Train]: 100%|██████████| 200/200 [00:37<00:00,  5.29it/s, loss=0.0024]\n"
     ]
    },
    {
     "name": "stdout",
     "output_type": "stream",
     "text": [
      "[Epoch 33] Train Loss: 0.0029\n"
     ]
    },
    {
     "name": "stderr",
     "output_type": "stream",
     "text": [
      "Epoch 34/500 [Train]: 100%|██████████| 200/200 [00:38<00:00,  5.21it/s, loss=0.0026]\n"
     ]
    },
    {
     "name": "stdout",
     "output_type": "stream",
     "text": [
      "[Epoch 34] Train Loss: 0.0027\n"
     ]
    },
    {
     "name": "stderr",
     "output_type": "stream",
     "text": [
      "Epoch 35/500 [Train]: 100%|██████████| 200/200 [00:38<00:00,  5.24it/s, loss=0.0028]\n"
     ]
    },
    {
     "name": "stdout",
     "output_type": "stream",
     "text": [
      "[Epoch 35] Train Loss: 0.0026\n"
     ]
    },
    {
     "name": "stderr",
     "output_type": "stream",
     "text": [
      "Epoch 35/500 [Val]: 100%|██████████| 2947/2947 [04:03<00:00, 12.08it/s]\n"
     ]
    },
    {
     "name": "stdout",
     "output_type": "stream",
     "text": [
      "\n",
      "--- Validation Metrics (Epoch 35) ---\n",
      "  - Vis Class 1 (Easy): TP=589, FP=219, FN=4450\n",
      "  - Vis Class 2 (Hard): TP=9, FP=10, FN=404\n",
      "  - Vis Class 3 (Occluded): TP=0, FP=0, FN=24\n",
      "  - No Ball (Vis 0): TN=189, FP=0\n",
      "  ------------------------------------\n",
      "[Epoch 35] Val Loss: 0.0028, Precision: 0.7231, Recall: 0.1092, F1: 0.1898\n",
      "  -> New best F1 score: 0.1898. Saving best model to models\\model_best.pt\n"
     ]
    },
    {
     "name": "stderr",
     "output_type": "stream",
     "text": [
      "Epoch 36/500 [Train]: 100%|██████████| 200/200 [00:37<00:00,  5.38it/s, loss=0.0022]\n"
     ]
    },
    {
     "name": "stdout",
     "output_type": "stream",
     "text": [
      "[Epoch 36] Train Loss: 0.0025\n"
     ]
    },
    {
     "name": "stderr",
     "output_type": "stream",
     "text": [
      "Epoch 37/500 [Train]: 100%|██████████| 200/200 [00:37<00:00,  5.37it/s, loss=0.0026]\n"
     ]
    },
    {
     "name": "stdout",
     "output_type": "stream",
     "text": [
      "[Epoch 37] Train Loss: 0.0025\n"
     ]
    },
    {
     "name": "stderr",
     "output_type": "stream",
     "text": [
      "Epoch 38/500 [Train]: 100%|██████████| 200/200 [00:37<00:00,  5.37it/s, loss=0.0024]\n"
     ]
    },
    {
     "name": "stdout",
     "output_type": "stream",
     "text": [
      "[Epoch 38] Train Loss: 0.0024\n"
     ]
    },
    {
     "name": "stderr",
     "output_type": "stream",
     "text": [
      "Epoch 39/500 [Train]: 100%|██████████| 200/200 [00:36<00:00,  5.41it/s, loss=0.0019]\n"
     ]
    },
    {
     "name": "stdout",
     "output_type": "stream",
     "text": [
      "[Epoch 39] Train Loss: 0.0024\n"
     ]
    },
    {
     "name": "stderr",
     "output_type": "stream",
     "text": [
      "Epoch 40/500 [Train]: 100%|██████████| 200/200 [00:37<00:00,  5.37it/s, loss=0.0025]\n"
     ]
    },
    {
     "name": "stdout",
     "output_type": "stream",
     "text": [
      "[Epoch 40] Train Loss: 0.0024\n"
     ]
    },
    {
     "name": "stderr",
     "output_type": "stream",
     "text": [
      "Epoch 40/500 [Val]: 100%|██████████| 2947/2947 [04:01<00:00, 12.20it/s]\n"
     ]
    },
    {
     "name": "stdout",
     "output_type": "stream",
     "text": [
      "\n",
      "--- Validation Metrics (Epoch 40) ---\n",
      "  - Vis Class 1 (Easy): TP=838, FP=218, FN=4202\n",
      "  - Vis Class 2 (Hard): TP=14, FP=4, FN=405\n",
      "  - Vis Class 3 (Occluded): TP=0, FP=0, FN=24\n",
      "  - No Ball (Vis 0): TN=189, FP=0\n",
      "  ------------------------------------\n",
      "[Epoch 40] Val Loss: 0.0028, Precision: 0.7933, Recall: 0.1554, F1: 0.2599\n",
      "  -> New best F1 score: 0.2599. Saving best model to models\\model_best.pt\n"
     ]
    },
    {
     "name": "stderr",
     "output_type": "stream",
     "text": [
      "Epoch 41/500 [Train]: 100%|██████████| 200/200 [00:36<00:00,  5.45it/s, loss=0.0035]\n"
     ]
    },
    {
     "name": "stdout",
     "output_type": "stream",
     "text": [
      "[Epoch 41] Train Loss: 0.0022\n"
     ]
    },
    {
     "name": "stderr",
     "output_type": "stream",
     "text": [
      "Epoch 42/500 [Train]: 100%|██████████| 200/200 [00:36<00:00,  5.46it/s, loss=0.0026]\n"
     ]
    },
    {
     "name": "stdout",
     "output_type": "stream",
     "text": [
      "[Epoch 42] Train Loss: 0.0023\n"
     ]
    },
    {
     "name": "stderr",
     "output_type": "stream",
     "text": [
      "Epoch 43/500 [Train]: 100%|██████████| 200/200 [00:36<00:00,  5.46it/s, loss=0.0037]\n"
     ]
    },
    {
     "name": "stdout",
     "output_type": "stream",
     "text": [
      "[Epoch 43] Train Loss: 0.0022\n"
     ]
    },
    {
     "name": "stderr",
     "output_type": "stream",
     "text": [
      "Epoch 44/500 [Train]: 100%|██████████| 200/200 [00:36<00:00,  5.49it/s, loss=0.0018]\n"
     ]
    },
    {
     "name": "stdout",
     "output_type": "stream",
     "text": [
      "[Epoch 44] Train Loss: 0.0023\n"
     ]
    },
    {
     "name": "stderr",
     "output_type": "stream",
     "text": [
      "Epoch 45/500 [Train]: 100%|██████████| 200/200 [00:35<00:00,  5.57it/s, loss=0.0021]\n"
     ]
    },
    {
     "name": "stdout",
     "output_type": "stream",
     "text": [
      "[Epoch 45] Train Loss: 0.0022\n"
     ]
    },
    {
     "name": "stderr",
     "output_type": "stream",
     "text": [
      "Epoch 45/500 [Val]: 100%|██████████| 2947/2947 [03:57<00:00, 12.43it/s]\n"
     ]
    },
    {
     "name": "stdout",
     "output_type": "stream",
     "text": [
      "\n",
      "--- Validation Metrics (Epoch 45) ---\n",
      "  - Vis Class 1 (Easy): TP=2268, FP=113, FN=2877\n",
      "  - Vis Class 2 (Hard): TP=61, FP=6, FN=356\n",
      "  - Vis Class 3 (Occluded): TP=0, FP=0, FN=24\n",
      "  - No Ball (Vis 0): TN=188, FP=1\n",
      "  ------------------------------------\n",
      "[Epoch 45] Val Loss: 0.0028, Precision: 0.9514, Recall: 0.4169, F1: 0.5798\n",
      "  -> New best F1 score: 0.5798. Saving best model to models\\model_best.pt\n"
     ]
    },
    {
     "name": "stderr",
     "output_type": "stream",
     "text": [
      "Epoch 46/500 [Train]: 100%|██████████| 200/200 [00:36<00:00,  5.53it/s, loss=0.0020]\n"
     ]
    },
    {
     "name": "stdout",
     "output_type": "stream",
     "text": [
      "[Epoch 46] Train Loss: 0.0022\n"
     ]
    },
    {
     "name": "stderr",
     "output_type": "stream",
     "text": [
      "Epoch 47/500 [Train]: 100%|██████████| 200/200 [00:37<00:00,  5.37it/s, loss=0.0012]\n"
     ]
    },
    {
     "name": "stdout",
     "output_type": "stream",
     "text": [
      "[Epoch 47] Train Loss: 0.0021\n"
     ]
    },
    {
     "name": "stderr",
     "output_type": "stream",
     "text": [
      "Epoch 48/500 [Train]: 100%|██████████| 200/200 [00:35<00:00,  5.56it/s, loss=0.0026]\n"
     ]
    },
    {
     "name": "stdout",
     "output_type": "stream",
     "text": [
      "[Epoch 48] Train Loss: 0.0021\n"
     ]
    },
    {
     "name": "stderr",
     "output_type": "stream",
     "text": [
      "Epoch 49/500 [Train]: 100%|██████████| 200/200 [00:36<00:00,  5.55it/s, loss=0.0032]\n"
     ]
    },
    {
     "name": "stdout",
     "output_type": "stream",
     "text": [
      "[Epoch 49] Train Loss: 0.0021\n"
     ]
    },
    {
     "name": "stderr",
     "output_type": "stream",
     "text": [
      "Epoch 50/500 [Train]: 100%|██████████| 200/200 [00:36<00:00,  5.55it/s, loss=0.0019]\n"
     ]
    },
    {
     "name": "stdout",
     "output_type": "stream",
     "text": [
      "[Epoch 50] Train Loss: 0.0021\n"
     ]
    },
    {
     "name": "stderr",
     "output_type": "stream",
     "text": [
      "Epoch 50/500 [Val]: 100%|██████████| 2947/2947 [03:56<00:00, 12.47it/s]\n"
     ]
    },
    {
     "name": "stdout",
     "output_type": "stream",
     "text": [
      "\n",
      "--- Validation Metrics (Epoch 50) ---\n",
      "  - Vis Class 1 (Easy): TP=2182, FP=187, FN=2889\n",
      "  - Vis Class 2 (Hard): TP=54, FP=13, FN=356\n",
      "  - Vis Class 3 (Occluded): TP=0, FP=1, FN=23\n",
      "  - No Ball (Vis 0): TN=189, FP=0\n",
      "  ------------------------------------\n",
      "[Epoch 50] Val Loss: 0.0024, Precision: 0.9175, Recall: 0.4062, F1: 0.5632\n"
     ]
    },
    {
     "name": "stderr",
     "output_type": "stream",
     "text": [
      "Epoch 51/500 [Train]: 100%|██████████| 200/200 [00:35<00:00,  5.58it/s, loss=0.0019]\n"
     ]
    },
    {
     "name": "stdout",
     "output_type": "stream",
     "text": [
      "[Epoch 51] Train Loss: 0.0021\n"
     ]
    },
    {
     "name": "stderr",
     "output_type": "stream",
     "text": [
      "Epoch 52/500 [Train]: 100%|██████████| 200/200 [00:35<00:00,  5.57it/s, loss=0.0022]\n"
     ]
    },
    {
     "name": "stdout",
     "output_type": "stream",
     "text": [
      "[Epoch 52] Train Loss: 0.0020\n"
     ]
    },
    {
     "name": "stderr",
     "output_type": "stream",
     "text": [
      "Epoch 53/500 [Train]: 100%|██████████| 200/200 [00:35<00:00,  5.58it/s, loss=0.0011]\n"
     ]
    },
    {
     "name": "stdout",
     "output_type": "stream",
     "text": [
      "[Epoch 53] Train Loss: 0.0020\n"
     ]
    },
    {
     "name": "stderr",
     "output_type": "stream",
     "text": [
      "Epoch 54/500 [Train]: 100%|██████████| 200/200 [00:35<00:00,  5.58it/s, loss=0.0026]\n"
     ]
    },
    {
     "name": "stdout",
     "output_type": "stream",
     "text": [
      "[Epoch 54] Train Loss: 0.0020\n"
     ]
    },
    {
     "name": "stderr",
     "output_type": "stream",
     "text": [
      "Epoch 55/500 [Train]: 100%|██████████| 200/200 [00:35<00:00,  5.57it/s, loss=0.0024]\n"
     ]
    },
    {
     "name": "stdout",
     "output_type": "stream",
     "text": [
      "[Epoch 55] Train Loss: 0.0020\n"
     ]
    },
    {
     "name": "stderr",
     "output_type": "stream",
     "text": [
      "Epoch 55/500 [Val]: 100%|██████████| 2947/2947 [03:57<00:00, 12.43it/s]\n"
     ]
    },
    {
     "name": "stdout",
     "output_type": "stream",
     "text": [
      "\n",
      "--- Validation Metrics (Epoch 55) ---\n",
      "  - Vis Class 1 (Easy): TP=3229, FP=404, FN=1625\n",
      "  - Vis Class 2 (Hard): TP=145, FP=25, FN=253\n",
      "  - Vis Class 3 (Occluded): TP=0, FP=3, FN=21\n",
      "  - No Ball (Vis 0): TN=184, FP=5\n",
      "  ------------------------------------\n",
      "[Epoch 55] Val Loss: 0.0024, Precision: 0.8865, Recall: 0.6399, F1: 0.7433\n",
      "  -> New best F1 score: 0.7433. Saving best model to models\\model_best.pt\n"
     ]
    },
    {
     "name": "stderr",
     "output_type": "stream",
     "text": [
      "Epoch 56/500 [Train]: 100%|██████████| 200/200 [00:35<00:00,  5.60it/s, loss=0.0021]\n"
     ]
    },
    {
     "name": "stdout",
     "output_type": "stream",
     "text": [
      "[Epoch 56] Train Loss: 0.0020\n"
     ]
    },
    {
     "name": "stderr",
     "output_type": "stream",
     "text": [
      "Epoch 57/500 [Train]: 100%|██████████| 200/200 [00:35<00:00,  5.60it/s, loss=0.0022]\n"
     ]
    },
    {
     "name": "stdout",
     "output_type": "stream",
     "text": [
      "[Epoch 57] Train Loss: 0.0019\n"
     ]
    },
    {
     "name": "stderr",
     "output_type": "stream",
     "text": [
      "Epoch 58/500 [Train]: 100%|██████████| 200/200 [00:35<00:00,  5.60it/s, loss=0.0015]\n"
     ]
    },
    {
     "name": "stdout",
     "output_type": "stream",
     "text": [
      "[Epoch 58] Train Loss: 0.0020\n"
     ]
    },
    {
     "name": "stderr",
     "output_type": "stream",
     "text": [
      "Epoch 59/500 [Train]: 100%|██████████| 200/200 [00:35<00:00,  5.60it/s, loss=0.0015]\n"
     ]
    },
    {
     "name": "stdout",
     "output_type": "stream",
     "text": [
      "[Epoch 59] Train Loss: 0.0019\n"
     ]
    },
    {
     "name": "stderr",
     "output_type": "stream",
     "text": [
      "Epoch 60/500 [Train]: 100%|██████████| 200/200 [00:35<00:00,  5.60it/s, loss=0.0016]\n"
     ]
    },
    {
     "name": "stdout",
     "output_type": "stream",
     "text": [
      "[Epoch 60] Train Loss: 0.0019\n"
     ]
    },
    {
     "name": "stderr",
     "output_type": "stream",
     "text": [
      "Epoch 60/500 [Val]: 100%|██████████| 2947/2947 [03:56<00:00, 12.47it/s]\n"
     ]
    },
    {
     "name": "stdout",
     "output_type": "stream",
     "text": [
      "\n",
      "--- Validation Metrics (Epoch 60) ---\n",
      "  - Vis Class 1 (Easy): TP=3841, FP=189, FN=1228\n",
      "  - Vis Class 2 (Hard): TP=168, FP=19, FN=236\n",
      "  - Vis Class 3 (Occluded): TP=0, FP=1, FN=23\n",
      "  - No Ball (Vis 0): TN=182, FP=7\n",
      "  ------------------------------------\n",
      "[Epoch 60] Val Loss: 0.0022, Precision: 0.9505, Recall: 0.7294, F1: 0.8254\n",
      "  -> New best F1 score: 0.8254. Saving best model to models\\model_best.pt\n"
     ]
    },
    {
     "name": "stderr",
     "output_type": "stream",
     "text": [
      "Epoch 61/500 [Train]: 100%|██████████| 200/200 [00:35<00:00,  5.60it/s, loss=0.0037]\n"
     ]
    },
    {
     "name": "stdout",
     "output_type": "stream",
     "text": [
      "[Epoch 61] Train Loss: 0.0019\n"
     ]
    },
    {
     "name": "stderr",
     "output_type": "stream",
     "text": [
      "Epoch 62/500 [Train]: 100%|██████████| 200/200 [00:35<00:00,  5.60it/s, loss=0.0036]\n"
     ]
    },
    {
     "name": "stdout",
     "output_type": "stream",
     "text": [
      "[Epoch 62] Train Loss: 0.0020\n"
     ]
    },
    {
     "name": "stderr",
     "output_type": "stream",
     "text": [
      "Epoch 63/500 [Train]: 100%|██████████| 200/200 [00:35<00:00,  5.59it/s, loss=0.0016]\n"
     ]
    },
    {
     "name": "stdout",
     "output_type": "stream",
     "text": [
      "[Epoch 63] Train Loss: 0.0019\n"
     ]
    },
    {
     "name": "stderr",
     "output_type": "stream",
     "text": [
      "Epoch 64/500 [Train]: 100%|██████████| 200/200 [00:35<00:00,  5.59it/s, loss=0.0022]\n"
     ]
    },
    {
     "name": "stdout",
     "output_type": "stream",
     "text": [
      "[Epoch 64] Train Loss: 0.0019\n"
     ]
    },
    {
     "name": "stderr",
     "output_type": "stream",
     "text": [
      "Epoch 65/500 [Train]: 100%|██████████| 200/200 [00:35<00:00,  5.57it/s, loss=0.0016]\n"
     ]
    },
    {
     "name": "stdout",
     "output_type": "stream",
     "text": [
      "[Epoch 65] Train Loss: 0.0019\n"
     ]
    },
    {
     "name": "stderr",
     "output_type": "stream",
     "text": [
      "Epoch 65/500 [Val]: 100%|██████████| 2947/2947 [03:58<00:00, 12.37it/s]\n"
     ]
    },
    {
     "name": "stdout",
     "output_type": "stream",
     "text": [
      "\n",
      "--- Validation Metrics (Epoch 65) ---\n",
      "  - Vis Class 1 (Easy): TP=3604, FP=189, FN=1465\n",
      "  - Vis Class 2 (Hard): TP=131, FP=12, FN=280\n",
      "  - Vis Class 3 (Occluded): TP=0, FP=1, FN=23\n",
      "  - No Ball (Vis 0): TN=187, FP=2\n",
      "  ------------------------------------\n",
      "[Epoch 65] Val Loss: 0.0020, Precision: 0.9487, Recall: 0.6787, F1: 0.7913\n"
     ]
    },
    {
     "name": "stderr",
     "output_type": "stream",
     "text": [
      "Epoch 66/500 [Train]: 100%|██████████| 200/200 [00:35<00:00,  5.60it/s, loss=0.0016]\n"
     ]
    },
    {
     "name": "stdout",
     "output_type": "stream",
     "text": [
      "[Epoch 66] Train Loss: 0.0019\n"
     ]
    },
    {
     "name": "stderr",
     "output_type": "stream",
     "text": [
      "Epoch 67/500 [Train]: 100%|██████████| 200/200 [00:35<00:00,  5.60it/s, loss=0.0015]\n"
     ]
    },
    {
     "name": "stdout",
     "output_type": "stream",
     "text": [
      "[Epoch 67] Train Loss: 0.0019\n"
     ]
    },
    {
     "name": "stderr",
     "output_type": "stream",
     "text": [
      "Epoch 68/500 [Train]: 100%|██████████| 200/200 [00:35<00:00,  5.59it/s, loss=0.0026]\n"
     ]
    },
    {
     "name": "stdout",
     "output_type": "stream",
     "text": [
      "[Epoch 68] Train Loss: 0.0018\n"
     ]
    },
    {
     "name": "stderr",
     "output_type": "stream",
     "text": [
      "Epoch 69/500 [Train]: 100%|██████████| 200/200 [00:35<00:00,  5.59it/s, loss=0.0015]\n"
     ]
    },
    {
     "name": "stdout",
     "output_type": "stream",
     "text": [
      "[Epoch 69] Train Loss: 0.0018\n"
     ]
    },
    {
     "name": "stderr",
     "output_type": "stream",
     "text": [
      "Epoch 70/500 [Train]: 100%|██████████| 200/200 [00:35<00:00,  5.59it/s, loss=0.0025]\n"
     ]
    },
    {
     "name": "stdout",
     "output_type": "stream",
     "text": [
      "[Epoch 70] Train Loss: 0.0019\n"
     ]
    },
    {
     "name": "stderr",
     "output_type": "stream",
     "text": [
      "Epoch 70/500 [Val]: 100%|██████████| 2947/2947 [03:52<00:00, 12.66it/s]\n"
     ]
    },
    {
     "name": "stdout",
     "output_type": "stream",
     "text": [
      "\n",
      "--- Validation Metrics (Epoch 70) ---\n",
      "  - Vis Class 1 (Easy): TP=149, FP=77, FN=5032\n",
      "  - Vis Class 2 (Hard): TP=0, FP=0, FN=423\n",
      "  - Vis Class 3 (Occluded): TP=0, FP=0, FN=24\n",
      "  - No Ball (Vis 0): TN=189, FP=0\n",
      "  ------------------------------------\n",
      "[Epoch 70] Val Loss: 0.0039, Precision: 0.6593, Recall: 0.0265, F1: 0.0509\n"
     ]
    },
    {
     "name": "stderr",
     "output_type": "stream",
     "text": [
      "Epoch 71/500 [Train]: 100%|██████████| 200/200 [00:36<00:00,  5.53it/s, loss=0.0019]\n"
     ]
    },
    {
     "name": "stdout",
     "output_type": "stream",
     "text": [
      "[Epoch 71] Train Loss: 0.0018\n"
     ]
    },
    {
     "name": "stderr",
     "output_type": "stream",
     "text": [
      "Epoch 72/500 [Train]: 100%|██████████| 200/200 [00:36<00:00,  5.52it/s, loss=0.0021]\n"
     ]
    },
    {
     "name": "stdout",
     "output_type": "stream",
     "text": [
      "[Epoch 72] Train Loss: 0.0018\n"
     ]
    },
    {
     "name": "stderr",
     "output_type": "stream",
     "text": [
      "Epoch 73/500 [Train]: 100%|██████████| 200/200 [00:36<00:00,  5.53it/s, loss=0.0018]\n"
     ]
    },
    {
     "name": "stdout",
     "output_type": "stream",
     "text": [
      "[Epoch 73] Train Loss: 0.0018\n"
     ]
    },
    {
     "name": "stderr",
     "output_type": "stream",
     "text": [
      "Epoch 74/500 [Train]: 100%|██████████| 200/200 [00:36<00:00,  5.51it/s, loss=0.0021]\n"
     ]
    },
    {
     "name": "stdout",
     "output_type": "stream",
     "text": [
      "[Epoch 74] Train Loss: 0.0019\n"
     ]
    },
    {
     "name": "stderr",
     "output_type": "stream",
     "text": [
      "Epoch 75/500 [Train]: 100%|██████████| 200/200 [00:36<00:00,  5.52it/s, loss=0.0016]\n"
     ]
    },
    {
     "name": "stdout",
     "output_type": "stream",
     "text": [
      "[Epoch 75] Train Loss: 0.0019\n"
     ]
    },
    {
     "name": "stderr",
     "output_type": "stream",
     "text": [
      "Epoch 75/500 [Val]: 100%|██████████| 2947/2947 [04:02<00:00, 12.14it/s]\n"
     ]
    },
    {
     "name": "stdout",
     "output_type": "stream",
     "text": [
      "\n",
      "--- Validation Metrics (Epoch 75) ---\n",
      "  - Vis Class 1 (Easy): TP=3835, FP=172, FN=1251\n",
      "  - Vis Class 2 (Hard): TP=155, FP=13, FN=255\n",
      "  - Vis Class 3 (Occluded): TP=1, FP=0, FN=23\n",
      "  - No Ball (Vis 0): TN=183, FP=6\n",
      "  ------------------------------------\n",
      "[Epoch 75] Val Loss: 0.0020, Precision: 0.9557, Recall: 0.7230, F1: 0.8232\n"
     ]
    },
    {
     "name": "stderr",
     "output_type": "stream",
     "text": [
      "Epoch 76/500 [Train]: 100%|██████████| 200/200 [00:36<00:00,  5.41it/s, loss=0.0015]\n"
     ]
    },
    {
     "name": "stdout",
     "output_type": "stream",
     "text": [
      "[Epoch 76] Train Loss: 0.0018\n"
     ]
    },
    {
     "name": "stderr",
     "output_type": "stream",
     "text": [
      "Epoch 77/500 [Train]: 100%|██████████| 200/200 [00:36<00:00,  5.53it/s, loss=0.0015]\n"
     ]
    },
    {
     "name": "stdout",
     "output_type": "stream",
     "text": [
      "[Epoch 77] Train Loss: 0.0017\n"
     ]
    },
    {
     "name": "stderr",
     "output_type": "stream",
     "text": [
      "Epoch 78/500 [Train]: 100%|██████████| 200/200 [00:35<00:00,  5.60it/s, loss=0.0015]\n"
     ]
    },
    {
     "name": "stdout",
     "output_type": "stream",
     "text": [
      "[Epoch 78] Train Loss: 0.0018\n"
     ]
    },
    {
     "name": "stderr",
     "output_type": "stream",
     "text": [
      "Epoch 79/500 [Train]: 100%|██████████| 200/200 [00:35<00:00,  5.58it/s, loss=0.0014]\n"
     ]
    },
    {
     "name": "stdout",
     "output_type": "stream",
     "text": [
      "[Epoch 79] Train Loss: 0.0018\n"
     ]
    },
    {
     "name": "stderr",
     "output_type": "stream",
     "text": [
      "Epoch 80/500 [Train]: 100%|██████████| 200/200 [00:35<00:00,  5.61it/s, loss=0.0016]\n"
     ]
    },
    {
     "name": "stdout",
     "output_type": "stream",
     "text": [
      "[Epoch 80] Train Loss: 0.0018\n"
     ]
    },
    {
     "name": "stderr",
     "output_type": "stream",
     "text": [
      "Epoch 80/500 [Val]: 100%|██████████| 2947/2947 [04:00<00:00, 12.24it/s]\n"
     ]
    },
    {
     "name": "stdout",
     "output_type": "stream",
     "text": [
      "\n",
      "--- Validation Metrics (Epoch 80) ---\n",
      "  - Vis Class 1 (Easy): TP=3884, FP=164, FN=1210\n",
      "  - Vis Class 2 (Hard): TP=153, FP=12, FN=258\n",
      "  - Vis Class 3 (Occluded): TP=1, FP=0, FN=23\n",
      "  - No Ball (Vis 0): TN=187, FP=2\n",
      "  ------------------------------------\n",
      "[Epoch 80] Val Loss: 0.0019, Precision: 0.9582, Recall: 0.7303, F1: 0.8289\n",
      "  -> New best F1 score: 0.8289. Saving best model to models\\model_best.pt\n"
     ]
    },
    {
     "name": "stderr",
     "output_type": "stream",
     "text": [
      "Epoch 81/500 [Train]: 100%|██████████| 200/200 [00:36<00:00,  5.54it/s, loss=0.0019]\n"
     ]
    },
    {
     "name": "stdout",
     "output_type": "stream",
     "text": [
      "[Epoch 81] Train Loss: 0.0017\n"
     ]
    },
    {
     "name": "stderr",
     "output_type": "stream",
     "text": [
      "Epoch 82/500 [Train]: 100%|██████████| 200/200 [00:36<00:00,  5.52it/s, loss=0.0014]\n"
     ]
    },
    {
     "name": "stdout",
     "output_type": "stream",
     "text": [
      "[Epoch 82] Train Loss: 0.0017\n"
     ]
    },
    {
     "name": "stderr",
     "output_type": "stream",
     "text": [
      "Epoch 83/500 [Train]: 100%|██████████| 200/200 [00:36<00:00,  5.53it/s, loss=0.0017]\n"
     ]
    },
    {
     "name": "stdout",
     "output_type": "stream",
     "text": [
      "[Epoch 83] Train Loss: 0.0017\n"
     ]
    },
    {
     "name": "stderr",
     "output_type": "stream",
     "text": [
      "Epoch 84/500 [Train]: 100%|██████████| 200/200 [00:36<00:00,  5.54it/s, loss=0.0016]\n"
     ]
    },
    {
     "name": "stdout",
     "output_type": "stream",
     "text": [
      "[Epoch 84] Train Loss: 0.0018\n"
     ]
    },
    {
     "name": "stderr",
     "output_type": "stream",
     "text": [
      "Epoch 85/500 [Train]: 100%|██████████| 200/200 [00:36<00:00,  5.53it/s, loss=0.0020]\n"
     ]
    },
    {
     "name": "stdout",
     "output_type": "stream",
     "text": [
      "[Epoch 85] Train Loss: 0.0017\n"
     ]
    },
    {
     "name": "stderr",
     "output_type": "stream",
     "text": [
      "Epoch 85/500 [Val]: 100%|██████████| 2947/2947 [04:00<00:00, 12.25it/s]\n"
     ]
    },
    {
     "name": "stdout",
     "output_type": "stream",
     "text": [
      "\n",
      "--- Validation Metrics (Epoch 85) ---\n",
      "  - Vis Class 1 (Easy): TP=3192, FP=213, FN=1853\n",
      "  - Vis Class 2 (Hard): TP=105, FP=4, FN=314\n",
      "  - Vis Class 3 (Occluded): TP=0, FP=0, FN=24\n",
      "  - No Ball (Vis 0): TN=186, FP=3\n",
      "  ------------------------------------\n",
      "[Epoch 85] Val Loss: 0.0021, Precision: 0.9382, Recall: 0.6008, F1: 0.7325\n"
     ]
    },
    {
     "name": "stderr",
     "output_type": "stream",
     "text": [
      "Epoch 86/500 [Train]: 100%|██████████| 200/200 [00:36<00:00,  5.54it/s, loss=0.0016]\n"
     ]
    },
    {
     "name": "stdout",
     "output_type": "stream",
     "text": [
      "[Epoch 86] Train Loss: 0.0017\n"
     ]
    },
    {
     "name": "stderr",
     "output_type": "stream",
     "text": [
      "Epoch 87/500 [Train]: 100%|██████████| 200/200 [00:36<00:00,  5.55it/s, loss=0.0016]\n"
     ]
    },
    {
     "name": "stdout",
     "output_type": "stream",
     "text": [
      "[Epoch 87] Train Loss: 0.0018\n"
     ]
    },
    {
     "name": "stderr",
     "output_type": "stream",
     "text": [
      "Epoch 88/500 [Train]: 100%|██████████| 200/200 [00:36<00:00,  5.48it/s, loss=0.0015]\n"
     ]
    },
    {
     "name": "stdout",
     "output_type": "stream",
     "text": [
      "[Epoch 88] Train Loss: 0.0017\n"
     ]
    },
    {
     "name": "stderr",
     "output_type": "stream",
     "text": [
      "Epoch 89/500 [Train]: 100%|██████████| 200/200 [00:36<00:00,  5.46it/s, loss=0.0014]\n"
     ]
    },
    {
     "name": "stdout",
     "output_type": "stream",
     "text": [
      "[Epoch 89] Train Loss: 0.0017\n"
     ]
    },
    {
     "name": "stderr",
     "output_type": "stream",
     "text": [
      "Epoch 90/500 [Train]: 100%|██████████| 200/200 [00:36<00:00,  5.47it/s, loss=0.0016]\n"
     ]
    },
    {
     "name": "stdout",
     "output_type": "stream",
     "text": [
      "[Epoch 90] Train Loss: 0.0018\n"
     ]
    },
    {
     "name": "stderr",
     "output_type": "stream",
     "text": [
      "Epoch 90/500 [Val]: 100%|██████████| 2947/2947 [03:59<00:00, 12.29it/s]\n"
     ]
    },
    {
     "name": "stdout",
     "output_type": "stream",
     "text": [
      "\n",
      "--- Validation Metrics (Epoch 90) ---\n",
      "  - Vis Class 1 (Easy): TP=4159, FP=166, FN=933\n",
      "  - Vis Class 2 (Hard): TP=180, FP=14, FN=229\n",
      "  - Vis Class 3 (Occluded): TP=0, FP=0, FN=24\n",
      "  - No Ball (Vis 0): TN=186, FP=3\n",
      "  ------------------------------------\n",
      "[Epoch 90] Val Loss: 0.0018, Precision: 0.9602, Recall: 0.7853, F1: 0.8640\n",
      "  -> New best F1 score: 0.8640. Saving best model to models\\model_best.pt\n"
     ]
    },
    {
     "name": "stderr",
     "output_type": "stream",
     "text": [
      "Epoch 91/500 [Train]: 100%|██████████| 200/200 [00:35<00:00,  5.60it/s, loss=0.0015]\n"
     ]
    },
    {
     "name": "stdout",
     "output_type": "stream",
     "text": [
      "[Epoch 91] Train Loss: 0.0017\n"
     ]
    },
    {
     "name": "stderr",
     "output_type": "stream",
     "text": [
      "Epoch 92/500 [Train]: 100%|██████████| 200/200 [00:35<00:00,  5.59it/s, loss=0.0016]\n"
     ]
    },
    {
     "name": "stdout",
     "output_type": "stream",
     "text": [
      "[Epoch 92] Train Loss: 0.0017\n"
     ]
    },
    {
     "name": "stderr",
     "output_type": "stream",
     "text": [
      "Epoch 93/500 [Train]: 100%|██████████| 200/200 [00:36<00:00,  5.54it/s, loss=0.0014]\n"
     ]
    },
    {
     "name": "stdout",
     "output_type": "stream",
     "text": [
      "[Epoch 93] Train Loss: 0.0017\n"
     ]
    },
    {
     "name": "stderr",
     "output_type": "stream",
     "text": [
      "Epoch 94/500 [Train]: 100%|██████████| 200/200 [00:36<00:00,  5.54it/s, loss=0.0017]\n"
     ]
    },
    {
     "name": "stdout",
     "output_type": "stream",
     "text": [
      "[Epoch 94] Train Loss: 0.0017\n"
     ]
    },
    {
     "name": "stderr",
     "output_type": "stream",
     "text": [
      "Epoch 95/500 [Train]: 100%|██████████| 200/200 [00:36<00:00,  5.54it/s, loss=0.0015]\n"
     ]
    },
    {
     "name": "stdout",
     "output_type": "stream",
     "text": [
      "[Epoch 95] Train Loss: 0.0017\n"
     ]
    },
    {
     "name": "stderr",
     "output_type": "stream",
     "text": [
      "Epoch 95/500 [Val]: 100%|██████████| 2947/2947 [04:02<00:00, 12.13it/s]\n"
     ]
    },
    {
     "name": "stdout",
     "output_type": "stream",
     "text": [
      "\n",
      "--- Validation Metrics (Epoch 95) ---\n",
      "  - Vis Class 1 (Easy): TP=3938, FP=171, FN=1149\n",
      "  - Vis Class 2 (Hard): TP=160, FP=7, FN=256\n",
      "  - Vis Class 3 (Occluded): TP=0, FP=0, FN=24\n",
      "  - No Ball (Vis 0): TN=188, FP=1\n",
      "  ------------------------------------\n",
      "[Epoch 95] Val Loss: 0.0019, Precision: 0.9584, Recall: 0.7415, F1: 0.8361\n"
     ]
    },
    {
     "name": "stderr",
     "output_type": "stream",
     "text": [
      "Epoch 96/500 [Train]: 100%|██████████| 200/200 [00:35<00:00,  5.56it/s, loss=0.0016]\n"
     ]
    },
    {
     "name": "stdout",
     "output_type": "stream",
     "text": [
      "[Epoch 96] Train Loss: 0.0017\n"
     ]
    },
    {
     "name": "stderr",
     "output_type": "stream",
     "text": [
      "Epoch 97/500 [Train]: 100%|██████████| 200/200 [00:35<00:00,  5.57it/s, loss=0.0015]\n"
     ]
    },
    {
     "name": "stdout",
     "output_type": "stream",
     "text": [
      "[Epoch 97] Train Loss: 0.0017\n"
     ]
    },
    {
     "name": "stderr",
     "output_type": "stream",
     "text": [
      "Epoch 98/500 [Train]: 100%|██████████| 200/200 [00:35<00:00,  5.60it/s, loss=0.0017]\n"
     ]
    },
    {
     "name": "stdout",
     "output_type": "stream",
     "text": [
      "[Epoch 98] Train Loss: 0.0017\n"
     ]
    },
    {
     "name": "stderr",
     "output_type": "stream",
     "text": [
      "Epoch 99/500 [Train]: 100%|██████████| 200/200 [00:35<00:00,  5.60it/s, loss=0.0008]\n"
     ]
    },
    {
     "name": "stdout",
     "output_type": "stream",
     "text": [
      "[Epoch 99] Train Loss: 0.0017\n"
     ]
    },
    {
     "name": "stderr",
     "output_type": "stream",
     "text": [
      "Epoch 100/500 [Train]: 100%|██████████| 200/200 [00:36<00:00,  5.53it/s, loss=0.0020]\n"
     ]
    },
    {
     "name": "stdout",
     "output_type": "stream",
     "text": [
      "[Epoch 100] Train Loss: 0.0017\n"
     ]
    },
    {
     "name": "stderr",
     "output_type": "stream",
     "text": [
      "Epoch 100/500 [Val]: 100%|██████████| 2947/2947 [04:04<00:00, 12.06it/s]\n"
     ]
    },
    {
     "name": "stdout",
     "output_type": "stream",
     "text": [
      "\n",
      "--- Validation Metrics (Epoch 100) ---\n",
      "  - Vis Class 1 (Easy): TP=1761, FP=204, FN=3293\n",
      "  - Vis Class 2 (Hard): TP=19, FP=3, FN=401\n",
      "  - Vis Class 3 (Occluded): TP=0, FP=0, FN=24\n",
      "  - No Ball (Vis 0): TN=188, FP=1\n",
      "  ------------------------------------\n",
      "[Epoch 100] Val Loss: 0.0027, Precision: 0.8958, Recall: 0.3238, F1: 0.4756\n"
     ]
    },
    {
     "name": "stderr",
     "output_type": "stream",
     "text": [
      "Epoch 101/500 [Train]: 100%|██████████| 200/200 [00:36<00:00,  5.54it/s, loss=0.0015]\n"
     ]
    },
    {
     "name": "stdout",
     "output_type": "stream",
     "text": [
      "[Epoch 101] Train Loss: 0.0017\n"
     ]
    },
    {
     "name": "stderr",
     "output_type": "stream",
     "text": [
      "Epoch 102/500 [Train]: 100%|██████████| 200/200 [00:36<00:00,  5.54it/s, loss=0.0014]\n"
     ]
    },
    {
     "name": "stdout",
     "output_type": "stream",
     "text": [
      "[Epoch 102] Train Loss: 0.0017\n"
     ]
    },
    {
     "name": "stderr",
     "output_type": "stream",
     "text": [
      "Epoch 103/500 [Train]: 100%|██████████| 200/200 [00:36<00:00,  5.54it/s, loss=0.0016]\n"
     ]
    },
    {
     "name": "stdout",
     "output_type": "stream",
     "text": [
      "[Epoch 103] Train Loss: 0.0016\n"
     ]
    },
    {
     "name": "stderr",
     "output_type": "stream",
     "text": [
      "Epoch 104/500 [Train]: 100%|██████████| 200/200 [00:36<00:00,  5.53it/s, loss=0.0018]\n"
     ]
    },
    {
     "name": "stdout",
     "output_type": "stream",
     "text": [
      "[Epoch 104] Train Loss: 0.0016\n"
     ]
    },
    {
     "name": "stderr",
     "output_type": "stream",
     "text": [
      "Epoch 105/500 [Train]: 100%|██████████| 200/200 [00:36<00:00,  5.51it/s, loss=0.0026]\n"
     ]
    },
    {
     "name": "stdout",
     "output_type": "stream",
     "text": [
      "[Epoch 105] Train Loss: 0.0017\n"
     ]
    },
    {
     "name": "stderr",
     "output_type": "stream",
     "text": [
      "Epoch 105/500 [Val]: 100%|██████████| 2947/2947 [04:03<00:00, 12.09it/s]\n"
     ]
    },
    {
     "name": "stdout",
     "output_type": "stream",
     "text": [
      "\n",
      "--- Validation Metrics (Epoch 105) ---\n",
      "  - Vis Class 1 (Easy): TP=3932, FP=176, FN=1150\n",
      "  - Vis Class 2 (Hard): TP=159, FP=16, FN=248\n",
      "  - Vis Class 3 (Occluded): TP=0, FP=0, FN=24\n",
      "  - No Ball (Vis 0): TN=185, FP=4\n",
      "  ------------------------------------\n",
      "[Epoch 105] Val Loss: 0.0020, Precision: 0.9552, Recall: 0.7421, F1: 0.8352\n"
     ]
    },
    {
     "name": "stderr",
     "output_type": "stream",
     "text": [
      "Epoch 106/500 [Train]: 100%|██████████| 200/200 [00:36<00:00,  5.52it/s, loss=0.0013]\n"
     ]
    },
    {
     "name": "stdout",
     "output_type": "stream",
     "text": [
      "[Epoch 106] Train Loss: 0.0017\n"
     ]
    },
    {
     "name": "stderr",
     "output_type": "stream",
     "text": [
      "Epoch 107/500 [Train]: 100%|██████████| 200/200 [00:36<00:00,  5.54it/s, loss=0.0019]\n"
     ]
    },
    {
     "name": "stdout",
     "output_type": "stream",
     "text": [
      "[Epoch 107] Train Loss: 0.0016\n"
     ]
    },
    {
     "name": "stderr",
     "output_type": "stream",
     "text": [
      "Epoch 108/500 [Train]: 100%|██████████| 200/200 [00:36<00:00,  5.54it/s, loss=0.0016]\n"
     ]
    },
    {
     "name": "stdout",
     "output_type": "stream",
     "text": [
      "[Epoch 108] Train Loss: 0.0016\n"
     ]
    },
    {
     "name": "stderr",
     "output_type": "stream",
     "text": [
      "Epoch 109/500 [Train]: 100%|██████████| 200/200 [00:36<00:00,  5.49it/s, loss=0.0016]\n"
     ]
    },
    {
     "name": "stdout",
     "output_type": "stream",
     "text": [
      "[Epoch 109] Train Loss: 0.0016\n"
     ]
    },
    {
     "name": "stderr",
     "output_type": "stream",
     "text": [
      "Epoch 110/500 [Train]: 100%|██████████| 200/200 [00:36<00:00,  5.49it/s, loss=0.0018]\n"
     ]
    },
    {
     "name": "stdout",
     "output_type": "stream",
     "text": [
      "[Epoch 110] Train Loss: 0.0017\n"
     ]
    },
    {
     "name": "stderr",
     "output_type": "stream",
     "text": [
      "Epoch 110/500 [Val]: 100%|██████████| 2947/2947 [04:04<00:00, 12.04it/s]\n"
     ]
    },
    {
     "name": "stdout",
     "output_type": "stream",
     "text": [
      "\n",
      "--- Validation Metrics (Epoch 110) ---\n",
      "  - Vis Class 1 (Easy): TP=3541, FP=167, FN=1550\n",
      "  - Vis Class 2 (Hard): TP=122, FP=10, FN=291\n",
      "  - Vis Class 3 (Occluded): TP=0, FP=0, FN=24\n",
      "  - No Ball (Vis 0): TN=189, FP=0\n",
      "  ------------------------------------\n",
      "[Epoch 110] Val Loss: 0.0019, Precision: 0.9539, Recall: 0.6626, F1: 0.7820\n"
     ]
    },
    {
     "name": "stderr",
     "output_type": "stream",
     "text": [
      "Epoch 111/500 [Train]: 100%|██████████| 200/200 [00:36<00:00,  5.50it/s, loss=0.0016]\n"
     ]
    },
    {
     "name": "stdout",
     "output_type": "stream",
     "text": [
      "[Epoch 111] Train Loss: 0.0016\n"
     ]
    },
    {
     "name": "stderr",
     "output_type": "stream",
     "text": [
      "Epoch 112/500 [Train]: 100%|██████████| 200/200 [00:36<00:00,  5.50it/s, loss=0.0015]\n"
     ]
    },
    {
     "name": "stdout",
     "output_type": "stream",
     "text": [
      "[Epoch 112] Train Loss: 0.0017\n"
     ]
    },
    {
     "name": "stderr",
     "output_type": "stream",
     "text": [
      "Epoch 113/500 [Train]: 100%|██████████| 200/200 [00:36<00:00,  5.50it/s, loss=0.0015]\n"
     ]
    },
    {
     "name": "stdout",
     "output_type": "stream",
     "text": [
      "[Epoch 113] Train Loss: 0.0017\n"
     ]
    },
    {
     "name": "stderr",
     "output_type": "stream",
     "text": [
      "Epoch 114/500 [Train]: 100%|██████████| 200/200 [00:36<00:00,  5.50it/s, loss=0.0015]\n"
     ]
    },
    {
     "name": "stdout",
     "output_type": "stream",
     "text": [
      "[Epoch 114] Train Loss: 0.0017\n"
     ]
    },
    {
     "name": "stderr",
     "output_type": "stream",
     "text": [
      "Epoch 115/500 [Train]: 100%|██████████| 200/200 [00:36<00:00,  5.50it/s, loss=0.0018]\n"
     ]
    },
    {
     "name": "stdout",
     "output_type": "stream",
     "text": [
      "[Epoch 115] Train Loss: 0.0016\n"
     ]
    },
    {
     "name": "stderr",
     "output_type": "stream",
     "text": [
      "Epoch 115/500 [Val]: 100%|██████████| 2947/2947 [04:11<00:00, 11.72it/s]\n"
     ]
    },
    {
     "name": "stdout",
     "output_type": "stream",
     "text": [
      "\n",
      "--- Validation Metrics (Epoch 115) ---\n",
      "  - Vis Class 1 (Easy): TP=4197, FP=176, FN=885\n",
      "  - Vis Class 2 (Hard): TP=191, FP=15, FN=217\n",
      "  - Vis Class 3 (Occluded): TP=0, FP=0, FN=24\n",
      "  - No Ball (Vis 0): TN=181, FP=8\n",
      "  ------------------------------------\n",
      "[Epoch 115] Val Loss: 0.0019, Precision: 0.9583, Recall: 0.7958, F1: 0.8695\n",
      "  -> New best F1 score: 0.8695. Saving best model to models\\model_best.pt\n"
     ]
    },
    {
     "name": "stderr",
     "output_type": "stream",
     "text": [
      "Epoch 116/500 [Train]: 100%|██████████| 200/200 [00:36<00:00,  5.41it/s, loss=0.0013]\n"
     ]
    },
    {
     "name": "stdout",
     "output_type": "stream",
     "text": [
      "[Epoch 116] Train Loss: 0.0017\n"
     ]
    },
    {
     "name": "stderr",
     "output_type": "stream",
     "text": [
      "Epoch 117/500 [Train]: 100%|██████████| 200/200 [00:36<00:00,  5.42it/s, loss=0.0016]\n"
     ]
    },
    {
     "name": "stdout",
     "output_type": "stream",
     "text": [
      "[Epoch 117] Train Loss: 0.0016\n"
     ]
    },
    {
     "name": "stderr",
     "output_type": "stream",
     "text": [
      "Epoch 118/500 [Train]: 100%|██████████| 200/200 [00:36<00:00,  5.42it/s, loss=0.0043]\n"
     ]
    },
    {
     "name": "stdout",
     "output_type": "stream",
     "text": [
      "[Epoch 118] Train Loss: 0.0016\n"
     ]
    },
    {
     "name": "stderr",
     "output_type": "stream",
     "text": [
      "Epoch 119/500 [Train]: 100%|██████████| 200/200 [00:36<00:00,  5.48it/s, loss=0.0015]\n"
     ]
    },
    {
     "name": "stdout",
     "output_type": "stream",
     "text": [
      "[Epoch 119] Train Loss: 0.0016\n"
     ]
    },
    {
     "name": "stderr",
     "output_type": "stream",
     "text": [
      "Epoch 120/500 [Train]: 100%|██████████| 200/200 [00:36<00:00,  5.49it/s, loss=0.0017]\n"
     ]
    },
    {
     "name": "stdout",
     "output_type": "stream",
     "text": [
      "[Epoch 120] Train Loss: 0.0016\n"
     ]
    },
    {
     "name": "stderr",
     "output_type": "stream",
     "text": [
      "Epoch 120/500 [Val]: 100%|██████████| 2947/2947 [04:06<00:00, 11.94it/s]\n"
     ]
    },
    {
     "name": "stdout",
     "output_type": "stream",
     "text": [
      "\n",
      "--- Validation Metrics (Epoch 120) ---\n",
      "  - Vis Class 1 (Easy): TP=4369, FP=144, FN=745\n",
      "  - Vis Class 2 (Hard): TP=213, FP=15, FN=195\n",
      "  - Vis Class 3 (Occluded): TP=0, FP=0, FN=24\n",
      "  - No Ball (Vis 0): TN=187, FP=2\n",
      "  ------------------------------------\n",
      "[Epoch 120] Val Loss: 0.0018, Precision: 0.9665, Recall: 0.8262, F1: 0.8908\n",
      "  -> New best F1 score: 0.8908. Saving best model to models\\model_best.pt\n"
     ]
    },
    {
     "name": "stderr",
     "output_type": "stream",
     "text": [
      "Epoch 121/500 [Train]: 100%|██████████| 200/200 [00:36<00:00,  5.50it/s, loss=0.0016]\n"
     ]
    },
    {
     "name": "stdout",
     "output_type": "stream",
     "text": [
      "[Epoch 121] Train Loss: 0.0016\n"
     ]
    },
    {
     "name": "stderr",
     "output_type": "stream",
     "text": [
      "Epoch 122/500 [Train]: 100%|██████████| 200/200 [00:36<00:00,  5.50it/s, loss=0.0015]\n"
     ]
    },
    {
     "name": "stdout",
     "output_type": "stream",
     "text": [
      "[Epoch 122] Train Loss: 0.0016\n"
     ]
    },
    {
     "name": "stderr",
     "output_type": "stream",
     "text": [
      "Epoch 123/500 [Train]: 100%|██████████| 200/200 [00:36<00:00,  5.50it/s, loss=0.0017]\n"
     ]
    },
    {
     "name": "stdout",
     "output_type": "stream",
     "text": [
      "[Epoch 123] Train Loss: 0.0017\n"
     ]
    },
    {
     "name": "stderr",
     "output_type": "stream",
     "text": [
      "Epoch 124/500 [Train]: 100%|██████████| 200/200 [00:36<00:00,  5.49it/s, loss=0.0016]\n"
     ]
    },
    {
     "name": "stdout",
     "output_type": "stream",
     "text": [
      "[Epoch 124] Train Loss: 0.0016\n"
     ]
    },
    {
     "name": "stderr",
     "output_type": "stream",
     "text": [
      "Epoch 125/500 [Train]: 100%|██████████| 200/200 [00:36<00:00,  5.50it/s, loss=0.0022]\n"
     ]
    },
    {
     "name": "stdout",
     "output_type": "stream",
     "text": [
      "[Epoch 125] Train Loss: 0.0016\n"
     ]
    },
    {
     "name": "stderr",
     "output_type": "stream",
     "text": [
      "Epoch 125/500 [Val]: 100%|██████████| 2947/2947 [04:05<00:00, 12.00it/s]\n"
     ]
    },
    {
     "name": "stdout",
     "output_type": "stream",
     "text": [
      "\n",
      "--- Validation Metrics (Epoch 125) ---\n",
      "  - Vis Class 1 (Easy): TP=4175, FP=125, FN=958\n",
      "  - Vis Class 2 (Hard): TP=173, FP=10, FN=240\n",
      "  - Vis Class 3 (Occluded): TP=1, FP=0, FN=23\n",
      "  - No Ball (Vis 0): TN=187, FP=2\n",
      "  ------------------------------------\n",
      "[Epoch 125] Val Loss: 0.0018, Precision: 0.9699, Recall: 0.7808, F1: 0.8651\n"
     ]
    },
    {
     "name": "stderr",
     "output_type": "stream",
     "text": [
      "Epoch 126/500 [Train]: 100%|██████████| 200/200 [00:36<00:00,  5.49it/s, loss=0.0015]\n"
     ]
    },
    {
     "name": "stdout",
     "output_type": "stream",
     "text": [
      "[Epoch 126] Train Loss: 0.0015\n"
     ]
    },
    {
     "name": "stderr",
     "output_type": "stream",
     "text": [
      "Epoch 127/500 [Train]: 100%|██████████| 200/200 [00:36<00:00,  5.46it/s, loss=0.0018]\n"
     ]
    },
    {
     "name": "stdout",
     "output_type": "stream",
     "text": [
      "[Epoch 127] Train Loss: 0.0016\n"
     ]
    },
    {
     "name": "stderr",
     "output_type": "stream",
     "text": [
      "Epoch 128/500 [Train]: 100%|██████████| 200/200 [00:36<00:00,  5.47it/s, loss=0.0017]\n"
     ]
    },
    {
     "name": "stdout",
     "output_type": "stream",
     "text": [
      "[Epoch 128] Train Loss: 0.0016\n"
     ]
    },
    {
     "name": "stderr",
     "output_type": "stream",
     "text": [
      "Epoch 129/500 [Train]: 100%|██████████| 200/200 [00:36<00:00,  5.44it/s, loss=0.0014]\n"
     ]
    },
    {
     "name": "stdout",
     "output_type": "stream",
     "text": [
      "[Epoch 129] Train Loss: 0.0015\n"
     ]
    },
    {
     "name": "stderr",
     "output_type": "stream",
     "text": [
      "Epoch 130/500 [Train]: 100%|██████████| 200/200 [00:36<00:00,  5.49it/s, loss=0.0017]\n"
     ]
    },
    {
     "name": "stdout",
     "output_type": "stream",
     "text": [
      "[Epoch 130] Train Loss: 0.0016\n"
     ]
    },
    {
     "name": "stderr",
     "output_type": "stream",
     "text": [
      "Epoch 130/500 [Val]: 100%|██████████| 2947/2947 [04:06<00:00, 11.94it/s]\n"
     ]
    },
    {
     "name": "stdout",
     "output_type": "stream",
     "text": [
      "\n",
      "--- Validation Metrics (Epoch 130) ---\n",
      "  - Vis Class 1 (Easy): TP=3978, FP=164, FN=1116\n",
      "  - Vis Class 2 (Hard): TP=167, FP=14, FN=242\n",
      "  - Vis Class 3 (Occluded): TP=0, FP=1, FN=23\n",
      "  - No Ball (Vis 0): TN=187, FP=2\n",
      "  ------------------------------------\n",
      "[Epoch 130] Val Loss: 0.0018, Precision: 0.9586, Recall: 0.7501, F1: 0.8416\n"
     ]
    },
    {
     "name": "stderr",
     "output_type": "stream",
     "text": [
      "Epoch 131/500 [Train]: 100%|██████████| 200/200 [00:36<00:00,  5.48it/s, loss=0.0018]\n"
     ]
    },
    {
     "name": "stdout",
     "output_type": "stream",
     "text": [
      "[Epoch 131] Train Loss: 0.0016\n"
     ]
    },
    {
     "name": "stderr",
     "output_type": "stream",
     "text": [
      "Epoch 132/500 [Train]: 100%|██████████| 200/200 [00:36<00:00,  5.44it/s, loss=0.0016]\n"
     ]
    },
    {
     "name": "stdout",
     "output_type": "stream",
     "text": [
      "[Epoch 132] Train Loss: 0.0016\n"
     ]
    },
    {
     "name": "stderr",
     "output_type": "stream",
     "text": [
      "Epoch 133/500 [Train]: 100%|██████████| 200/200 [00:36<00:00,  5.50it/s, loss=0.0014]\n"
     ]
    },
    {
     "name": "stdout",
     "output_type": "stream",
     "text": [
      "[Epoch 133] Train Loss: 0.0016\n"
     ]
    },
    {
     "name": "stderr",
     "output_type": "stream",
     "text": [
      "Epoch 134/500 [Train]: 100%|██████████| 200/200 [00:36<00:00,  5.50it/s, loss=0.0014]\n"
     ]
    },
    {
     "name": "stdout",
     "output_type": "stream",
     "text": [
      "[Epoch 134] Train Loss: 0.0015\n"
     ]
    },
    {
     "name": "stderr",
     "output_type": "stream",
     "text": [
      "Epoch 135/500 [Train]: 100%|██████████| 200/200 [00:36<00:00,  5.49it/s, loss=0.0013]\n"
     ]
    },
    {
     "name": "stdout",
     "output_type": "stream",
     "text": [
      "[Epoch 135] Train Loss: 0.0016\n"
     ]
    },
    {
     "name": "stderr",
     "output_type": "stream",
     "text": [
      "Epoch 135/500 [Val]: 100%|██████████| 2947/2947 [04:06<00:00, 11.96it/s]\n"
     ]
    },
    {
     "name": "stdout",
     "output_type": "stream",
     "text": [
      "\n",
      "--- Validation Metrics (Epoch 135) ---\n",
      "  - Vis Class 1 (Easy): TP=4424, FP=168, FN=666\n",
      "  - Vis Class 2 (Hard): TP=217, FP=23, FN=183\n",
      "  - Vis Class 3 (Occluded): TP=0, FP=0, FN=24\n",
      "  - No Ball (Vis 0): TN=185, FP=4\n",
      "  ------------------------------------\n",
      "[Epoch 135] Val Loss: 0.0018, Precision: 0.9605, Recall: 0.8417, F1: 0.8972\n",
      "  -> New best F1 score: 0.8972. Saving best model to models\\model_best.pt\n"
     ]
    },
    {
     "name": "stderr",
     "output_type": "stream",
     "text": [
      "Epoch 136/500 [Train]: 100%|██████████| 200/200 [00:36<00:00,  5.50it/s, loss=0.0018]\n"
     ]
    },
    {
     "name": "stdout",
     "output_type": "stream",
     "text": [
      "[Epoch 136] Train Loss: 0.0015\n"
     ]
    },
    {
     "name": "stderr",
     "output_type": "stream",
     "text": [
      "Epoch 137/500 [Train]: 100%|██████████| 200/200 [00:36<00:00,  5.49it/s, loss=0.0014]\n"
     ]
    },
    {
     "name": "stdout",
     "output_type": "stream",
     "text": [
      "[Epoch 137] Train Loss: 0.0016\n"
     ]
    },
    {
     "name": "stderr",
     "output_type": "stream",
     "text": [
      "Epoch 138/500 [Train]: 100%|██████████| 200/200 [00:36<00:00,  5.50it/s, loss=0.0028]\n"
     ]
    },
    {
     "name": "stdout",
     "output_type": "stream",
     "text": [
      "[Epoch 138] Train Loss: 0.0016\n"
     ]
    },
    {
     "name": "stderr",
     "output_type": "stream",
     "text": [
      "Epoch 139/500 [Train]: 100%|██████████| 200/200 [00:36<00:00,  5.50it/s, loss=0.0020]\n"
     ]
    },
    {
     "name": "stdout",
     "output_type": "stream",
     "text": [
      "[Epoch 139] Train Loss: 0.0016\n"
     ]
    },
    {
     "name": "stderr",
     "output_type": "stream",
     "text": [
      "Epoch 140/500 [Train]: 100%|██████████| 200/200 [00:36<00:00,  5.49it/s, loss=0.0012]\n"
     ]
    },
    {
     "name": "stdout",
     "output_type": "stream",
     "text": [
      "[Epoch 140] Train Loss: 0.0016\n"
     ]
    },
    {
     "name": "stderr",
     "output_type": "stream",
     "text": [
      "Epoch 140/500 [Val]: 100%|██████████| 2947/2947 [04:10<00:00, 11.74it/s]\n"
     ]
    },
    {
     "name": "stdout",
     "output_type": "stream",
     "text": [
      "\n",
      "--- Validation Metrics (Epoch 140) ---\n",
      "  - Vis Class 1 (Easy): TP=3908, FP=188, FN=1162\n",
      "  - Vis Class 2 (Hard): TP=174, FP=17, FN=232\n",
      "  - Vis Class 3 (Occluded): TP=0, FP=2, FN=22\n",
      "  - No Ball (Vis 0): TN=186, FP=3\n",
      "  ------------------------------------\n",
      "[Epoch 140] Val Loss: 0.0018, Precision: 0.9517, Recall: 0.7425, F1: 0.8342\n"
     ]
    },
    {
     "name": "stderr",
     "output_type": "stream",
     "text": [
      "Epoch 141/500 [Train]: 100%|██████████| 200/200 [00:36<00:00,  5.43it/s, loss=0.0018]\n"
     ]
    },
    {
     "name": "stdout",
     "output_type": "stream",
     "text": [
      "[Epoch 141] Train Loss: 0.0016\n"
     ]
    },
    {
     "name": "stderr",
     "output_type": "stream",
     "text": [
      "Epoch 142/500 [Train]: 100%|██████████| 200/200 [00:36<00:00,  5.42it/s, loss=0.0025]\n"
     ]
    },
    {
     "name": "stdout",
     "output_type": "stream",
     "text": [
      "[Epoch 142] Train Loss: 0.0016\n"
     ]
    },
    {
     "name": "stderr",
     "output_type": "stream",
     "text": [
      "Epoch 143/500 [Train]: 100%|██████████| 200/200 [00:36<00:00,  5.42it/s, loss=0.0035]\n"
     ]
    },
    {
     "name": "stdout",
     "output_type": "stream",
     "text": [
      "[Epoch 143] Train Loss: 0.0015\n"
     ]
    },
    {
     "name": "stderr",
     "output_type": "stream",
     "text": [
      "Epoch 144/500 [Train]: 100%|██████████| 200/200 [00:36<00:00,  5.43it/s, loss=0.0026]\n"
     ]
    },
    {
     "name": "stdout",
     "output_type": "stream",
     "text": [
      "[Epoch 144] Train Loss: 0.0015\n"
     ]
    },
    {
     "name": "stderr",
     "output_type": "stream",
     "text": [
      "Epoch 145/500 [Train]: 100%|██████████| 200/200 [00:36<00:00,  5.43it/s, loss=0.0014]\n"
     ]
    },
    {
     "name": "stdout",
     "output_type": "stream",
     "text": [
      "[Epoch 145] Train Loss: 0.0015\n"
     ]
    },
    {
     "name": "stderr",
     "output_type": "stream",
     "text": [
      "Epoch 145/500 [Val]: 100%|██████████| 2947/2947 [04:10<00:00, 11.77it/s]\n"
     ]
    },
    {
     "name": "stdout",
     "output_type": "stream",
     "text": [
      "\n",
      "--- Validation Metrics (Epoch 145) ---\n",
      "  - Vis Class 1 (Easy): TP=3998, FP=247, FN=1013\n",
      "  - Vis Class 2 (Hard): TP=163, FP=27, FN=233\n",
      "  - Vis Class 3 (Occluded): TP=2, FP=1, FN=21\n",
      "  - No Ball (Vis 0): TN=189, FP=0\n",
      "  ------------------------------------\n",
      "[Epoch 145] Val Loss: 0.0018, Precision: 0.9380, Recall: 0.7667, F1: 0.8437\n"
     ]
    },
    {
     "name": "stderr",
     "output_type": "stream",
     "text": [
      "Epoch 146/500 [Train]: 100%|██████████| 200/200 [00:36<00:00,  5.50it/s, loss=0.0020]\n"
     ]
    },
    {
     "name": "stdout",
     "output_type": "stream",
     "text": [
      "[Epoch 146] Train Loss: 0.0016\n"
     ]
    },
    {
     "name": "stderr",
     "output_type": "stream",
     "text": [
      "Epoch 147/500 [Train]: 100%|██████████| 200/200 [00:36<00:00,  5.50it/s, loss=0.0012]\n"
     ]
    },
    {
     "name": "stdout",
     "output_type": "stream",
     "text": [
      "[Epoch 147] Train Loss: 0.0015\n"
     ]
    },
    {
     "name": "stderr",
     "output_type": "stream",
     "text": [
      "Epoch 148/500 [Train]: 100%|██████████| 200/200 [00:36<00:00,  5.49it/s, loss=0.0014]\n"
     ]
    },
    {
     "name": "stdout",
     "output_type": "stream",
     "text": [
      "[Epoch 148] Train Loss: 0.0015\n"
     ]
    },
    {
     "name": "stderr",
     "output_type": "stream",
     "text": [
      "Epoch 149/500 [Train]: 100%|██████████| 200/200 [00:36<00:00,  5.46it/s, loss=0.0016]\n"
     ]
    },
    {
     "name": "stdout",
     "output_type": "stream",
     "text": [
      "[Epoch 149] Train Loss: 0.0015\n"
     ]
    },
    {
     "name": "stderr",
     "output_type": "stream",
     "text": [
      "Epoch 150/500 [Train]: 100%|██████████| 200/200 [00:36<00:00,  5.47it/s, loss=0.0006]\n"
     ]
    },
    {
     "name": "stdout",
     "output_type": "stream",
     "text": [
      "[Epoch 150] Train Loss: 0.0016\n"
     ]
    },
    {
     "name": "stderr",
     "output_type": "stream",
     "text": [
      "Epoch 150/500 [Val]: 100%|██████████| 2947/2947 [04:06<00:00, 11.94it/s]\n"
     ]
    },
    {
     "name": "stdout",
     "output_type": "stream",
     "text": [
      "\n",
      "--- Validation Metrics (Epoch 150) ---\n",
      "  - Vis Class 1 (Easy): TP=3867, FP=327, FN=1064\n",
      "  - Vis Class 2 (Hard): TP=148, FP=27, FN=248\n",
      "  - Vis Class 3 (Occluded): TP=0, FP=2, FN=22\n",
      "  - No Ball (Vis 0): TN=188, FP=1\n",
      "  ------------------------------------\n",
      "[Epoch 150] Val Loss: 0.0019, Precision: 0.9186, Recall: 0.7506, F1: 0.8261\n"
     ]
    },
    {
     "name": "stderr",
     "output_type": "stream",
     "text": [
      "Epoch 151/500 [Train]: 100%|██████████| 200/200 [00:36<00:00,  5.50it/s, loss=0.0013]\n"
     ]
    },
    {
     "name": "stdout",
     "output_type": "stream",
     "text": [
      "[Epoch 151] Train Loss: 0.0015\n"
     ]
    },
    {
     "name": "stderr",
     "output_type": "stream",
     "text": [
      "Epoch 152/500 [Train]: 100%|██████████| 200/200 [00:36<00:00,  5.50it/s, loss=0.0013]\n"
     ]
    },
    {
     "name": "stdout",
     "output_type": "stream",
     "text": [
      "[Epoch 152] Train Loss: 0.0016\n"
     ]
    },
    {
     "name": "stderr",
     "output_type": "stream",
     "text": [
      "Epoch 153/500 [Train]: 100%|██████████| 200/200 [00:36<00:00,  5.49it/s, loss=0.0013]\n"
     ]
    },
    {
     "name": "stdout",
     "output_type": "stream",
     "text": [
      "[Epoch 153] Train Loss: 0.0015\n"
     ]
    },
    {
     "name": "stderr",
     "output_type": "stream",
     "text": [
      "Epoch 154/500 [Train]: 100%|██████████| 200/200 [00:36<00:00,  5.49it/s, loss=0.0012]\n"
     ]
    },
    {
     "name": "stdout",
     "output_type": "stream",
     "text": [
      "[Epoch 154] Train Loss: 0.0015\n"
     ]
    },
    {
     "name": "stderr",
     "output_type": "stream",
     "text": [
      "Epoch 155/500 [Train]: 100%|██████████| 200/200 [00:36<00:00,  5.50it/s, loss=0.0016]\n"
     ]
    },
    {
     "name": "stdout",
     "output_type": "stream",
     "text": [
      "[Epoch 155] Train Loss: 0.0015\n"
     ]
    },
    {
     "name": "stderr",
     "output_type": "stream",
     "text": [
      "Epoch 155/500 [Val]: 100%|██████████| 2947/2947 [04:08<00:00, 11.85it/s]\n"
     ]
    },
    {
     "name": "stdout",
     "output_type": "stream",
     "text": [
      "\n",
      "--- Validation Metrics (Epoch 155) ---\n",
      "  - Vis Class 1 (Easy): TP=4291, FP=198, FN=769\n",
      "  - Vis Class 2 (Hard): TP=204, FP=21, FN=198\n",
      "  - Vis Class 3 (Occluded): TP=1, FP=1, FN=22\n",
      "  - No Ball (Vis 0): TN=185, FP=4\n",
      "  ------------------------------------\n",
      "[Epoch 155] Val Loss: 0.0017, Precision: 0.9534, Recall: 0.8197, F1: 0.8815\n"
     ]
    },
    {
     "name": "stderr",
     "output_type": "stream",
     "text": [
      "Epoch 156/500 [Train]: 100%|██████████| 200/200 [00:36<00:00,  5.42it/s, loss=0.0015]\n"
     ]
    },
    {
     "name": "stdout",
     "output_type": "stream",
     "text": [
      "[Epoch 156] Train Loss: 0.0015\n"
     ]
    },
    {
     "name": "stderr",
     "output_type": "stream",
     "text": [
      "Epoch 157/500 [Train]: 100%|██████████| 200/200 [00:36<00:00,  5.41it/s, loss=0.0013]\n"
     ]
    },
    {
     "name": "stdout",
     "output_type": "stream",
     "text": [
      "[Epoch 157] Train Loss: 0.0015\n"
     ]
    },
    {
     "name": "stderr",
     "output_type": "stream",
     "text": [
      "Epoch 158/500 [Train]: 100%|██████████| 200/200 [00:36<00:00,  5.42it/s, loss=0.0016]\n"
     ]
    },
    {
     "name": "stdout",
     "output_type": "stream",
     "text": [
      "[Epoch 158] Train Loss: 0.0015\n"
     ]
    },
    {
     "name": "stderr",
     "output_type": "stream",
     "text": [
      "Epoch 159/500 [Train]: 100%|██████████| 200/200 [00:36<00:00,  5.42it/s, loss=0.0012]\n"
     ]
    },
    {
     "name": "stdout",
     "output_type": "stream",
     "text": [
      "[Epoch 159] Train Loss: 0.0015\n"
     ]
    },
    {
     "name": "stderr",
     "output_type": "stream",
     "text": [
      "Epoch 160/500 [Train]: 100%|██████████| 200/200 [00:36<00:00,  5.41it/s, loss=0.0014]\n"
     ]
    },
    {
     "name": "stdout",
     "output_type": "stream",
     "text": [
      "[Epoch 160] Train Loss: 0.0015\n"
     ]
    },
    {
     "name": "stderr",
     "output_type": "stream",
     "text": [
      "Epoch 160/500 [Val]: 100%|██████████| 2947/2947 [04:07<00:00, 11.90it/s]\n"
     ]
    },
    {
     "name": "stdout",
     "output_type": "stream",
     "text": [
      "\n",
      "--- Validation Metrics (Epoch 160) ---\n",
      "  - Vis Class 1 (Easy): TP=4354, FP=126, FN=778\n",
      "  - Vis Class 2 (Hard): TP=203, FP=12, FN=208\n",
      "  - Vis Class 3 (Occluded): TP=0, FP=0, FN=24\n",
      "  - No Ball (Vis 0): TN=188, FP=1\n",
      "  ------------------------------------\n",
      "[Epoch 160] Val Loss: 0.0017, Precision: 0.9706, Recall: 0.8186, F1: 0.8881\n"
     ]
    },
    {
     "name": "stderr",
     "output_type": "stream",
     "text": [
      "Epoch 161/500 [Train]: 100%|██████████| 200/200 [00:36<00:00,  5.50it/s, loss=0.0021]\n"
     ]
    },
    {
     "name": "stdout",
     "output_type": "stream",
     "text": [
      "[Epoch 161] Train Loss: 0.0016\n"
     ]
    },
    {
     "name": "stderr",
     "output_type": "stream",
     "text": [
      "Epoch 162/500 [Train]: 100%|██████████| 200/200 [00:36<00:00,  5.49it/s, loss=0.0017]\n"
     ]
    },
    {
     "name": "stdout",
     "output_type": "stream",
     "text": [
      "[Epoch 162] Train Loss: 0.0015\n"
     ]
    },
    {
     "name": "stderr",
     "output_type": "stream",
     "text": [
      "Epoch 163/500 [Train]: 100%|██████████| 200/200 [00:36<00:00,  5.49it/s, loss=0.0015]\n"
     ]
    },
    {
     "name": "stdout",
     "output_type": "stream",
     "text": [
      "[Epoch 163] Train Loss: 0.0015\n"
     ]
    },
    {
     "name": "stderr",
     "output_type": "stream",
     "text": [
      "Epoch 164/500 [Train]: 100%|██████████| 200/200 [00:36<00:00,  5.49it/s, loss=0.0013]\n"
     ]
    },
    {
     "name": "stdout",
     "output_type": "stream",
     "text": [
      "[Epoch 164] Train Loss: 0.0015\n"
     ]
    },
    {
     "name": "stderr",
     "output_type": "stream",
     "text": [
      "Epoch 165/500 [Train]: 100%|██████████| 200/200 [00:36<00:00,  5.50it/s, loss=0.0026]\n"
     ]
    },
    {
     "name": "stdout",
     "output_type": "stream",
     "text": [
      "[Epoch 165] Train Loss: 0.0015\n"
     ]
    },
    {
     "name": "stderr",
     "output_type": "stream",
     "text": [
      "Epoch 165/500 [Val]: 100%|██████████| 2947/2947 [04:05<00:00, 11.99it/s]\n"
     ]
    },
    {
     "name": "stdout",
     "output_type": "stream",
     "text": [
      "\n",
      "--- Validation Metrics (Epoch 165) ---\n",
      "  - Vis Class 1 (Easy): TP=3776, FP=216, FN=1266\n",
      "  - Vis Class 2 (Hard): TP=152, FP=17, FN=254\n",
      "  - Vis Class 3 (Occluded): TP=0, FP=2, FN=22\n",
      "  - No Ball (Vis 0): TN=186, FP=3\n",
      "  ------------------------------------\n",
      "[Epoch 165] Val Loss: 0.0019, Precision: 0.9436, Recall: 0.7181, F1: 0.8155\n"
     ]
    },
    {
     "name": "stderr",
     "output_type": "stream",
     "text": [
      "Epoch 166/500 [Train]: 100%|██████████| 200/200 [00:36<00:00,  5.47it/s, loss=0.0012]\n"
     ]
    },
    {
     "name": "stdout",
     "output_type": "stream",
     "text": [
      "[Epoch 166] Train Loss: 0.0015\n"
     ]
    },
    {
     "name": "stderr",
     "output_type": "stream",
     "text": [
      "Epoch 167/500 [Train]: 100%|██████████| 200/200 [00:36<00:00,  5.48it/s, loss=0.0013]\n"
     ]
    },
    {
     "name": "stdout",
     "output_type": "stream",
     "text": [
      "[Epoch 167] Train Loss: 0.0015\n"
     ]
    },
    {
     "name": "stderr",
     "output_type": "stream",
     "text": [
      "Epoch 168/500 [Train]: 100%|██████████| 200/200 [00:36<00:00,  5.50it/s, loss=0.0013]\n"
     ]
    },
    {
     "name": "stdout",
     "output_type": "stream",
     "text": [
      "[Epoch 168] Train Loss: 0.0015\n"
     ]
    },
    {
     "name": "stderr",
     "output_type": "stream",
     "text": [
      "Epoch 169/500 [Train]: 100%|██████████| 200/200 [00:36<00:00,  5.49it/s, loss=0.0013]\n"
     ]
    },
    {
     "name": "stdout",
     "output_type": "stream",
     "text": [
      "[Epoch 169] Train Loss: 0.0015\n"
     ]
    },
    {
     "name": "stderr",
     "output_type": "stream",
     "text": [
      "Epoch 170/500 [Train]: 100%|██████████| 200/200 [00:36<00:00,  5.49it/s, loss=0.0006]\n"
     ]
    },
    {
     "name": "stdout",
     "output_type": "stream",
     "text": [
      "[Epoch 170] Train Loss: 0.0015\n"
     ]
    },
    {
     "name": "stderr",
     "output_type": "stream",
     "text": [
      "Epoch 170/500 [Val]: 100%|██████████| 2947/2947 [04:11<00:00, 11.71it/s]\n"
     ]
    },
    {
     "name": "stdout",
     "output_type": "stream",
     "text": [
      "\n",
      "--- Validation Metrics (Epoch 170) ---\n",
      "  - Vis Class 1 (Easy): TP=4474, FP=178, FN=606\n",
      "  - Vis Class 2 (Hard): TP=233, FP=20, FN=170\n",
      "  - Vis Class 3 (Occluded): TP=0, FP=3, FN=21\n",
      "  - No Ball (Vis 0): TN=183, FP=6\n",
      "  ------------------------------------\n",
      "[Epoch 170] Val Loss: 0.0017, Precision: 0.9590, Recall: 0.8552, F1: 0.9041\n",
      "  -> New best F1 score: 0.9041. Saving best model to models\\model_best.pt\n"
     ]
    },
    {
     "name": "stderr",
     "output_type": "stream",
     "text": [
      "Epoch 171/500 [Train]: 100%|██████████| 200/200 [00:36<00:00,  5.42it/s, loss=0.0012]\n"
     ]
    },
    {
     "name": "stdout",
     "output_type": "stream",
     "text": [
      "[Epoch 171] Train Loss: 0.0015\n"
     ]
    },
    {
     "name": "stderr",
     "output_type": "stream",
     "text": [
      "Epoch 172/500 [Train]: 100%|██████████| 200/200 [00:36<00:00,  5.44it/s, loss=0.0017]\n"
     ]
    },
    {
     "name": "stdout",
     "output_type": "stream",
     "text": [
      "[Epoch 172] Train Loss: 0.0015\n"
     ]
    },
    {
     "name": "stderr",
     "output_type": "stream",
     "text": [
      "Epoch 173/500 [Train]: 100%|██████████| 200/200 [00:36<00:00,  5.42it/s, loss=0.0009]\n"
     ]
    },
    {
     "name": "stdout",
     "output_type": "stream",
     "text": [
      "[Epoch 173] Train Loss: 0.0015\n"
     ]
    },
    {
     "name": "stderr",
     "output_type": "stream",
     "text": [
      "Epoch 174/500 [Train]: 100%|██████████| 200/200 [00:36<00:00,  5.42it/s, loss=0.0017]\n"
     ]
    },
    {
     "name": "stdout",
     "output_type": "stream",
     "text": [
      "[Epoch 174] Train Loss: 0.0015\n"
     ]
    },
    {
     "name": "stderr",
     "output_type": "stream",
     "text": [
      "Epoch 175/500 [Train]: 100%|██████████| 200/200 [00:36<00:00,  5.42it/s, loss=0.0013]\n"
     ]
    },
    {
     "name": "stdout",
     "output_type": "stream",
     "text": [
      "[Epoch 175] Train Loss: 0.0015\n"
     ]
    },
    {
     "name": "stderr",
     "output_type": "stream",
     "text": [
      "Epoch 175/500 [Val]: 100%|██████████| 2947/2947 [04:05<00:00, 11.98it/s]\n"
     ]
    },
    {
     "name": "stdout",
     "output_type": "stream",
     "text": [
      "\n",
      "--- Validation Metrics (Epoch 175) ---\n",
      "  - Vis Class 1 (Easy): TP=4207, FP=119, FN=932\n",
      "  - Vis Class 2 (Hard): TP=190, FP=9, FN=224\n",
      "  - Vis Class 3 (Occluded): TP=0, FP=0, FN=24\n",
      "  - No Ball (Vis 0): TN=186, FP=3\n",
      "  ------------------------------------\n",
      "[Epoch 175] Val Loss: 0.0017, Precision: 0.9717, Recall: 0.7884, F1: 0.8705\n"
     ]
    },
    {
     "name": "stderr",
     "output_type": "stream",
     "text": [
      "Epoch 176/500 [Train]: 100%|██████████| 200/200 [00:36<00:00,  5.48it/s, loss=0.0015]\n"
     ]
    },
    {
     "name": "stdout",
     "output_type": "stream",
     "text": [
      "[Epoch 176] Train Loss: 0.0015\n"
     ]
    },
    {
     "name": "stderr",
     "output_type": "stream",
     "text": [
      "Epoch 177/500 [Train]: 100%|██████████| 200/200 [00:36<00:00,  5.46it/s, loss=0.0034]\n"
     ]
    },
    {
     "name": "stdout",
     "output_type": "stream",
     "text": [
      "[Epoch 177] Train Loss: 0.0014\n"
     ]
    },
    {
     "name": "stderr",
     "output_type": "stream",
     "text": [
      "Epoch 178/500 [Train]: 100%|██████████| 200/200 [00:36<00:00,  5.46it/s, loss=0.0015]\n"
     ]
    },
    {
     "name": "stdout",
     "output_type": "stream",
     "text": [
      "[Epoch 178] Train Loss: 0.0015\n"
     ]
    },
    {
     "name": "stderr",
     "output_type": "stream",
     "text": [
      "Epoch 179/500 [Train]: 100%|██████████| 200/200 [00:36<00:00,  5.44it/s, loss=0.0024]\n"
     ]
    },
    {
     "name": "stdout",
     "output_type": "stream",
     "text": [
      "[Epoch 179] Train Loss: 0.0015\n"
     ]
    },
    {
     "name": "stderr",
     "output_type": "stream",
     "text": [
      "Epoch 180/500 [Train]: 100%|██████████| 200/200 [00:36<00:00,  5.47it/s, loss=0.0015]\n"
     ]
    },
    {
     "name": "stdout",
     "output_type": "stream",
     "text": [
      "[Epoch 180] Train Loss: 0.0014\n"
     ]
    },
    {
     "name": "stderr",
     "output_type": "stream",
     "text": [
      "Epoch 180/500 [Val]: 100%|██████████| 2947/2947 [04:08<00:00, 11.86it/s]\n"
     ]
    },
    {
     "name": "stdout",
     "output_type": "stream",
     "text": [
      "\n",
      "--- Validation Metrics (Epoch 180) ---\n",
      "  - Vis Class 1 (Easy): TP=4322, FP=123, FN=813\n",
      "  - Vis Class 2 (Hard): TP=202, FP=10, FN=211\n",
      "  - Vis Class 3 (Occluded): TP=0, FP=1, FN=23\n",
      "  - No Ball (Vis 0): TN=187, FP=2\n",
      "  ------------------------------------\n",
      "[Epoch 180] Val Loss: 0.0017, Precision: 0.9712, Recall: 0.8121, F1: 0.8845\n"
     ]
    },
    {
     "name": "stderr",
     "output_type": "stream",
     "text": [
      "Epoch 181/500 [Train]: 100%|██████████| 200/200 [00:36<00:00,  5.43it/s, loss=0.0015]\n"
     ]
    },
    {
     "name": "stdout",
     "output_type": "stream",
     "text": [
      "[Epoch 181] Train Loss: 0.0015\n"
     ]
    },
    {
     "name": "stderr",
     "output_type": "stream",
     "text": [
      "Epoch 182/500 [Train]: 100%|██████████| 200/200 [00:36<00:00,  5.47it/s, loss=0.0014]\n"
     ]
    },
    {
     "name": "stdout",
     "output_type": "stream",
     "text": [
      "[Epoch 182] Train Loss: 0.0015\n"
     ]
    },
    {
     "name": "stderr",
     "output_type": "stream",
     "text": [
      "Epoch 183/500 [Train]: 100%|██████████| 200/200 [00:36<00:00,  5.49it/s, loss=0.0006]\n"
     ]
    },
    {
     "name": "stdout",
     "output_type": "stream",
     "text": [
      "[Epoch 183] Train Loss: 0.0015\n"
     ]
    },
    {
     "name": "stderr",
     "output_type": "stream",
     "text": [
      "Epoch 184/500 [Train]: 100%|██████████| 200/200 [00:36<00:00,  5.49it/s, loss=0.0012]\n"
     ]
    },
    {
     "name": "stdout",
     "output_type": "stream",
     "text": [
      "[Epoch 184] Train Loss: 0.0015\n"
     ]
    },
    {
     "name": "stderr",
     "output_type": "stream",
     "text": [
      "Epoch 185/500 [Train]: 100%|██████████| 200/200 [00:36<00:00,  5.49it/s, loss=0.0014]\n"
     ]
    },
    {
     "name": "stdout",
     "output_type": "stream",
     "text": [
      "[Epoch 185] Train Loss: 0.0014\n"
     ]
    },
    {
     "name": "stderr",
     "output_type": "stream",
     "text": [
      "Epoch 185/500 [Val]: 100%|██████████| 2947/2947 [04:05<00:00, 12.02it/s]\n"
     ]
    },
    {
     "name": "stdout",
     "output_type": "stream",
     "text": [
      "\n",
      "--- Validation Metrics (Epoch 185) ---\n",
      "  - Vis Class 1 (Easy): TP=4331, FP=135, FN=792\n",
      "  - Vis Class 2 (Hard): TP=204, FP=15, FN=204\n",
      "  - Vis Class 3 (Occluded): TP=0, FP=0, FN=24\n",
      "  - No Ball (Vis 0): TN=187, FP=2\n",
      "  ------------------------------------\n",
      "[Epoch 185] Val Loss: 0.0017, Precision: 0.9680, Recall: 0.8164, F1: 0.8857\n"
     ]
    },
    {
     "name": "stderr",
     "output_type": "stream",
     "text": [
      "Epoch 186/500 [Train]: 100%|██████████| 200/200 [00:36<00:00,  5.50it/s, loss=0.0015]\n"
     ]
    },
    {
     "name": "stdout",
     "output_type": "stream",
     "text": [
      "[Epoch 186] Train Loss: 0.0015\n"
     ]
    },
    {
     "name": "stderr",
     "output_type": "stream",
     "text": [
      "Epoch 187/500 [Train]: 100%|██████████| 200/200 [00:36<00:00,  5.45it/s, loss=0.0014]\n"
     ]
    },
    {
     "name": "stdout",
     "output_type": "stream",
     "text": [
      "[Epoch 187] Train Loss: 0.0014\n"
     ]
    },
    {
     "name": "stderr",
     "output_type": "stream",
     "text": [
      "Epoch 188/500 [Train]: 100%|██████████| 200/200 [00:36<00:00,  5.50it/s, loss=0.0012]\n"
     ]
    },
    {
     "name": "stdout",
     "output_type": "stream",
     "text": [
      "[Epoch 188] Train Loss: 0.0014\n"
     ]
    },
    {
     "name": "stderr",
     "output_type": "stream",
     "text": [
      "Epoch 189/500 [Train]: 100%|██████████| 200/200 [00:36<00:00,  5.50it/s, loss=0.0016]\n"
     ]
    },
    {
     "name": "stdout",
     "output_type": "stream",
     "text": [
      "[Epoch 189] Train Loss: 0.0014\n"
     ]
    },
    {
     "name": "stderr",
     "output_type": "stream",
     "text": [
      "Epoch 190/500 [Train]: 100%|██████████| 200/200 [00:36<00:00,  5.50it/s, loss=0.0014]\n"
     ]
    },
    {
     "name": "stdout",
     "output_type": "stream",
     "text": [
      "[Epoch 190] Train Loss: 0.0015\n"
     ]
    },
    {
     "name": "stderr",
     "output_type": "stream",
     "text": [
      "Epoch 190/500 [Val]: 100%|██████████| 2947/2947 [04:05<00:00, 12.01it/s]\n"
     ]
    },
    {
     "name": "stdout",
     "output_type": "stream",
     "text": [
      "\n",
      "--- Validation Metrics (Epoch 190) ---\n",
      "  - Vis Class 1 (Easy): TP=4309, FP=173, FN=776\n",
      "  - Vis Class 2 (Hard): TP=210, FP=13, FN=200\n",
      "  - Vis Class 3 (Occluded): TP=0, FP=0, FN=24\n",
      "  - No Ball (Vis 0): TN=187, FP=2\n",
      "  ------------------------------------\n",
      "[Epoch 190] Val Loss: 0.0017, Precision: 0.9605, Recall: 0.8188, F1: 0.8840\n"
     ]
    },
    {
     "name": "stderr",
     "output_type": "stream",
     "text": [
      "Epoch 191/500 [Train]: 100%|██████████| 200/200 [00:36<00:00,  5.50it/s, loss=0.0012]\n"
     ]
    },
    {
     "name": "stdout",
     "output_type": "stream",
     "text": [
      "[Epoch 191] Train Loss: 0.0014\n"
     ]
    },
    {
     "name": "stderr",
     "output_type": "stream",
     "text": [
      "Epoch 192/500 [Train]: 100%|██████████| 200/200 [00:36<00:00,  5.50it/s, loss=0.0012]\n"
     ]
    },
    {
     "name": "stdout",
     "output_type": "stream",
     "text": [
      "[Epoch 192] Train Loss: 0.0015\n"
     ]
    },
    {
     "name": "stderr",
     "output_type": "stream",
     "text": [
      "Epoch 193/500 [Train]: 100%|██████████| 200/200 [00:36<00:00,  5.50it/s, loss=0.0016]\n"
     ]
    },
    {
     "name": "stdout",
     "output_type": "stream",
     "text": [
      "[Epoch 193] Train Loss: 0.0014\n"
     ]
    },
    {
     "name": "stderr",
     "output_type": "stream",
     "text": [
      "Epoch 194/500 [Train]: 100%|██████████| 200/200 [00:36<00:00,  5.50it/s, loss=0.0014]\n"
     ]
    },
    {
     "name": "stdout",
     "output_type": "stream",
     "text": [
      "[Epoch 194] Train Loss: 0.0015\n"
     ]
    },
    {
     "name": "stderr",
     "output_type": "stream",
     "text": [
      "Epoch 195/500 [Train]: 100%|██████████| 200/200 [00:36<00:00,  5.50it/s, loss=0.0012]\n"
     ]
    },
    {
     "name": "stdout",
     "output_type": "stream",
     "text": [
      "[Epoch 195] Train Loss: 0.0014\n"
     ]
    },
    {
     "name": "stderr",
     "output_type": "stream",
     "text": [
      "Epoch 195/500 [Val]: 100%|██████████| 2947/2947 [04:05<00:00, 12.02it/s]\n"
     ]
    },
    {
     "name": "stdout",
     "output_type": "stream",
     "text": [
      "\n",
      "--- Validation Metrics (Epoch 195) ---\n",
      "  - Vis Class 1 (Easy): TP=4343, FP=107, FN=808\n",
      "  - Vis Class 2 (Hard): TP=220, FP=15, FN=188\n",
      "  - Vis Class 3 (Occluded): TP=0, FP=0, FN=24\n",
      "  - No Ball (Vis 0): TN=187, FP=2\n",
      "  ------------------------------------\n",
      "[Epoch 195] Val Loss: 0.0017, Precision: 0.9740, Recall: 0.8173, F1: 0.8888\n"
     ]
    },
    {
     "name": "stderr",
     "output_type": "stream",
     "text": [
      "Epoch 196/500 [Train]: 100%|██████████| 200/200 [00:36<00:00,  5.50it/s, loss=0.0012]\n"
     ]
    },
    {
     "name": "stdout",
     "output_type": "stream",
     "text": [
      "[Epoch 196] Train Loss: 0.0015\n"
     ]
    },
    {
     "name": "stderr",
     "output_type": "stream",
     "text": [
      "Epoch 197/500 [Train]: 100%|██████████| 200/200 [00:36<00:00,  5.49it/s, loss=0.0017]\n"
     ]
    },
    {
     "name": "stdout",
     "output_type": "stream",
     "text": [
      "[Epoch 197] Train Loss: 0.0015\n"
     ]
    },
    {
     "name": "stderr",
     "output_type": "stream",
     "text": [
      "Epoch 198/500 [Train]: 100%|██████████| 200/200 [00:36<00:00,  5.50it/s, loss=0.0019]\n"
     ]
    },
    {
     "name": "stdout",
     "output_type": "stream",
     "text": [
      "[Epoch 198] Train Loss: 0.0014\n"
     ]
    },
    {
     "name": "stderr",
     "output_type": "stream",
     "text": [
      "Epoch 199/500 [Train]: 100%|██████████| 200/200 [00:36<00:00,  5.50it/s, loss=0.0012]\n"
     ]
    },
    {
     "name": "stdout",
     "output_type": "stream",
     "text": [
      "[Epoch 199] Train Loss: 0.0014\n"
     ]
    },
    {
     "name": "stderr",
     "output_type": "stream",
     "text": [
      "Epoch 200/500 [Train]: 100%|██████████| 200/200 [00:36<00:00,  5.49it/s, loss=0.0016]\n"
     ]
    },
    {
     "name": "stdout",
     "output_type": "stream",
     "text": [
      "[Epoch 200] Train Loss: 0.0015\n"
     ]
    },
    {
     "name": "stderr",
     "output_type": "stream",
     "text": [
      "Epoch 200/500 [Val]: 100%|██████████| 2947/2947 [04:05<00:00, 12.02it/s]\n"
     ]
    },
    {
     "name": "stdout",
     "output_type": "stream",
     "text": [
      "\n",
      "--- Validation Metrics (Epoch 200) ---\n",
      "  - Vis Class 1 (Easy): TP=4272, FP=159, FN=827\n",
      "  - Vis Class 2 (Hard): TP=216, FP=17, FN=190\n",
      "  - Vis Class 3 (Occluded): TP=0, FP=1, FN=23\n",
      "  - No Ball (Vis 0): TN=188, FP=1\n",
      "  ------------------------------------\n",
      "[Epoch 200] Val Loss: 0.0017, Precision: 0.9621, Recall: 0.8119, F1: 0.8806\n"
     ]
    },
    {
     "name": "stderr",
     "output_type": "stream",
     "text": [
      "Epoch 201/500 [Train]: 100%|██████████| 200/200 [00:36<00:00,  5.51it/s, loss=0.0017]\n"
     ]
    },
    {
     "name": "stdout",
     "output_type": "stream",
     "text": [
      "[Epoch 201] Train Loss: 0.0014\n"
     ]
    },
    {
     "name": "stderr",
     "output_type": "stream",
     "text": [
      "Epoch 202/500 [Train]: 100%|██████████| 200/200 [00:36<00:00,  5.50it/s, loss=0.0015]\n"
     ]
    },
    {
     "name": "stdout",
     "output_type": "stream",
     "text": [
      "[Epoch 202] Train Loss: 0.0014\n"
     ]
    },
    {
     "name": "stderr",
     "output_type": "stream",
     "text": [
      "Epoch 203/500 [Train]: 100%|██████████| 200/200 [00:36<00:00,  5.50it/s, loss=0.0014]\n"
     ]
    },
    {
     "name": "stdout",
     "output_type": "stream",
     "text": [
      "[Epoch 203] Train Loss: 0.0014\n"
     ]
    },
    {
     "name": "stderr",
     "output_type": "stream",
     "text": [
      "Epoch 204/500 [Train]: 100%|██████████| 200/200 [00:36<00:00,  5.47it/s, loss=0.0012]\n"
     ]
    },
    {
     "name": "stdout",
     "output_type": "stream",
     "text": [
      "[Epoch 204] Train Loss: 0.0015\n"
     ]
    },
    {
     "name": "stderr",
     "output_type": "stream",
     "text": [
      "Epoch 205/500 [Train]: 100%|██████████| 200/200 [00:36<00:00,  5.49it/s, loss=0.0014]\n"
     ]
    },
    {
     "name": "stdout",
     "output_type": "stream",
     "text": [
      "[Epoch 205] Train Loss: 0.0014\n"
     ]
    },
    {
     "name": "stderr",
     "output_type": "stream",
     "text": [
      "Epoch 205/500 [Val]: 100%|██████████| 2947/2947 [04:05<00:00, 12.01it/s]\n"
     ]
    },
    {
     "name": "stdout",
     "output_type": "stream",
     "text": [
      "\n",
      "--- Validation Metrics (Epoch 205) ---\n",
      "  - Vis Class 1 (Easy): TP=3751, FP=127, FN=1380\n",
      "  - Vis Class 2 (Hard): TP=143, FP=11, FN=269\n",
      "  - Vis Class 3 (Occluded): TP=0, FP=0, FN=24\n",
      "  - No Ball (Vis 0): TN=189, FP=0\n",
      "  ------------------------------------\n",
      "[Epoch 205] Val Loss: 0.0018, Precision: 0.9658, Recall: 0.6995, F1: 0.8113\n"
     ]
    },
    {
     "name": "stderr",
     "output_type": "stream",
     "text": [
      "Epoch 206/500 [Train]: 100%|██████████| 200/200 [00:36<00:00,  5.50it/s, loss=0.0013]\n"
     ]
    },
    {
     "name": "stdout",
     "output_type": "stream",
     "text": [
      "[Epoch 206] Train Loss: 0.0015\n"
     ]
    },
    {
     "name": "stderr",
     "output_type": "stream",
     "text": [
      "Epoch 207/500 [Train]: 100%|██████████| 200/200 [00:36<00:00,  5.50it/s, loss=0.0016]\n"
     ]
    },
    {
     "name": "stdout",
     "output_type": "stream",
     "text": [
      "[Epoch 207] Train Loss: 0.0015\n"
     ]
    },
    {
     "name": "stderr",
     "output_type": "stream",
     "text": [
      "Epoch 208/500 [Train]: 100%|██████████| 200/200 [00:36<00:00,  5.49it/s, loss=0.0012]\n"
     ]
    },
    {
     "name": "stdout",
     "output_type": "stream",
     "text": [
      "[Epoch 208] Train Loss: 0.0014\n"
     ]
    },
    {
     "name": "stderr",
     "output_type": "stream",
     "text": [
      "Epoch 209/500 [Train]: 100%|██████████| 200/200 [00:36<00:00,  5.50it/s, loss=0.0014]\n"
     ]
    },
    {
     "name": "stdout",
     "output_type": "stream",
     "text": [
      "[Epoch 209] Train Loss: 0.0014\n"
     ]
    },
    {
     "name": "stderr",
     "output_type": "stream",
     "text": [
      "Epoch 210/500 [Train]: 100%|██████████| 200/200 [00:36<00:00,  5.50it/s, loss=0.0013]\n"
     ]
    },
    {
     "name": "stdout",
     "output_type": "stream",
     "text": [
      "[Epoch 210] Train Loss: 0.0014\n"
     ]
    },
    {
     "name": "stderr",
     "output_type": "stream",
     "text": [
      "Epoch 210/500 [Val]: 100%|██████████| 2947/2947 [04:04<00:00, 12.07it/s]\n"
     ]
    },
    {
     "name": "stdout",
     "output_type": "stream",
     "text": [
      "\n",
      "--- Validation Metrics (Epoch 210) ---\n",
      "  - Vis Class 1 (Easy): TP=3224, FP=192, FN=1842\n",
      "  - Vis Class 2 (Hard): TP=87, FP=8, FN=328\n",
      "  - Vis Class 3 (Occluded): TP=0, FP=2, FN=22\n",
      "  - No Ball (Vis 0): TN=189, FP=0\n",
      "  ------------------------------------\n",
      "[Epoch 210] Val Loss: 0.0021, Precision: 0.9425, Recall: 0.6017, F1: 0.7345\n"
     ]
    },
    {
     "name": "stderr",
     "output_type": "stream",
     "text": [
      "Epoch 211/500 [Train]: 100%|██████████| 200/200 [00:36<00:00,  5.50it/s, loss=0.0012]\n"
     ]
    },
    {
     "name": "stdout",
     "output_type": "stream",
     "text": [
      "[Epoch 211] Train Loss: 0.0014\n"
     ]
    },
    {
     "name": "stderr",
     "output_type": "stream",
     "text": [
      "Epoch 212/500 [Train]: 100%|██████████| 200/200 [00:36<00:00,  5.50it/s, loss=0.0016]\n"
     ]
    },
    {
     "name": "stdout",
     "output_type": "stream",
     "text": [
      "[Epoch 212] Train Loss: 0.0015\n"
     ]
    },
    {
     "name": "stderr",
     "output_type": "stream",
     "text": [
      "Epoch 213/500 [Train]: 100%|██████████| 200/200 [00:36<00:00,  5.50it/s, loss=0.0014]\n"
     ]
    },
    {
     "name": "stdout",
     "output_type": "stream",
     "text": [
      "[Epoch 213] Train Loss: 0.0014\n"
     ]
    },
    {
     "name": "stderr",
     "output_type": "stream",
     "text": [
      "Epoch 214/500 [Train]: 100%|██████████| 200/200 [00:36<00:00,  5.50it/s, loss=0.0017]\n"
     ]
    },
    {
     "name": "stdout",
     "output_type": "stream",
     "text": [
      "[Epoch 214] Train Loss: 0.0014\n"
     ]
    },
    {
     "name": "stderr",
     "output_type": "stream",
     "text": [
      "Epoch 215/500 [Train]: 100%|██████████| 200/200 [00:36<00:00,  5.50it/s, loss=0.0013]\n"
     ]
    },
    {
     "name": "stdout",
     "output_type": "stream",
     "text": [
      "[Epoch 215] Train Loss: 0.0015\n"
     ]
    },
    {
     "name": "stderr",
     "output_type": "stream",
     "text": [
      "Epoch 215/500 [Val]: 100%|██████████| 2947/2947 [04:05<00:00, 12.00it/s]\n"
     ]
    },
    {
     "name": "stdout",
     "output_type": "stream",
     "text": [
      "\n",
      "--- Validation Metrics (Epoch 215) ---\n",
      "  - Vis Class 1 (Easy): TP=4593, FP=128, FN=537\n",
      "  - Vis Class 2 (Hard): TP=238, FP=16, FN=169\n",
      "  - Vis Class 3 (Occluded): TP=0, FP=0, FN=24\n",
      "  - No Ball (Vis 0): TN=187, FP=2\n",
      "  ------------------------------------\n",
      "[Epoch 215] Val Loss: 0.0016, Precision: 0.9711, Recall: 0.8687, F1: 0.9170\n",
      "  -> New best F1 score: 0.9170. Saving best model to models\\model_best.pt\n"
     ]
    },
    {
     "name": "stderr",
     "output_type": "stream",
     "text": [
      "Epoch 216/500 [Train]: 100%|██████████| 200/200 [00:36<00:00,  5.51it/s, loss=0.0012]\n"
     ]
    },
    {
     "name": "stdout",
     "output_type": "stream",
     "text": [
      "[Epoch 216] Train Loss: 0.0014\n"
     ]
    },
    {
     "name": "stderr",
     "output_type": "stream",
     "text": [
      "Epoch 217/500 [Train]: 100%|██████████| 200/200 [00:36<00:00,  5.50it/s, loss=0.0015]\n"
     ]
    },
    {
     "name": "stdout",
     "output_type": "stream",
     "text": [
      "[Epoch 217] Train Loss: 0.0014\n"
     ]
    },
    {
     "name": "stderr",
     "output_type": "stream",
     "text": [
      "Epoch 218/500 [Train]: 100%|██████████| 200/200 [00:36<00:00,  5.50it/s, loss=0.0012]\n"
     ]
    },
    {
     "name": "stdout",
     "output_type": "stream",
     "text": [
      "[Epoch 218] Train Loss: 0.0014\n"
     ]
    },
    {
     "name": "stderr",
     "output_type": "stream",
     "text": [
      "Epoch 219/500 [Train]: 100%|██████████| 200/200 [00:36<00:00,  5.50it/s, loss=0.0015]\n"
     ]
    },
    {
     "name": "stdout",
     "output_type": "stream",
     "text": [
      "[Epoch 219] Train Loss: 0.0015\n"
     ]
    },
    {
     "name": "stderr",
     "output_type": "stream",
     "text": [
      "Epoch 220/500 [Train]: 100%|██████████| 200/200 [00:36<00:00,  5.50it/s, loss=0.0019]\n"
     ]
    },
    {
     "name": "stdout",
     "output_type": "stream",
     "text": [
      "[Epoch 220] Train Loss: 0.0015\n"
     ]
    },
    {
     "name": "stderr",
     "output_type": "stream",
     "text": [
      "Epoch 220/500 [Val]: 100%|██████████| 2947/2947 [04:04<00:00, 12.04it/s]\n"
     ]
    },
    {
     "name": "stdout",
     "output_type": "stream",
     "text": [
      "\n",
      "--- Validation Metrics (Epoch 220) ---\n",
      "  - Vis Class 1 (Easy): TP=4057, FP=164, FN=1037\n",
      "  - Vis Class 2 (Hard): TP=169, FP=10, FN=244\n",
      "  - Vis Class 3 (Occluded): TP=0, FP=1, FN=23\n",
      "  - No Ball (Vis 0): TN=188, FP=1\n",
      "  ------------------------------------\n",
      "[Epoch 220] Val Loss: 0.0017, Precision: 0.9602, Recall: 0.7642, F1: 0.8511\n"
     ]
    },
    {
     "name": "stderr",
     "output_type": "stream",
     "text": [
      "Epoch 221/500 [Train]: 100%|██████████| 200/200 [00:36<00:00,  5.50it/s, loss=0.0016]\n"
     ]
    },
    {
     "name": "stdout",
     "output_type": "stream",
     "text": [
      "[Epoch 221] Train Loss: 0.0014\n"
     ]
    },
    {
     "name": "stderr",
     "output_type": "stream",
     "text": [
      "Epoch 222/500 [Train]: 100%|██████████| 200/200 [00:36<00:00,  5.50it/s, loss=0.0014]\n"
     ]
    },
    {
     "name": "stdout",
     "output_type": "stream",
     "text": [
      "[Epoch 222] Train Loss: 0.0014\n"
     ]
    },
    {
     "name": "stderr",
     "output_type": "stream",
     "text": [
      "Epoch 223/500 [Train]: 100%|██████████| 200/200 [00:36<00:00,  5.50it/s, loss=0.0012]\n"
     ]
    },
    {
     "name": "stdout",
     "output_type": "stream",
     "text": [
      "[Epoch 223] Train Loss: 0.0014\n"
     ]
    },
    {
     "name": "stderr",
     "output_type": "stream",
     "text": [
      "Epoch 224/500 [Train]: 100%|██████████| 200/200 [00:36<00:00,  5.50it/s, loss=0.0006]\n"
     ]
    },
    {
     "name": "stdout",
     "output_type": "stream",
     "text": [
      "[Epoch 224] Train Loss: 0.0015\n"
     ]
    },
    {
     "name": "stderr",
     "output_type": "stream",
     "text": [
      "Epoch 225/500 [Train]: 100%|██████████| 200/200 [00:36<00:00,  5.50it/s, loss=0.0015]\n"
     ]
    },
    {
     "name": "stdout",
     "output_type": "stream",
     "text": [
      "[Epoch 225] Train Loss: 0.0014\n"
     ]
    },
    {
     "name": "stderr",
     "output_type": "stream",
     "text": [
      "Epoch 225/500 [Val]: 100%|██████████| 2947/2947 [04:05<00:00, 12.01it/s]\n"
     ]
    },
    {
     "name": "stdout",
     "output_type": "stream",
     "text": [
      "\n",
      "--- Validation Metrics (Epoch 225) ---\n",
      "  - Vis Class 1 (Easy): TP=4481, FP=138, FN=639\n",
      "  - Vis Class 2 (Hard): TP=221, FP=10, FN=192\n",
      "  - Vis Class 3 (Occluded): TP=0, FP=0, FN=24\n",
      "  - No Ball (Vis 0): TN=187, FP=2\n",
      "  ------------------------------------\n",
      "[Epoch 225] Val Loss: 0.0016, Precision: 0.9695, Recall: 0.8461, F1: 0.9036\n"
     ]
    },
    {
     "name": "stderr",
     "output_type": "stream",
     "text": [
      "Epoch 226/500 [Train]: 100%|██████████| 200/200 [00:36<00:00,  5.50it/s, loss=0.0018]\n"
     ]
    },
    {
     "name": "stdout",
     "output_type": "stream",
     "text": [
      "[Epoch 226] Train Loss: 0.0014\n"
     ]
    },
    {
     "name": "stderr",
     "output_type": "stream",
     "text": [
      "Epoch 227/500 [Train]: 100%|██████████| 200/200 [00:36<00:00,  5.50it/s, loss=0.0022]\n"
     ]
    },
    {
     "name": "stdout",
     "output_type": "stream",
     "text": [
      "[Epoch 227] Train Loss: 0.0015\n"
     ]
    },
    {
     "name": "stderr",
     "output_type": "stream",
     "text": [
      "Epoch 228/500 [Train]: 100%|██████████| 200/200 [00:36<00:00,  5.50it/s, loss=0.0015]\n"
     ]
    },
    {
     "name": "stdout",
     "output_type": "stream",
     "text": [
      "[Epoch 228] Train Loss: 0.0014\n"
     ]
    },
    {
     "name": "stderr",
     "output_type": "stream",
     "text": [
      "Epoch 229/500 [Train]: 100%|██████████| 200/200 [00:36<00:00,  5.50it/s, loss=0.0016]\n"
     ]
    },
    {
     "name": "stdout",
     "output_type": "stream",
     "text": [
      "[Epoch 229] Train Loss: 0.0014\n"
     ]
    },
    {
     "name": "stderr",
     "output_type": "stream",
     "text": [
      "Epoch 230/500 [Train]: 100%|██████████| 200/200 [00:36<00:00,  5.50it/s, loss=0.0014]\n"
     ]
    },
    {
     "name": "stdout",
     "output_type": "stream",
     "text": [
      "[Epoch 230] Train Loss: 0.0014\n"
     ]
    },
    {
     "name": "stderr",
     "output_type": "stream",
     "text": [
      "Epoch 230/500 [Val]: 100%|██████████| 2947/2947 [04:04<00:00, 12.03it/s]\n"
     ]
    },
    {
     "name": "stdout",
     "output_type": "stream",
     "text": [
      "\n",
      "--- Validation Metrics (Epoch 230) ---\n",
      "  - Vis Class 1 (Easy): TP=4275, FP=115, FN=868\n",
      "  - Vis Class 2 (Hard): TP=191, FP=3, FN=229\n",
      "  - Vis Class 3 (Occluded): TP=0, FP=0, FN=24\n",
      "  - No Ball (Vis 0): TN=187, FP=2\n",
      "  ------------------------------------\n",
      "[Epoch 230] Val Loss: 0.0017, Precision: 0.9743, Recall: 0.7994, F1: 0.8782\n"
     ]
    },
    {
     "name": "stderr",
     "output_type": "stream",
     "text": [
      "Epoch 231/500 [Train]: 100%|██████████| 200/200 [00:36<00:00,  5.51it/s, loss=0.0014]\n"
     ]
    },
    {
     "name": "stdout",
     "output_type": "stream",
     "text": [
      "[Epoch 231] Train Loss: 0.0014\n"
     ]
    },
    {
     "name": "stderr",
     "output_type": "stream",
     "text": [
      "Epoch 232/500 [Train]: 100%|██████████| 200/200 [00:36<00:00,  5.50it/s, loss=0.0015]\n"
     ]
    },
    {
     "name": "stdout",
     "output_type": "stream",
     "text": [
      "[Epoch 232] Train Loss: 0.0014\n"
     ]
    },
    {
     "name": "stderr",
     "output_type": "stream",
     "text": [
      "Epoch 233/500 [Train]: 100%|██████████| 200/200 [00:36<00:00,  5.50it/s, loss=0.0012]\n"
     ]
    },
    {
     "name": "stdout",
     "output_type": "stream",
     "text": [
      "[Epoch 233] Train Loss: 0.0014\n"
     ]
    },
    {
     "name": "stderr",
     "output_type": "stream",
     "text": [
      "Epoch 234/500 [Train]: 100%|██████████| 200/200 [00:36<00:00,  5.50it/s, loss=0.0014]\n"
     ]
    },
    {
     "name": "stdout",
     "output_type": "stream",
     "text": [
      "[Epoch 234] Train Loss: 0.0014\n"
     ]
    },
    {
     "name": "stderr",
     "output_type": "stream",
     "text": [
      "Epoch 235/500 [Train]: 100%|██████████| 200/200 [00:36<00:00,  5.49it/s, loss=0.0028]\n"
     ]
    },
    {
     "name": "stdout",
     "output_type": "stream",
     "text": [
      "[Epoch 235] Train Loss: 0.0014\n"
     ]
    },
    {
     "name": "stderr",
     "output_type": "stream",
     "text": [
      "Epoch 235/500 [Val]: 100%|██████████| 2947/2947 [04:05<00:00, 11.99it/s]\n"
     ]
    },
    {
     "name": "stdout",
     "output_type": "stream",
     "text": [
      "\n",
      "--- Validation Metrics (Epoch 235) ---\n",
      "  - Vis Class 1 (Easy): TP=4401, FP=391, FN=466\n",
      "  - Vis Class 2 (Hard): TP=222, FP=44, FN=157\n",
      "  - Vis Class 3 (Occluded): TP=4, FP=2, FN=18\n",
      "  - No Ball (Vis 0): TN=184, FP=5\n",
      "  ------------------------------------\n",
      "[Epoch 235] Val Loss: 0.0017, Precision: 0.9137, Recall: 0.8783, F1: 0.8957\n"
     ]
    },
    {
     "name": "stderr",
     "output_type": "stream",
     "text": [
      "Epoch 236/500 [Train]: 100%|██████████| 200/200 [00:36<00:00,  5.50it/s, loss=0.0013]\n"
     ]
    },
    {
     "name": "stdout",
     "output_type": "stream",
     "text": [
      "[Epoch 236] Train Loss: 0.0014\n"
     ]
    },
    {
     "name": "stderr",
     "output_type": "stream",
     "text": [
      "Epoch 237/500 [Train]: 100%|██████████| 200/200 [00:36<00:00,  5.51it/s, loss=0.0024]\n"
     ]
    },
    {
     "name": "stdout",
     "output_type": "stream",
     "text": [
      "[Epoch 237] Train Loss: 0.0014\n"
     ]
    },
    {
     "name": "stderr",
     "output_type": "stream",
     "text": [
      "Epoch 238/500 [Train]: 100%|██████████| 200/200 [00:36<00:00,  5.50it/s, loss=0.0006]\n"
     ]
    },
    {
     "name": "stdout",
     "output_type": "stream",
     "text": [
      "[Epoch 238] Train Loss: 0.0014\n"
     ]
    },
    {
     "name": "stderr",
     "output_type": "stream",
     "text": [
      "Epoch 239/500 [Train]: 100%|██████████| 200/200 [00:36<00:00,  5.50it/s, loss=0.0011]\n"
     ]
    },
    {
     "name": "stdout",
     "output_type": "stream",
     "text": [
      "[Epoch 239] Train Loss: 0.0014\n"
     ]
    },
    {
     "name": "stderr",
     "output_type": "stream",
     "text": [
      "Epoch 240/500 [Train]: 100%|██████████| 200/200 [00:36<00:00,  5.50it/s, loss=0.0012]\n"
     ]
    },
    {
     "name": "stdout",
     "output_type": "stream",
     "text": [
      "[Epoch 240] Train Loss: 0.0014\n"
     ]
    },
    {
     "name": "stderr",
     "output_type": "stream",
     "text": [
      "Epoch 240/500 [Val]: 100%|██████████| 2947/2947 [04:04<00:00, 12.04it/s]\n"
     ]
    },
    {
     "name": "stdout",
     "output_type": "stream",
     "text": [
      "\n",
      "--- Validation Metrics (Epoch 240) ---\n",
      "  - Vis Class 1 (Easy): TP=4111, FP=206, FN=941\n",
      "  - Vis Class 2 (Hard): TP=171, FP=10, FN=242\n",
      "  - Vis Class 3 (Occluded): TP=1, FP=1, FN=22\n",
      "  - No Ball (Vis 0): TN=187, FP=2\n",
      "  ------------------------------------\n",
      "[Epoch 240] Val Loss: 0.0018, Precision: 0.9518, Recall: 0.7804, F1: 0.8576\n"
     ]
    },
    {
     "name": "stderr",
     "output_type": "stream",
     "text": [
      "Epoch 241/500 [Train]: 100%|██████████| 200/200 [00:36<00:00,  5.50it/s, loss=0.0013]\n"
     ]
    },
    {
     "name": "stdout",
     "output_type": "stream",
     "text": [
      "[Epoch 241] Train Loss: 0.0014\n"
     ]
    },
    {
     "name": "stderr",
     "output_type": "stream",
     "text": [
      "Epoch 242/500 [Train]: 100%|██████████| 200/200 [00:36<00:00,  5.50it/s, loss=0.0016]\n"
     ]
    },
    {
     "name": "stdout",
     "output_type": "stream",
     "text": [
      "[Epoch 242] Train Loss: 0.0014\n"
     ]
    },
    {
     "name": "stderr",
     "output_type": "stream",
     "text": [
      "Epoch 243/500 [Train]: 100%|██████████| 200/200 [00:36<00:00,  5.50it/s, loss=0.0013]\n"
     ]
    },
    {
     "name": "stdout",
     "output_type": "stream",
     "text": [
      "[Epoch 243] Train Loss: 0.0013\n"
     ]
    },
    {
     "name": "stderr",
     "output_type": "stream",
     "text": [
      "Epoch 244/500 [Train]: 100%|██████████| 200/200 [00:36<00:00,  5.50it/s, loss=0.0016]\n"
     ]
    },
    {
     "name": "stdout",
     "output_type": "stream",
     "text": [
      "[Epoch 244] Train Loss: 0.0014\n"
     ]
    },
    {
     "name": "stderr",
     "output_type": "stream",
     "text": [
      "Epoch 245/500 [Train]: 100%|██████████| 200/200 [00:36<00:00,  5.47it/s, loss=0.0012]\n"
     ]
    },
    {
     "name": "stdout",
     "output_type": "stream",
     "text": [
      "[Epoch 245] Train Loss: 0.0013\n"
     ]
    },
    {
     "name": "stderr",
     "output_type": "stream",
     "text": [
      "Epoch 245/500 [Val]: 100%|██████████| 2947/2947 [04:01<00:00, 12.20it/s]\n"
     ]
    },
    {
     "name": "stdout",
     "output_type": "stream",
     "text": [
      "\n",
      "--- Validation Metrics (Epoch 245) ---\n",
      "  - Vis Class 1 (Easy): TP=4437, FP=149, FN=672\n",
      "  - Vis Class 2 (Hard): TP=220, FP=17, FN=186\n",
      "  - Vis Class 3 (Occluded): TP=0, FP=0, FN=24\n",
      "  - No Ball (Vis 0): TN=187, FP=2\n",
      "  ------------------------------------\n",
      "[Epoch 245] Val Loss: 0.0016, Precision: 0.9656, Recall: 0.8408, F1: 0.8989\n"
     ]
    },
    {
     "name": "stderr",
     "output_type": "stream",
     "text": [
      "Epoch 246/500 [Train]: 100%|██████████| 200/200 [00:36<00:00,  5.48it/s, loss=0.0016]\n"
     ]
    },
    {
     "name": "stdout",
     "output_type": "stream",
     "text": [
      "[Epoch 246] Train Loss: 0.0014\n"
     ]
    },
    {
     "name": "stderr",
     "output_type": "stream",
     "text": [
      "Epoch 247/500 [Train]: 100%|██████████| 200/200 [00:36<00:00,  5.48it/s, loss=0.0016]\n"
     ]
    },
    {
     "name": "stdout",
     "output_type": "stream",
     "text": [
      "[Epoch 247] Train Loss: 0.0014\n"
     ]
    },
    {
     "name": "stderr",
     "output_type": "stream",
     "text": [
      "Epoch 248/500 [Train]: 100%|██████████| 200/200 [00:36<00:00,  5.48it/s, loss=0.0016]\n"
     ]
    },
    {
     "name": "stdout",
     "output_type": "stream",
     "text": [
      "[Epoch 248] Train Loss: 0.0013\n"
     ]
    },
    {
     "name": "stderr",
     "output_type": "stream",
     "text": [
      "Epoch 249/500 [Train]: 100%|██████████| 200/200 [00:36<00:00,  5.42it/s, loss=0.0021]\n"
     ]
    },
    {
     "name": "stdout",
     "output_type": "stream",
     "text": [
      "[Epoch 249] Train Loss: 0.0013\n"
     ]
    },
    {
     "name": "stderr",
     "output_type": "stream",
     "text": [
      "Epoch 250/500 [Train]: 100%|██████████| 200/200 [00:36<00:00,  5.48it/s, loss=0.0011]\n"
     ]
    },
    {
     "name": "stdout",
     "output_type": "stream",
     "text": [
      "[Epoch 250] Train Loss: 0.0014\n"
     ]
    },
    {
     "name": "stderr",
     "output_type": "stream",
     "text": [
      "Epoch 250/500 [Val]: 100%|██████████| 2947/2947 [04:01<00:00, 12.20it/s]\n"
     ]
    },
    {
     "name": "stdout",
     "output_type": "stream",
     "text": [
      "\n",
      "--- Validation Metrics (Epoch 250) ---\n",
      "  - Vis Class 1 (Easy): TP=4430, FP=119, FN=709\n",
      "  - Vis Class 2 (Hard): TP=226, FP=10, FN=187\n",
      "  - Vis Class 3 (Occluded): TP=1, FP=0, FN=23\n",
      "  - No Ball (Vis 0): TN=187, FP=2\n",
      "  ------------------------------------\n",
      "[Epoch 250] Val Loss: 0.0017, Precision: 0.9730, Recall: 0.8352, F1: 0.8989\n"
     ]
    },
    {
     "name": "stderr",
     "output_type": "stream",
     "text": [
      "Epoch 251/500 [Train]: 100%|██████████| 200/200 [00:36<00:00,  5.48it/s, loss=0.0007]\n"
     ]
    },
    {
     "name": "stdout",
     "output_type": "stream",
     "text": [
      "[Epoch 251] Train Loss: 0.0013\n"
     ]
    },
    {
     "name": "stderr",
     "output_type": "stream",
     "text": [
      "Epoch 252/500 [Train]: 100%|██████████| 200/200 [00:36<00:00,  5.48it/s, loss=0.0011]\n"
     ]
    },
    {
     "name": "stdout",
     "output_type": "stream",
     "text": [
      "[Epoch 252] Train Loss: 0.0014\n"
     ]
    },
    {
     "name": "stderr",
     "output_type": "stream",
     "text": [
      "Epoch 253/500 [Train]: 100%|██████████| 200/200 [00:36<00:00,  5.48it/s, loss=0.0013]\n"
     ]
    },
    {
     "name": "stdout",
     "output_type": "stream",
     "text": [
      "[Epoch 253] Train Loss: 0.0014\n"
     ]
    },
    {
     "name": "stderr",
     "output_type": "stream",
     "text": [
      "Epoch 254/500 [Train]: 100%|██████████| 200/200 [00:36<00:00,  5.48it/s, loss=0.0016]\n"
     ]
    },
    {
     "name": "stdout",
     "output_type": "stream",
     "text": [
      "[Epoch 254] Train Loss: 0.0014\n"
     ]
    },
    {
     "name": "stderr",
     "output_type": "stream",
     "text": [
      "Epoch 255/500 [Train]: 100%|██████████| 200/200 [00:36<00:00,  5.49it/s, loss=0.0012]\n"
     ]
    },
    {
     "name": "stdout",
     "output_type": "stream",
     "text": [
      "[Epoch 255] Train Loss: 0.0013\n"
     ]
    },
    {
     "name": "stderr",
     "output_type": "stream",
     "text": [
      "Epoch 255/500 [Val]: 100%|██████████| 2947/2947 [04:01<00:00, 12.21it/s]\n"
     ]
    },
    {
     "name": "stdout",
     "output_type": "stream",
     "text": [
      "\n",
      "--- Validation Metrics (Epoch 255) ---\n",
      "  - Vis Class 1 (Easy): TP=4456, FP=184, FN=618\n",
      "  - Vis Class 2 (Hard): TP=218, FP=20, FN=185\n",
      "  - Vis Class 3 (Occluded): TP=1, FP=0, FN=23\n",
      "  - No Ball (Vis 0): TN=187, FP=2\n",
      "  ------------------------------------\n",
      "[Epoch 255] Val Loss: 0.0016, Precision: 0.9582, Recall: 0.8498, F1: 0.9008\n"
     ]
    },
    {
     "name": "stderr",
     "output_type": "stream",
     "text": [
      "Epoch 256/500 [Train]: 100%|██████████| 200/200 [00:36<00:00,  5.48it/s, loss=0.0012]\n"
     ]
    },
    {
     "name": "stdout",
     "output_type": "stream",
     "text": [
      "[Epoch 256] Train Loss: 0.0014\n"
     ]
    },
    {
     "name": "stderr",
     "output_type": "stream",
     "text": [
      "Epoch 257/500 [Train]: 100%|██████████| 200/200 [00:36<00:00,  5.48it/s, loss=0.0013]\n"
     ]
    },
    {
     "name": "stdout",
     "output_type": "stream",
     "text": [
      "[Epoch 257] Train Loss: 0.0014\n"
     ]
    },
    {
     "name": "stderr",
     "output_type": "stream",
     "text": [
      "Epoch 258/500 [Train]: 100%|██████████| 200/200 [00:36<00:00,  5.48it/s, loss=0.0022]\n"
     ]
    },
    {
     "name": "stdout",
     "output_type": "stream",
     "text": [
      "[Epoch 258] Train Loss: 0.0014\n"
     ]
    },
    {
     "name": "stderr",
     "output_type": "stream",
     "text": [
      "Epoch 259/500 [Train]: 100%|██████████| 200/200 [00:36<00:00,  5.47it/s, loss=0.0012]\n"
     ]
    },
    {
     "name": "stdout",
     "output_type": "stream",
     "text": [
      "[Epoch 259] Train Loss: 0.0013\n"
     ]
    },
    {
     "name": "stderr",
     "output_type": "stream",
     "text": [
      "Epoch 260/500 [Train]: 100%|██████████| 200/200 [00:36<00:00,  5.47it/s, loss=0.0013]\n"
     ]
    },
    {
     "name": "stdout",
     "output_type": "stream",
     "text": [
      "[Epoch 260] Train Loss: 0.0013\n"
     ]
    },
    {
     "name": "stderr",
     "output_type": "stream",
     "text": [
      "Epoch 260/500 [Val]: 100%|██████████| 2947/2947 [04:00<00:00, 12.24it/s]\n"
     ]
    },
    {
     "name": "stdout",
     "output_type": "stream",
     "text": [
      "\n",
      "--- Validation Metrics (Epoch 260) ---\n",
      "  - Vis Class 1 (Easy): TP=3882, FP=214, FN=1162\n",
      "  - Vis Class 2 (Hard): TP=161, FP=15, FN=247\n",
      "  - Vis Class 3 (Occluded): TP=1, FP=0, FN=23\n",
      "  - No Ball (Vis 0): TN=188, FP=1\n",
      "  ------------------------------------\n",
      "[Epoch 260] Val Loss: 0.0018, Precision: 0.9464, Recall: 0.7385, F1: 0.8296\n"
     ]
    },
    {
     "name": "stderr",
     "output_type": "stream",
     "text": [
      "Epoch 261/500 [Train]: 100%|██████████| 200/200 [00:36<00:00,  5.49it/s, loss=0.0011]\n"
     ]
    },
    {
     "name": "stdout",
     "output_type": "stream",
     "text": [
      "[Epoch 261] Train Loss: 0.0013\n"
     ]
    },
    {
     "name": "stderr",
     "output_type": "stream",
     "text": [
      "Epoch 262/500 [Train]: 100%|██████████| 200/200 [00:36<00:00,  5.49it/s, loss=0.0013]\n"
     ]
    },
    {
     "name": "stdout",
     "output_type": "stream",
     "text": [
      "[Epoch 262] Train Loss: 0.0013\n"
     ]
    },
    {
     "name": "stderr",
     "output_type": "stream",
     "text": [
      "Epoch 263/500 [Train]: 100%|██████████| 200/200 [00:36<00:00,  5.48it/s, loss=0.0015]\n"
     ]
    },
    {
     "name": "stdout",
     "output_type": "stream",
     "text": [
      "[Epoch 263] Train Loss: 0.0014\n"
     ]
    },
    {
     "name": "stderr",
     "output_type": "stream",
     "text": [
      "Epoch 264/500 [Train]: 100%|██████████| 200/200 [00:36<00:00,  5.48it/s, loss=0.0011]\n"
     ]
    },
    {
     "name": "stdout",
     "output_type": "stream",
     "text": [
      "[Epoch 264] Train Loss: 0.0014\n"
     ]
    },
    {
     "name": "stderr",
     "output_type": "stream",
     "text": [
      "Epoch 265/500 [Train]: 100%|██████████| 200/200 [00:36<00:00,  5.48it/s, loss=0.0008]\n"
     ]
    },
    {
     "name": "stdout",
     "output_type": "stream",
     "text": [
      "[Epoch 265] Train Loss: 0.0013\n"
     ]
    },
    {
     "name": "stderr",
     "output_type": "stream",
     "text": [
      "Epoch 265/500 [Val]: 100%|██████████| 2947/2947 [04:01<00:00, 12.21it/s]\n"
     ]
    },
    {
     "name": "stdout",
     "output_type": "stream",
     "text": [
      "\n",
      "--- Validation Metrics (Epoch 265) ---\n",
      "  - Vis Class 1 (Easy): TP=4395, FP=158, FN=705\n",
      "  - Vis Class 2 (Hard): TP=197, FP=10, FN=216\n",
      "  - Vis Class 3 (Occluded): TP=0, FP=1, FN=23\n",
      "  - No Ball (Vis 0): TN=187, FP=2\n",
      "  ------------------------------------\n",
      "[Epoch 265] Val Loss: 0.0017, Precision: 0.9645, Recall: 0.8295, F1: 0.8919\n"
     ]
    },
    {
     "name": "stderr",
     "output_type": "stream",
     "text": [
      "Epoch 266/500 [Train]: 100%|██████████| 200/200 [00:36<00:00,  5.49it/s, loss=0.0018]\n"
     ]
    },
    {
     "name": "stdout",
     "output_type": "stream",
     "text": [
      "[Epoch 266] Train Loss: 0.0013\n"
     ]
    },
    {
     "name": "stderr",
     "output_type": "stream",
     "text": [
      "Epoch 267/500 [Train]: 100%|██████████| 200/200 [00:36<00:00,  5.49it/s, loss=0.0012]\n"
     ]
    },
    {
     "name": "stdout",
     "output_type": "stream",
     "text": [
      "[Epoch 267] Train Loss: 0.0014\n"
     ]
    },
    {
     "name": "stderr",
     "output_type": "stream",
     "text": [
      "Epoch 268/500 [Train]: 100%|██████████| 200/200 [00:36<00:00,  5.48it/s, loss=0.0019]\n"
     ]
    },
    {
     "name": "stdout",
     "output_type": "stream",
     "text": [
      "[Epoch 268] Train Loss: 0.0013\n"
     ]
    },
    {
     "name": "stderr",
     "output_type": "stream",
     "text": [
      "Epoch 269/500 [Train]: 100%|██████████| 200/200 [00:36<00:00,  5.49it/s, loss=0.0012]\n"
     ]
    },
    {
     "name": "stdout",
     "output_type": "stream",
     "text": [
      "[Epoch 269] Train Loss: 0.0014\n"
     ]
    },
    {
     "name": "stderr",
     "output_type": "stream",
     "text": [
      "Epoch 270/500 [Train]: 100%|██████████| 200/200 [00:36<00:00,  5.48it/s, loss=0.0013]\n"
     ]
    },
    {
     "name": "stdout",
     "output_type": "stream",
     "text": [
      "[Epoch 270] Train Loss: 0.0013\n"
     ]
    },
    {
     "name": "stderr",
     "output_type": "stream",
     "text": [
      "Epoch 270/500 [Val]: 100%|██████████| 2947/2947 [04:02<00:00, 12.17it/s]\n"
     ]
    },
    {
     "name": "stdout",
     "output_type": "stream",
     "text": [
      "\n",
      "--- Validation Metrics (Epoch 270) ---\n",
      "  - Vis Class 1 (Easy): TP=4587, FP=132, FN=539\n",
      "  - Vis Class 2 (Hard): TP=246, FP=13, FN=164\n",
      "  - Vis Class 3 (Occluded): TP=0, FP=0, FN=24\n",
      "  - No Ball (Vis 0): TN=186, FP=3\n",
      "  ------------------------------------\n",
      "[Epoch 270] Val Loss: 0.0016, Precision: 0.9709, Recall: 0.8692, F1: 0.9173\n",
      "  -> New best F1 score: 0.9173. Saving best model to models\\model_best.pt\n"
     ]
    },
    {
     "name": "stderr",
     "output_type": "stream",
     "text": [
      "Epoch 271/500 [Train]: 100%|██████████| 200/200 [00:36<00:00,  5.48it/s, loss=0.0025]\n"
     ]
    },
    {
     "name": "stdout",
     "output_type": "stream",
     "text": [
      "[Epoch 271] Train Loss: 0.0013\n"
     ]
    },
    {
     "name": "stderr",
     "output_type": "stream",
     "text": [
      "Epoch 272/500 [Train]: 100%|██████████| 200/200 [00:36<00:00,  5.47it/s, loss=0.0014]\n"
     ]
    },
    {
     "name": "stdout",
     "output_type": "stream",
     "text": [
      "[Epoch 272] Train Loss: 0.0014\n"
     ]
    },
    {
     "name": "stderr",
     "output_type": "stream",
     "text": [
      "Epoch 273/500 [Train]: 100%|██████████| 200/200 [00:36<00:00,  5.47it/s, loss=0.0012]\n"
     ]
    },
    {
     "name": "stdout",
     "output_type": "stream",
     "text": [
      "[Epoch 273] Train Loss: 0.0013\n"
     ]
    },
    {
     "name": "stderr",
     "output_type": "stream",
     "text": [
      "Epoch 274/500 [Train]: 100%|██████████| 200/200 [00:36<00:00,  5.47it/s, loss=0.0013]\n"
     ]
    },
    {
     "name": "stdout",
     "output_type": "stream",
     "text": [
      "[Epoch 274] Train Loss: 0.0013\n"
     ]
    },
    {
     "name": "stderr",
     "output_type": "stream",
     "text": [
      "Epoch 275/500 [Train]: 100%|██████████| 200/200 [00:36<00:00,  5.48it/s, loss=0.0011]\n"
     ]
    },
    {
     "name": "stdout",
     "output_type": "stream",
     "text": [
      "[Epoch 275] Train Loss: 0.0013\n"
     ]
    },
    {
     "name": "stderr",
     "output_type": "stream",
     "text": [
      "Epoch 275/500 [Val]: 100%|██████████| 2947/2947 [04:02<00:00, 12.17it/s]\n"
     ]
    },
    {
     "name": "stdout",
     "output_type": "stream",
     "text": [
      "\n",
      "--- Validation Metrics (Epoch 275) ---\n",
      "  - Vis Class 1 (Easy): TP=4426, FP=257, FN=575\n",
      "  - Vis Class 2 (Hard): TP=215, FP=23, FN=185\n",
      "  - Vis Class 3 (Occluded): TP=1, FP=1, FN=22\n",
      "  - No Ball (Vis 0): TN=186, FP=3\n",
      "  ------------------------------------\n",
      "[Epoch 275] Val Loss: 0.0017, Precision: 0.9429, Recall: 0.8558, F1: 0.8973\n"
     ]
    },
    {
     "name": "stderr",
     "output_type": "stream",
     "text": [
      "Epoch 276/500 [Train]: 100%|██████████| 200/200 [00:36<00:00,  5.49it/s, loss=0.0006]\n"
     ]
    },
    {
     "name": "stdout",
     "output_type": "stream",
     "text": [
      "[Epoch 276] Train Loss: 0.0013\n"
     ]
    },
    {
     "name": "stderr",
     "output_type": "stream",
     "text": [
      "Epoch 277/500 [Train]: 100%|██████████| 200/200 [00:36<00:00,  5.49it/s, loss=0.0011]\n"
     ]
    },
    {
     "name": "stdout",
     "output_type": "stream",
     "text": [
      "[Epoch 277] Train Loss: 0.0013\n"
     ]
    },
    {
     "name": "stderr",
     "output_type": "stream",
     "text": [
      "Epoch 278/500 [Train]: 100%|██████████| 200/200 [00:36<00:00,  5.49it/s, loss=0.0011]\n"
     ]
    },
    {
     "name": "stdout",
     "output_type": "stream",
     "text": [
      "[Epoch 278] Train Loss: 0.0013\n"
     ]
    },
    {
     "name": "stderr",
     "output_type": "stream",
     "text": [
      "Epoch 279/500 [Train]: 100%|██████████| 200/200 [00:36<00:00,  5.48it/s, loss=0.0014]\n"
     ]
    },
    {
     "name": "stdout",
     "output_type": "stream",
     "text": [
      "[Epoch 279] Train Loss: 0.0013\n"
     ]
    },
    {
     "name": "stderr",
     "output_type": "stream",
     "text": [
      "Epoch 280/500 [Train]: 100%|██████████| 200/200 [00:36<00:00,  5.48it/s, loss=0.0013]\n"
     ]
    },
    {
     "name": "stdout",
     "output_type": "stream",
     "text": [
      "[Epoch 280] Train Loss: 0.0013\n"
     ]
    },
    {
     "name": "stderr",
     "output_type": "stream",
     "text": [
      "Epoch 280/500 [Val]: 100%|██████████| 2947/2947 [04:01<00:00, 12.22it/s]\n"
     ]
    },
    {
     "name": "stdout",
     "output_type": "stream",
     "text": [
      "\n",
      "--- Validation Metrics (Epoch 280) ---\n",
      "  - Vis Class 1 (Easy): TP=4291, FP=276, FN=691\n",
      "  - Vis Class 2 (Hard): TP=213, FP=15, FN=195\n",
      "  - Vis Class 3 (Occluded): TP=1, FP=0, FN=23\n",
      "  - No Ball (Vis 0): TN=187, FP=2\n",
      "  ------------------------------------\n",
      "[Epoch 280] Val Loss: 0.0016, Precision: 0.9393, Recall: 0.8321, F1: 0.8825\n"
     ]
    },
    {
     "name": "stderr",
     "output_type": "stream",
     "text": [
      "Epoch 281/500 [Train]: 100%|██████████| 200/200 [00:36<00:00,  5.49it/s, loss=0.0012]\n"
     ]
    },
    {
     "name": "stdout",
     "output_type": "stream",
     "text": [
      "[Epoch 281] Train Loss: 0.0013\n"
     ]
    },
    {
     "name": "stderr",
     "output_type": "stream",
     "text": [
      "Epoch 282/500 [Train]: 100%|██████████| 200/200 [00:36<00:00,  5.49it/s, loss=0.0012]\n"
     ]
    },
    {
     "name": "stdout",
     "output_type": "stream",
     "text": [
      "[Epoch 282] Train Loss: 0.0013\n"
     ]
    },
    {
     "name": "stderr",
     "output_type": "stream",
     "text": [
      "Epoch 283/500 [Train]: 100%|██████████| 200/200 [00:36<00:00,  5.48it/s, loss=0.0011]\n"
     ]
    },
    {
     "name": "stdout",
     "output_type": "stream",
     "text": [
      "[Epoch 283] Train Loss: 0.0013\n"
     ]
    },
    {
     "name": "stderr",
     "output_type": "stream",
     "text": [
      "Epoch 284/500 [Train]: 100%|██████████| 200/200 [00:36<00:00,  5.48it/s, loss=0.0013]\n"
     ]
    },
    {
     "name": "stdout",
     "output_type": "stream",
     "text": [
      "[Epoch 284] Train Loss: 0.0013\n"
     ]
    },
    {
     "name": "stderr",
     "output_type": "stream",
     "text": [
      "Epoch 285/500 [Train]: 100%|██████████| 200/200 [00:36<00:00,  5.48it/s, loss=0.0013]\n"
     ]
    },
    {
     "name": "stdout",
     "output_type": "stream",
     "text": [
      "[Epoch 285] Train Loss: 0.0013\n"
     ]
    },
    {
     "name": "stderr",
     "output_type": "stream",
     "text": [
      "Epoch 285/500 [Val]: 100%|██████████| 2947/2947 [04:01<00:00, 12.22it/s]\n"
     ]
    },
    {
     "name": "stdout",
     "output_type": "stream",
     "text": [
      "\n",
      "--- Validation Metrics (Epoch 285) ---\n",
      "  - Vis Class 1 (Easy): TP=4536, FP=202, FN=520\n",
      "  - Vis Class 2 (Hard): TP=236, FP=15, FN=172\n",
      "  - Vis Class 3 (Occluded): TP=2, FP=2, FN=20\n",
      "  - No Ball (Vis 0): TN=185, FP=4\n",
      "  ------------------------------------\n",
      "[Epoch 285] Val Loss: 0.0016, Precision: 0.9561, Recall: 0.8702, F1: 0.9112\n"
     ]
    },
    {
     "name": "stderr",
     "output_type": "stream",
     "text": [
      "Epoch 286/500 [Train]: 100%|██████████| 200/200 [00:36<00:00,  5.48it/s, loss=0.0011]\n"
     ]
    },
    {
     "name": "stdout",
     "output_type": "stream",
     "text": [
      "[Epoch 286] Train Loss: 0.0014\n"
     ]
    },
    {
     "name": "stderr",
     "output_type": "stream",
     "text": [
      "Epoch 287/500 [Train]: 100%|██████████| 200/200 [00:36<00:00,  5.48it/s, loss=0.0011]\n"
     ]
    },
    {
     "name": "stdout",
     "output_type": "stream",
     "text": [
      "[Epoch 287] Train Loss: 0.0013\n"
     ]
    },
    {
     "name": "stderr",
     "output_type": "stream",
     "text": [
      "Epoch 288/500 [Train]: 100%|██████████| 200/200 [00:36<00:00,  5.49it/s, loss=0.0018]\n"
     ]
    },
    {
     "name": "stdout",
     "output_type": "stream",
     "text": [
      "[Epoch 288] Train Loss: 0.0013\n"
     ]
    },
    {
     "name": "stderr",
     "output_type": "stream",
     "text": [
      "Epoch 289/500 [Train]: 100%|██████████| 200/200 [00:36<00:00,  5.48it/s, loss=0.0012]\n"
     ]
    },
    {
     "name": "stdout",
     "output_type": "stream",
     "text": [
      "[Epoch 289] Train Loss: 0.0013\n"
     ]
    },
    {
     "name": "stderr",
     "output_type": "stream",
     "text": [
      "Epoch 290/500 [Train]: 100%|██████████| 200/200 [00:36<00:00,  5.49it/s, loss=0.0013]\n"
     ]
    },
    {
     "name": "stdout",
     "output_type": "stream",
     "text": [
      "[Epoch 290] Train Loss: 0.0013\n"
     ]
    },
    {
     "name": "stderr",
     "output_type": "stream",
     "text": [
      "Epoch 290/500 [Val]: 100%|██████████| 2947/2947 [04:01<00:00, 12.18it/s]\n"
     ]
    },
    {
     "name": "stdout",
     "output_type": "stream",
     "text": [
      "\n",
      "--- Validation Metrics (Epoch 290) ---\n",
      "  - Vis Class 1 (Easy): TP=4395, FP=286, FN=577\n",
      "  - Vis Class 2 (Hard): TP=232, FP=25, FN=166\n",
      "  - Vis Class 3 (Occluded): TP=0, FP=2, FN=22\n",
      "  - No Ball (Vis 0): TN=187, FP=2\n",
      "  ------------------------------------\n",
      "[Epoch 290] Val Loss: 0.0016, Precision: 0.9366, Recall: 0.8581, F1: 0.8957\n"
     ]
    },
    {
     "name": "stderr",
     "output_type": "stream",
     "text": [
      "Epoch 291/500 [Train]: 100%|██████████| 200/200 [00:36<00:00,  5.48it/s, loss=0.0015]\n"
     ]
    },
    {
     "name": "stdout",
     "output_type": "stream",
     "text": [
      "[Epoch 291] Train Loss: 0.0013\n"
     ]
    },
    {
     "name": "stderr",
     "output_type": "stream",
     "text": [
      "Epoch 292/500 [Train]: 100%|██████████| 200/200 [00:36<00:00,  5.48it/s, loss=0.0006]\n"
     ]
    },
    {
     "name": "stdout",
     "output_type": "stream",
     "text": [
      "[Epoch 292] Train Loss: 0.0013\n"
     ]
    },
    {
     "name": "stderr",
     "output_type": "stream",
     "text": [
      "Epoch 293/500 [Train]: 100%|██████████| 200/200 [00:36<00:00,  5.48it/s, loss=0.0013]\n"
     ]
    },
    {
     "name": "stdout",
     "output_type": "stream",
     "text": [
      "[Epoch 293] Train Loss: 0.0013\n"
     ]
    },
    {
     "name": "stderr",
     "output_type": "stream",
     "text": [
      "Epoch 294/500 [Train]: 100%|██████████| 200/200 [00:36<00:00,  5.48it/s, loss=0.0012]\n"
     ]
    },
    {
     "name": "stdout",
     "output_type": "stream",
     "text": [
      "[Epoch 294] Train Loss: 0.0012\n"
     ]
    },
    {
     "name": "stderr",
     "output_type": "stream",
     "text": [
      "Epoch 295/500 [Train]: 100%|██████████| 200/200 [00:36<00:00,  5.47it/s, loss=0.0010]\n"
     ]
    },
    {
     "name": "stdout",
     "output_type": "stream",
     "text": [
      "[Epoch 295] Train Loss: 0.0013\n"
     ]
    },
    {
     "name": "stderr",
     "output_type": "stream",
     "text": [
      "Epoch 295/500 [Val]: 100%|██████████| 2947/2947 [04:01<00:00, 12.19it/s]\n"
     ]
    },
    {
     "name": "stdout",
     "output_type": "stream",
     "text": [
      "\n",
      "--- Validation Metrics (Epoch 295) ---\n",
      "  - Vis Class 1 (Easy): TP=4424, FP=367, FN=467\n",
      "  - Vis Class 2 (Hard): TP=229, FP=28, FN=166\n",
      "  - Vis Class 3 (Occluded): TP=1, FP=1, FN=22\n",
      "  - No Ball (Vis 0): TN=187, FP=2\n",
      "  ------------------------------------\n",
      "[Epoch 295] Val Loss: 0.0016, Precision: 0.9216, Recall: 0.8766, F1: 0.8985\n"
     ]
    },
    {
     "name": "stderr",
     "output_type": "stream",
     "text": [
      "Epoch 296/500 [Train]: 100%|██████████| 200/200 [00:36<00:00,  5.48it/s, loss=0.0016]\n"
     ]
    },
    {
     "name": "stdout",
     "output_type": "stream",
     "text": [
      "[Epoch 296] Train Loss: 0.0013\n"
     ]
    },
    {
     "name": "stderr",
     "output_type": "stream",
     "text": [
      "Epoch 297/500 [Train]: 100%|██████████| 200/200 [00:36<00:00,  5.48it/s, loss=0.0013]\n"
     ]
    },
    {
     "name": "stdout",
     "output_type": "stream",
     "text": [
      "[Epoch 297] Train Loss: 0.0013\n"
     ]
    },
    {
     "name": "stderr",
     "output_type": "stream",
     "text": [
      "Epoch 298/500 [Train]: 100%|██████████| 200/200 [00:36<00:00,  5.48it/s, loss=0.0011]\n"
     ]
    },
    {
     "name": "stdout",
     "output_type": "stream",
     "text": [
      "[Epoch 298] Train Loss: 0.0013\n"
     ]
    },
    {
     "name": "stderr",
     "output_type": "stream",
     "text": [
      "Epoch 299/500 [Train]: 100%|██████████| 200/200 [00:36<00:00,  5.48it/s, loss=0.0012]\n"
     ]
    },
    {
     "name": "stdout",
     "output_type": "stream",
     "text": [
      "[Epoch 299] Train Loss: 0.0013\n"
     ]
    },
    {
     "name": "stderr",
     "output_type": "stream",
     "text": [
      "Epoch 300/500 [Train]: 100%|██████████| 200/200 [00:36<00:00,  5.48it/s, loss=0.0013]\n"
     ]
    },
    {
     "name": "stdout",
     "output_type": "stream",
     "text": [
      "[Epoch 300] Train Loss: 0.0013\n"
     ]
    },
    {
     "name": "stderr",
     "output_type": "stream",
     "text": [
      "Epoch 300/500 [Val]: 100%|██████████| 2947/2947 [04:01<00:00, 12.23it/s]\n"
     ]
    },
    {
     "name": "stdout",
     "output_type": "stream",
     "text": [
      "\n",
      "--- Validation Metrics (Epoch 300) ---\n",
      "  - Vis Class 1 (Easy): TP=4146, FP=382, FN=730\n",
      "  - Vis Class 2 (Hard): TP=206, FP=20, FN=197\n",
      "  - Vis Class 3 (Occluded): TP=0, FP=0, FN=24\n",
      "  - No Ball (Vis 0): TN=186, FP=3\n",
      "  ------------------------------------\n",
      "[Epoch 300] Val Loss: 0.0016, Precision: 0.9154, Recall: 0.8207, F1: 0.8655\n"
     ]
    },
    {
     "name": "stderr",
     "output_type": "stream",
     "text": [
      "Epoch 301/500 [Train]: 100%|██████████| 200/200 [00:36<00:00,  5.48it/s, loss=0.0012]\n"
     ]
    },
    {
     "name": "stdout",
     "output_type": "stream",
     "text": [
      "[Epoch 301] Train Loss: 0.0013\n"
     ]
    },
    {
     "name": "stderr",
     "output_type": "stream",
     "text": [
      "Epoch 302/500 [Train]: 100%|██████████| 200/200 [00:36<00:00,  5.48it/s, loss=0.0012]\n"
     ]
    },
    {
     "name": "stdout",
     "output_type": "stream",
     "text": [
      "[Epoch 302] Train Loss: 0.0013\n"
     ]
    },
    {
     "name": "stderr",
     "output_type": "stream",
     "text": [
      "Epoch 303/500 [Train]: 100%|██████████| 200/200 [00:36<00:00,  5.48it/s, loss=0.0011]\n"
     ]
    },
    {
     "name": "stdout",
     "output_type": "stream",
     "text": [
      "[Epoch 303] Train Loss: 0.0013\n"
     ]
    },
    {
     "name": "stderr",
     "output_type": "stream",
     "text": [
      "Epoch 304/500 [Train]: 100%|██████████| 200/200 [00:36<00:00,  5.49it/s, loss=0.0006]\n"
     ]
    },
    {
     "name": "stdout",
     "output_type": "stream",
     "text": [
      "[Epoch 304] Train Loss: 0.0013\n"
     ]
    },
    {
     "name": "stderr",
     "output_type": "stream",
     "text": [
      "Epoch 305/500 [Train]: 100%|██████████| 200/200 [00:36<00:00,  5.48it/s, loss=0.0011]\n"
     ]
    },
    {
     "name": "stdout",
     "output_type": "stream",
     "text": [
      "[Epoch 305] Train Loss: 0.0013\n"
     ]
    },
    {
     "name": "stderr",
     "output_type": "stream",
     "text": [
      "Epoch 305/500 [Val]: 100%|██████████| 2947/2947 [04:01<00:00, 12.22it/s]\n"
     ]
    },
    {
     "name": "stdout",
     "output_type": "stream",
     "text": [
      "\n",
      "--- Validation Metrics (Epoch 305) ---\n",
      "  - Vis Class 1 (Easy): TP=4243, FP=406, FN=609\n",
      "  - Vis Class 2 (Hard): TP=199, FP=26, FN=198\n",
      "  - Vis Class 3 (Occluded): TP=1, FP=0, FN=23\n",
      "  - No Ball (Vis 0): TN=186, FP=3\n",
      "  ------------------------------------\n",
      "[Epoch 305] Val Loss: 0.0017, Precision: 0.9114, Recall: 0.8426, F1: 0.8756\n"
     ]
    },
    {
     "name": "stderr",
     "output_type": "stream",
     "text": [
      "Epoch 306/500 [Train]: 100%|██████████| 200/200 [00:36<00:00,  5.49it/s, loss=0.0013]\n"
     ]
    },
    {
     "name": "stdout",
     "output_type": "stream",
     "text": [
      "[Epoch 306] Train Loss: 0.0013\n"
     ]
    },
    {
     "name": "stderr",
     "output_type": "stream",
     "text": [
      "Epoch 307/500 [Train]: 100%|██████████| 200/200 [00:36<00:00,  5.49it/s, loss=0.0014]\n"
     ]
    },
    {
     "name": "stdout",
     "output_type": "stream",
     "text": [
      "[Epoch 307] Train Loss: 0.0013\n"
     ]
    },
    {
     "name": "stderr",
     "output_type": "stream",
     "text": [
      "Epoch 308/500 [Train]: 100%|██████████| 200/200 [00:36<00:00,  5.49it/s, loss=0.0012]\n"
     ]
    },
    {
     "name": "stdout",
     "output_type": "stream",
     "text": [
      "[Epoch 308] Train Loss: 0.0013\n"
     ]
    },
    {
     "name": "stderr",
     "output_type": "stream",
     "text": [
      "Epoch 309/500 [Train]: 100%|██████████| 200/200 [00:36<00:00,  5.48it/s, loss=0.0013]\n"
     ]
    },
    {
     "name": "stdout",
     "output_type": "stream",
     "text": [
      "[Epoch 309] Train Loss: 0.0013\n"
     ]
    },
    {
     "name": "stderr",
     "output_type": "stream",
     "text": [
      "Epoch 310/500 [Train]: 100%|██████████| 200/200 [00:36<00:00,  5.42it/s, loss=0.0016]\n"
     ]
    },
    {
     "name": "stdout",
     "output_type": "stream",
     "text": [
      "[Epoch 310] Train Loss: 0.0013\n"
     ]
    },
    {
     "name": "stderr",
     "output_type": "stream",
     "text": [
      "Epoch 310/500 [Val]: 100%|██████████| 2947/2947 [04:01<00:00, 12.20it/s]\n"
     ]
    },
    {
     "name": "stdout",
     "output_type": "stream",
     "text": [
      "\n",
      "--- Validation Metrics (Epoch 310) ---\n",
      "  - Vis Class 1 (Easy): TP=4375, FP=327, FN=556\n",
      "  - Vis Class 2 (Hard): TP=233, FP=22, FN=168\n",
      "  - Vis Class 3 (Occluded): TP=0, FP=1, FN=23\n",
      "  - No Ball (Vis 0): TN=186, FP=3\n",
      "  ------------------------------------\n",
      "[Epoch 310] Val Loss: 0.0016, Precision: 0.9294, Recall: 0.8605, F1: 0.8936\n"
     ]
    },
    {
     "name": "stderr",
     "output_type": "stream",
     "text": [
      "Epoch 311/500 [Train]: 100%|██████████| 200/200 [00:36<00:00,  5.48it/s, loss=0.0013]\n"
     ]
    },
    {
     "name": "stdout",
     "output_type": "stream",
     "text": [
      "[Epoch 311] Train Loss: 0.0013\n"
     ]
    },
    {
     "name": "stderr",
     "output_type": "stream",
     "text": [
      "Epoch 312/500 [Train]: 100%|██████████| 200/200 [00:36<00:00,  5.49it/s, loss=0.0011]\n"
     ]
    },
    {
     "name": "stdout",
     "output_type": "stream",
     "text": [
      "[Epoch 312] Train Loss: 0.0013\n"
     ]
    },
    {
     "name": "stderr",
     "output_type": "stream",
     "text": [
      "Epoch 313/500 [Train]: 100%|██████████| 200/200 [00:36<00:00,  5.49it/s, loss=0.0011]\n"
     ]
    },
    {
     "name": "stdout",
     "output_type": "stream",
     "text": [
      "[Epoch 313] Train Loss: 0.0013\n"
     ]
    },
    {
     "name": "stderr",
     "output_type": "stream",
     "text": [
      "Epoch 314/500 [Train]: 100%|██████████| 200/200 [00:36<00:00,  5.49it/s, loss=0.0012]\n"
     ]
    },
    {
     "name": "stdout",
     "output_type": "stream",
     "text": [
      "[Epoch 314] Train Loss: 0.0013\n"
     ]
    },
    {
     "name": "stderr",
     "output_type": "stream",
     "text": [
      "Epoch 315/500 [Train]: 100%|██████████| 200/200 [00:36<00:00,  5.49it/s, loss=0.0016]\n"
     ]
    },
    {
     "name": "stdout",
     "output_type": "stream",
     "text": [
      "[Epoch 315] Train Loss: 0.0013\n"
     ]
    },
    {
     "name": "stderr",
     "output_type": "stream",
     "text": [
      "Epoch 315/500 [Val]: 100%|██████████| 2947/2947 [04:01<00:00, 12.21it/s]\n"
     ]
    },
    {
     "name": "stdout",
     "output_type": "stream",
     "text": [
      "\n",
      "--- Validation Metrics (Epoch 315) ---\n",
      "  - Vis Class 1 (Easy): TP=4204, FP=341, FN=713\n",
      "  - Vis Class 2 (Hard): TP=194, FP=22, FN=207\n",
      "  - Vis Class 3 (Occluded): TP=2, FP=1, FN=21\n",
      "  - No Ball (Vis 0): TN=187, FP=2\n",
      "  ------------------------------------\n",
      "[Epoch 315] Val Loss: 0.0017, Precision: 0.9236, Recall: 0.8238, F1: 0.8709\n"
     ]
    },
    {
     "name": "stderr",
     "output_type": "stream",
     "text": [
      "Epoch 316/500 [Train]: 100%|██████████| 200/200 [00:36<00:00,  5.50it/s, loss=0.0012]\n"
     ]
    },
    {
     "name": "stdout",
     "output_type": "stream",
     "text": [
      "[Epoch 316] Train Loss: 0.0013\n"
     ]
    },
    {
     "name": "stderr",
     "output_type": "stream",
     "text": [
      "Epoch 317/500 [Train]: 100%|██████████| 200/200 [00:36<00:00,  5.49it/s, loss=0.0013]\n"
     ]
    },
    {
     "name": "stdout",
     "output_type": "stream",
     "text": [
      "[Epoch 317] Train Loss: 0.0012\n"
     ]
    },
    {
     "name": "stderr",
     "output_type": "stream",
     "text": [
      "Epoch 318/500 [Train]: 100%|██████████| 200/200 [00:36<00:00,  5.48it/s, loss=0.0013]\n"
     ]
    },
    {
     "name": "stdout",
     "output_type": "stream",
     "text": [
      "[Epoch 318] Train Loss: 0.0013\n"
     ]
    },
    {
     "name": "stderr",
     "output_type": "stream",
     "text": [
      "Epoch 319/500 [Train]: 100%|██████████| 200/200 [00:36<00:00,  5.48it/s, loss=0.0013]\n"
     ]
    },
    {
     "name": "stdout",
     "output_type": "stream",
     "text": [
      "[Epoch 319] Train Loss: 0.0013\n"
     ]
    },
    {
     "name": "stderr",
     "output_type": "stream",
     "text": [
      "Epoch 320/500 [Train]: 100%|██████████| 200/200 [00:36<00:00,  5.48it/s, loss=0.0011]\n"
     ]
    },
    {
     "name": "stdout",
     "output_type": "stream",
     "text": [
      "[Epoch 320] Train Loss: 0.0013\n"
     ]
    },
    {
     "name": "stderr",
     "output_type": "stream",
     "text": [
      "Epoch 320/500 [Val]: 100%|██████████| 2947/2947 [04:01<00:00, 12.20it/s]\n"
     ]
    },
    {
     "name": "stdout",
     "output_type": "stream",
     "text": [
      "\n",
      "--- Validation Metrics (Epoch 320) ---\n",
      "  - Vis Class 1 (Easy): TP=4397, FP=382, FN=479\n",
      "  - Vis Class 2 (Hard): TP=235, FP=22, FN=166\n",
      "  - Vis Class 3 (Occluded): TP=2, FP=0, FN=22\n",
      "  - No Ball (Vis 0): TN=187, FP=2\n",
      "  ------------------------------------\n",
      "[Epoch 320] Val Loss: 0.0016, Precision: 0.9198, Recall: 0.8742, F1: 0.8964\n"
     ]
    },
    {
     "name": "stderr",
     "output_type": "stream",
     "text": [
      "Epoch 321/500 [Train]: 100%|██████████| 200/200 [00:36<00:00,  5.48it/s, loss=0.0015]\n"
     ]
    },
    {
     "name": "stdout",
     "output_type": "stream",
     "text": [
      "[Epoch 321] Train Loss: 0.0013\n"
     ]
    },
    {
     "name": "stderr",
     "output_type": "stream",
     "text": [
      "Epoch 322/500 [Train]: 100%|██████████| 200/200 [00:36<00:00,  5.48it/s, loss=0.0010]\n"
     ]
    },
    {
     "name": "stdout",
     "output_type": "stream",
     "text": [
      "[Epoch 322] Train Loss: 0.0013\n"
     ]
    },
    {
     "name": "stderr",
     "output_type": "stream",
     "text": [
      "Epoch 323/500 [Train]: 100%|██████████| 200/200 [00:36<00:00,  5.48it/s, loss=0.0011]\n"
     ]
    },
    {
     "name": "stdout",
     "output_type": "stream",
     "text": [
      "[Epoch 323] Train Loss: 0.0013\n"
     ]
    },
    {
     "name": "stderr",
     "output_type": "stream",
     "text": [
      "Epoch 324/500 [Train]: 100%|██████████| 200/200 [00:36<00:00,  5.49it/s, loss=0.0000]\n"
     ]
    },
    {
     "name": "stdout",
     "output_type": "stream",
     "text": [
      "[Epoch 324] Train Loss: 0.0013\n"
     ]
    },
    {
     "name": "stderr",
     "output_type": "stream",
     "text": [
      "Epoch 325/500 [Train]: 100%|██████████| 200/200 [00:36<00:00,  5.48it/s, loss=0.0010]\n"
     ]
    },
    {
     "name": "stdout",
     "output_type": "stream",
     "text": [
      "[Epoch 325] Train Loss: 0.0012\n"
     ]
    },
    {
     "name": "stderr",
     "output_type": "stream",
     "text": [
      "Epoch 325/500 [Val]: 100%|██████████| 2947/2947 [04:01<00:00, 12.21it/s]\n"
     ]
    },
    {
     "name": "stdout",
     "output_type": "stream",
     "text": [
      "\n",
      "--- Validation Metrics (Epoch 325) ---\n",
      "  - Vis Class 1 (Easy): TP=4388, FP=235, FN=635\n",
      "  - Vis Class 2 (Hard): TP=220, FP=13, FN=190\n",
      "  - Vis Class 3 (Occluded): TP=2, FP=1, FN=21\n",
      "  - No Ball (Vis 0): TN=188, FP=1\n",
      "  ------------------------------------\n",
      "[Epoch 325] Val Loss: 0.0016, Precision: 0.9488, Recall: 0.8449, F1: 0.8938\n"
     ]
    },
    {
     "name": "stderr",
     "output_type": "stream",
     "text": [
      "Epoch 326/500 [Train]: 100%|██████████| 200/200 [00:36<00:00,  5.49it/s, loss=0.0015]\n"
     ]
    },
    {
     "name": "stdout",
     "output_type": "stream",
     "text": [
      "[Epoch 326] Train Loss: 0.0013\n"
     ]
    },
    {
     "name": "stderr",
     "output_type": "stream",
     "text": [
      "Epoch 327/500 [Train]: 100%|██████████| 200/200 [00:36<00:00,  5.48it/s, loss=0.0011]\n"
     ]
    },
    {
     "name": "stdout",
     "output_type": "stream",
     "text": [
      "[Epoch 327] Train Loss: 0.0013\n"
     ]
    },
    {
     "name": "stderr",
     "output_type": "stream",
     "text": [
      "Epoch 328/500 [Train]: 100%|██████████| 200/200 [00:36<00:00,  5.48it/s, loss=0.0012]\n"
     ]
    },
    {
     "name": "stdout",
     "output_type": "stream",
     "text": [
      "[Epoch 328] Train Loss: 0.0013\n"
     ]
    },
    {
     "name": "stderr",
     "output_type": "stream",
     "text": [
      "Epoch 329/500 [Train]: 100%|██████████| 200/200 [00:36<00:00,  5.49it/s, loss=0.0012]\n"
     ]
    },
    {
     "name": "stdout",
     "output_type": "stream",
     "text": [
      "[Epoch 329] Train Loss: 0.0013\n"
     ]
    },
    {
     "name": "stderr",
     "output_type": "stream",
     "text": [
      "Epoch 330/500 [Train]: 100%|██████████| 200/200 [00:36<00:00,  5.48it/s, loss=0.0015]\n"
     ]
    },
    {
     "name": "stdout",
     "output_type": "stream",
     "text": [
      "[Epoch 330] Train Loss: 0.0012\n"
     ]
    },
    {
     "name": "stderr",
     "output_type": "stream",
     "text": [
      "Epoch 330/500 [Val]: 100%|██████████| 2947/2947 [04:01<00:00, 12.22it/s]\n"
     ]
    },
    {
     "name": "stdout",
     "output_type": "stream",
     "text": [
      "\n",
      "--- Validation Metrics (Epoch 330) ---\n",
      "  - Vis Class 1 (Easy): TP=4330, FP=332, FN=596\n",
      "  - Vis Class 2 (Hard): TP=213, FP=25, FN=185\n",
      "  - Vis Class 3 (Occluded): TP=1, FP=3, FN=20\n",
      "  - No Ball (Vis 0): TN=187, FP=2\n",
      "  ------------------------------------\n",
      "[Epoch 330] Val Loss: 0.0017, Precision: 0.9266, Recall: 0.8501, F1: 0.8867\n"
     ]
    },
    {
     "name": "stderr",
     "output_type": "stream",
     "text": [
      "Epoch 331/500 [Train]: 100%|██████████| 200/200 [00:36<00:00,  5.49it/s, loss=0.0009]\n"
     ]
    },
    {
     "name": "stdout",
     "output_type": "stream",
     "text": [
      "[Epoch 331] Train Loss: 0.0013\n"
     ]
    },
    {
     "name": "stderr",
     "output_type": "stream",
     "text": [
      "Epoch 332/500 [Train]: 100%|██████████| 200/200 [00:36<00:00,  5.48it/s, loss=0.0014]\n"
     ]
    },
    {
     "name": "stdout",
     "output_type": "stream",
     "text": [
      "[Epoch 332] Train Loss: 0.0013\n"
     ]
    },
    {
     "name": "stderr",
     "output_type": "stream",
     "text": [
      "Epoch 333/500 [Train]: 100%|██████████| 200/200 [00:36<00:00,  5.49it/s, loss=0.0014]\n"
     ]
    },
    {
     "name": "stdout",
     "output_type": "stream",
     "text": [
      "[Epoch 333] Train Loss: 0.0013\n"
     ]
    },
    {
     "name": "stderr",
     "output_type": "stream",
     "text": [
      "Epoch 334/500 [Train]: 100%|██████████| 200/200 [00:36<00:00,  5.49it/s, loss=0.0013]\n"
     ]
    },
    {
     "name": "stdout",
     "output_type": "stream",
     "text": [
      "[Epoch 334] Train Loss: 0.0013\n"
     ]
    },
    {
     "name": "stderr",
     "output_type": "stream",
     "text": [
      "Epoch 335/500 [Train]: 100%|██████████| 200/200 [00:36<00:00,  5.48it/s, loss=0.0011]\n"
     ]
    },
    {
     "name": "stdout",
     "output_type": "stream",
     "text": [
      "[Epoch 335] Train Loss: 0.0012\n"
     ]
    },
    {
     "name": "stderr",
     "output_type": "stream",
     "text": [
      "Epoch 335/500 [Val]: 100%|██████████| 2947/2947 [04:01<00:00, 12.21it/s]\n"
     ]
    },
    {
     "name": "stdout",
     "output_type": "stream",
     "text": [
      "\n",
      "--- Validation Metrics (Epoch 335) ---\n",
      "  - Vis Class 1 (Easy): TP=4487, FP=333, FN=438\n",
      "  - Vis Class 2 (Hard): TP=230, FP=28, FN=165\n",
      "  - Vis Class 3 (Occluded): TP=2, FP=1, FN=21\n",
      "  - No Ball (Vis 0): TN=187, FP=2\n",
      "  ------------------------------------\n",
      "[Epoch 335] Val Loss: 0.0015, Precision: 0.9288, Recall: 0.8832, F1: 0.9054\n"
     ]
    },
    {
     "name": "stderr",
     "output_type": "stream",
     "text": [
      "Epoch 336/500 [Train]: 100%|██████████| 200/200 [00:36<00:00,  5.49it/s, loss=0.0013]\n"
     ]
    },
    {
     "name": "stdout",
     "output_type": "stream",
     "text": [
      "[Epoch 336] Train Loss: 0.0012\n"
     ]
    },
    {
     "name": "stderr",
     "output_type": "stream",
     "text": [
      "Epoch 337/500 [Train]: 100%|██████████| 200/200 [00:36<00:00,  5.49it/s, loss=0.0011]\n"
     ]
    },
    {
     "name": "stdout",
     "output_type": "stream",
     "text": [
      "[Epoch 337] Train Loss: 0.0013\n"
     ]
    },
    {
     "name": "stderr",
     "output_type": "stream",
     "text": [
      "Epoch 338/500 [Train]: 100%|██████████| 200/200 [00:36<00:00,  5.49it/s, loss=0.0012]\n"
     ]
    },
    {
     "name": "stdout",
     "output_type": "stream",
     "text": [
      "[Epoch 338] Train Loss: 0.0012\n"
     ]
    },
    {
     "name": "stderr",
     "output_type": "stream",
     "text": [
      "Epoch 339/500 [Train]: 100%|██████████| 200/200 [00:36<00:00,  5.49it/s, loss=0.0010]\n"
     ]
    },
    {
     "name": "stdout",
     "output_type": "stream",
     "text": [
      "[Epoch 339] Train Loss: 0.0013\n"
     ]
    },
    {
     "name": "stderr",
     "output_type": "stream",
     "text": [
      "Epoch 340/500 [Train]: 100%|██████████| 200/200 [00:36<00:00,  5.44it/s, loss=0.0011]\n"
     ]
    },
    {
     "name": "stdout",
     "output_type": "stream",
     "text": [
      "[Epoch 340] Train Loss: 0.0013\n"
     ]
    },
    {
     "name": "stderr",
     "output_type": "stream",
     "text": [
      "Epoch 340/500 [Val]: 100%|██████████| 2947/2947 [04:08<00:00, 11.88it/s]\n"
     ]
    },
    {
     "name": "stdout",
     "output_type": "stream",
     "text": [
      "\n",
      "--- Validation Metrics (Epoch 340) ---\n",
      "  - Vis Class 1 (Easy): TP=4527, FP=255, FN=476\n",
      "  - Vis Class 2 (Hard): TP=238, FP=28, FN=157\n",
      "  - Vis Class 3 (Occluded): TP=2, FP=0, FN=22\n",
      "  - No Ball (Vis 0): TN=184, FP=5\n",
      "  ------------------------------------\n",
      "[Epoch 340] Val Loss: 0.0016, Precision: 0.9440, Recall: 0.8792, F1: 0.9104\n"
     ]
    },
    {
     "name": "stderr",
     "output_type": "stream",
     "text": [
      "Epoch 341/500 [Train]: 100%|██████████| 200/200 [00:36<00:00,  5.42it/s, loss=0.0015]\n"
     ]
    },
    {
     "name": "stdout",
     "output_type": "stream",
     "text": [
      "[Epoch 341] Train Loss: 0.0013\n"
     ]
    },
    {
     "name": "stderr",
     "output_type": "stream",
     "text": [
      "Epoch 342/500 [Train]: 100%|██████████| 200/200 [00:36<00:00,  5.43it/s, loss=0.0017]\n"
     ]
    },
    {
     "name": "stdout",
     "output_type": "stream",
     "text": [
      "[Epoch 342] Train Loss: 0.0013\n"
     ]
    },
    {
     "name": "stderr",
     "output_type": "stream",
     "text": [
      "Epoch 343/500 [Train]: 100%|██████████| 200/200 [00:36<00:00,  5.43it/s, loss=0.0012]\n"
     ]
    },
    {
     "name": "stdout",
     "output_type": "stream",
     "text": [
      "[Epoch 343] Train Loss: 0.0012\n"
     ]
    },
    {
     "name": "stderr",
     "output_type": "stream",
     "text": [
      "Epoch 344/500 [Train]: 100%|██████████| 200/200 [00:36<00:00,  5.43it/s, loss=0.0011]\n"
     ]
    },
    {
     "name": "stdout",
     "output_type": "stream",
     "text": [
      "[Epoch 344] Train Loss: 0.0012\n"
     ]
    },
    {
     "name": "stderr",
     "output_type": "stream",
     "text": [
      "Epoch 345/500 [Train]: 100%|██████████| 200/200 [00:36<00:00,  5.43it/s, loss=0.0021]\n"
     ]
    },
    {
     "name": "stdout",
     "output_type": "stream",
     "text": [
      "[Epoch 345] Train Loss: 0.0012\n"
     ]
    },
    {
     "name": "stderr",
     "output_type": "stream",
     "text": [
      "Epoch 345/500 [Val]: 100%|██████████| 2947/2947 [04:07<00:00, 11.91it/s]\n"
     ]
    },
    {
     "name": "stdout",
     "output_type": "stream",
     "text": [
      "\n",
      "--- Validation Metrics (Epoch 345) ---\n",
      "  - Vis Class 1 (Easy): TP=4438, FP=278, FN=542\n",
      "  - Vis Class 2 (Hard): TP=236, FP=28, FN=159\n",
      "  - Vis Class 3 (Occluded): TP=2, FP=0, FN=22\n",
      "  - No Ball (Vis 0): TN=186, FP=3\n",
      "  ------------------------------------\n",
      "[Epoch 345] Val Loss: 0.0016, Precision: 0.9386, Recall: 0.8661, F1: 0.9009\n"
     ]
    },
    {
     "name": "stderr",
     "output_type": "stream",
     "text": [
      "Epoch 346/500 [Train]: 100%|██████████| 200/200 [00:36<00:00,  5.43it/s, loss=0.0011]\n"
     ]
    },
    {
     "name": "stdout",
     "output_type": "stream",
     "text": [
      "[Epoch 346] Train Loss: 0.0012\n"
     ]
    },
    {
     "name": "stderr",
     "output_type": "stream",
     "text": [
      "Epoch 347/500 [Train]: 100%|██████████| 200/200 [00:36<00:00,  5.42it/s, loss=0.0005]\n"
     ]
    },
    {
     "name": "stdout",
     "output_type": "stream",
     "text": [
      "[Epoch 347] Train Loss: 0.0012\n"
     ]
    },
    {
     "name": "stderr",
     "output_type": "stream",
     "text": [
      "Epoch 348/500 [Train]: 100%|██████████| 200/200 [00:36<00:00,  5.42it/s, loss=0.0010]\n"
     ]
    },
    {
     "name": "stdout",
     "output_type": "stream",
     "text": [
      "[Epoch 348] Train Loss: 0.0012\n"
     ]
    },
    {
     "name": "stderr",
     "output_type": "stream",
     "text": [
      "Epoch 349/500 [Train]: 100%|██████████| 200/200 [00:36<00:00,  5.42it/s, loss=0.0009]\n"
     ]
    },
    {
     "name": "stdout",
     "output_type": "stream",
     "text": [
      "[Epoch 349] Train Loss: 0.0013\n"
     ]
    },
    {
     "name": "stderr",
     "output_type": "stream",
     "text": [
      "Epoch 350/500 [Train]: 100%|██████████| 200/200 [00:36<00:00,  5.43it/s, loss=0.0013]\n"
     ]
    },
    {
     "name": "stdout",
     "output_type": "stream",
     "text": [
      "[Epoch 350] Train Loss: 0.0013\n"
     ]
    },
    {
     "name": "stderr",
     "output_type": "stream",
     "text": [
      "Epoch 350/500 [Val]: 100%|██████████| 2947/2947 [04:07<00:00, 11.89it/s]\n"
     ]
    },
    {
     "name": "stdout",
     "output_type": "stream",
     "text": [
      "\n",
      "--- Validation Metrics (Epoch 350) ---\n",
      "  - Vis Class 1 (Easy): TP=4403, FP=409, FN=446\n",
      "  - Vis Class 2 (Hard): TP=229, FP=43, FN=151\n",
      "  - Vis Class 3 (Occluded): TP=3, FP=2, FN=19\n",
      "  - No Ball (Vis 0): TN=185, FP=4\n",
      "  ------------------------------------\n",
      "[Epoch 350] Val Loss: 0.0016, Precision: 0.9108, Recall: 0.8827, F1: 0.8965\n"
     ]
    },
    {
     "name": "stderr",
     "output_type": "stream",
     "text": [
      "Epoch 351/500 [Train]: 100%|██████████| 200/200 [00:36<00:00,  5.43it/s, loss=0.0012]\n"
     ]
    },
    {
     "name": "stdout",
     "output_type": "stream",
     "text": [
      "[Epoch 351] Train Loss: 0.0012\n"
     ]
    },
    {
     "name": "stderr",
     "output_type": "stream",
     "text": [
      "Epoch 352/500 [Train]: 100%|██████████| 200/200 [00:36<00:00,  5.43it/s, loss=0.0012]\n"
     ]
    },
    {
     "name": "stdout",
     "output_type": "stream",
     "text": [
      "[Epoch 352] Train Loss: 0.0012\n"
     ]
    },
    {
     "name": "stderr",
     "output_type": "stream",
     "text": [
      "Epoch 353/500 [Train]: 100%|██████████| 200/200 [00:36<00:00,  5.43it/s, loss=0.0014]\n"
     ]
    },
    {
     "name": "stdout",
     "output_type": "stream",
     "text": [
      "[Epoch 353] Train Loss: 0.0012\n"
     ]
    },
    {
     "name": "stderr",
     "output_type": "stream",
     "text": [
      "Epoch 354/500 [Train]: 100%|██████████| 200/200 [00:36<00:00,  5.43it/s, loss=0.0012]\n"
     ]
    },
    {
     "name": "stdout",
     "output_type": "stream",
     "text": [
      "[Epoch 354] Train Loss: 0.0012\n"
     ]
    },
    {
     "name": "stderr",
     "output_type": "stream",
     "text": [
      "Epoch 355/500 [Train]: 100%|██████████| 200/200 [00:36<00:00,  5.42it/s, loss=0.0010]\n"
     ]
    },
    {
     "name": "stdout",
     "output_type": "stream",
     "text": [
      "[Epoch 355] Train Loss: 0.0012\n"
     ]
    },
    {
     "name": "stderr",
     "output_type": "stream",
     "text": [
      "Epoch 355/500 [Val]: 100%|██████████| 2947/2947 [04:07<00:00, 11.91it/s]\n"
     ]
    },
    {
     "name": "stdout",
     "output_type": "stream",
     "text": [
      "\n",
      "--- Validation Metrics (Epoch 355) ---\n",
      "  - Vis Class 1 (Easy): TP=4348, FP=485, FN=425\n",
      "  - Vis Class 2 (Hard): TP=237, FP=34, FN=152\n",
      "  - Vis Class 3 (Occluded): TP=2, FP=2, FN=20\n",
      "  - No Ball (Vis 0): TN=179, FP=10\n",
      "  ------------------------------------\n",
      "[Epoch 355] Val Loss: 0.0016, Precision: 0.8980, Recall: 0.8848, F1: 0.8914\n"
     ]
    },
    {
     "name": "stderr",
     "output_type": "stream",
     "text": [
      "Epoch 356/500 [Train]: 100%|██████████| 200/200 [00:36<00:00,  5.43it/s, loss=0.0015]\n"
     ]
    },
    {
     "name": "stdout",
     "output_type": "stream",
     "text": [
      "[Epoch 356] Train Loss: 0.0012\n"
     ]
    },
    {
     "name": "stderr",
     "output_type": "stream",
     "text": [
      "Epoch 357/500 [Train]: 100%|██████████| 200/200 [00:36<00:00,  5.42it/s, loss=0.0012]\n"
     ]
    },
    {
     "name": "stdout",
     "output_type": "stream",
     "text": [
      "[Epoch 357] Train Loss: 0.0012\n"
     ]
    },
    {
     "name": "stderr",
     "output_type": "stream",
     "text": [
      "Epoch 358/500 [Train]: 100%|██████████| 200/200 [00:36<00:00,  5.42it/s, loss=0.0007]\n"
     ]
    },
    {
     "name": "stdout",
     "output_type": "stream",
     "text": [
      "[Epoch 358] Train Loss: 0.0013\n"
     ]
    },
    {
     "name": "stderr",
     "output_type": "stream",
     "text": [
      "Epoch 359/500 [Train]: 100%|██████████| 200/200 [00:36<00:00,  5.43it/s, loss=0.0012]\n"
     ]
    },
    {
     "name": "stdout",
     "output_type": "stream",
     "text": [
      "[Epoch 359] Train Loss: 0.0012\n"
     ]
    },
    {
     "name": "stderr",
     "output_type": "stream",
     "text": [
      "Epoch 360/500 [Train]: 100%|██████████| 200/200 [00:36<00:00,  5.42it/s, loss=0.0010]\n"
     ]
    },
    {
     "name": "stdout",
     "output_type": "stream",
     "text": [
      "[Epoch 360] Train Loss: 0.0012\n"
     ]
    },
    {
     "name": "stderr",
     "output_type": "stream",
     "text": [
      "Epoch 360/500 [Val]: 100%|██████████| 2947/2947 [04:00<00:00, 12.24it/s]\n"
     ]
    },
    {
     "name": "stdout",
     "output_type": "stream",
     "text": [
      "\n",
      "--- Validation Metrics (Epoch 360) ---\n",
      "  - Vis Class 1 (Easy): TP=4024, FP=289, FN=945\n",
      "  - Vis Class 2 (Hard): TP=179, FP=16, FN=228\n",
      "  - Vis Class 3 (Occluded): TP=0, FP=0, FN=24\n",
      "  - No Ball (Vis 0): TN=188, FP=1\n",
      "  ------------------------------------\n",
      "[Epoch 360] Val Loss: 0.0017, Precision: 0.9323, Recall: 0.7783, F1: 0.8484\n"
     ]
    },
    {
     "name": "stderr",
     "output_type": "stream",
     "text": [
      "Epoch 361/500 [Train]: 100%|██████████| 200/200 [00:36<00:00,  5.46it/s, loss=0.0011]\n"
     ]
    },
    {
     "name": "stdout",
     "output_type": "stream",
     "text": [
      "[Epoch 361] Train Loss: 0.0012\n"
     ]
    },
    {
     "name": "stderr",
     "output_type": "stream",
     "text": [
      "Epoch 362/500 [Train]: 100%|██████████| 200/200 [00:36<00:00,  5.42it/s, loss=0.0011]\n"
     ]
    },
    {
     "name": "stdout",
     "output_type": "stream",
     "text": [
      "[Epoch 362] Train Loss: 0.0012\n"
     ]
    },
    {
     "name": "stderr",
     "output_type": "stream",
     "text": [
      "Epoch 363/500 [Train]: 100%|██████████| 200/200 [00:36<00:00,  5.43it/s, loss=0.0013]\n"
     ]
    },
    {
     "name": "stdout",
     "output_type": "stream",
     "text": [
      "[Epoch 363] Train Loss: 0.0012\n"
     ]
    },
    {
     "name": "stderr",
     "output_type": "stream",
     "text": [
      "Epoch 364/500 [Train]: 100%|██████████| 200/200 [00:36<00:00,  5.43it/s, loss=0.0010]\n"
     ]
    },
    {
     "name": "stdout",
     "output_type": "stream",
     "text": [
      "[Epoch 364] Train Loss: 0.0012\n"
     ]
    },
    {
     "name": "stderr",
     "output_type": "stream",
     "text": [
      "Epoch 365/500 [Train]: 100%|██████████| 200/200 [00:36<00:00,  5.43it/s, loss=0.0012]\n"
     ]
    },
    {
     "name": "stdout",
     "output_type": "stream",
     "text": [
      "[Epoch 365] Train Loss: 0.0012\n"
     ]
    },
    {
     "name": "stderr",
     "output_type": "stream",
     "text": [
      "Epoch 365/500 [Val]: 100%|██████████| 2947/2947 [04:07<00:00, 11.90it/s]\n"
     ]
    },
    {
     "name": "stdout",
     "output_type": "stream",
     "text": [
      "\n",
      "--- Validation Metrics (Epoch 365) ---\n",
      "  - Vis Class 1 (Easy): TP=4232, FP=530, FN=496\n",
      "  - Vis Class 2 (Hard): TP=220, FP=33, FN=170\n",
      "  - Vis Class 3 (Occluded): TP=1, FP=1, FN=22\n",
      "  - No Ball (Vis 0): TN=186, FP=3\n",
      "  ------------------------------------\n",
      "[Epoch 365] Val Loss: 0.0016, Precision: 0.8876, Recall: 0.8662, F1: 0.8767\n"
     ]
    },
    {
     "name": "stderr",
     "output_type": "stream",
     "text": [
      "Epoch 366/500 [Train]: 100%|██████████| 200/200 [00:36<00:00,  5.43it/s, loss=0.0009]\n"
     ]
    },
    {
     "name": "stdout",
     "output_type": "stream",
     "text": [
      "[Epoch 366] Train Loss: 0.0012\n"
     ]
    },
    {
     "name": "stderr",
     "output_type": "stream",
     "text": [
      "Epoch 367/500 [Train]: 100%|██████████| 200/200 [00:36<00:00,  5.43it/s, loss=0.0011]\n"
     ]
    },
    {
     "name": "stdout",
     "output_type": "stream",
     "text": [
      "[Epoch 367] Train Loss: 0.0012\n"
     ]
    },
    {
     "name": "stderr",
     "output_type": "stream",
     "text": [
      "Epoch 368/500 [Train]: 100%|██████████| 200/200 [00:36<00:00,  5.43it/s, loss=0.0010]\n"
     ]
    },
    {
     "name": "stdout",
     "output_type": "stream",
     "text": [
      "[Epoch 368] Train Loss: 0.0012\n"
     ]
    },
    {
     "name": "stderr",
     "output_type": "stream",
     "text": [
      "Epoch 369/500 [Train]: 100%|██████████| 200/200 [00:36<00:00,  5.43it/s, loss=0.0011]\n"
     ]
    },
    {
     "name": "stdout",
     "output_type": "stream",
     "text": [
      "[Epoch 369] Train Loss: 0.0012\n"
     ]
    },
    {
     "name": "stderr",
     "output_type": "stream",
     "text": [
      "Epoch 370/500 [Train]: 100%|██████████| 200/200 [00:36<00:00,  5.43it/s, loss=0.0014]\n"
     ]
    },
    {
     "name": "stdout",
     "output_type": "stream",
     "text": [
      "[Epoch 370] Train Loss: 0.0013\n"
     ]
    },
    {
     "name": "stderr",
     "output_type": "stream",
     "text": [
      "Epoch 370/500 [Val]: 100%|██████████| 2947/2947 [04:07<00:00, 11.89it/s]\n"
     ]
    },
    {
     "name": "stdout",
     "output_type": "stream",
     "text": [
      "\n",
      "--- Validation Metrics (Epoch 370) ---\n",
      "  - Vis Class 1 (Easy): TP=4455, FP=366, FN=437\n",
      "  - Vis Class 2 (Hard): TP=236, FP=31, FN=156\n",
      "  - Vis Class 3 (Occluded): TP=2, FP=2, FN=20\n",
      "  - No Ball (Vis 0): TN=186, FP=3\n",
      "  ------------------------------------\n",
      "[Epoch 370] Val Loss: 0.0016, Precision: 0.9216, Recall: 0.8845, F1: 0.9027\n"
     ]
    },
    {
     "name": "stderr",
     "output_type": "stream",
     "text": [
      "Epoch 371/500 [Train]: 100%|██████████| 200/200 [00:36<00:00,  5.43it/s, loss=0.0011]\n"
     ]
    },
    {
     "name": "stdout",
     "output_type": "stream",
     "text": [
      "[Epoch 371] Train Loss: 0.0012\n"
     ]
    },
    {
     "name": "stderr",
     "output_type": "stream",
     "text": [
      "Epoch 372/500 [Train]: 100%|██████████| 200/200 [00:36<00:00,  5.43it/s, loss=0.0026]\n"
     ]
    },
    {
     "name": "stdout",
     "output_type": "stream",
     "text": [
      "[Epoch 372] Train Loss: 0.0012\n"
     ]
    },
    {
     "name": "stderr",
     "output_type": "stream",
     "text": [
      "Epoch 373/500 [Train]: 100%|██████████| 200/200 [00:36<00:00,  5.43it/s, loss=0.0010]\n"
     ]
    },
    {
     "name": "stdout",
     "output_type": "stream",
     "text": [
      "[Epoch 373] Train Loss: 0.0012\n"
     ]
    },
    {
     "name": "stderr",
     "output_type": "stream",
     "text": [
      "Epoch 374/500 [Train]: 100%|██████████| 200/200 [00:36<00:00,  5.43it/s, loss=0.0011]\n"
     ]
    },
    {
     "name": "stdout",
     "output_type": "stream",
     "text": [
      "[Epoch 374] Train Loss: 0.0012\n"
     ]
    },
    {
     "name": "stderr",
     "output_type": "stream",
     "text": [
      "Epoch 375/500 [Train]: 100%|██████████| 200/200 [00:36<00:00,  5.42it/s, loss=0.0011]\n"
     ]
    },
    {
     "name": "stdout",
     "output_type": "stream",
     "text": [
      "[Epoch 375] Train Loss: 0.0012\n"
     ]
    },
    {
     "name": "stderr",
     "output_type": "stream",
     "text": [
      "Epoch 375/500 [Val]: 100%|██████████| 2947/2947 [04:07<00:00, 11.90it/s]\n"
     ]
    },
    {
     "name": "stdout",
     "output_type": "stream",
     "text": [
      "\n",
      "--- Validation Metrics (Epoch 375) ---\n",
      "  - Vis Class 1 (Easy): TP=4341, FP=421, FN=496\n",
      "  - Vis Class 2 (Hard): TP=227, FP=26, FN=170\n",
      "  - Vis Class 3 (Occluded): TP=1, FP=0, FN=23\n",
      "  - No Ball (Vis 0): TN=187, FP=2\n",
      "  ------------------------------------\n",
      "[Epoch 375] Val Loss: 0.0016, Precision: 0.9109, Recall: 0.8690, F1: 0.8894\n"
     ]
    },
    {
     "name": "stderr",
     "output_type": "stream",
     "text": [
      "Epoch 376/500 [Train]: 100%|██████████| 200/200 [00:36<00:00,  5.42it/s, loss=0.0012]\n"
     ]
    },
    {
     "name": "stdout",
     "output_type": "stream",
     "text": [
      "[Epoch 376] Train Loss: 0.0012\n"
     ]
    },
    {
     "name": "stderr",
     "output_type": "stream",
     "text": [
      "Epoch 377/500 [Train]: 100%|██████████| 200/200 [00:36<00:00,  5.42it/s, loss=0.0013]\n"
     ]
    },
    {
     "name": "stdout",
     "output_type": "stream",
     "text": [
      "[Epoch 377] Train Loss: 0.0012\n"
     ]
    },
    {
     "name": "stderr",
     "output_type": "stream",
     "text": [
      "Epoch 378/500 [Train]: 100%|██████████| 200/200 [00:36<00:00,  5.42it/s, loss=0.0010]\n"
     ]
    },
    {
     "name": "stdout",
     "output_type": "stream",
     "text": [
      "[Epoch 378] Train Loss: 0.0012\n"
     ]
    },
    {
     "name": "stderr",
     "output_type": "stream",
     "text": [
      "Epoch 379/500 [Train]: 100%|██████████| 200/200 [00:36<00:00,  5.42it/s, loss=0.0012]\n"
     ]
    },
    {
     "name": "stdout",
     "output_type": "stream",
     "text": [
      "[Epoch 379] Train Loss: 0.0012\n"
     ]
    },
    {
     "name": "stderr",
     "output_type": "stream",
     "text": [
      "Epoch 380/500 [Train]: 100%|██████████| 200/200 [00:36<00:00,  5.42it/s, loss=0.0012]\n"
     ]
    },
    {
     "name": "stdout",
     "output_type": "stream",
     "text": [
      "[Epoch 380] Train Loss: 0.0012\n"
     ]
    },
    {
     "name": "stderr",
     "output_type": "stream",
     "text": [
      "Epoch 380/500 [Val]: 100%|██████████| 2947/2947 [04:07<00:00, 11.90it/s]\n"
     ]
    },
    {
     "name": "stdout",
     "output_type": "stream",
     "text": [
      "\n",
      "--- Validation Metrics (Epoch 380) ---\n",
      "  - Vis Class 1 (Easy): TP=4172, FP=413, FN=673\n",
      "  - Vis Class 2 (Hard): TP=223, FP=23, FN=177\n",
      "  - Vis Class 3 (Occluded): TP=0, FP=1, FN=23\n",
      "  - No Ball (Vis 0): TN=187, FP=2\n",
      "  ------------------------------------\n",
      "[Epoch 380] Val Loss: 0.0016, Precision: 0.9096, Recall: 0.8343, F1: 0.8703\n"
     ]
    },
    {
     "name": "stderr",
     "output_type": "stream",
     "text": [
      "Epoch 381/500 [Train]: 100%|██████████| 200/200 [00:36<00:00,  5.43it/s, loss=0.0005]\n"
     ]
    },
    {
     "name": "stdout",
     "output_type": "stream",
     "text": [
      "[Epoch 381] Train Loss: 0.0012\n"
     ]
    },
    {
     "name": "stderr",
     "output_type": "stream",
     "text": [
      "Epoch 382/500 [Train]: 100%|██████████| 200/200 [00:36<00:00,  5.43it/s, loss=0.0010]\n"
     ]
    },
    {
     "name": "stdout",
     "output_type": "stream",
     "text": [
      "[Epoch 382] Train Loss: 0.0012\n"
     ]
    },
    {
     "name": "stderr",
     "output_type": "stream",
     "text": [
      "Epoch 383/500 [Train]: 100%|██████████| 200/200 [00:36<00:00,  5.43it/s, loss=0.0014]\n"
     ]
    },
    {
     "name": "stdout",
     "output_type": "stream",
     "text": [
      "[Epoch 383] Train Loss: 0.0012\n"
     ]
    },
    {
     "name": "stderr",
     "output_type": "stream",
     "text": [
      "Epoch 384/500 [Train]: 100%|██████████| 200/200 [00:36<00:00,  5.43it/s, loss=0.0010]\n"
     ]
    },
    {
     "name": "stdout",
     "output_type": "stream",
     "text": [
      "[Epoch 384] Train Loss: 0.0012\n"
     ]
    },
    {
     "name": "stderr",
     "output_type": "stream",
     "text": [
      "Epoch 385/500 [Train]: 100%|██████████| 200/200 [00:36<00:00,  5.42it/s, loss=0.0013]\n"
     ]
    },
    {
     "name": "stdout",
     "output_type": "stream",
     "text": [
      "[Epoch 385] Train Loss: 0.0012\n"
     ]
    },
    {
     "name": "stderr",
     "output_type": "stream",
     "text": [
      "Epoch 385/500 [Val]: 100%|██████████| 2947/2947 [04:07<00:00, 11.89it/s]\n"
     ]
    },
    {
     "name": "stdout",
     "output_type": "stream",
     "text": [
      "\n",
      "--- Validation Metrics (Epoch 385) ---\n",
      "  - Vis Class 1 (Easy): TP=4294, FP=405, FN=559\n",
      "  - Vis Class 2 (Hard): TP=227, FP=26, FN=170\n",
      "  - Vis Class 3 (Occluded): TP=2, FP=1, FN=21\n",
      "  - No Ball (Vis 0): TN=187, FP=2\n",
      "  ------------------------------------\n",
      "[Epoch 385] Val Loss: 0.0016, Precision: 0.9128, Recall: 0.8578, F1: 0.8844\n"
     ]
    },
    {
     "name": "stderr",
     "output_type": "stream",
     "text": [
      "Epoch 386/500 [Train]: 100%|██████████| 200/200 [00:36<00:00,  5.43it/s, loss=0.0011]\n"
     ]
    },
    {
     "name": "stdout",
     "output_type": "stream",
     "text": [
      "[Epoch 386] Train Loss: 0.0012\n"
     ]
    },
    {
     "name": "stderr",
     "output_type": "stream",
     "text": [
      "Epoch 387/500 [Train]: 100%|██████████| 200/200 [00:36<00:00,  5.43it/s, loss=0.0011]\n"
     ]
    },
    {
     "name": "stdout",
     "output_type": "stream",
     "text": [
      "[Epoch 387] Train Loss: 0.0012\n"
     ]
    },
    {
     "name": "stderr",
     "output_type": "stream",
     "text": [
      "Epoch 388/500 [Train]: 100%|██████████| 200/200 [00:36<00:00,  5.42it/s, loss=0.0012]\n"
     ]
    },
    {
     "name": "stdout",
     "output_type": "stream",
     "text": [
      "[Epoch 388] Train Loss: 0.0012\n"
     ]
    },
    {
     "name": "stderr",
     "output_type": "stream",
     "text": [
      "Epoch 389/500 [Train]: 100%|██████████| 200/200 [00:36<00:00,  5.43it/s, loss=0.0011]\n"
     ]
    },
    {
     "name": "stdout",
     "output_type": "stream",
     "text": [
      "[Epoch 389] Train Loss: 0.0012\n"
     ]
    },
    {
     "name": "stderr",
     "output_type": "stream",
     "text": [
      "Epoch 390/500 [Train]: 100%|██████████| 200/200 [00:36<00:00,  5.43it/s, loss=0.0011]\n"
     ]
    },
    {
     "name": "stdout",
     "output_type": "stream",
     "text": [
      "[Epoch 390] Train Loss: 0.0012\n"
     ]
    },
    {
     "name": "stderr",
     "output_type": "stream",
     "text": [
      "Epoch 390/500 [Val]: 100%|██████████| 2947/2947 [04:07<00:00, 11.91it/s]\n"
     ]
    },
    {
     "name": "stdout",
     "output_type": "stream",
     "text": [
      "\n",
      "--- Validation Metrics (Epoch 390) ---\n",
      "  - Vis Class 1 (Easy): TP=4175, FP=444, FN=639\n",
      "  - Vis Class 2 (Hard): TP=227, FP=22, FN=174\n",
      "  - Vis Class 3 (Occluded): TP=0, FP=3, FN=21\n",
      "  - No Ball (Vis 0): TN=187, FP=2\n",
      "  ------------------------------------\n",
      "[Epoch 390] Val Loss: 0.0016, Precision: 0.9037, Recall: 0.8407, F1: 0.8711\n"
     ]
    },
    {
     "name": "stderr",
     "output_type": "stream",
     "text": [
      "Epoch 391/500 [Train]: 100%|██████████| 200/200 [00:36<00:00,  5.46it/s, loss=0.0019]\n"
     ]
    },
    {
     "name": "stdout",
     "output_type": "stream",
     "text": [
      "[Epoch 391] Train Loss: 0.0012\n"
     ]
    },
    {
     "name": "stderr",
     "output_type": "stream",
     "text": [
      "Epoch 392/500 [Train]: 100%|██████████| 200/200 [00:36<00:00,  5.49it/s, loss=0.0013]\n"
     ]
    },
    {
     "name": "stdout",
     "output_type": "stream",
     "text": [
      "[Epoch 392] Train Loss: 0.0012\n"
     ]
    },
    {
     "name": "stderr",
     "output_type": "stream",
     "text": [
      "Epoch 393/500 [Train]: 100%|██████████| 200/200 [00:36<00:00,  5.49it/s, loss=0.0011]\n"
     ]
    },
    {
     "name": "stdout",
     "output_type": "stream",
     "text": [
      "[Epoch 393] Train Loss: 0.0012\n"
     ]
    },
    {
     "name": "stderr",
     "output_type": "stream",
     "text": [
      "Epoch 394/500 [Train]: 100%|██████████| 200/200 [00:36<00:00,  5.49it/s, loss=0.0011]\n"
     ]
    },
    {
     "name": "stdout",
     "output_type": "stream",
     "text": [
      "[Epoch 394] Train Loss: 0.0012\n"
     ]
    },
    {
     "name": "stderr",
     "output_type": "stream",
     "text": [
      "Epoch 395/500 [Train]: 100%|██████████| 200/200 [00:36<00:00,  5.48it/s, loss=0.0011]\n"
     ]
    },
    {
     "name": "stdout",
     "output_type": "stream",
     "text": [
      "[Epoch 395] Train Loss: 0.0012\n"
     ]
    },
    {
     "name": "stderr",
     "output_type": "stream",
     "text": [
      "Epoch 395/500 [Val]: 100%|██████████| 2947/2947 [04:05<00:00, 12.00it/s]\n"
     ]
    },
    {
     "name": "stdout",
     "output_type": "stream",
     "text": [
      "\n",
      "--- Validation Metrics (Epoch 395) ---\n",
      "  - Vis Class 1 (Easy): TP=4184, FP=514, FN=560\n",
      "  - Vis Class 2 (Hard): TP=219, FP=31, FN=173\n",
      "  - Vis Class 3 (Occluded): TP=1, FP=3, FN=20\n",
      "  - No Ball (Vis 0): TN=184, FP=5\n",
      "  ------------------------------------\n",
      "[Epoch 395] Val Loss: 0.0016, Precision: 0.8893, Recall: 0.8540, F1: 0.8713\n"
     ]
    },
    {
     "name": "stderr",
     "output_type": "stream",
     "text": [
      "Epoch 396/500 [Train]: 100%|██████████| 200/200 [00:36<00:00,  5.48it/s, loss=0.0014]\n"
     ]
    },
    {
     "name": "stdout",
     "output_type": "stream",
     "text": [
      "[Epoch 396] Train Loss: 0.0012\n"
     ]
    },
    {
     "name": "stderr",
     "output_type": "stream",
     "text": [
      "Epoch 397/500 [Train]: 100%|██████████| 200/200 [00:36<00:00,  5.49it/s, loss=0.0007]\n"
     ]
    },
    {
     "name": "stdout",
     "output_type": "stream",
     "text": [
      "[Epoch 397] Train Loss: 0.0012\n"
     ]
    },
    {
     "name": "stderr",
     "output_type": "stream",
     "text": [
      "Epoch 398/500 [Train]: 100%|██████████| 200/200 [00:36<00:00,  5.49it/s, loss=0.0011]\n"
     ]
    },
    {
     "name": "stdout",
     "output_type": "stream",
     "text": [
      "[Epoch 398] Train Loss: 0.0012\n"
     ]
    },
    {
     "name": "stderr",
     "output_type": "stream",
     "text": [
      "Epoch 399/500 [Train]: 100%|██████████| 200/200 [00:36<00:00,  5.49it/s, loss=0.0013]\n"
     ]
    },
    {
     "name": "stdout",
     "output_type": "stream",
     "text": [
      "[Epoch 399] Train Loss: 0.0012\n"
     ]
    },
    {
     "name": "stderr",
     "output_type": "stream",
     "text": [
      "Epoch 400/500 [Train]: 100%|██████████| 200/200 [00:36<00:00,  5.48it/s, loss=0.0013]\n"
     ]
    },
    {
     "name": "stdout",
     "output_type": "stream",
     "text": [
      "[Epoch 400] Train Loss: 0.0012\n"
     ]
    },
    {
     "name": "stderr",
     "output_type": "stream",
     "text": [
      "Epoch 400/500 [Val]: 100%|██████████| 2947/2947 [04:05<00:00, 12.02it/s]\n"
     ]
    },
    {
     "name": "stdout",
     "output_type": "stream",
     "text": [
      "\n",
      "--- Validation Metrics (Epoch 400) ---\n",
      "  - Vis Class 1 (Easy): TP=4289, FP=379, FN=590\n",
      "  - Vis Class 2 (Hard): TP=228, FP=25, FN=170\n",
      "  - Vis Class 3 (Occluded): TP=1, FP=1, FN=22\n",
      "  - No Ball (Vis 0): TN=187, FP=2\n",
      "  ------------------------------------\n",
      "[Epoch 400] Val Loss: 0.0016, Precision: 0.9177, Recall: 0.8525, F1: 0.8839\n"
     ]
    },
    {
     "name": "stderr",
     "output_type": "stream",
     "text": [
      "Epoch 401/500 [Train]: 100%|██████████| 200/200 [00:36<00:00,  5.44it/s, loss=0.0006]\n"
     ]
    },
    {
     "name": "stdout",
     "output_type": "stream",
     "text": [
      "[Epoch 401] Train Loss: 0.0012\n"
     ]
    },
    {
     "name": "stderr",
     "output_type": "stream",
     "text": [
      "Epoch 402/500 [Train]: 100%|██████████| 200/200 [00:36<00:00,  5.43it/s, loss=0.0011]\n"
     ]
    },
    {
     "name": "stdout",
     "output_type": "stream",
     "text": [
      "[Epoch 402] Train Loss: 0.0012\n"
     ]
    },
    {
     "name": "stderr",
     "output_type": "stream",
     "text": [
      "Epoch 403/500 [Train]: 100%|██████████| 200/200 [00:36<00:00,  5.43it/s, loss=0.0018]\n"
     ]
    },
    {
     "name": "stdout",
     "output_type": "stream",
     "text": [
      "[Epoch 403] Train Loss: 0.0012\n"
     ]
    },
    {
     "name": "stderr",
     "output_type": "stream",
     "text": [
      "Epoch 404/500 [Train]: 100%|██████████| 200/200 [00:36<00:00,  5.43it/s, loss=0.0010]\n"
     ]
    },
    {
     "name": "stdout",
     "output_type": "stream",
     "text": [
      "[Epoch 404] Train Loss: 0.0012\n"
     ]
    },
    {
     "name": "stderr",
     "output_type": "stream",
     "text": [
      "Epoch 405/500 [Train]: 100%|██████████| 200/200 [00:36<00:00,  5.43it/s, loss=0.0013]\n"
     ]
    },
    {
     "name": "stdout",
     "output_type": "stream",
     "text": [
      "[Epoch 405] Train Loss: 0.0012\n"
     ]
    },
    {
     "name": "stderr",
     "output_type": "stream",
     "text": [
      "Epoch 405/500 [Val]: 100%|██████████| 2947/2947 [04:07<00:00, 11.93it/s]\n"
     ]
    },
    {
     "name": "stdout",
     "output_type": "stream",
     "text": [
      "\n",
      "--- Validation Metrics (Epoch 405) ---\n",
      "  - Vis Class 1 (Easy): TP=4416, FP=384, FN=458\n",
      "  - Vis Class 2 (Hard): TP=233, FP=30, FN=160\n",
      "  - Vis Class 3 (Occluded): TP=2, FP=0, FN=22\n",
      "  - No Ball (Vis 0): TN=186, FP=3\n",
      "  ------------------------------------\n",
      "[Epoch 405] Val Loss: 0.0016, Precision: 0.9183, Recall: 0.8790, F1: 0.8982\n"
     ]
    },
    {
     "name": "stderr",
     "output_type": "stream",
     "text": [
      "Epoch 406/500 [Train]: 100%|██████████| 200/200 [00:36<00:00,  5.43it/s, loss=0.0013]\n"
     ]
    },
    {
     "name": "stdout",
     "output_type": "stream",
     "text": [
      "[Epoch 406] Train Loss: 0.0012\n"
     ]
    },
    {
     "name": "stderr",
     "output_type": "stream",
     "text": [
      "Epoch 407/500 [Train]: 100%|██████████| 200/200 [00:36<00:00,  5.43it/s, loss=0.0016]\n"
     ]
    },
    {
     "name": "stdout",
     "output_type": "stream",
     "text": [
      "[Epoch 407] Train Loss: 0.0012\n"
     ]
    },
    {
     "name": "stderr",
     "output_type": "stream",
     "text": [
      "Epoch 408/500 [Train]: 100%|██████████| 200/200 [00:36<00:00,  5.43it/s, loss=0.0012]\n"
     ]
    },
    {
     "name": "stdout",
     "output_type": "stream",
     "text": [
      "[Epoch 408] Train Loss: 0.0012\n"
     ]
    },
    {
     "name": "stderr",
     "output_type": "stream",
     "text": [
      "Epoch 409/500 [Train]: 100%|██████████| 200/200 [00:36<00:00,  5.42it/s, loss=0.0013]\n"
     ]
    },
    {
     "name": "stdout",
     "output_type": "stream",
     "text": [
      "[Epoch 409] Train Loss: 0.0011\n"
     ]
    },
    {
     "name": "stderr",
     "output_type": "stream",
     "text": [
      "Epoch 410/500 [Train]: 100%|██████████| 200/200 [00:36<00:00,  5.43it/s, loss=0.0012]\n"
     ]
    },
    {
     "name": "stdout",
     "output_type": "stream",
     "text": [
      "[Epoch 410] Train Loss: 0.0012\n"
     ]
    },
    {
     "name": "stderr",
     "output_type": "stream",
     "text": [
      "Epoch 410/500 [Val]: 100%|██████████| 2947/2947 [04:07<00:00, 11.93it/s]\n"
     ]
    },
    {
     "name": "stdout",
     "output_type": "stream",
     "text": [
      "\n",
      "--- Validation Metrics (Epoch 410) ---\n",
      "  - Vis Class 1 (Easy): TP=4343, FP=507, FN=408\n",
      "  - Vis Class 2 (Hard): TP=238, FP=30, FN=155\n",
      "  - Vis Class 3 (Occluded): TP=1, FP=1, FN=22\n",
      "  - No Ball (Vis 0): TN=184, FP=5\n",
      "  ------------------------------------\n",
      "[Epoch 410] Val Loss: 0.0016, Precision: 0.8949, Recall: 0.8868, F1: 0.8908\n"
     ]
    },
    {
     "name": "stderr",
     "output_type": "stream",
     "text": [
      "Epoch 411/500 [Train]: 100%|██████████| 200/200 [00:36<00:00,  5.43it/s, loss=0.0011]\n"
     ]
    },
    {
     "name": "stdout",
     "output_type": "stream",
     "text": [
      "[Epoch 411] Train Loss: 0.0012\n"
     ]
    },
    {
     "name": "stderr",
     "output_type": "stream",
     "text": [
      "Epoch 412/500 [Train]: 100%|██████████| 200/200 [00:36<00:00,  5.43it/s, loss=0.0011]\n"
     ]
    },
    {
     "name": "stdout",
     "output_type": "stream",
     "text": [
      "[Epoch 412] Train Loss: 0.0012\n"
     ]
    },
    {
     "name": "stderr",
     "output_type": "stream",
     "text": [
      "Epoch 413/500 [Train]: 100%|██████████| 200/200 [00:36<00:00,  5.42it/s, loss=0.0007]\n"
     ]
    },
    {
     "name": "stdout",
     "output_type": "stream",
     "text": [
      "[Epoch 413] Train Loss: 0.0012\n"
     ]
    },
    {
     "name": "stderr",
     "output_type": "stream",
     "text": [
      "Epoch 414/500 [Train]: 100%|██████████| 200/200 [00:36<00:00,  5.43it/s, loss=0.0005]\n"
     ]
    },
    {
     "name": "stdout",
     "output_type": "stream",
     "text": [
      "[Epoch 414] Train Loss: 0.0012\n"
     ]
    },
    {
     "name": "stderr",
     "output_type": "stream",
     "text": [
      "Epoch 415/500 [Train]: 100%|██████████| 200/200 [00:36<00:00,  5.42it/s, loss=0.0013]\n"
     ]
    },
    {
     "name": "stdout",
     "output_type": "stream",
     "text": [
      "[Epoch 415] Train Loss: 0.0012\n"
     ]
    },
    {
     "name": "stderr",
     "output_type": "stream",
     "text": [
      "Epoch 415/500 [Val]: 100%|██████████| 2947/2947 [04:07<00:00, 11.92it/s]\n"
     ]
    },
    {
     "name": "stdout",
     "output_type": "stream",
     "text": [
      "\n",
      "--- Validation Metrics (Epoch 415) ---\n",
      "  - Vis Class 1 (Easy): TP=4376, FP=342, FN=540\n",
      "  - Vis Class 2 (Hard): TP=222, FP=25, FN=176\n",
      "  - Vis Class 3 (Occluded): TP=4, FP=1, FN=19\n",
      "  - No Ball (Vis 0): TN=183, FP=6\n",
      "  ------------------------------------\n",
      "[Epoch 415] Val Loss: 0.0016, Precision: 0.9260, Recall: 0.8623, F1: 0.8930\n"
     ]
    },
    {
     "name": "stderr",
     "output_type": "stream",
     "text": [
      "Epoch 416/500 [Train]: 100%|██████████| 200/200 [00:36<00:00,  5.43it/s, loss=0.0010]\n"
     ]
    },
    {
     "name": "stdout",
     "output_type": "stream",
     "text": [
      "[Epoch 416] Train Loss: 0.0012\n"
     ]
    },
    {
     "name": "stderr",
     "output_type": "stream",
     "text": [
      "Epoch 417/500 [Train]: 100%|██████████| 200/200 [00:36<00:00,  5.43it/s, loss=0.0011]\n"
     ]
    },
    {
     "name": "stdout",
     "output_type": "stream",
     "text": [
      "[Epoch 417] Train Loss: 0.0012\n"
     ]
    },
    {
     "name": "stderr",
     "output_type": "stream",
     "text": [
      "Epoch 418/500 [Train]: 100%|██████████| 200/200 [00:36<00:00,  5.43it/s, loss=0.0011]\n"
     ]
    },
    {
     "name": "stdout",
     "output_type": "stream",
     "text": [
      "[Epoch 418] Train Loss: 0.0012\n"
     ]
    },
    {
     "name": "stderr",
     "output_type": "stream",
     "text": [
      "Epoch 419/500 [Train]: 100%|██████████| 200/200 [00:36<00:00,  5.43it/s, loss=0.0006]\n"
     ]
    },
    {
     "name": "stdout",
     "output_type": "stream",
     "text": [
      "[Epoch 419] Train Loss: 0.0011\n"
     ]
    },
    {
     "name": "stderr",
     "output_type": "stream",
     "text": [
      "Epoch 420/500 [Train]: 100%|██████████| 200/200 [00:36<00:00,  5.43it/s, loss=0.0014]\n"
     ]
    },
    {
     "name": "stdout",
     "output_type": "stream",
     "text": [
      "[Epoch 420] Train Loss: 0.0012\n"
     ]
    },
    {
     "name": "stderr",
     "output_type": "stream",
     "text": [
      "Epoch 420/500 [Val]: 100%|██████████| 2947/2947 [04:06<00:00, 11.97it/s]\n"
     ]
    },
    {
     "name": "stdout",
     "output_type": "stream",
     "text": [
      "\n",
      "--- Validation Metrics (Epoch 420) ---\n",
      "  - Vis Class 1 (Easy): TP=3279, FP=390, FN=1589\n",
      "  - Vis Class 2 (Hard): TP=128, FP=15, FN=280\n",
      "  - Vis Class 3 (Occluded): TP=0, FP=1, FN=23\n",
      "  - No Ball (Vis 0): TN=188, FP=1\n",
      "  ------------------------------------\n",
      "[Epoch 420] Val Loss: 0.0020, Precision: 0.8935, Recall: 0.6430, F1: 0.7478\n"
     ]
    },
    {
     "name": "stderr",
     "output_type": "stream",
     "text": [
      "Epoch 421/500 [Train]: 100%|██████████| 200/200 [00:36<00:00,  5.48it/s, loss=0.0011]\n"
     ]
    },
    {
     "name": "stdout",
     "output_type": "stream",
     "text": [
      "[Epoch 421] Train Loss: 0.0011\n"
     ]
    },
    {
     "name": "stderr",
     "output_type": "stream",
     "text": [
      "Epoch 422/500 [Train]: 100%|██████████| 200/200 [00:36<00:00,  5.49it/s, loss=0.0011]\n"
     ]
    },
    {
     "name": "stdout",
     "output_type": "stream",
     "text": [
      "[Epoch 422] Train Loss: 0.0011\n"
     ]
    },
    {
     "name": "stderr",
     "output_type": "stream",
     "text": [
      "Epoch 423/500 [Train]: 100%|██████████| 200/200 [00:36<00:00,  5.49it/s, loss=0.0012]\n"
     ]
    },
    {
     "name": "stdout",
     "output_type": "stream",
     "text": [
      "[Epoch 423] Train Loss: 0.0011\n"
     ]
    },
    {
     "name": "stderr",
     "output_type": "stream",
     "text": [
      "Epoch 424/500 [Train]: 100%|██████████| 200/200 [00:36<00:00,  5.49it/s, loss=0.0012]\n"
     ]
    },
    {
     "name": "stdout",
     "output_type": "stream",
     "text": [
      "[Epoch 424] Train Loss: 0.0012\n"
     ]
    },
    {
     "name": "stderr",
     "output_type": "stream",
     "text": [
      "Epoch 425/500 [Train]: 100%|██████████| 200/200 [00:36<00:00,  5.49it/s, loss=0.0011]\n"
     ]
    },
    {
     "name": "stdout",
     "output_type": "stream",
     "text": [
      "[Epoch 425] Train Loss: 0.0011\n"
     ]
    },
    {
     "name": "stderr",
     "output_type": "stream",
     "text": [
      "Epoch 425/500 [Val]: 100%|██████████| 2947/2947 [04:05<00:00, 12.00it/s]\n"
     ]
    },
    {
     "name": "stdout",
     "output_type": "stream",
     "text": [
      "\n",
      "--- Validation Metrics (Epoch 425) ---\n",
      "  - Vis Class 1 (Easy): TP=4196, FP=319, FN=743\n",
      "  - Vis Class 2 (Hard): TP=221, FP=21, FN=181\n",
      "  - Vis Class 3 (Occluded): TP=1, FP=0, FN=23\n",
      "  - No Ball (Vis 0): TN=187, FP=2\n",
      "  ------------------------------------\n",
      "[Epoch 425] Val Loss: 0.0017, Precision: 0.9285, Recall: 0.8235, F1: 0.8729\n"
     ]
    },
    {
     "name": "stderr",
     "output_type": "stream",
     "text": [
      "Epoch 426/500 [Train]: 100%|██████████| 200/200 [00:36<00:00,  5.43it/s, loss=0.0013]\n"
     ]
    },
    {
     "name": "stdout",
     "output_type": "stream",
     "text": [
      "[Epoch 426] Train Loss: 0.0012\n"
     ]
    },
    {
     "name": "stderr",
     "output_type": "stream",
     "text": [
      "Epoch 427/500 [Train]: 100%|██████████| 200/200 [00:36<00:00,  5.42it/s, loss=0.0011]\n"
     ]
    },
    {
     "name": "stdout",
     "output_type": "stream",
     "text": [
      "[Epoch 427] Train Loss: 0.0012\n"
     ]
    },
    {
     "name": "stderr",
     "output_type": "stream",
     "text": [
      "Epoch 428/500 [Train]: 100%|██████████| 200/200 [00:36<00:00,  5.42it/s, loss=0.0009]\n"
     ]
    },
    {
     "name": "stdout",
     "output_type": "stream",
     "text": [
      "[Epoch 428] Train Loss: 0.0012\n"
     ]
    },
    {
     "name": "stderr",
     "output_type": "stream",
     "text": [
      "Epoch 429/500 [Train]: 100%|██████████| 200/200 [00:36<00:00,  5.43it/s, loss=0.0011]\n"
     ]
    },
    {
     "name": "stdout",
     "output_type": "stream",
     "text": [
      "[Epoch 429] Train Loss: 0.0011\n"
     ]
    },
    {
     "name": "stderr",
     "output_type": "stream",
     "text": [
      "Epoch 430/500 [Train]: 100%|██████████| 200/200 [00:36<00:00,  5.42it/s, loss=0.0014]\n"
     ]
    },
    {
     "name": "stdout",
     "output_type": "stream",
     "text": [
      "[Epoch 430] Train Loss: 0.0012\n"
     ]
    },
    {
     "name": "stderr",
     "output_type": "stream",
     "text": [
      "Epoch 430/500 [Val]: 100%|██████████| 2947/2947 [04:07<00:00, 11.89it/s]\n"
     ]
    },
    {
     "name": "stdout",
     "output_type": "stream",
     "text": [
      "\n",
      "--- Validation Metrics (Epoch 430) ---\n",
      "  - Vis Class 1 (Easy): TP=4274, FP=372, FN=612\n",
      "  - Vis Class 2 (Hard): TP=217, FP=28, FN=178\n",
      "  - Vis Class 3 (Occluded): TP=1, FP=0, FN=23\n",
      "  - No Ball (Vis 0): TN=187, FP=2\n",
      "  ------------------------------------\n",
      "[Epoch 430] Val Loss: 0.0016, Precision: 0.9182, Recall: 0.8467, F1: 0.8810\n"
     ]
    },
    {
     "name": "stderr",
     "output_type": "stream",
     "text": [
      "Epoch 431/500 [Train]: 100%|██████████| 200/200 [00:36<00:00,  5.43it/s, loss=0.0012]\n"
     ]
    },
    {
     "name": "stdout",
     "output_type": "stream",
     "text": [
      "[Epoch 431] Train Loss: 0.0011\n"
     ]
    },
    {
     "name": "stderr",
     "output_type": "stream",
     "text": [
      "Epoch 432/500 [Train]: 100%|██████████| 200/200 [00:36<00:00,  5.43it/s, loss=0.0013]\n"
     ]
    },
    {
     "name": "stdout",
     "output_type": "stream",
     "text": [
      "[Epoch 432] Train Loss: 0.0011\n"
     ]
    },
    {
     "name": "stderr",
     "output_type": "stream",
     "text": [
      "Epoch 433/500 [Train]: 100%|██████████| 200/200 [00:36<00:00,  5.43it/s, loss=0.0013]\n"
     ]
    },
    {
     "name": "stdout",
     "output_type": "stream",
     "text": [
      "[Epoch 433] Train Loss: 0.0011\n"
     ]
    },
    {
     "name": "stderr",
     "output_type": "stream",
     "text": [
      "Epoch 434/500 [Train]: 100%|██████████| 200/200 [00:36<00:00,  5.43it/s, loss=0.0010]\n"
     ]
    },
    {
     "name": "stdout",
     "output_type": "stream",
     "text": [
      "[Epoch 434] Train Loss: 0.0011\n"
     ]
    },
    {
     "name": "stderr",
     "output_type": "stream",
     "text": [
      "Epoch 435/500 [Train]: 100%|██████████| 200/200 [00:36<00:00,  5.42it/s, loss=0.0011]\n"
     ]
    },
    {
     "name": "stdout",
     "output_type": "stream",
     "text": [
      "[Epoch 435] Train Loss: 0.0012\n"
     ]
    },
    {
     "name": "stderr",
     "output_type": "stream",
     "text": [
      "Epoch 435/500 [Val]: 100%|██████████| 2947/2947 [04:07<00:00, 11.91it/s]\n"
     ]
    },
    {
     "name": "stdout",
     "output_type": "stream",
     "text": [
      "\n",
      "--- Validation Metrics (Epoch 435) ---\n",
      "  - Vis Class 1 (Easy): TP=4091, FP=460, FN=707\n",
      "  - Vis Class 2 (Hard): TP=203, FP=26, FN=194\n",
      "  - Vis Class 3 (Occluded): TP=1, FP=0, FN=23\n",
      "  - No Ball (Vis 0): TN=184, FP=5\n",
      "  ------------------------------------\n",
      "[Epoch 435] Val Loss: 0.0017, Precision: 0.8983, Recall: 0.8230, F1: 0.8590\n"
     ]
    },
    {
     "name": "stderr",
     "output_type": "stream",
     "text": [
      "Epoch 436/500 [Train]: 100%|██████████| 200/200 [00:36<00:00,  5.43it/s, loss=0.0010]\n"
     ]
    },
    {
     "name": "stdout",
     "output_type": "stream",
     "text": [
      "[Epoch 436] Train Loss: 0.0012\n"
     ]
    },
    {
     "name": "stderr",
     "output_type": "stream",
     "text": [
      "Epoch 437/500 [Train]: 100%|██████████| 200/200 [00:36<00:00,  5.43it/s, loss=0.0014]\n"
     ]
    },
    {
     "name": "stdout",
     "output_type": "stream",
     "text": [
      "[Epoch 437] Train Loss: 0.0011\n"
     ]
    },
    {
     "name": "stderr",
     "output_type": "stream",
     "text": [
      "Epoch 438/500 [Train]: 100%|██████████| 200/200 [00:36<00:00,  5.43it/s, loss=0.0009]\n"
     ]
    },
    {
     "name": "stdout",
     "output_type": "stream",
     "text": [
      "[Epoch 438] Train Loss: 0.0011\n"
     ]
    },
    {
     "name": "stderr",
     "output_type": "stream",
     "text": [
      "Epoch 439/500 [Train]: 100%|██████████| 200/200 [00:36<00:00,  5.43it/s, loss=0.0018]\n"
     ]
    },
    {
     "name": "stdout",
     "output_type": "stream",
     "text": [
      "[Epoch 439] Train Loss: 0.0011\n"
     ]
    },
    {
     "name": "stderr",
     "output_type": "stream",
     "text": [
      "Epoch 440/500 [Train]: 100%|██████████| 200/200 [00:37<00:00,  5.35it/s, loss=0.0010]\n"
     ]
    },
    {
     "name": "stdout",
     "output_type": "stream",
     "text": [
      "[Epoch 440] Train Loss: 0.0012\n"
     ]
    },
    {
     "name": "stderr",
     "output_type": "stream",
     "text": [
      "Epoch 440/500 [Val]: 100%|██████████| 2947/2947 [04:02<00:00, 12.15it/s]\n"
     ]
    },
    {
     "name": "stdout",
     "output_type": "stream",
     "text": [
      "\n",
      "--- Validation Metrics (Epoch 440) ---\n",
      "  - Vis Class 1 (Easy): TP=4326, FP=405, FN=527\n",
      "  - Vis Class 2 (Hard): TP=241, FP=30, FN=152\n",
      "  - Vis Class 3 (Occluded): TP=1, FP=0, FN=23\n",
      "  - No Ball (Vis 0): TN=186, FP=3\n",
      "  ------------------------------------\n",
      "[Epoch 440] Val Loss: 0.0016, Precision: 0.9131, Recall: 0.8668, F1: 0.8893\n"
     ]
    },
    {
     "name": "stderr",
     "output_type": "stream",
     "text": [
      "Epoch 441/500 [Train]: 100%|██████████| 200/200 [00:36<00:00,  5.41it/s, loss=0.0017]\n"
     ]
    },
    {
     "name": "stdout",
     "output_type": "stream",
     "text": [
      "[Epoch 441] Train Loss: 0.0011\n"
     ]
    },
    {
     "name": "stderr",
     "output_type": "stream",
     "text": [
      "Epoch 442/500 [Train]: 100%|██████████| 200/200 [00:36<00:00,  5.41it/s, loss=0.0008]\n"
     ]
    },
    {
     "name": "stdout",
     "output_type": "stream",
     "text": [
      "[Epoch 442] Train Loss: 0.0011\n"
     ]
    },
    {
     "name": "stderr",
     "output_type": "stream",
     "text": [
      "Epoch 443/500 [Train]: 100%|██████████| 200/200 [00:36<00:00,  5.41it/s, loss=0.0010]\n"
     ]
    },
    {
     "name": "stdout",
     "output_type": "stream",
     "text": [
      "[Epoch 443] Train Loss: 0.0011\n"
     ]
    },
    {
     "name": "stderr",
     "output_type": "stream",
     "text": [
      "Epoch 444/500 [Train]: 100%|██████████| 200/200 [00:36<00:00,  5.41it/s, loss=0.0010]\n"
     ]
    },
    {
     "name": "stdout",
     "output_type": "stream",
     "text": [
      "[Epoch 444] Train Loss: 0.0011\n"
     ]
    },
    {
     "name": "stderr",
     "output_type": "stream",
     "text": [
      "Epoch 445/500 [Train]: 100%|██████████| 200/200 [00:36<00:00,  5.41it/s, loss=0.0013]\n"
     ]
    },
    {
     "name": "stdout",
     "output_type": "stream",
     "text": [
      "[Epoch 445] Train Loss: 0.0012\n"
     ]
    },
    {
     "name": "stderr",
     "output_type": "stream",
     "text": [
      "Epoch 445/500 [Val]: 100%|██████████| 2947/2947 [04:08<00:00, 11.88it/s]\n"
     ]
    },
    {
     "name": "stdout",
     "output_type": "stream",
     "text": [
      "\n",
      "--- Validation Metrics (Epoch 445) ---\n",
      "  - Vis Class 1 (Easy): TP=4411, FP=389, FN=458\n",
      "  - Vis Class 2 (Hard): TP=254, FP=25, FN=144\n",
      "  - Vis Class 3 (Occluded): TP=1, FP=2, FN=21\n",
      "  - No Ball (Vis 0): TN=187, FP=2\n",
      "  ------------------------------------\n",
      "[Epoch 445] Val Loss: 0.0016, Precision: 0.9181, Recall: 0.8822, F1: 0.8998\n"
     ]
    },
    {
     "name": "stderr",
     "output_type": "stream",
     "text": [
      "Epoch 446/500 [Train]: 100%|██████████| 200/200 [00:36<00:00,  5.41it/s, loss=0.0012]\n"
     ]
    },
    {
     "name": "stdout",
     "output_type": "stream",
     "text": [
      "[Epoch 446] Train Loss: 0.0012\n"
     ]
    },
    {
     "name": "stderr",
     "output_type": "stream",
     "text": [
      "Epoch 447/500 [Train]: 100%|██████████| 200/200 [00:36<00:00,  5.41it/s, loss=0.0009]\n"
     ]
    },
    {
     "name": "stdout",
     "output_type": "stream",
     "text": [
      "[Epoch 447] Train Loss: 0.0011\n"
     ]
    },
    {
     "name": "stderr",
     "output_type": "stream",
     "text": [
      "Epoch 448/500 [Train]: 100%|██████████| 200/200 [00:36<00:00,  5.41it/s, loss=0.0013]\n"
     ]
    },
    {
     "name": "stdout",
     "output_type": "stream",
     "text": [
      "[Epoch 448] Train Loss: 0.0011\n"
     ]
    },
    {
     "name": "stderr",
     "output_type": "stream",
     "text": [
      "Epoch 449/500 [Train]: 100%|██████████| 200/200 [00:36<00:00,  5.41it/s, loss=0.0010]\n"
     ]
    },
    {
     "name": "stdout",
     "output_type": "stream",
     "text": [
      "[Epoch 449] Train Loss: 0.0011\n"
     ]
    },
    {
     "name": "stderr",
     "output_type": "stream",
     "text": [
      "Epoch 450/500 [Train]: 100%|██████████| 200/200 [00:36<00:00,  5.41it/s, loss=0.0012]\n"
     ]
    },
    {
     "name": "stdout",
     "output_type": "stream",
     "text": [
      "[Epoch 450] Train Loss: 0.0011\n"
     ]
    },
    {
     "name": "stderr",
     "output_type": "stream",
     "text": [
      "Epoch 450/500 [Val]: 100%|██████████| 2947/2947 [04:08<00:00, 11.87it/s]\n"
     ]
    },
    {
     "name": "stdout",
     "output_type": "stream",
     "text": [
      "\n",
      "--- Validation Metrics (Epoch 450) ---\n",
      "  - Vis Class 1 (Easy): TP=4302, FP=448, FN=508\n",
      "  - Vis Class 2 (Hard): TP=231, FP=31, FN=161\n",
      "  - Vis Class 3 (Occluded): TP=1, FP=0, FN=23\n",
      "  - No Ball (Vis 0): TN=185, FP=4\n",
      "  ------------------------------------\n",
      "[Epoch 450] Val Loss: 0.0016, Precision: 0.9044, Recall: 0.8676, F1: 0.8856\n"
     ]
    },
    {
     "name": "stderr",
     "output_type": "stream",
     "text": [
      "Epoch 451/500 [Train]: 100%|██████████| 200/200 [00:36<00:00,  5.41it/s, loss=0.0010]\n"
     ]
    },
    {
     "name": "stdout",
     "output_type": "stream",
     "text": [
      "[Epoch 451] Train Loss: 0.0011\n"
     ]
    },
    {
     "name": "stderr",
     "output_type": "stream",
     "text": [
      "Epoch 452/500 [Train]: 100%|██████████| 200/200 [00:36<00:00,  5.41it/s, loss=0.0013]\n"
     ]
    },
    {
     "name": "stdout",
     "output_type": "stream",
     "text": [
      "[Epoch 452] Train Loss: 0.0011\n"
     ]
    },
    {
     "name": "stderr",
     "output_type": "stream",
     "text": [
      "Epoch 453/500 [Train]: 100%|██████████| 200/200 [00:36<00:00,  5.41it/s, loss=0.0011]\n"
     ]
    },
    {
     "name": "stdout",
     "output_type": "stream",
     "text": [
      "[Epoch 453] Train Loss: 0.0011\n"
     ]
    },
    {
     "name": "stderr",
     "output_type": "stream",
     "text": [
      "Epoch 454/500 [Train]: 100%|██████████| 200/200 [00:36<00:00,  5.41it/s, loss=0.0011]\n"
     ]
    },
    {
     "name": "stdout",
     "output_type": "stream",
     "text": [
      "[Epoch 454] Train Loss: 0.0011\n"
     ]
    },
    {
     "name": "stderr",
     "output_type": "stream",
     "text": [
      "Epoch 455/500 [Train]: 100%|██████████| 200/200 [00:36<00:00,  5.42it/s, loss=0.0010]\n"
     ]
    },
    {
     "name": "stdout",
     "output_type": "stream",
     "text": [
      "[Epoch 455] Train Loss: 0.0012\n"
     ]
    },
    {
     "name": "stderr",
     "output_type": "stream",
     "text": [
      "Epoch 455/500 [Val]: 100%|██████████| 2947/2947 [04:02<00:00, 12.15it/s]\n"
     ]
    },
    {
     "name": "stdout",
     "output_type": "stream",
     "text": [
      "\n",
      "--- Validation Metrics (Epoch 455) ---\n",
      "  - Vis Class 1 (Easy): TP=4366, FP=464, FN=428\n",
      "  - Vis Class 2 (Hard): TP=250, FP=26, FN=147\n",
      "  - Vis Class 3 (Occluded): TP=2, FP=0, FN=22\n",
      "  - No Ball (Vis 0): TN=183, FP=6\n",
      "  ------------------------------------\n",
      "[Epoch 455] Val Loss: 0.0016, Precision: 0.9041, Recall: 0.8855, F1: 0.8947\n"
     ]
    },
    {
     "name": "stderr",
     "output_type": "stream",
     "text": [
      "Epoch 456/500 [Train]: 100%|██████████| 200/200 [00:36<00:00,  5.41it/s, loss=0.0010]\n"
     ]
    },
    {
     "name": "stdout",
     "output_type": "stream",
     "text": [
      "[Epoch 456] Train Loss: 0.0012\n"
     ]
    },
    {
     "name": "stderr",
     "output_type": "stream",
     "text": [
      "Epoch 457/500 [Train]: 100%|██████████| 200/200 [00:37<00:00,  5.40it/s, loss=0.0019]\n"
     ]
    },
    {
     "name": "stdout",
     "output_type": "stream",
     "text": [
      "[Epoch 457] Train Loss: 0.0011\n"
     ]
    },
    {
     "name": "stderr",
     "output_type": "stream",
     "text": [
      "Epoch 458/500 [Train]: 100%|██████████| 200/200 [00:37<00:00,  5.40it/s, loss=0.0011]\n"
     ]
    },
    {
     "name": "stdout",
     "output_type": "stream",
     "text": [
      "[Epoch 458] Train Loss: 0.0011\n"
     ]
    },
    {
     "name": "stderr",
     "output_type": "stream",
     "text": [
      "Epoch 459/500 [Train]: 100%|██████████| 200/200 [00:37<00:00,  5.40it/s, loss=0.0014]\n"
     ]
    },
    {
     "name": "stdout",
     "output_type": "stream",
     "text": [
      "[Epoch 459] Train Loss: 0.0011\n"
     ]
    },
    {
     "name": "stderr",
     "output_type": "stream",
     "text": [
      "Epoch 460/500 [Train]: 100%|██████████| 200/200 [00:37<00:00,  5.40it/s, loss=0.0015]\n"
     ]
    },
    {
     "name": "stdout",
     "output_type": "stream",
     "text": [
      "[Epoch 460] Train Loss: 0.0011\n"
     ]
    },
    {
     "name": "stderr",
     "output_type": "stream",
     "text": [
      "Epoch 460/500 [Val]: 100%|██████████| 2947/2947 [04:03<00:00, 12.13it/s]\n"
     ]
    },
    {
     "name": "stdout",
     "output_type": "stream",
     "text": [
      "\n",
      "--- Validation Metrics (Epoch 460) ---\n",
      "  - Vis Class 1 (Easy): TP=4379, FP=459, FN=420\n",
      "  - Vis Class 2 (Hard): TP=251, FP=35, FN=137\n",
      "  - Vis Class 3 (Occluded): TP=1, FP=2, FN=21\n",
      "  - No Ball (Vis 0): TN=186, FP=3\n",
      "  ------------------------------------\n",
      "[Epoch 460] Val Loss: 0.0016, Precision: 0.9033, Recall: 0.8890, F1: 0.8961\n"
     ]
    },
    {
     "name": "stderr",
     "output_type": "stream",
     "text": [
      "Epoch 461/500 [Train]: 100%|██████████| 200/200 [00:36<00:00,  5.47it/s, loss=0.0012]\n"
     ]
    },
    {
     "name": "stdout",
     "output_type": "stream",
     "text": [
      "[Epoch 461] Train Loss: 0.0011\n"
     ]
    },
    {
     "name": "stderr",
     "output_type": "stream",
     "text": [
      "Epoch 462/500 [Train]: 100%|██████████| 200/200 [00:36<00:00,  5.42it/s, loss=0.0011]\n"
     ]
    },
    {
     "name": "stdout",
     "output_type": "stream",
     "text": [
      "[Epoch 462] Train Loss: 0.0011\n"
     ]
    },
    {
     "name": "stderr",
     "output_type": "stream",
     "text": [
      "Epoch 463/500 [Train]: 100%|██████████| 200/200 [00:37<00:00,  5.40it/s, loss=0.0016]\n"
     ]
    },
    {
     "name": "stdout",
     "output_type": "stream",
     "text": [
      "[Epoch 463] Train Loss: 0.0012\n"
     ]
    },
    {
     "name": "stderr",
     "output_type": "stream",
     "text": [
      "Epoch 464/500 [Train]: 100%|██████████| 200/200 [00:37<00:00,  5.39it/s, loss=0.0011]\n"
     ]
    },
    {
     "name": "stdout",
     "output_type": "stream",
     "text": [
      "[Epoch 464] Train Loss: 0.0012\n"
     ]
    },
    {
     "name": "stderr",
     "output_type": "stream",
     "text": [
      "Epoch 465/500 [Train]: 100%|██████████| 200/200 [00:37<00:00,  5.37it/s, loss=0.0013]\n"
     ]
    },
    {
     "name": "stdout",
     "output_type": "stream",
     "text": [
      "[Epoch 465] Train Loss: 0.0012\n"
     ]
    },
    {
     "name": "stderr",
     "output_type": "stream",
     "text": [
      "Epoch 465/500 [Val]: 100%|██████████| 2947/2947 [04:09<00:00, 11.83it/s]\n"
     ]
    },
    {
     "name": "stdout",
     "output_type": "stream",
     "text": [
      "\n",
      "--- Validation Metrics (Epoch 465) ---\n",
      "  - Vis Class 1 (Easy): TP=4213, FP=631, FN=414\n",
      "  - Vis Class 2 (Hard): TP=235, FP=34, FN=154\n",
      "  - Vis Class 3 (Occluded): TP=0, FP=0, FN=24\n",
      "  - No Ball (Vis 0): TN=185, FP=4\n",
      "  ------------------------------------\n",
      "[Epoch 465] Val Loss: 0.0016, Precision: 0.8699, Recall: 0.8825, F1: 0.8762\n"
     ]
    },
    {
     "name": "stderr",
     "output_type": "stream",
     "text": [
      "Epoch 466/500 [Train]: 100%|██████████| 200/200 [00:36<00:00,  5.46it/s, loss=0.0009]\n"
     ]
    },
    {
     "name": "stdout",
     "output_type": "stream",
     "text": [
      "[Epoch 466] Train Loss: 0.0011\n"
     ]
    },
    {
     "name": "stderr",
     "output_type": "stream",
     "text": [
      "Epoch 467/500 [Train]: 100%|██████████| 200/200 [00:36<00:00,  5.46it/s, loss=0.0017]\n"
     ]
    },
    {
     "name": "stdout",
     "output_type": "stream",
     "text": [
      "[Epoch 467] Train Loss: 0.0011\n"
     ]
    },
    {
     "name": "stderr",
     "output_type": "stream",
     "text": [
      "Epoch 468/500 [Train]: 100%|██████████| 200/200 [00:36<00:00,  5.46it/s, loss=0.0009]\n"
     ]
    },
    {
     "name": "stdout",
     "output_type": "stream",
     "text": [
      "[Epoch 468] Train Loss: 0.0011\n"
     ]
    },
    {
     "name": "stderr",
     "output_type": "stream",
     "text": [
      "Epoch 469/500 [Train]: 100%|██████████| 200/200 [00:36<00:00,  5.45it/s, loss=0.0013]\n"
     ]
    },
    {
     "name": "stdout",
     "output_type": "stream",
     "text": [
      "[Epoch 469] Train Loss: 0.0011\n"
     ]
    },
    {
     "name": "stderr",
     "output_type": "stream",
     "text": [
      "Epoch 470/500 [Train]: 100%|██████████| 200/200 [00:36<00:00,  5.41it/s, loss=0.0010]\n"
     ]
    },
    {
     "name": "stdout",
     "output_type": "stream",
     "text": [
      "[Epoch 470] Train Loss: 0.0011\n"
     ]
    },
    {
     "name": "stderr",
     "output_type": "stream",
     "text": [
      "Epoch 470/500 [Val]: 100%|██████████| 2947/2947 [04:08<00:00, 11.87it/s]\n"
     ]
    },
    {
     "name": "stdout",
     "output_type": "stream",
     "text": [
      "\n",
      "--- Validation Metrics (Epoch 470) ---\n",
      "  - Vis Class 1 (Easy): TP=4457, FP=400, FN=401\n",
      "  - Vis Class 2 (Hard): TP=250, FP=25, FN=148\n",
      "  - Vis Class 3 (Occluded): TP=0, FP=1, FN=23\n",
      "  - No Ball (Vis 0): TN=184, FP=5\n",
      "  ------------------------------------\n",
      "[Epoch 470] Val Loss: 0.0016, Precision: 0.9170, Recall: 0.8916, F1: 0.9041\n"
     ]
    },
    {
     "name": "stderr",
     "output_type": "stream",
     "text": [
      "Epoch 471/500 [Train]: 100%|██████████| 200/200 [00:37<00:00,  5.40it/s, loss=0.0016]\n"
     ]
    },
    {
     "name": "stdout",
     "output_type": "stream",
     "text": [
      "[Epoch 471] Train Loss: 0.0012\n"
     ]
    },
    {
     "name": "stderr",
     "output_type": "stream",
     "text": [
      "Epoch 472/500 [Train]: 100%|██████████| 200/200 [00:37<00:00,  5.39it/s, loss=0.0011]\n"
     ]
    },
    {
     "name": "stdout",
     "output_type": "stream",
     "text": [
      "[Epoch 472] Train Loss: 0.0011\n"
     ]
    },
    {
     "name": "stderr",
     "output_type": "stream",
     "text": [
      "Epoch 473/500 [Train]: 100%|██████████| 200/200 [00:37<00:00,  5.40it/s, loss=0.0012]\n"
     ]
    },
    {
     "name": "stdout",
     "output_type": "stream",
     "text": [
      "[Epoch 473] Train Loss: 0.0011\n"
     ]
    },
    {
     "name": "stderr",
     "output_type": "stream",
     "text": [
      "Epoch 474/500 [Train]: 100%|██████████| 200/200 [00:37<00:00,  5.40it/s, loss=0.0011]\n"
     ]
    },
    {
     "name": "stdout",
     "output_type": "stream",
     "text": [
      "[Epoch 474] Train Loss: 0.0011\n"
     ]
    },
    {
     "name": "stderr",
     "output_type": "stream",
     "text": [
      "Epoch 475/500 [Train]: 100%|██████████| 200/200 [00:37<00:00,  5.40it/s, loss=0.0009]\n"
     ]
    },
    {
     "name": "stdout",
     "output_type": "stream",
     "text": [
      "[Epoch 475] Train Loss: 0.0011\n"
     ]
    },
    {
     "name": "stderr",
     "output_type": "stream",
     "text": [
      "Epoch 475/500 [Val]: 100%|██████████| 2947/2947 [04:13<00:00, 11.65it/s]\n"
     ]
    },
    {
     "name": "stdout",
     "output_type": "stream",
     "text": [
      "\n",
      "--- Validation Metrics (Epoch 475) ---\n",
      "  - Vis Class 1 (Easy): TP=3995, FP=412, FN=851\n",
      "  - Vis Class 2 (Hard): TP=194, FP=27, FN=202\n",
      "  - Vis Class 3 (Occluded): TP=0, FP=0, FN=24\n",
      "  - No Ball (Vis 0): TN=188, FP=1\n",
      "  ------------------------------------\n",
      "[Epoch 475] Val Loss: 0.0017, Precision: 0.9051, Recall: 0.7955, F1: 0.8468\n"
     ]
    },
    {
     "name": "stderr",
     "output_type": "stream",
     "text": [
      "Epoch 476/500 [Train]: 100%|██████████| 200/200 [00:37<00:00,  5.39it/s, loss=0.0013]\n"
     ]
    },
    {
     "name": "stdout",
     "output_type": "stream",
     "text": [
      "[Epoch 476] Train Loss: 0.0011\n"
     ]
    },
    {
     "name": "stderr",
     "output_type": "stream",
     "text": [
      "Epoch 477/500 [Train]: 100%|██████████| 200/200 [00:37<00:00,  5.36it/s, loss=0.0011]\n"
     ]
    },
    {
     "name": "stdout",
     "output_type": "stream",
     "text": [
      "[Epoch 477] Train Loss: 0.0011\n"
     ]
    },
    {
     "name": "stderr",
     "output_type": "stream",
     "text": [
      "Epoch 478/500 [Train]: 100%|██████████| 200/200 [00:37<00:00,  5.34it/s, loss=0.0009]\n"
     ]
    },
    {
     "name": "stdout",
     "output_type": "stream",
     "text": [
      "[Epoch 478] Train Loss: 0.0011\n"
     ]
    },
    {
     "name": "stderr",
     "output_type": "stream",
     "text": [
      "Epoch 479/500 [Train]: 100%|██████████| 200/200 [00:37<00:00,  5.33it/s, loss=0.0012]\n"
     ]
    },
    {
     "name": "stdout",
     "output_type": "stream",
     "text": [
      "[Epoch 479] Train Loss: 0.0011\n"
     ]
    },
    {
     "name": "stderr",
     "output_type": "stream",
     "text": [
      "Epoch 480/500 [Train]: 100%|██████████| 200/200 [00:37<00:00,  5.32it/s, loss=0.0012]\n"
     ]
    },
    {
     "name": "stdout",
     "output_type": "stream",
     "text": [
      "[Epoch 480] Train Loss: 0.0011\n"
     ]
    },
    {
     "name": "stderr",
     "output_type": "stream",
     "text": [
      "Epoch 480/500 [Val]: 100%|██████████| 2947/2947 [04:11<00:00, 11.72it/s]\n"
     ]
    },
    {
     "name": "stdout",
     "output_type": "stream",
     "text": [
      "\n",
      "--- Validation Metrics (Epoch 480) ---\n",
      "  - Vis Class 1 (Easy): TP=4021, FP=703, FN=534\n",
      "  - Vis Class 2 (Hard): TP=195, FP=53, FN=175\n",
      "  - Vis Class 3 (Occluded): TP=2, FP=0, FN=22\n",
      "  - No Ball (Vis 0): TN=187, FP=2\n",
      "  ------------------------------------\n",
      "[Epoch 480] Val Loss: 0.0016, Precision: 0.8480, Recall: 0.8523, F1: 0.8501\n"
     ]
    },
    {
     "name": "stderr",
     "output_type": "stream",
     "text": [
      "Epoch 481/500 [Train]: 100%|██████████| 200/200 [00:37<00:00,  5.40it/s, loss=0.0011]\n"
     ]
    },
    {
     "name": "stdout",
     "output_type": "stream",
     "text": [
      "[Epoch 481] Train Loss: 0.0011\n"
     ]
    },
    {
     "name": "stderr",
     "output_type": "stream",
     "text": [
      "Epoch 482/500 [Train]: 100%|██████████| 200/200 [00:37<00:00,  5.40it/s, loss=0.0010]\n"
     ]
    },
    {
     "name": "stdout",
     "output_type": "stream",
     "text": [
      "[Epoch 482] Train Loss: 0.0011\n"
     ]
    },
    {
     "name": "stderr",
     "output_type": "stream",
     "text": [
      "Epoch 483/500 [Train]: 100%|██████████| 200/200 [00:37<00:00,  5.40it/s, loss=0.0010]\n"
     ]
    },
    {
     "name": "stdout",
     "output_type": "stream",
     "text": [
      "[Epoch 483] Train Loss: 0.0011\n"
     ]
    },
    {
     "name": "stderr",
     "output_type": "stream",
     "text": [
      "Epoch 484/500 [Train]: 100%|██████████| 200/200 [00:37<00:00,  5.40it/s, loss=0.0025]\n"
     ]
    },
    {
     "name": "stdout",
     "output_type": "stream",
     "text": [
      "[Epoch 484] Train Loss: 0.0011\n"
     ]
    },
    {
     "name": "stderr",
     "output_type": "stream",
     "text": [
      "Epoch 485/500 [Train]: 100%|██████████| 200/200 [00:37<00:00,  5.40it/s, loss=0.0014]\n"
     ]
    },
    {
     "name": "stdout",
     "output_type": "stream",
     "text": [
      "[Epoch 485] Train Loss: 0.0011\n"
     ]
    },
    {
     "name": "stderr",
     "output_type": "stream",
     "text": [
      "Epoch 485/500 [Val]: 100%|██████████| 2947/2947 [04:09<00:00, 11.81it/s]\n"
     ]
    },
    {
     "name": "stdout",
     "output_type": "stream",
     "text": [
      "\n",
      "--- Validation Metrics (Epoch 485) ---\n",
      "  - Vis Class 1 (Easy): TP=4337, FP=488, FN=433\n",
      "  - Vis Class 2 (Hard): TP=235, FP=37, FN=151\n",
      "  - Vis Class 3 (Occluded): TP=1, FP=0, FN=23\n",
      "  - No Ball (Vis 0): TN=184, FP=5\n",
      "  ------------------------------------\n",
      "[Epoch 485] Val Loss: 0.0016, Precision: 0.8970, Recall: 0.8828, F1: 0.8899\n"
     ]
    },
    {
     "name": "stderr",
     "output_type": "stream",
     "text": [
      "Epoch 486/500 [Train]: 100%|██████████| 200/200 [00:37<00:00,  5.41it/s, loss=0.0009]\n"
     ]
    },
    {
     "name": "stdout",
     "output_type": "stream",
     "text": [
      "[Epoch 486] Train Loss: 0.0011\n"
     ]
    },
    {
     "name": "stderr",
     "output_type": "stream",
     "text": [
      "Epoch 487/500 [Train]: 100%|██████████| 200/200 [00:37<00:00,  5.40it/s, loss=0.0014]\n"
     ]
    },
    {
     "name": "stdout",
     "output_type": "stream",
     "text": [
      "[Epoch 487] Train Loss: 0.0011\n"
     ]
    },
    {
     "name": "stderr",
     "output_type": "stream",
     "text": [
      "Epoch 488/500 [Train]: 100%|██████████| 200/200 [00:37<00:00,  5.40it/s, loss=0.0009]\n"
     ]
    },
    {
     "name": "stdout",
     "output_type": "stream",
     "text": [
      "[Epoch 488] Train Loss: 0.0011\n"
     ]
    },
    {
     "name": "stderr",
     "output_type": "stream",
     "text": [
      "Epoch 489/500 [Train]: 100%|██████████| 200/200 [00:37<00:00,  5.40it/s, loss=0.0011]\n"
     ]
    },
    {
     "name": "stdout",
     "output_type": "stream",
     "text": [
      "[Epoch 489] Train Loss: 0.0011\n"
     ]
    },
    {
     "name": "stderr",
     "output_type": "stream",
     "text": [
      "Epoch 490/500 [Train]: 100%|██████████| 200/200 [00:37<00:00,  5.40it/s, loss=0.0012]\n"
     ]
    },
    {
     "name": "stdout",
     "output_type": "stream",
     "text": [
      "[Epoch 490] Train Loss: 0.0011\n"
     ]
    },
    {
     "name": "stderr",
     "output_type": "stream",
     "text": [
      "Epoch 490/500 [Val]: 100%|██████████| 2947/2947 [04:08<00:00, 11.84it/s]\n"
     ]
    },
    {
     "name": "stdout",
     "output_type": "stream",
     "text": [
      "\n",
      "--- Validation Metrics (Epoch 490) ---\n",
      "  - Vis Class 1 (Easy): TP=4219, FP=484, FN=555\n",
      "  - Vis Class 2 (Hard): TP=235, FP=29, FN=159\n",
      "  - Vis Class 3 (Occluded): TP=1, FP=1, FN=22\n",
      "  - No Ball (Vis 0): TN=188, FP=1\n",
      "  ------------------------------------\n",
      "[Epoch 490] Val Loss: 0.0016, Precision: 0.8966, Recall: 0.8582, F1: 0.8770\n"
     ]
    },
    {
     "name": "stderr",
     "output_type": "stream",
     "text": [
      "Epoch 491/500 [Train]: 100%|██████████| 200/200 [00:37<00:00,  5.35it/s, loss=0.0016]\n"
     ]
    },
    {
     "name": "stdout",
     "output_type": "stream",
     "text": [
      "[Epoch 491] Train Loss: 0.0011\n"
     ]
    },
    {
     "name": "stderr",
     "output_type": "stream",
     "text": [
      "Epoch 492/500 [Train]: 100%|██████████| 200/200 [00:36<00:00,  5.41it/s, loss=0.0015]\n"
     ]
    },
    {
     "name": "stdout",
     "output_type": "stream",
     "text": [
      "[Epoch 492] Train Loss: 0.0011\n"
     ]
    },
    {
     "name": "stderr",
     "output_type": "stream",
     "text": [
      "Epoch 493/500 [Train]: 100%|██████████| 200/200 [00:37<00:00,  5.40it/s, loss=0.0009]\n"
     ]
    },
    {
     "name": "stdout",
     "output_type": "stream",
     "text": [
      "[Epoch 493] Train Loss: 0.0011\n"
     ]
    },
    {
     "name": "stderr",
     "output_type": "stream",
     "text": [
      "Epoch 494/500 [Train]: 100%|██████████| 200/200 [00:37<00:00,  5.38it/s, loss=0.0012]\n"
     ]
    },
    {
     "name": "stdout",
     "output_type": "stream",
     "text": [
      "[Epoch 494] Train Loss: 0.0011\n"
     ]
    },
    {
     "name": "stderr",
     "output_type": "stream",
     "text": [
      "Epoch 495/500 [Train]: 100%|██████████| 200/200 [00:36<00:00,  5.41it/s, loss=0.0010]\n"
     ]
    },
    {
     "name": "stdout",
     "output_type": "stream",
     "text": [
      "[Epoch 495] Train Loss: 0.0011\n"
     ]
    },
    {
     "name": "stderr",
     "output_type": "stream",
     "text": [
      "Epoch 495/500 [Val]: 100%|██████████| 2947/2947 [04:08<00:00, 11.87it/s]\n"
     ]
    },
    {
     "name": "stdout",
     "output_type": "stream",
     "text": [
      "\n",
      "--- Validation Metrics (Epoch 495) ---\n",
      "  - Vis Class 1 (Easy): TP=4316, FP=470, FN=472\n",
      "  - Vis Class 2 (Hard): TP=243, FP=17, FN=163\n",
      "  - Vis Class 3 (Occluded): TP=0, FP=0, FN=24\n",
      "  - No Ball (Vis 0): TN=187, FP=2\n",
      "  ------------------------------------\n",
      "[Epoch 495] Val Loss: 0.0016, Precision: 0.9035, Recall: 0.8737, F1: 0.8883\n"
     ]
    },
    {
     "name": "stderr",
     "output_type": "stream",
     "text": [
      "Epoch 496/500 [Train]: 100%|██████████| 200/200 [00:37<00:00,  5.40it/s, loss=0.0010]\n"
     ]
    },
    {
     "name": "stdout",
     "output_type": "stream",
     "text": [
      "[Epoch 496] Train Loss: 0.0011\n"
     ]
    },
    {
     "name": "stderr",
     "output_type": "stream",
     "text": [
      "Epoch 497/500 [Train]: 100%|██████████| 200/200 [00:37<00:00,  5.40it/s, loss=0.0018]\n"
     ]
    },
    {
     "name": "stdout",
     "output_type": "stream",
     "text": [
      "[Epoch 497] Train Loss: 0.0011\n"
     ]
    },
    {
     "name": "stderr",
     "output_type": "stream",
     "text": [
      "Epoch 498/500 [Train]: 100%|██████████| 200/200 [00:36<00:00,  5.46it/s, loss=0.0012]\n"
     ]
    },
    {
     "name": "stdout",
     "output_type": "stream",
     "text": [
      "[Epoch 498] Train Loss: 0.0011\n"
     ]
    },
    {
     "name": "stderr",
     "output_type": "stream",
     "text": [
      "Epoch 499/500 [Train]: 100%|██████████| 200/200 [00:36<00:00,  5.46it/s, loss=0.0013]\n"
     ]
    },
    {
     "name": "stdout",
     "output_type": "stream",
     "text": [
      "[Epoch 499] Train Loss: 0.0011\n"
     ]
    },
    {
     "name": "stderr",
     "output_type": "stream",
     "text": [
      "Epoch 500/500 [Train]: 100%|██████████| 200/200 [00:36<00:00,  5.47it/s, loss=0.0012]\n"
     ]
    },
    {
     "name": "stdout",
     "output_type": "stream",
     "text": [
      "[Epoch 500] Train Loss: 0.0011\n"
     ]
    },
    {
     "name": "stderr",
     "output_type": "stream",
     "text": [
      "Epoch 500/500 [Val]: 100%|██████████| 2947/2947 [04:06<00:00, 11.97it/s]"
     ]
    },
    {
     "name": "stdout",
     "output_type": "stream",
     "text": [
      "\n",
      "--- Validation Metrics (Epoch 500) ---\n",
      "  - Vis Class 1 (Easy): TP=4347, FP=502, FN=409\n",
      "  - Vis Class 2 (Hard): TP=248, FP=41, FN=134\n",
      "  - Vis Class 3 (Occluded): TP=1, FP=1, FN=22\n",
      "  - No Ball (Vis 0): TN=186, FP=3\n",
      "  ------------------------------------\n",
      "[Epoch 500] Val Loss: 0.0016, Precision: 0.8942, Recall: 0.8905, F1: 0.8923\n",
      "\n",
      "--- Training Complete ---\n",
      "Best validation F1 score: 0.9173\n"
     ]
    },
    {
     "name": "stderr",
     "output_type": "stream",
     "text": [
      "\n"
     ]
    }
   ],
   "source": [
    "print(\"--- Initializing Datasets and Dataloaders ---\")\n",
    "# Initialize the training dataset and dataloader\n",
    "train_dataset = TrackNetDataset('train', input_height=config.INPUT_HEIGHT, input_width=config.INPUT_WIDTH)\n",
    "train_loader = DataLoader(\n",
    "    train_dataset,\n",
    "    batch_size=config.BATCH_SIZE,\n",
    "    shuffle=True,\n",
    "    num_workers=0, \n",
    "    pin_memory=True \n",
    ")\n",
    "\n",
    "# Initialize the validation dataset and dataloader\n",
    "val_dataset = TrackNetDataset('val', input_height=config.INPUT_HEIGHT, input_width=config.INPUT_WIDTH)\n",
    "val_loader = DataLoader(\n",
    "    val_dataset,\n",
    "    batch_size=config.BATCH_SIZE,\n",
    "    shuffle=False,\n",
    "    num_workers=0,\n",
    "    pin_memory=True\n",
    ")\n",
    "\n",
    "print(\"\\n--- Initializing Model, Optimizer, and Loss ---\")\n",
    "# Instantiate the correct model architecture\n",
    "model = TrackNet().to(config.DEVICE)\n",
    "\n",
    "# The paper uses the Adadelta optimizer\n",
    "optimizer = optim.Adadelta(model.parameters(), lr=config.LEARNING_RATE)\n",
    "\n",
    "# The loss function for per-pixel classification is CrossEntropyLoss\n",
    "loss_fn = nn.CrossEntropyLoss()\n",
    "\n",
    "# Initialize TensorBoard for logging\n",
    "log_writer = SummaryWriter(log_dir=str(TB_PATH))\n",
    "\n",
    "# Variable to track the best validation metric (F1 score)\n",
    "val_best_metric = 0.0\n",
    "\n",
    "print(\"\\n--- Starting Training ---\")\n",
    "# The main training loop\n",
    "for epoch in range(config.NUM_EPOCHS):\n",
    "    # Perform one epoch of training\n",
    "    train_loss = train(model, train_loader, optimizer, loss_fn, config.DEVICE, epoch, config.STEPS_PER_EPOCH)\n",
    "    \n",
    "    # Print and log training results\n",
    "    print(f\"[Epoch {epoch+1}] Train Loss: {train_loss:.4f}\")\n",
    "    log_writer.add_scalar('Train/loss', train_loss, epoch)\n",
    "    log_writer.add_scalar('Train/lr', optimizer.param_groups[0]['lr'], epoch)\n",
    "\n",
    "    # Save the state of the model after the latest epoch\n",
    "    torch.save(model.state_dict(), MODEL_LAST_PATH)\n",
    "\n",
    "    # Run validation at specified intervals\n",
    "    if (epoch + 1) % config.VAL_INTERVALS == 0:\n",
    "        val_loss, precision, recall, f1 = validate(model, val_loader, loss_fn, config.DEVICE, epoch)\n",
    "        \n",
    "        # Print and log validation results\n",
    "        print(f\"[Epoch {epoch+1}] Val Loss: {val_loss:.4f}, Precision: {precision:.4f}, Recall: {recall:.4f}, F1: {f1:.4f}\")\n",
    "        log_writer.add_scalar('Val/loss', val_loss, epoch)\n",
    "        log_writer.add_scalar('Val/precision', precision, epoch)\n",
    "        log_writer.add_scalar('Val/recall', recall, epoch)\n",
    "        log_writer.add_scalar('Val/f1', f1, epoch)\n",
    "        \n",
    "        # If the current F1 score is the best we've seen, save the model state\n",
    "        if f1 > val_best_metric:\n",
    "            print(f\"  -> New best F1 score: {f1:.4f}. Saving best model to {MODEL_BEST_PATH}\")\n",
    "            val_best_metric = f1\n",
    "            torch.save(model.state_dict(), MODEL_BEST_PATH)\n",
    "\n",
    "print(\"\\n--- Training Complete ---\")\n",
    "print(f\"Best validation F1 score: {val_best_metric:.4f}\")\n",
    "log_writer.close()"
   ]
  },
  {
   "cell_type": "markdown",
   "id": "97a8ff4a",
   "metadata": {},
   "source": [
    "## Training Performance Visualization\n",
    "\n",
    "Monitor training progress and model performance using TensorBoard. The following cells load the TensorBoard extension and display interactive plots showing:\n",
    "\n",
    "- Training and validation loss curves\n",
    "- Precision, recall, and F1 score metrics\n",
    "- Learning rate schedule\n",
    "- Model performance across different ball visibility classes"
   ]
  },
  {
   "cell_type": "markdown",
   "id": "fa43efe2",
   "metadata": {},
   "source": [
    "### Load TensorBoard Extension\n",
    "\n",
    "Enable TensorBoard visualization within the Jupyter notebook environment."
   ]
  },
  {
   "cell_type": "code",
   "execution_count": 4,
   "id": "c7cc4cad",
   "metadata": {},
   "outputs": [],
   "source": [
    "%load_ext tensorboard"
   ]
  },
  {
   "cell_type": "markdown",
   "id": "20bf6aa8",
   "metadata": {},
   "source": [
    "### Display TensorBoard Dashboard\n",
    "\n",
    "Launch the TensorBoard interface to visualize training metrics and model performance in real-time."
   ]
  },
  {
   "cell_type": "code",
   "execution_count": 6,
   "id": "7c631edb",
   "metadata": {},
   "outputs": [
    {
     "data": {
      "text/plain": [
       "Reusing TensorBoard on port 6006 (pid 55428), started 4 days, 12:32:09 ago. (Use '!kill 55428' to kill it.)"
      ]
     },
     "metadata": {},
     "output_type": "display_data"
    },
    {
     "data": {
      "text/html": [
       "\n",
       "      <iframe id=\"tensorboard-frame-467d2e2757131561\" width=\"100%\" height=\"800\" frameborder=\"0\">\n",
       "      </iframe>\n",
       "      <script>\n",
       "        (function() {\n",
       "          const frame = document.getElementById(\"tensorboard-frame-467d2e2757131561\");\n",
       "          const url = new URL(\"http://localhost\");\n",
       "          const port = 6006;\n",
       "          if (port) {\n",
       "            url.port = port;\n",
       "          }\n",
       "          frame.src = url;\n",
       "        })();\n",
       "      </script>\n",
       "    "
      ],
      "text/plain": [
       "<IPython.core.display.HTML object>"
      ]
     },
     "metadata": {},
     "output_type": "display_data"
    }
   ],
   "source": [
    "%tensorboard --logdir models/plots"
   ]
  }
 ],
 "metadata": {
  "kernelspec": {
   "display_name": "venv (3.13.7)",
   "language": "python",
   "name": "python3"
  },
  "language_info": {
   "codemirror_mode": {
    "name": "ipython",
    "version": 3
   },
   "file_extension": ".py",
   "mimetype": "text/x-python",
   "name": "python",
   "nbconvert_exporter": "python",
   "pygments_lexer": "ipython3",
   "version": "3.13.7"
  }
 },
 "nbformat": 4,
 "nbformat_minor": 5
}
